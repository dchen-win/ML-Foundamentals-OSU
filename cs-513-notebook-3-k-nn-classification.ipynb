{
 "cells": [
  {
   "cell_type": "markdown",
   "id": "c153f031",
   "metadata": {
    "papermill": {
     "duration": 0.01722,
     "end_time": "2023-04-28T01:09:47.723296",
     "exception": false,
     "start_time": "2023-04-28T01:09:47.706076",
     "status": "completed"
    },
    "tags": []
   },
   "source": [
    "# Introduction\n",
    "\n",
    "This notebook contains two parts. **Part 1, Evaluating k-NN Classifiers**, provides you an opportunity to demonstrate your ability to apply course concepts to determine the ideal **_k_** for a k-NN Classifier on a contrived Iris data set. **Part 2, Classifying Handwritten Digits**, provides you an opportunity to practice using widely-used ML libraries and an ML workflow to solve a classification problem.\n",
    "\n",
    "You do not need to complete Part 1 in order to complete Part 2. If you get stuck on Part 1, and choose to work on Part 2, be sure that all of your code for Part 1 runs without error. You can comment out your code in Part 1 if necessary."
   ]
  },
  {
   "cell_type": "markdown",
   "id": "f1fdd188",
   "metadata": {
    "papermill": {
     "duration": 0.017534,
     "end_time": "2023-04-28T01:09:47.754863",
     "exception": false,
     "start_time": "2023-04-28T01:09:47.737329",
     "status": "completed"
    },
    "tags": []
   },
   "source": [
    "# Part 1: Evaluating k-NN Classifiers\n",
    "\n",
    "Given a simple KnnClassifier, and a complete data set of [Iris attributes](https://www.kaggle.com/datasets/uciml/iris), demonstrate your ability to:\n",
    "\n",
    "1. Split a data set into appropriate training and test sets\n",
    "2. \"Train\" a k-NN classifier\n",
    "3. Repeatedly test a k-NN classifier, and collect generalization errors\n",
    "4. Analyze the generalization error for different values of `k`\n",
    "5. Identify the ideal `k` value for this classifier\n",
    "\n",
    "## The Classifier Implementation\n",
    "\n",
    "Let's first introduce the classifier, which you should find familiar, and you do not need to modify."
   ]
  },
  {
   "cell_type": "code",
   "execution_count": 1,
   "id": "287a0178",
   "metadata": {
    "_kg_hide-input": true,
    "_kg_hide-output": true,
    "execution": {
     "iopub.execute_input": "2023-04-28T01:09:47.783035Z",
     "iopub.status.busy": "2023-04-28T01:09:47.782420Z",
     "iopub.status.idle": "2023-04-28T01:09:47.802131Z",
     "shell.execute_reply": "2023-04-28T01:09:47.800915Z"
    },
    "papermill": {
     "duration": 0.038271,
     "end_time": "2023-04-28T01:09:47.804776",
     "exception": false,
     "start_time": "2023-04-28T01:09:47.766505",
     "status": "completed"
    },
    "tags": []
   },
   "outputs": [],
   "source": [
    "# A simple KnnClassifier. Uses Euclidean distance.\n",
    "\n",
    "from math import sqrt\n",
    "\n",
    "class KnnClassifier:\n",
    "\n",
    "    def __init__(self, k = 1):\n",
    "        self.k = k\n",
    "\n",
    "    def train(self, training_set):\n",
    "        self.training_set = training_set\n",
    "\n",
    "    def test(self, test_set):\n",
    "        number_of_correct_predictions = 0\n",
    "        for example in test_set:\n",
    "            prediction = self.predict(example[:-1])\n",
    "            if prediction == example[-1]:\n",
    "                number_of_correct_predictions += 1\n",
    "        return number_of_correct_predictions / len(test_set)\n",
    "\n",
    "    def predict(self, x):\n",
    "        distances = {}\n",
    "        for training_instance in self.training_set:\n",
    "            distance = self._distance(training_instance[:-1], x)\n",
    "            distances[distance] = training_instance[-1]\n",
    "        k_nearest_keys = sorted(list(distances.keys()))[:self.k]\n",
    "        k_nearest_labels = [distances[key] for key in k_nearest_keys]\n",
    "        label_frequencies = {label:k_nearest_labels.count(label) for label in k_nearest_labels}\n",
    "        frequencies = list(label_frequencies.values())\n",
    "        labels = list(label_frequencies.keys())\n",
    "        return labels[frequencies.index(max(frequencies))]\n",
    "\n",
    "    def _distance(self, training_instance, x):\n",
    "        sum_of_squares = 0\n",
    "        for i in range(len(x)):\n",
    "            sum_of_squares += (x[i] - training_instance[i])**2\n",
    "        return \"%.5f\" % sqrt(sum_of_squares)"
   ]
  },
  {
   "cell_type": "markdown",
   "id": "9845bd89",
   "metadata": {
    "papermill": {
     "duration": 0.01254,
     "end_time": "2023-04-28T01:09:47.828960",
     "exception": false,
     "start_time": "2023-04-28T01:09:47.816420",
     "status": "completed"
    },
    "tags": []
   },
   "source": [
    "## The Data Set\n",
    "\n",
    "There is no need for you to manually load the data set. We have provided the classic Iris data set here as a two-dimensional Python list, where each sub-list represents the attributes for one flower."
   ]
  },
  {
   "cell_type": "code",
   "execution_count": 2,
   "id": "8833b731",
   "metadata": {
    "_kg_hide-input": true,
    "execution": {
     "iopub.execute_input": "2023-04-28T01:09:47.853828Z",
     "iopub.status.busy": "2023-04-28T01:09:47.853409Z",
     "iopub.status.idle": "2023-04-28T01:09:47.889979Z",
     "shell.execute_reply": "2023-04-28T01:09:47.888883Z"
    },
    "papermill": {
     "duration": 0.051794,
     "end_time": "2023-04-28T01:09:47.892357",
     "exception": false,
     "start_time": "2023-04-28T01:09:47.840563",
     "status": "completed"
    },
    "tags": []
   },
   "outputs": [],
   "source": [
    "iris_data_set = [\n",
    "    [5.1,3.5,1.4,0.2,'Iris-setosa'],\n",
    "    [4.9,3.0,1.4,0.2,'Iris-setosa'],\n",
    "    [4.7,3.2,1.3,0.2,'Iris-setosa'],\n",
    "    [4.6,3.1,1.5,0.2,'Iris-setosa'],\n",
    "    [5.0,3.6,1.4,0.2,'Iris-setosa'],\n",
    "    [5.4,3.9,1.7,0.4,'Iris-setosa'],\n",
    "    [4.6,3.4,1.4,0.3,'Iris-setosa'],\n",
    "    [5.0,3.4,1.5,0.2,'Iris-setosa'],\n",
    "    [4.4,2.9,1.4,0.2,'Iris-setosa'],\n",
    "    [4.9,3.1,1.5,0.1,'Iris-setosa'],\n",
    "    [5.4,3.7,1.5,0.2,'Iris-setosa'],\n",
    "    [4.8,3.4,1.6,0.2,'Iris-setosa'],\n",
    "    [4.8,3.0,1.4,0.1,'Iris-setosa'],\n",
    "    [4.3,3.0,1.1,0.1,'Iris-setosa'],\n",
    "    [5.8,4.0,1.2,0.2,'Iris-setosa'],\n",
    "    [5.7,4.4,1.5,0.4,'Iris-setosa'],\n",
    "    [5.4,3.9,1.3,0.4,'Iris-setosa'],\n",
    "    [5.1,3.5,1.4,0.3,'Iris-setosa'],\n",
    "    [5.7,3.8,1.7,0.3,'Iris-setosa'],\n",
    "    [5.1,3.8,1.5,0.3,'Iris-setosa'],\n",
    "    [5.4,3.4,1.7,0.2,'Iris-setosa'],\n",
    "    [5.1,3.7,1.5,0.4,'Iris-setosa'],\n",
    "    [4.6,3.6,1.0,0.2,'Iris-setosa'],\n",
    "    [5.1,3.3,1.7,0.5,'Iris-setosa'],\n",
    "    [4.8,3.4,1.9,0.2,'Iris-setosa'],\n",
    "    [5.0,3.0,1.6,0.2,'Iris-setosa'],\n",
    "    [5.0,3.4,1.6,0.4,'Iris-setosa'],\n",
    "    [5.2,3.5,1.5,0.2,'Iris-setosa'],\n",
    "    [5.2,3.4,1.4,0.2,'Iris-setosa'],\n",
    "    [4.7,3.2,1.6,0.2,'Iris-setosa'],\n",
    "    [4.8,3.1,1.6,0.2,'Iris-setosa'],\n",
    "    [5.4,3.4,1.5,0.4,'Iris-setosa'],\n",
    "    [5.2,4.1,1.5,0.1,'Iris-setosa'],\n",
    "    [5.5,4.2,1.4,0.2,'Iris-setosa'],\n",
    "    [4.9,3.1,1.5,0.1,'Iris-setosa'],\n",
    "    [5.0,3.2,1.2,0.2,'Iris-setosa'],\n",
    "    [5.5,3.5,1.3,0.2,'Iris-setosa'],\n",
    "    [4.9,3.1,1.5,0.1,'Iris-setosa'],\n",
    "    [4.4,3.0,1.3,0.2,'Iris-setosa'],\n",
    "    [5.1,3.4,1.5,0.2,'Iris-setosa'],\n",
    "    [5.0,3.5,1.3,0.3,'Iris-setosa'],\n",
    "    [4.5,2.3,1.3,0.3,'Iris-setosa'],\n",
    "    [4.4,3.2,1.3,0.2,'Iris-setosa'],\n",
    "    [5.0,3.5,1.6,0.6,'Iris-setosa'],\n",
    "    [5.1,3.8,1.9,0.4,'Iris-setosa'],\n",
    "    [4.8,3.0,1.4,0.3,'Iris-setosa'],\n",
    "    [5.1,3.8,1.6,0.2,'Iris-setosa'],\n",
    "    [4.6,3.2,1.4,0.2,'Iris-setosa'],\n",
    "    [5.3,3.7,1.5,0.2,'Iris-setosa'],\n",
    "    [5.0,3.3,1.4,0.2,'Iris-setosa'],\n",
    "    [7.0,3.2,4.7,1.4,'Iris-versicolor'],\n",
    "    [6.4,3.2,4.5,1.5,'Iris-versicolor'],\n",
    "    [6.9,3.1,4.9,1.5,'Iris-versicolor'],\n",
    "    [5.5,2.3,4.0,1.3,'Iris-versicolor'],\n",
    "    [6.5,2.8,4.6,1.5,'Iris-versicolor'],\n",
    "    [5.7,2.8,4.5,1.3,'Iris-versicolor'],\n",
    "    [6.3,3.3,4.7,1.6,'Iris-versicolor'],\n",
    "    [4.9,2.4,3.3,1.0,'Iris-versicolor'],\n",
    "    [6.6,2.9,4.6,1.3,'Iris-versicolor'],\n",
    "    [5.2,2.7,3.9,1.4,'Iris-versicolor'],\n",
    "    [5.0,2.0,3.5,1.0,'Iris-versicolor'],\n",
    "    [5.9,3.0,4.2,1.5,'Iris-versicolor'],\n",
    "    [6.0,2.2,4.0,1.0,'Iris-versicolor'],\n",
    "    [6.1,2.9,4.7,1.4,'Iris-versicolor'],\n",
    "    [5.6,2.9,3.6,1.3,'Iris-versicolor'],\n",
    "    [6.7,3.1,4.4,1.4,'Iris-versicolor'],\n",
    "    [5.6,3.0,4.5,1.5,'Iris-versicolor'],\n",
    "    [5.8,2.7,4.1,1.0,'Iris-versicolor'],\n",
    "    [6.2,2.2,4.5,1.5,'Iris-versicolor'],\n",
    "    [5.6,2.5,3.9,1.1,'Iris-versicolor'],\n",
    "    [5.9,3.2,4.8,1.8,'Iris-versicolor'],\n",
    "    [6.1,2.8,4.0,1.3,'Iris-versicolor'],\n",
    "    [6.3,2.5,4.9,1.5,'Iris-versicolor'],\n",
    "    [6.1,2.8,4.7,1.2,'Iris-versicolor'],\n",
    "    [6.4,2.9,4.3,1.3,'Iris-versicolor'],\n",
    "    [6.6,3.0,4.4,1.4,'Iris-versicolor'],\n",
    "    [6.8,2.8,4.8,1.4,'Iris-versicolor'],\n",
    "    [6.7,3.0,5.0,1.7,'Iris-versicolor'],\n",
    "    [6.0,2.9,4.5,1.5,'Iris-versicolor'],\n",
    "    [5.7,2.6,3.5,1.0,'Iris-versicolor'],\n",
    "    [5.5,2.4,3.8,1.1,'Iris-versicolor'],\n",
    "    [5.5,2.4,3.7,1.0,'Iris-versicolor'],\n",
    "    [5.8,2.7,3.9,1.2,'Iris-versicolor'],\n",
    "    [6.0,2.7,5.1,1.6,'Iris-versicolor'],\n",
    "    [5.4,3.0,4.5,1.5,'Iris-versicolor'],\n",
    "    [6.0,3.4,4.5,1.6,'Iris-versicolor'],\n",
    "    [6.7,3.1,4.7,1.5,'Iris-versicolor'],\n",
    "    [6.3,2.3,4.4,1.3,'Iris-versicolor'],\n",
    "    [5.6,3.0,4.1,1.3,'Iris-versicolor'],\n",
    "    [5.5,2.5,4.0,1.3,'Iris-versicolor'],\n",
    "    [5.5,2.6,4.4,1.2,'Iris-versicolor'],\n",
    "    [6.1,3.0,4.6,1.4,'Iris-versicolor'],\n",
    "    [5.8,2.6,4.0,1.2,'Iris-versicolor'],\n",
    "    [5.0,2.3,3.3,1.0,'Iris-versicolor'],\n",
    "    [5.6,2.7,4.2,1.3,'Iris-versicolor'],\n",
    "    [5.7,3.0,4.2,1.2,'Iris-versicolor'],\n",
    "    [5.7,2.9,4.2,1.3,'Iris-versicolor'],\n",
    "    [6.2,2.9,4.3,1.3,'Iris-versicolor'],\n",
    "    [5.1,2.5,3.0,1.1,'Iris-versicolor'],\n",
    "    [5.7,2.8,4.1,1.3,'Iris-versicolor'],\n",
    "    [6.3,3.3,6.0,2.5,'Iris-virginica'],\n",
    "    [5.8,2.7,5.1,1.9,'Iris-virginica'],\n",
    "    [7.1,3.0,5.9,2.1,'Iris-virginica'],\n",
    "    [6.3,2.9,5.6,1.8,'Iris-virginica'],\n",
    "    [6.5,3.0,5.8,2.2,'Iris-virginica'],\n",
    "    [7.6,3.0,6.6,2.1,'Iris-virginica'],\n",
    "    [4.9,2.5,4.5,1.7,'Iris-virginica'],\n",
    "    [7.3,2.9,6.3,1.8,'Iris-virginica'],\n",
    "    [6.7,2.5,5.8,1.8,'Iris-virginica'],\n",
    "    [7.2,3.6,6.1,2.5,'Iris-virginica'],\n",
    "    [6.5,3.2,5.1,2.0,'Iris-virginica'],\n",
    "    [6.4,2.7,5.3,1.9,'Iris-virginica'],\n",
    "    [6.8,3.0,5.5,2.1,'Iris-virginica'],\n",
    "    [5.7,2.5,5.0,2.0,'Iris-virginica'],\n",
    "    [5.8,2.8,5.1,2.4,'Iris-virginica'],\n",
    "    [6.4,3.2,5.3,2.3,'Iris-virginica'],\n",
    "    [6.5,3.0,5.5,1.8,'Iris-virginica'],\n",
    "    [7.7,3.8,6.7,2.2,'Iris-virginica'],\n",
    "    [7.7,2.6,6.9,2.3,'Iris-virginica'],\n",
    "    [6.0,2.2,5.0,1.5,'Iris-virginica'],\n",
    "    [6.9,3.2,5.7,2.3,'Iris-virginica'],\n",
    "    [5.6,2.8,4.9,2.0,'Iris-virginica'],\n",
    "    [7.7,2.8,6.7,2.0,'Iris-virginica'],\n",
    "    [6.3,2.7,4.9,1.8,'Iris-virginica'],\n",
    "    [6.7,3.3,5.7,2.1,'Iris-virginica'],\n",
    "    [7.2,3.2,6.0,1.8,'Iris-virginica'],\n",
    "    [6.2,2.8,4.8,1.8,'Iris-virginica'],\n",
    "    [6.1,3.0,4.9,1.8,'Iris-virginica'],\n",
    "    [6.4,2.8,5.6,2.1,'Iris-virginica'],\n",
    "    [7.2,3.0,5.8,1.6,'Iris-virginica'],\n",
    "    [7.4,2.8,6.1,1.9,'Iris-virginica'],\n",
    "    [7.9,3.8,6.4,2.0,'Iris-virginica'],\n",
    "    [6.4,2.8,5.6,2.2,'Iris-virginica'],\n",
    "    [6.3,2.8,5.1,1.5,'Iris-virginica'],\n",
    "    [6.1,2.6,5.6,1.4,'Iris-virginica'],\n",
    "    [7.7,3.0,6.1,2.3,'Iris-virginica'],\n",
    "    [6.3,3.4,5.6,2.4,'Iris-virginica'],\n",
    "    [6.4,3.1,5.5,1.8,'Iris-virginica'],\n",
    "    [6.0,3.0,4.8,1.8,'Iris-virginica'],\n",
    "    [6.9,3.1,5.4,2.1,'Iris-virginica'],\n",
    "    [6.7,3.1,5.6,2.4,'Iris-virginica'],\n",
    "    [6.9,3.1,5.1,2.3,'Iris-virginica'],\n",
    "    [5.8,2.7,5.1,1.9,'Iris-virginica'],\n",
    "    [6.8,3.2,5.9,2.3,'Iris-virginica'],\n",
    "    [6.7,3.3,5.7,2.5,'Iris-virginica'],\n",
    "    [6.7,3.0,5.2,2.3,'Iris-virginica'],\n",
    "    [6.3,2.5,5.0,1.9,'Iris-virginica'],\n",
    "    [6.5,3.0,5.2,2.0,'Iris-virginica'],\n",
    "    [6.2,3.4,5.4,2.3,'Iris-virginica'],\n",
    "    [5.9,3.0,5.1,1.8,'Iris-virginica']\n",
    "]"
   ]
  },
  {
   "cell_type": "markdown",
   "id": "e73cef2b",
   "metadata": {
    "papermill": {
     "duration": 0.010885,
     "end_time": "2023-04-28T01:09:47.914565",
     "exception": false,
     "start_time": "2023-04-28T01:09:47.903680",
     "status": "completed"
    },
    "tags": []
   },
   "source": [
    "## What to Do\n",
    "\n",
    "Demonstrate your understanding and ability to have synthesized course concepts by providing a walkthrough, with both code and prose, that demonstrates a simple ML workflow. Your goal is to pick an ideal **_k_** for the classifier and demonstrate a methodical justification for your selection. In the end, your work should reflect the principles seen thus far in the course.\n",
    "\n",
    "Please be sure to demonstrate:\n",
    "\n",
    "1. Splitting a data set into appropriate training and test sets\n",
    "2. \"Training\" a k-NN classifier\n",
    "3. Repeatedly testing a k-NN classifier with different values of `k`, and reporting the generalization errors for each `k`\n",
    "4. Analyzing the generalization errors for different values of `k`\n",
    "5. Identifying the ideal `k` value for this classifier, and justifying your selection by demonstrating a sound process (not just assertion)\n",
    "\n",
    "### Tips\n",
    "\n",
    "1. Be sure that you have spent time with the Exploration materials in this course.\n",
    "2. Ask questions on the course forum if you get stuck (describe what you are trying to do, and errors that you encounter)\n",
    "3. **Keep it simple.** This is more straightforward than it may initially seem.\n"
   ]
  },
  {
   "cell_type": "markdown",
   "id": "bc52bf6b",
   "metadata": {
    "papermill": {
     "duration": 0.010835,
     "end_time": "2023-04-28T01:09:47.937031",
     "exception": false,
     "start_time": "2023-04-28T01:09:47.926196",
     "status": "completed"
    },
    "tags": []
   },
   "source": [
    "## Begin Your Walkthrough Here\n",
    "\n",
    "To approach this problem, the KnnClassifier model in above is different from the video. There is one parameters in the training dataset. So I did few steps:\n",
    "\n",
    "1) Import the libraries I need.\\\n",
    "2) I random split the dataset into 80% training data and 20% validation dataset.\\\n",
    "3) Start my first k values with the square root of the number of training dataset as k parameter.\\\n",
    "4) Train the classfier against the training dataset and then test against the training dataset and validation dataset.\\\n",
    "5) Try with different k values to see if it will provide better model accuracy.\\\n"
   ]
  },
  {
   "cell_type": "code",
   "execution_count": 3,
   "id": "84d9c231",
   "metadata": {
    "execution": {
     "iopub.execute_input": "2023-04-28T01:09:47.961419Z",
     "iopub.status.busy": "2023-04-28T01:09:47.961044Z",
     "iopub.status.idle": "2023-04-28T01:09:47.968253Z",
     "shell.execute_reply": "2023-04-28T01:09:47.967304Z"
    },
    "papermill": {
     "duration": 0.023096,
     "end_time": "2023-04-28T01:09:47.971308",
     "exception": false,
     "start_time": "2023-04-28T01:09:47.948212",
     "status": "completed"
    },
    "tags": []
   },
   "outputs": [
    {
     "name": "stdout",
     "output_type": "stream",
     "text": [
      "Training data: [[6.4, 2.9, 4.3, 1.3, 'Iris-versicolor'], [4.8, 3.4, 1.6, 0.2, 'Iris-setosa'], [5.6, 2.5, 3.9, 1.1, 'Iris-versicolor'], [6.2, 2.8, 4.8, 1.8, 'Iris-virginica'], [6.3, 2.8, 5.1, 1.5, 'Iris-virginica'], [6.5, 3.0, 5.5, 1.8, 'Iris-virginica'], [5.1, 3.8, 1.6, 0.2, 'Iris-setosa'], [6.1, 2.8, 4.7, 1.2, 'Iris-versicolor'], [5.4, 3.7, 1.5, 0.2, 'Iris-setosa'], [5.5, 2.3, 4.0, 1.3, 'Iris-versicolor'], [6.5, 3.0, 5.2, 2.0, 'Iris-virginica'], [5.7, 2.5, 5.0, 2.0, 'Iris-virginica'], [5.7, 2.8, 4.1, 1.3, 'Iris-versicolor'], [6.9, 3.1, 5.4, 2.1, 'Iris-virginica'], [6.3, 3.4, 5.6, 2.4, 'Iris-virginica'], [7.6, 3.0, 6.6, 2.1, 'Iris-virginica'], [6.0, 2.2, 5.0, 1.5, 'Iris-virginica'], [7.7, 2.8, 6.7, 2.0, 'Iris-virginica'], [7.2, 3.0, 5.8, 1.6, 'Iris-virginica'], [5.0, 3.4, 1.6, 0.4, 'Iris-setosa'], [5.7, 2.6, 3.5, 1.0, 'Iris-versicolor'], [5.2, 4.1, 1.5, 0.1, 'Iris-setosa'], [5.0, 3.5, 1.6, 0.6, 'Iris-setosa'], [5.5, 2.6, 4.4, 1.2, 'Iris-versicolor'], [4.6, 3.4, 1.4, 0.3, 'Iris-setosa'], [6.3, 2.5, 5.0, 1.9, 'Iris-virginica'], [6.0, 2.2, 4.0, 1.0, 'Iris-versicolor'], [6.7, 3.1, 4.4, 1.4, 'Iris-versicolor'], [5.7, 2.9, 4.2, 1.3, 'Iris-versicolor'], [4.8, 3.4, 1.9, 0.2, 'Iris-setosa'], [5.0, 3.3, 1.4, 0.2, 'Iris-setosa'], [5.1, 2.5, 3.0, 1.1, 'Iris-versicolor'], [6.1, 3.0, 4.9, 1.8, 'Iris-virginica'], [5.8, 2.7, 5.1, 1.9, 'Iris-virginica'], [4.8, 3.0, 1.4, 0.3, 'Iris-setosa'], [4.4, 3.0, 1.3, 0.2, 'Iris-setosa'], [6.9, 3.2, 5.7, 2.3, 'Iris-virginica'], [5.4, 3.9, 1.3, 0.4, 'Iris-setosa'], [5.5, 2.4, 3.8, 1.1, 'Iris-versicolor'], [5.2, 2.7, 3.9, 1.4, 'Iris-versicolor'], [5.6, 2.7, 4.2, 1.3, 'Iris-versicolor'], [4.9, 3.1, 1.5, 0.1, 'Iris-setosa'], [6.3, 2.7, 4.9, 1.8, 'Iris-virginica'], [6.5, 3.0, 5.8, 2.2, 'Iris-virginica'], [6.1, 2.9, 4.7, 1.4, 'Iris-versicolor'], [5.4, 3.4, 1.5, 0.4, 'Iris-setosa'], [6.0, 2.9, 4.5, 1.5, 'Iris-versicolor'], [6.3, 3.3, 4.7, 1.6, 'Iris-versicolor'], [5.7, 2.8, 4.5, 1.3, 'Iris-versicolor'], [5.4, 3.9, 1.7, 0.4, 'Iris-setosa'], [7.7, 3.0, 6.1, 2.3, 'Iris-virginica'], [5.2, 3.4, 1.4, 0.2, 'Iris-setosa'], [5.3, 3.7, 1.5, 0.2, 'Iris-setosa'], [4.3, 3.0, 1.1, 0.1, 'Iris-setosa'], [6.7, 3.0, 5.2, 2.3, 'Iris-virginica'], [6.7, 3.1, 4.7, 1.5, 'Iris-versicolor'], [4.8, 3.1, 1.6, 0.2, 'Iris-setosa'], [5.5, 4.2, 1.4, 0.2, 'Iris-setosa'], [7.1, 3.0, 5.9, 2.1, 'Iris-virginica'], [5.6, 3.0, 4.5, 1.5, 'Iris-versicolor'], [6.3, 3.3, 6.0, 2.5, 'Iris-virginica'], [5.0, 3.0, 1.6, 0.2, 'Iris-setosa'], [6.4, 3.2, 4.5, 1.5, 'Iris-versicolor'], [4.8, 3.0, 1.4, 0.1, 'Iris-setosa'], [6.7, 2.5, 5.8, 1.8, 'Iris-virginica'], [5.0, 3.4, 1.5, 0.2, 'Iris-setosa'], [4.6, 3.6, 1.0, 0.2, 'Iris-setosa'], [5.1, 3.8, 1.5, 0.3, 'Iris-setosa'], [5.7, 3.8, 1.7, 0.3, 'Iris-setosa'], [5.8, 2.6, 4.0, 1.2, 'Iris-versicolor'], [6.4, 2.8, 5.6, 2.2, 'Iris-virginica'], [7.7, 2.6, 6.9, 2.3, 'Iris-virginica'], [5.5, 2.5, 4.0, 1.3, 'Iris-versicolor'], [7.2, 3.6, 6.1, 2.5, 'Iris-virginica'], [7.4, 2.8, 6.1, 1.9, 'Iris-virginica'], [6.5, 3.2, 5.1, 2.0, 'Iris-virginica'], [5.8, 2.7, 3.9, 1.2, 'Iris-versicolor'], [6.4, 2.8, 5.6, 2.1, 'Iris-virginica'], [5.8, 2.8, 5.1, 2.4, 'Iris-virginica'], [6.1, 2.8, 4.0, 1.3, 'Iris-versicolor'], [5.9, 3.2, 4.8, 1.8, 'Iris-versicolor'], [4.4, 3.2, 1.3, 0.2, 'Iris-setosa'], [5.1, 3.3, 1.7, 0.5, 'Iris-setosa'], [5.8, 2.7, 4.1, 1.0, 'Iris-versicolor'], [6.3, 2.3, 4.4, 1.3, 'Iris-versicolor'], [6.9, 3.1, 5.1, 2.3, 'Iris-virginica'], [6.6, 2.9, 4.6, 1.3, 'Iris-versicolor'], [5.8, 2.7, 5.1, 1.9, 'Iris-virginica'], [4.4, 2.9, 1.4, 0.2, 'Iris-setosa'], [6.0, 3.0, 4.8, 1.8, 'Iris-virginica'], [6.7, 3.1, 5.6, 2.4, 'Iris-virginica'], [5.7, 3.0, 4.2, 1.2, 'Iris-versicolor'], [5.1, 3.4, 1.5, 0.2, 'Iris-setosa'], [4.9, 3.0, 1.4, 0.2, 'Iris-setosa'], [7.2, 3.2, 6.0, 1.8, 'Iris-virginica'], [6.2, 3.4, 5.4, 2.3, 'Iris-virginica'], [5.1, 3.5, 1.4, 0.3, 'Iris-setosa'], [5.6, 3.0, 4.1, 1.3, 'Iris-versicolor'], [4.7, 3.2, 1.6, 0.2, 'Iris-setosa'], [5.5, 2.4, 3.7, 1.0, 'Iris-versicolor'], [6.4, 3.2, 5.3, 2.3, 'Iris-virginica'], [4.6, 3.2, 1.4, 0.2, 'Iris-setosa'], [6.8, 3.0, 5.5, 2.1, 'Iris-virginica'], [5.0, 2.0, 3.5, 1.0, 'Iris-versicolor'], [5.0, 3.5, 1.3, 0.3, 'Iris-setosa'], [5.0, 3.2, 1.2, 0.2, 'Iris-setosa'], [6.4, 2.7, 5.3, 1.9, 'Iris-virginica'], [6.3, 2.5, 4.9, 1.5, 'Iris-versicolor'], [4.9, 2.4, 3.3, 1.0, 'Iris-versicolor'], [5.9, 3.0, 4.2, 1.5, 'Iris-versicolor'], [6.8, 2.8, 4.8, 1.4, 'Iris-versicolor'], [5.1, 3.7, 1.5, 0.4, 'Iris-setosa'], [6.2, 2.9, 4.3, 1.3, 'Iris-versicolor'], [6.1, 3.0, 4.6, 1.4, 'Iris-versicolor'], [4.7, 3.2, 1.3, 0.2, 'Iris-setosa'], [5.9, 3.0, 5.1, 1.8, 'Iris-virginica'], [5.4, 3.0, 4.5, 1.5, 'Iris-versicolor'], [5.0, 2.3, 3.3, 1.0, 'Iris-versicolor'], [4.9, 2.5, 4.5, 1.7, 'Iris-virginica'], [6.0, 2.7, 5.1, 1.6, 'Iris-versicolor']]\n",
      "Testing data: [[5.0, 3.6, 1.4, 0.2, 'Iris-setosa'], [6.4, 3.1, 5.5, 1.8, 'Iris-virginica'], [6.7, 3.3, 5.7, 2.1, 'Iris-virginica'], [5.8, 4.0, 1.2, 0.2, 'Iris-setosa'], [4.9, 3.1, 1.5, 0.1, 'Iris-setosa'], [6.2, 2.2, 4.5, 1.5, 'Iris-versicolor'], [4.5, 2.3, 1.3, 0.3, 'Iris-setosa'], [6.6, 3.0, 4.4, 1.4, 'Iris-versicolor'], [6.1, 2.6, 5.6, 1.4, 'Iris-virginica'], [5.5, 3.5, 1.3, 0.2, 'Iris-setosa'], [5.7, 4.4, 1.5, 0.4, 'Iris-setosa'], [5.1, 3.8, 1.9, 0.4, 'Iris-setosa'], [7.3, 2.9, 6.3, 1.8, 'Iris-virginica'], [4.6, 3.1, 1.5, 0.2, 'Iris-setosa'], [5.4, 3.4, 1.7, 0.2, 'Iris-setosa'], [6.8, 3.2, 5.9, 2.3, 'Iris-virginica'], [6.0, 3.4, 4.5, 1.6, 'Iris-versicolor'], [7.9, 3.8, 6.4, 2.0, 'Iris-virginica'], [5.6, 2.8, 4.9, 2.0, 'Iris-virginica'], [4.9, 3.1, 1.5, 0.1, 'Iris-setosa'], [6.9, 3.1, 4.9, 1.5, 'Iris-versicolor'], [7.7, 3.8, 6.7, 2.2, 'Iris-virginica'], [6.5, 2.8, 4.6, 1.5, 'Iris-versicolor'], [6.3, 2.9, 5.6, 1.8, 'Iris-virginica'], [5.1, 3.5, 1.4, 0.2, 'Iris-setosa'], [7.0, 3.2, 4.7, 1.4, 'Iris-versicolor'], [5.6, 2.9, 3.6, 1.3, 'Iris-versicolor'], [6.7, 3.3, 5.7, 2.5, 'Iris-virginica'], [5.2, 3.5, 1.5, 0.2, 'Iris-setosa'], [6.7, 3.0, 5.0, 1.7, 'Iris-versicolor']]\n"
     ]
    }
   ],
   "source": [
    "# Splitting a data set into appropriate training and test sets into 80% and 20%\n",
    "import random\n",
    "\n",
    "# create a list of data\n",
    "data = iris_data_set\n",
    "\n",
    "\n",
    "# shuffle the data\n",
    "random.shuffle(data)\n",
    "\n",
    "random.seed(1)\n",
    "\n",
    "# calculate the size of the training set (e.g. 80% of the data)\n",
    "train_size = int(0.8 * len(data))\n",
    "\n",
    "# split the data into training and testing sets\n",
    "iris_training_set = data[:train_size]\n",
    "iris_test_set = data[train_size:]\n",
    "\n",
    "# print the results\n",
    "print(\"Training data:\", iris_training_set)\n",
    "print(\"Testing data:\", iris_test_set)"
   ]
  },
  {
   "cell_type": "code",
   "execution_count": 4,
   "id": "b64588a5",
   "metadata": {
    "execution": {
     "iopub.execute_input": "2023-04-28T01:09:47.996710Z",
     "iopub.status.busy": "2023-04-28T01:09:47.996036Z",
     "iopub.status.idle": "2023-04-28T01:09:48.003135Z",
     "shell.execute_reply": "2023-04-28T01:09:48.002316Z"
    },
    "papermill": {
     "duration": 0.022017,
     "end_time": "2023-04-28T01:09:48.005147",
     "exception": false,
     "start_time": "2023-04-28T01:09:47.983130",
     "status": "completed"
    },
    "tags": []
   },
   "outputs": [
    {
     "data": {
      "text/plain": [
       "120"
      ]
     },
     "execution_count": 4,
     "metadata": {},
     "output_type": "execute_result"
    }
   ],
   "source": [
    "len(iris_training_set)"
   ]
  },
  {
   "cell_type": "code",
   "execution_count": 5,
   "id": "df986c0d",
   "metadata": {
    "execution": {
     "iopub.execute_input": "2023-04-28T01:09:48.031615Z",
     "iopub.status.busy": "2023-04-28T01:09:48.031141Z",
     "iopub.status.idle": "2023-04-28T01:09:48.038405Z",
     "shell.execute_reply": "2023-04-28T01:09:48.037251Z"
    },
    "papermill": {
     "duration": 0.022875,
     "end_time": "2023-04-28T01:09:48.040855",
     "exception": false,
     "start_time": "2023-04-28T01:09:48.017980",
     "status": "completed"
    },
    "tags": []
   },
   "outputs": [
    {
     "data": {
      "text/plain": [
       "30"
      ]
     },
     "execution_count": 5,
     "metadata": {},
     "output_type": "execute_result"
    }
   ],
   "source": [
    "len(iris_test_set)"
   ]
  },
  {
   "cell_type": "code",
   "execution_count": 6,
   "id": "9747e76e",
   "metadata": {
    "execution": {
     "iopub.execute_input": "2023-04-28T01:09:48.066803Z",
     "iopub.status.busy": "2023-04-28T01:09:48.065850Z",
     "iopub.status.idle": "2023-04-28T01:09:48.080892Z",
     "shell.execute_reply": "2023-04-28T01:09:48.080057Z"
    },
    "papermill": {
     "duration": 0.030664,
     "end_time": "2023-04-28T01:09:48.083479",
     "exception": false,
     "start_time": "2023-04-28T01:09:48.052815",
     "status": "completed"
    },
    "tags": []
   },
   "outputs": [
    {
     "name": "stdout",
     "output_type": "stream",
     "text": [
      "0.9666666666666667\n",
      "Iris-versicolor\n"
     ]
    }
   ],
   "source": [
    "# \"Training\" a k-NN classifier, try k = 10\n",
    "knn_classifier = KnnClassifier(k = int(sqrt(len(iris_training_set))))\n",
    "knn_classifier.train(iris_training_set)\n",
    "error = knn_classifier.test(iris_test_set)\n",
    "species = knn_classifier.predict([5.0, 3.2, 4.9, 0.8])\n",
    "print(error)\n",
    "print(species)"
   ]
  },
  {
   "cell_type": "code",
   "execution_count": 7,
   "id": "dce74616",
   "metadata": {
    "execution": {
     "iopub.execute_input": "2023-04-28T01:09:48.108544Z",
     "iopub.status.busy": "2023-04-28T01:09:48.108075Z",
     "iopub.status.idle": "2023-04-28T01:09:48.122496Z",
     "shell.execute_reply": "2023-04-28T01:09:48.121595Z"
    },
    "papermill": {
     "duration": 0.029914,
     "end_time": "2023-04-28T01:09:48.125096",
     "exception": false,
     "start_time": "2023-04-28T01:09:48.095182",
     "status": "completed"
    },
    "tags": []
   },
   "outputs": [
    {
     "name": "stdout",
     "output_type": "stream",
     "text": [
      "0.9666666666666667\n",
      "Iris-versicolor\n"
     ]
    }
   ],
   "source": [
    "# try k = 17\n",
    "knn_classifier = KnnClassifier(k = 17)\n",
    "knn_classifier.train(iris_training_set)\n",
    "error = knn_classifier.test(iris_test_set)\n",
    "species = knn_classifier.predict([6.7, 3.1, 4.4, 1.4])\n",
    "print(error)\n",
    "print(species)"
   ]
  },
  {
   "cell_type": "code",
   "execution_count": 8,
   "id": "75265674",
   "metadata": {
    "execution": {
     "iopub.execute_input": "2023-04-28T01:09:48.150887Z",
     "iopub.status.busy": "2023-04-28T01:09:48.150505Z",
     "iopub.status.idle": "2023-04-28T01:09:48.165759Z",
     "shell.execute_reply": "2023-04-28T01:09:48.164364Z"
    },
    "papermill": {
     "duration": 0.030946,
     "end_time": "2023-04-28T01:09:48.168029",
     "exception": false,
     "start_time": "2023-04-28T01:09:48.137083",
     "status": "completed"
    },
    "tags": []
   },
   "outputs": [
    {
     "name": "stdout",
     "output_type": "stream",
     "text": [
      "0.9666666666666667\n",
      "Iris-versicolor\n"
     ]
    }
   ],
   "source": [
    "# try k = 17\n",
    "knn_classifier = KnnClassifier(k = 5)\n",
    "knn_classifier.train(iris_training_set)\n",
    "error = knn_classifier.test(iris_test_set)\n",
    "species = knn_classifier.predict([6.7, 3.1, 4.4, 1.4])\n",
    "print(error)\n",
    "print(species)"
   ]
  },
  {
   "cell_type": "code",
   "execution_count": 9,
   "id": "3a322a35",
   "metadata": {
    "execution": {
     "iopub.execute_input": "2023-04-28T01:09:48.193549Z",
     "iopub.status.busy": "2023-04-28T01:09:48.193146Z",
     "iopub.status.idle": "2023-04-28T01:09:48.336549Z",
     "shell.execute_reply": "2023-04-28T01:09:48.335080Z"
    },
    "papermill": {
     "duration": 0.159223,
     "end_time": "2023-04-28T01:09:48.339104",
     "exception": false,
     "start_time": "2023-04-28T01:09:48.179881",
     "status": "completed"
    },
    "tags": []
   },
   "outputs": [
    {
     "name": "stdout",
     "output_type": "stream",
     "text": [
      "[1.0, 1.0, 0.9666666666666667, 0.9666666666666667, 0.9666666666666667, 0.9666666666666667, 0.9666666666666667, 0.9666666666666667, 0.9666666666666667, 0.9666666666666667, 0.9666666666666667, 0.9666666666666667, 0.9666666666666667, 0.9666666666666667, 0.9666666666666667, 0.9666666666666667, 0.9666666666666667]\n"
     ]
    }
   ],
   "source": [
    "# Repeatedly test a k-NN classifier, and collect generalization errors\n",
    "k_range = range(3,20)\n",
    "\n",
    "# Empty list to hold the generalization errors\n",
    "cv_scores = []\n",
    "\n",
    "for k in k_range:\n",
    "    knn_classifier = KnnClassifier(k=k)\n",
    "    knn_classifier.train(iris_training_set)\n",
    "    error = knn_classifier.test(iris_test_set)\n",
    "    cv_scores.append(error)\n",
    "    \n",
    "print(cv_scores)"
   ]
  },
  {
   "cell_type": "code",
   "execution_count": 10,
   "id": "901ad275",
   "metadata": {
    "execution": {
     "iopub.execute_input": "2023-04-28T01:09:48.365700Z",
     "iopub.status.busy": "2023-04-28T01:09:48.365289Z",
     "iopub.status.idle": "2023-04-28T01:09:48.618971Z",
     "shell.execute_reply": "2023-04-28T01:09:48.617707Z"
    },
    "papermill": {
     "duration": 0.270214,
     "end_time": "2023-04-28T01:09:48.621588",
     "exception": false,
     "start_time": "2023-04-28T01:09:48.351374",
     "status": "completed"
    },
    "tags": []
   },
   "outputs": [
    {
     "data": {
      "image/png": "[encoded data removed]",
      "text/plain": [
       "<Figure size 640x480 with 1 Axes>"
      ]
     },
     "metadata": {},
     "output_type": "display_data"
    }
   ],
   "source": [
    "import matplotlib.pyplot as plt\n",
    "\n",
    "# Create some data to plot\n",
    "x = k_range\n",
    "y = cv_scores\n",
    "\n",
    "# Create a line plot\n",
    "# Identify the ideal k value for this classifier\n",
    "plt.plot(x, y)\n",
    "\n",
    "# Add labels and title\n",
    "plt.xlabel('k_range')\n",
    "plt.ylabel('cv_scores')\n",
    "plt.title('The trending of cv_scores by k_range')\n",
    "\n",
    "# Display the plot\n",
    "plt.show()"
   ]
  },
  {
   "cell_type": "markdown",
   "id": "09cf3141",
   "metadata": {
    "papermill": {
     "duration": 0.01264,
     "end_time": "2023-04-28T01:09:48.647059",
     "exception": false,
     "start_time": "2023-04-28T01:09:48.634419",
     "status": "completed"
    },
    "tags": []
   },
   "source": [
    "The ideal k is 8. K means the number of nearest numbers. From the chart, we could see that after k = 8, the model accuary is not improving anymore. "
   ]
  },
  {
   "cell_type": "markdown",
   "id": "4e85beaf",
   "metadata": {
    "papermill": {
     "duration": 0.012191,
     "end_time": "2023-04-28T01:09:48.671726",
     "exception": false,
     "start_time": "2023-04-28T01:09:48.659535",
     "status": "completed"
    },
    "tags": []
   },
   "source": [
    "## Conclusion\n",
    "\n",
    "Write a review of what you did, some key decisions you made along the way and why you made those decisions, the end result, and what you might do next or experiment with next to achieve a higher performing classifier.\n",
    "\n",
    "First of all, I decided to split the datasets into 80% training dataset and 20% validation dataset. It helps balance the trade-off between having enough data to train the model and having enough data to test the model performance. It allows us to evaluvate the model performance, prevent overfitting, and estimate its ganeralization error. \n",
    "\n",
    "Second, I followed the python code in the course video but received the error message and realized that we only have one parameter 'traing_set', so I split the dataset into iris_training_set and iris_test_set. \n",
    "\n",
    "Third, I tried to apply different k values seperately to see if it provide me differet error and make sure I am able to apply different k in KNN model.\n",
    "\n",
    "Fourth, I set the k in range (1, 200) and plot the k values and cv_scores to better visualize the data.\n",
    "\n",
    "Finally, I found the the ideal K in the chart. The next step, I might try split the datasets into 70% training dataset and 30% validation dataset to see if k = 8 still the best k for the new datasets.\n",
    "\n",
    "\n",
    "\n",
    "### 💡 Knowledge Check Part 1\n",
    "\n",
    "The ideal k is 8. From the chart, we could see that after k > 8, the cs_scores = 0.1 is not decreasing anymore. In KNN model, \"k' represnets the number of nearest neighbors neighbors used to predict the classification on regression value of a new data point. Eg, in our datasets, k = 8 and a new data points is given for classification, the KNN algorithm will look for 8 cloest data points to the new data point in the feature space. When k> 8, error is not decreasing, it might be helpful to look for more than 8 cloest data points.\n"
   ]
  },
  {
   "cell_type": "markdown",
   "id": "14df9ee5",
   "metadata": {
    "papermill": {
     "duration": 0.012236,
     "end_time": "2023-04-28T01:09:48.696471",
     "exception": false,
     "start_time": "2023-04-28T01:09:48.684235",
     "status": "completed"
    },
    "tags": []
   },
   "source": [
    "<!-- This cell is intentionally blank -->\n",
    "<!-- This cell is intentionally blank -->\n",
    "<!-- This cell is intentionally blank -->\n",
    "<!-- This cell is intentionally blank -->\n",
    "<!-- This cell is intentionally blank -->\n",
    "<!-- This cell is intentionally blank -->\n",
    "<!-- This cell is intentionally blank -->\n"
   ]
  },
  {
   "cell_type": "markdown",
   "id": "71bd83f2",
   "metadata": {
    "papermill": {
     "duration": 0.012595,
     "end_time": "2023-04-28T01:09:48.721869",
     "exception": false,
     "start_time": "2023-04-28T01:09:48.709274",
     "status": "completed"
    },
    "tags": []
   },
   "source": [
    "# Part 2: Classifying Handwritten Digits\n",
    "\n",
    "In this, the second, part of this notebook, we will build a classifier that can assign a label, 0 - 9, to images of hand-written digits. We'll use a preprocessed subset of the well-known [MNIST database of handwritten digits](https://en.wikipedia.org/wiki/MNIST_database). Take a moment now to familiarize yourself with the subject matter of this data set, and take a look at the properties of [the UCI ML hand-written digits dataset](https://archive.ics.uci.edu/ml/datasets/Optical+Recognition+of+Handwritten+Digits).\n",
    "\n",
    "## What to Do\n",
    "\n",
    "We'll guide you one step at a time in this walkthrough of a k-NN workflow. Try out the code, answer the Knowledge Check questions along the way, and engage in a few challenges to exercise your understanding and have some fun.\n",
    "\n",
    "## Problem Statement\n",
    "\n",
    "We would like to \"transform\" sequences of handwritten digits into real numeric values that a computer can understand. For example, we would like a machine to be able to \"read\" a handwritten **8675309** and interpret each digit, resulting in the numeric string `8675309`. As such, we would like to construct a classifier that, as accurately as possible, can identify a visual representation of integers (pictures of handwritten numbers), and classify each image with one of ten labels: 0, 1, 2, 3, 4, 5, 6, 7, 8 or 9.\n",
    "\n",
    "## Obtaining the data\n",
    "\n",
    "For this experiment, we will get up and running quickly with [a subset of the MNIST data, bundled in the scikit-learn](https://scikit-learn.org/stable/modules/generated/sklearn.datasets.load_digits.html#sklearn.datasets.load_digits) library. First, let's import a typical toolkit of libraries, including pandas, matplotlib, and [scikit-learn](https://scikit-learn.org/stable/index.html).\n",
    "\n",
    "```python\n",
    "import pandas as pd\n",
    "import matplotlib.pyplot as plt\n",
    "from sklearn.datasets import load_digits\n",
    "```\n",
    "\n",
    "Here we are importing two essential libraries, and giving them aliases `pd`, `plt`, and importing the `load_digits` function, which will give use our data set.\n",
    "\n",
    "Let's load the data into memory as well, assigning it to a variable.\n",
    "\n",
    "```python\n",
    "digits = load_digits(as_frame=True)\n",
    "```\n",
    "\n",
    "Note that `load_digits` returns a [Bunch](https://scikit-learn.org/stable/modules/generated/sklearn.utils.Bunch.html#sklearn.utils.Bunch) object - not a pandas DataFrame. Review the [load_digits documentation](https://scikit-learn.org/stable/modules/generated/sklearn.datasets.load_digits.html#sklearn.datasets.load_digits) to see what the attributes of our particular Bunch are. We pass `load_digits` the named argument `as_frame=True` up front now, so that we can access the data as a DataFrame later.\n"
   ]
  },
  {
   "cell_type": "code",
   "execution_count": 11,
   "id": "b2080700",
   "metadata": {
    "execution": {
     "iopub.execute_input": "2023-04-28T01:09:48.749701Z",
     "iopub.status.busy": "2023-04-28T01:09:48.749016Z",
     "iopub.status.idle": "2023-04-28T01:09:49.961774Z",
     "shell.execute_reply": "2023-04-28T01:09:49.960544Z"
    },
    "papermill": {
     "duration": 1.230891,
     "end_time": "2023-04-28T01:09:49.965210",
     "exception": false,
     "start_time": "2023-04-28T01:09:48.734319",
     "status": "completed"
    },
    "tags": []
   },
   "outputs": [
    {
     "name": "stdout",
     "output_type": "stream",
     "text": [
      "{'data':       pixel_0_0  pixel_0_1  pixel_0_2  pixel_0_3  pixel_0_4  pixel_0_5  \\\n",
      "0           0.0        0.0        5.0       13.0        9.0        1.0   \n",
      "1           0.0        0.0        0.0       12.0       13.0        5.0   \n",
      "2           0.0        0.0        0.0        4.0       15.0       12.0   \n",
      "3           0.0        0.0        7.0       15.0       13.0        1.0   \n",
      "4           0.0        0.0        0.0        1.0       11.0        0.0   \n",
      "...         ...        ...        ...        ...        ...        ...   \n",
      "1792        0.0        0.0        4.0       10.0       13.0        6.0   \n",
      "1793        0.0        0.0        6.0       16.0       13.0       11.0   \n",
      "1794        0.0        0.0        1.0       11.0       15.0        1.0   \n",
      "1795        0.0        0.0        2.0       10.0        7.0        0.0   \n",
      "1796        0.0        0.0       10.0       14.0        8.0        1.0   \n",
      "\n",
      "      pixel_0_6  pixel_0_7  pixel_1_0  pixel_1_1  ...  pixel_6_6  pixel_6_7  \\\n",
      "0           0.0        0.0        0.0        0.0  ...        0.0        0.0   \n",
      "1           0.0        0.0        0.0        0.0  ...        0.0        0.0   \n",
      "2           0.0        0.0        0.0        0.0  ...        5.0        0.0   \n",
      "3           0.0        0.0        0.0        8.0  ...        9.0        0.0   \n",
      "4           0.0        0.0        0.0        0.0  ...        0.0        0.0   \n",
      "...         ...        ...        ...        ...  ...        ...        ...   \n",
      "1792        0.0        0.0        0.0        1.0  ...        4.0        0.0   \n",
      "1793        1.0        0.0        0.0        0.0  ...        1.0        0.0   \n",
      "1794        0.0        0.0        0.0        0.0  ...        0.0        0.0   \n",
      "1795        0.0        0.0        0.0        0.0  ...        2.0        0.0   \n",
      "1796        0.0        0.0        0.0        2.0  ...        8.0        0.0   \n",
      "\n",
      "      pixel_7_0  pixel_7_1  pixel_7_2  pixel_7_3  pixel_7_4  pixel_7_5  \\\n",
      "0           0.0        0.0        6.0       13.0       10.0        0.0   \n",
      "1           0.0        0.0        0.0       11.0       16.0       10.0   \n",
      "2           0.0        0.0        0.0        3.0       11.0       16.0   \n",
      "3           0.0        0.0        7.0       13.0       13.0        9.0   \n",
      "4           0.0        0.0        0.0        2.0       16.0        4.0   \n",
      "...         ...        ...        ...        ...        ...        ...   \n",
      "1792        0.0        0.0        2.0       14.0       15.0        9.0   \n",
      "1793        0.0        0.0        6.0       16.0       14.0        6.0   \n",
      "1794        0.0        0.0        2.0        9.0       13.0        6.0   \n",
      "1795        0.0        0.0        5.0       12.0       16.0       12.0   \n",
      "1796        0.0        1.0        8.0       12.0       14.0       12.0   \n",
      "\n",
      "      pixel_7_6  pixel_7_7  \n",
      "0           0.0        0.0  \n",
      "1           0.0        0.0  \n",
      "2           9.0        0.0  \n",
      "3           0.0        0.0  \n",
      "4           0.0        0.0  \n",
      "...         ...        ...  \n",
      "1792        0.0        0.0  \n",
      "1793        0.0        0.0  \n",
      "1794        0.0        0.0  \n",
      "1795        0.0        0.0  \n",
      "1796        1.0        0.0  \n",
      "\n",
      "[1797 rows x 64 columns], 'target': 0       0\n",
      "1       1\n",
      "2       2\n",
      "3       3\n",
      "4       4\n",
      "       ..\n",
      "1792    9\n",
      "1793    0\n",
      "1794    8\n",
      "1795    9\n",
      "1796    8\n",
      "Name: target, Length: 1797, dtype: int64, 'frame':       pixel_0_0  pixel_0_1  pixel_0_2  pixel_0_3  pixel_0_4  pixel_0_5  \\\n",
      "0           0.0        0.0        5.0       13.0        9.0        1.0   \n",
      "1           0.0        0.0        0.0       12.0       13.0        5.0   \n",
      "2           0.0        0.0        0.0        4.0       15.0       12.0   \n",
      "3           0.0        0.0        7.0       15.0       13.0        1.0   \n",
      "4           0.0        0.0        0.0        1.0       11.0        0.0   \n",
      "...         ...        ...        ...        ...        ...        ...   \n",
      "1792        0.0        0.0        4.0       10.0       13.0        6.0   \n",
      "1793        0.0        0.0        6.0       16.0       13.0       11.0   \n",
      "1794        0.0        0.0        1.0       11.0       15.0        1.0   \n",
      "1795        0.0        0.0        2.0       10.0        7.0        0.0   \n",
      "1796        0.0        0.0       10.0       14.0        8.0        1.0   \n",
      "\n",
      "      pixel_0_6  pixel_0_7  pixel_1_0  pixel_1_1  ...  pixel_6_7  pixel_7_0  \\\n",
      "0           0.0        0.0        0.0        0.0  ...        0.0        0.0   \n",
      "1           0.0        0.0        0.0        0.0  ...        0.0        0.0   \n",
      "2           0.0        0.0        0.0        0.0  ...        0.0        0.0   \n",
      "3           0.0        0.0        0.0        8.0  ...        0.0        0.0   \n",
      "4           0.0        0.0        0.0        0.0  ...        0.0        0.0   \n",
      "...         ...        ...        ...        ...  ...        ...        ...   \n",
      "1792        0.0        0.0        0.0        1.0  ...        0.0        0.0   \n",
      "1793        1.0        0.0        0.0        0.0  ...        0.0        0.0   \n",
      "1794        0.0        0.0        0.0        0.0  ...        0.0        0.0   \n",
      "1795        0.0        0.0        0.0        0.0  ...        0.0        0.0   \n",
      "1796        0.0        0.0        0.0        2.0  ...        0.0        0.0   \n",
      "\n",
      "      pixel_7_1  pixel_7_2  pixel_7_3  pixel_7_4  pixel_7_5  pixel_7_6  \\\n",
      "0           0.0        6.0       13.0       10.0        0.0        0.0   \n",
      "1           0.0        0.0       11.0       16.0       10.0        0.0   \n",
      "2           0.0        0.0        3.0       11.0       16.0        9.0   \n",
      "3           0.0        7.0       13.0       13.0        9.0        0.0   \n",
      "4           0.0        0.0        2.0       16.0        4.0        0.0   \n",
      "...         ...        ...        ...        ...        ...        ...   \n",
      "1792        0.0        2.0       14.0       15.0        9.0        0.0   \n",
      "1793        0.0        6.0       16.0       14.0        6.0        0.0   \n",
      "1794        0.0        2.0        9.0       13.0        6.0        0.0   \n",
      "1795        0.0        5.0       12.0       16.0       12.0        0.0   \n",
      "1796        1.0        8.0       12.0       14.0       12.0        1.0   \n",
      "\n",
      "      pixel_7_7  target  \n",
      "0           0.0       0  \n",
      "1           0.0       1  \n",
      "2           0.0       2  \n",
      "3           0.0       3  \n",
      "4           0.0       4  \n",
      "...         ...     ...  \n",
      "1792        0.0       9  \n",
      "1793        0.0       0  \n",
      "1794        0.0       8  \n",
      "1795        0.0       9  \n",
      "1796        0.0       8  \n",
      "\n",
      "[1797 rows x 65 columns], 'feature_names': ['pixel_0_0', 'pixel_0_1', 'pixel_0_2', 'pixel_0_3', 'pixel_0_4', 'pixel_0_5', 'pixel_0_6', 'pixel_0_7', 'pixel_1_0', 'pixel_1_1', 'pixel_1_2', 'pixel_1_3', 'pixel_1_4', 'pixel_1_5', 'pixel_1_6', 'pixel_1_7', 'pixel_2_0', 'pixel_2_1', 'pixel_2_2', 'pixel_2_3', 'pixel_2_4', 'pixel_2_5', 'pixel_2_6', 'pixel_2_7', 'pixel_3_0', 'pixel_3_1', 'pixel_3_2', 'pixel_3_3', 'pixel_3_4', 'pixel_3_5', 'pixel_3_6', 'pixel_3_7', 'pixel_4_0', 'pixel_4_1', 'pixel_4_2', 'pixel_4_3', 'pixel_4_4', 'pixel_4_5', 'pixel_4_6', 'pixel_4_7', 'pixel_5_0', 'pixel_5_1', 'pixel_5_2', 'pixel_5_3', 'pixel_5_4', 'pixel_5_5', 'pixel_5_6', 'pixel_5_7', 'pixel_6_0', 'pixel_6_1', 'pixel_6_2', 'pixel_6_3', 'pixel_6_4', 'pixel_6_5', 'pixel_6_6', 'pixel_6_7', 'pixel_7_0', 'pixel_7_1', 'pixel_7_2', 'pixel_7_3', 'pixel_7_4', 'pixel_7_5', 'pixel_7_6', 'pixel_7_7'], 'target_names': array([0, 1, 2, 3, 4, 5, 6, 7, 8, 9]), 'images': array([[[ 0.,  0.,  5., ...,  1.,  0.,  0.],\n",
      "        [ 0.,  0., 13., ..., 15.,  5.,  0.],\n",
      "        [ 0.,  3., 15., ..., 11.,  8.,  0.],\n",
      "        ...,\n",
      "        [ 0.,  4., 11., ..., 12.,  7.,  0.],\n",
      "        [ 0.,  2., 14., ..., 12.,  0.,  0.],\n",
      "        [ 0.,  0.,  6., ...,  0.,  0.,  0.]],\n",
      "\n",
      "       [[ 0.,  0.,  0., ...,  5.,  0.,  0.],\n",
      "        [ 0.,  0.,  0., ...,  9.,  0.,  0.],\n",
      "        [ 0.,  0.,  3., ...,  6.,  0.,  0.],\n",
      "        ...,\n",
      "        [ 0.,  0.,  1., ...,  6.,  0.,  0.],\n",
      "        [ 0.,  0.,  1., ...,  6.,  0.,  0.],\n",
      "        [ 0.,  0.,  0., ..., 10.,  0.,  0.]],\n",
      "\n",
      "       [[ 0.,  0.,  0., ..., 12.,  0.,  0.],\n",
      "        [ 0.,  0.,  3., ..., 14.,  0.,  0.],\n",
      "        [ 0.,  0.,  8., ..., 16.,  0.,  0.],\n",
      "        ...,\n",
      "        [ 0.,  9., 16., ...,  0.,  0.,  0.],\n",
      "        [ 0.,  3., 13., ..., 11.,  5.,  0.],\n",
      "        [ 0.,  0.,  0., ..., 16.,  9.,  0.]],\n",
      "\n",
      "       ...,\n",
      "\n",
      "       [[ 0.,  0.,  1., ...,  1.,  0.,  0.],\n",
      "        [ 0.,  0., 13., ...,  2.,  1.,  0.],\n",
      "        [ 0.,  0., 16., ..., 16.,  5.,  0.],\n",
      "        ...,\n",
      "        [ 0.,  0., 16., ..., 15.,  0.,  0.],\n",
      "        [ 0.,  0., 15., ..., 16.,  0.,  0.],\n",
      "        [ 0.,  0.,  2., ...,  6.,  0.,  0.]],\n",
      "\n",
      "       [[ 0.,  0.,  2., ...,  0.,  0.,  0.],\n",
      "        [ 0.,  0., 14., ..., 15.,  1.,  0.],\n",
      "        [ 0.,  4., 16., ..., 16.,  7.,  0.],\n",
      "        ...,\n",
      "        [ 0.,  0.,  0., ..., 16.,  2.,  0.],\n",
      "        [ 0.,  0.,  4., ..., 16.,  2.,  0.],\n",
      "        [ 0.,  0.,  5., ..., 12.,  0.,  0.]],\n",
      "\n",
      "       [[ 0.,  0., 10., ...,  1.,  0.,  0.],\n",
      "        [ 0.,  2., 16., ...,  1.,  0.,  0.],\n",
      "        [ 0.,  0., 15., ..., 15.,  0.,  0.],\n",
      "        ...,\n",
      "        [ 0.,  4., 16., ..., 16.,  6.,  0.],\n",
      "        [ 0.,  8., 16., ..., 16.,  8.,  0.],\n",
      "        [ 0.,  1.,  8., ..., 12.,  1.,  0.]]]), 'DESCR': \".. _digits_dataset:\\n\\nOptical recognition of handwritten digits dataset\\n--------------------------------------------------\\n\\n**Data Set Characteristics:**\\n\\n    :Number of Instances: 1797\\n    :Number of Attributes: 64\\n    :Attribute Information: 8x8 image of integer pixels in the range 0..16.\\n    :Missing Attribute Values: None\\n    :Creator: E. Alpaydin (alpaydin '@' boun.edu.tr)\\n    :Date: July; 1998\\n\\nThis is a copy of the test set of the UCI ML hand-written digits datasets\\nhttps://archive.ics.uci.edu/ml/datasets/Optical+Recognition+of+Handwritten+Digits\\n\\nThe data set contains images of hand-written digits: 10 classes where\\neach class refers to a digit.\\n\\nPreprocessing programs made available by NIST were used to extract\\nnormalized bitmaps of handwritten digits from a preprinted form. From a\\ntotal of 43 people, 30 contributed to the training set and different 13\\nto the test set. 32x32 bitmaps are divided into nonoverlapping blocks of\\n4x4 and the number of on pixels are counted in each block. This generates\\nan input matrix of 8x8 where each element is an integer in the range\\n0..16. This reduces dimensionality and gives invariance to small\\ndistortions.\\n\\nFor info on NIST preprocessing routines, see M. D. Garris, J. L. Blue, G.\\nT. Candela, D. L. Dimmick, J. Geist, P. J. Grother, S. A. Janet, and C.\\nL. Wilson, NIST Form-Based Handprint Recognition System, NISTIR 5469,\\n1994.\\n\\n.. topic:: References\\n\\n  - C. Kaynak (1995) Methods of Combining Multiple Classifiers and Their\\n    Applications to Handwritten Digit Recognition, MSc Thesis, Institute of\\n    Graduate Studies in Science and Engineering, Bogazici University.\\n  - E. Alpaydin, C. Kaynak (1998) Cascading Classifiers, Kybernetika.\\n  - Ken Tang and Ponnuthurai N. Suganthan and Xi Yao and A. Kai Qin.\\n    Linear dimensionalityreduction using relevance weighted LDA. School of\\n    Electrical and Electronic Engineering Nanyang Technological University.\\n    2005.\\n  - Claudio Gentile. A New Approximate Maximal Margin Classification\\n    Algorithm. NIPS. 2000.\\n\"}\n"
     ]
    }
   ],
   "source": [
    "import pandas as pd\n",
    "import matplotlib.pyplot as plt\n",
    "from sklearn.datasets import load_digits\n",
    "digits = load_digits(as_frame=True)\n",
    "print(digits)"
   ]
  },
  {
   "cell_type": "markdown",
   "id": "6dc9cfe1",
   "metadata": {
    "papermill": {
     "duration": 0.012425,
     "end_time": "2023-04-28T01:09:49.990750",
     "exception": false,
     "start_time": "2023-04-28T01:09:49.978325",
     "status": "completed"
    },
    "tags": []
   },
   "source": [
    "## Exploring the Data\n",
    "\n",
    "Let's investigate the description, shape, feature names, and target label names of the `data` set stored in the Bunch. We know about these attributes from the documentation of [`load_digits`](https://scikit-learn.org/stable/modules/generated/sklearn.datasets.load_digits.html#sklearn.datasets.load_digits). Try inspecting each of these properties one at a time.\n",
    "\n",
    "```python\n",
    "print(digits.DESCR)\n",
    "digits.data.shape\n",
    "digits.feature_names\n",
    "digits.target_names\n",
    "\n",
    "```\n"
   ]
  },
  {
   "cell_type": "code",
   "execution_count": 12,
   "id": "b4672bf4",
   "metadata": {
    "execution": {
     "iopub.execute_input": "2023-04-28T01:09:50.019020Z",
     "iopub.status.busy": "2023-04-28T01:09:50.018114Z",
     "iopub.status.idle": "2023-04-28T01:09:50.027966Z",
     "shell.execute_reply": "2023-04-28T01:09:50.026686Z"
    },
    "papermill": {
     "duration": 0.027065,
     "end_time": "2023-04-28T01:09:50.030494",
     "exception": false,
     "start_time": "2023-04-28T01:09:50.003429",
     "status": "completed"
    },
    "tags": []
   },
   "outputs": [
    {
     "name": "stdout",
     "output_type": "stream",
     "text": [
      ".. _digits_dataset:\n",
      "\n",
      "Optical recognition of handwritten digits dataset\n",
      "--------------------------------------------------\n",
      "\n",
      "**Data Set Characteristics:**\n",
      "\n",
      "    :Number of Instances: 1797\n",
      "    :Number of Attributes: 64\n",
      "    :Attribute Information: 8x8 image of integer pixels in the range 0..16.\n",
      "    :Missing Attribute Values: None\n",
      "    :Creator: E. Alpaydin (alpaydin '@' boun.edu.tr)\n",
      "    :Date: July; 1998\n",
      "\n",
      "This is a copy of the test set of the UCI ML hand-written digits datasets\n",
      "https://archive.ics.uci.edu/ml/datasets/Optical+Recognition+of+Handwritten+Digits\n",
      "\n",
      "The data set contains images of hand-written digits: 10 classes where\n",
      "each class refers to a digit.\n",
      "\n",
      "Preprocessing programs made available by NIST were used to extract\n",
      "normalized bitmaps of handwritten digits from a preprinted form. From a\n",
      "total of 43 people, 30 contributed to the training set and different 13\n",
      "to the test set. 32x32 bitmaps are divided into nonoverlapping blocks of\n",
      "4x4 and the number of on pixels are counted in each block. This generates\n",
      "an input matrix of 8x8 where each element is an integer in the range\n",
      "0..16. This reduces dimensionality and gives invariance to small\n",
      "distortions.\n",
      "\n",
      "For info on NIST preprocessing routines, see M. D. Garris, J. L. Blue, G.\n",
      "T. Candela, D. L. Dimmick, J. Geist, P. J. Grother, S. A. Janet, and C.\n",
      "L. Wilson, NIST Form-Based Handprint Recognition System, NISTIR 5469,\n",
      "1994.\n",
      "\n",
      ".. topic:: References\n",
      "\n",
      "  - C. Kaynak (1995) Methods of Combining Multiple Classifiers and Their\n",
      "    Applications to Handwritten Digit Recognition, MSc Thesis, Institute of\n",
      "    Graduate Studies in Science and Engineering, Bogazici University.\n",
      "  - E. Alpaydin, C. Kaynak (1998) Cascading Classifiers, Kybernetika.\n",
      "  - Ken Tang and Ponnuthurai N. Suganthan and Xi Yao and A. Kai Qin.\n",
      "    Linear dimensionalityreduction using relevance weighted LDA. School of\n",
      "    Electrical and Electronic Engineering Nanyang Technological University.\n",
      "    2005.\n",
      "  - Claudio Gentile. A New Approximate Maximal Margin Classification\n",
      "    Algorithm. NIPS. 2000.\n",
      "\n"
     ]
    },
    {
     "data": {
      "text/plain": [
       "array([0, 1, 2, 3, 4, 5, 6, 7, 8, 9])"
      ]
     },
     "execution_count": 12,
     "metadata": {},
     "output_type": "execute_result"
    }
   ],
   "source": [
    "print(digits.DESCR)\n",
    "digits.data.shape\n",
    "digits.feature_names\n",
    "digits.target_names"
   ]
  },
  {
   "cell_type": "markdown",
   "id": "1aa31aa7",
   "metadata": {
    "papermill": {
     "duration": 0.013088,
     "end_time": "2023-04-28T01:09:50.057046",
     "exception": false,
     "start_time": "2023-04-28T01:09:50.043958",
     "status": "completed"
    },
    "tags": []
   },
   "source": [
    "### 💡 Knowledge Check 1\n",
    "\n",
    "1. How many individual handwritten characters are represented in the data set?\n",
    "\n",
    "The 'digits' datasets contain 1797 individual handwritten characters.\n",
    "\n",
    "2. How many dimensions are there, not counting the class label?\n",
    "\n",
    "The 'digits' datasets have 64 dimensions, not counting the class label.\n",
    "\n",
    "3. What do the dimensions of each record represent? (What does one row of data have to do with a handwritten digit?)\n",
    "\n",
    "In the 'digits' datasets, each row of data represents an image of a handwritten digit."
   ]
  },
  {
   "cell_type": "markdown",
   "id": "d8b497bb",
   "metadata": {
    "papermill": {
     "duration": 0.012514,
     "end_time": "2023-04-28T01:09:50.082545",
     "exception": false,
     "start_time": "2023-04-28T01:09:50.070031",
     "status": "completed"
    },
    "tags": []
   },
   "source": [
    "\n",
    "#### Exploring the DataFrame\n",
    "\n",
    "Now, let's access the data as a pandas DataFrame, for convenience and some quick summary stats.\n",
    "\n",
    "```python\n",
    "frame = digits.frame\n",
    "frame\n",
    "```\n",
    "\n",
    "Here we are obtaining the DataFrame, and inspecting it within the notebook.\n"
   ]
  },
  {
   "cell_type": "code",
   "execution_count": 13,
   "id": "ccf3b31d",
   "metadata": {
    "execution": {
     "iopub.execute_input": "2023-04-28T01:09:50.109747Z",
     "iopub.status.busy": "2023-04-28T01:09:50.109335Z",
     "iopub.status.idle": "2023-04-28T01:09:50.156580Z",
     "shell.execute_reply": "2023-04-28T01:09:50.155255Z"
    },
    "papermill": {
     "duration": 0.063986,
     "end_time": "2023-04-28T01:09:50.159252",
     "exception": false,
     "start_time": "2023-04-28T01:09:50.095266",
     "status": "completed"
    },
    "tags": []
   },
   "outputs": [
    {
     "data": {
      "text/html": [
       "<div>\n",
       "<style scoped>\n",
       "    .dataframe tbody tr th:only-of-type {\n",
       "        vertical-align: middle;\n",
       "    }\n",
       "\n",
       "    .dataframe tbody tr th {\n",
       "        vertical-align: top;\n",
       "    }\n",
       "\n",
       "    .dataframe thead th {\n",
       "        text-align: right;\n",
       "    }\n",
       "</style>\n",
       "<table border=\"1\" class=\"dataframe\">\n",
       "  <thead>\n",
       "    <tr style=\"text-align: right;\">\n",
       "      <th></th>\n",
       "      <th>pixel_0_0</th>\n",
       "      <th>pixel_0_1</th>\n",
       "      <th>pixel_0_2</th>\n",
       "      <th>pixel_0_3</th>\n",
       "      <th>pixel_0_4</th>\n",
       "      <th>pixel_0_5</th>\n",
       "      <th>pixel_0_6</th>\n",
       "      <th>pixel_0_7</th>\n",
       "      <th>pixel_1_0</th>\n",
       "      <th>pixel_1_1</th>\n",
       "      <th>...</th>\n",
       "      <th>pixel_6_7</th>\n",
       "      <th>pixel_7_0</th>\n",
       "      <th>pixel_7_1</th>\n",
       "      <th>pixel_7_2</th>\n",
       "      <th>pixel_7_3</th>\n",
       "      <th>pixel_7_4</th>\n",
       "      <th>pixel_7_5</th>\n",
       "      <th>pixel_7_6</th>\n",
       "      <th>pixel_7_7</th>\n",
       "      <th>target</th>\n",
       "    </tr>\n",
       "  </thead>\n",
       "  <tbody>\n",
       "    <tr>\n",
       "      <th>0</th>\n",
       "      <td>0.0</td>\n",
       "      <td>0.0</td>\n",
       "      <td>5.0</td>\n",
       "      <td>13.0</td>\n",
       "      <td>9.0</td>\n",
       "      <td>1.0</td>\n",
       "      <td>0.0</td>\n",
       "      <td>0.0</td>\n",
       "      <td>0.0</td>\n",
       "      <td>0.0</td>\n",
       "      <td>...</td>\n",
       "      <td>0.0</td>\n",
       "      <td>0.0</td>\n",
       "      <td>0.0</td>\n",
       "      <td>6.0</td>\n",
       "      <td>13.0</td>\n",
       "      <td>10.0</td>\n",
       "      <td>0.0</td>\n",
       "      <td>0.0</td>\n",
       "      <td>0.0</td>\n",
       "      <td>0</td>\n",
       "    </tr>\n",
       "    <tr>\n",
       "      <th>1</th>\n",
       "      <td>0.0</td>\n",
       "      <td>0.0</td>\n",
       "      <td>0.0</td>\n",
       "      <td>12.0</td>\n",
       "      <td>13.0</td>\n",
       "      <td>5.0</td>\n",
       "      <td>0.0</td>\n",
       "      <td>0.0</td>\n",
       "      <td>0.0</td>\n",
       "      <td>0.0</td>\n",
       "      <td>...</td>\n",
       "      <td>0.0</td>\n",
       "      <td>0.0</td>\n",
       "      <td>0.0</td>\n",
       "      <td>0.0</td>\n",
       "      <td>11.0</td>\n",
       "      <td>16.0</td>\n",
       "      <td>10.0</td>\n",
       "      <td>0.0</td>\n",
       "      <td>0.0</td>\n",
       "      <td>1</td>\n",
       "    </tr>\n",
       "    <tr>\n",
       "      <th>2</th>\n",
       "      <td>0.0</td>\n",
       "      <td>0.0</td>\n",
       "      <td>0.0</td>\n",
       "      <td>4.0</td>\n",
       "      <td>15.0</td>\n",
       "      <td>12.0</td>\n",
       "      <td>0.0</td>\n",
       "      <td>0.0</td>\n",
       "      <td>0.0</td>\n",
       "      <td>0.0</td>\n",
       "      <td>...</td>\n",
       "      <td>0.0</td>\n",
       "      <td>0.0</td>\n",
       "      <td>0.0</td>\n",
       "      <td>0.0</td>\n",
       "      <td>3.0</td>\n",
       "      <td>11.0</td>\n",
       "      <td>16.0</td>\n",
       "      <td>9.0</td>\n",
       "      <td>0.0</td>\n",
       "      <td>2</td>\n",
       "    </tr>\n",
       "    <tr>\n",
       "      <th>3</th>\n",
       "      <td>0.0</td>\n",
       "      <td>0.0</td>\n",
       "      <td>7.0</td>\n",
       "      <td>15.0</td>\n",
       "      <td>13.0</td>\n",
       "      <td>1.0</td>\n",
       "      <td>0.0</td>\n",
       "      <td>0.0</td>\n",
       "      <td>0.0</td>\n",
       "      <td>8.0</td>\n",
       "      <td>...</td>\n",
       "      <td>0.0</td>\n",
       "      <td>0.0</td>\n",
       "      <td>0.0</td>\n",
       "      <td>7.0</td>\n",
       "      <td>13.0</td>\n",
       "      <td>13.0</td>\n",
       "      <td>9.0</td>\n",
       "      <td>0.0</td>\n",
       "      <td>0.0</td>\n",
       "      <td>3</td>\n",
       "    </tr>\n",
       "    <tr>\n",
       "      <th>4</th>\n",
       "      <td>0.0</td>\n",
       "      <td>0.0</td>\n",
       "      <td>0.0</td>\n",
       "      <td>1.0</td>\n",
       "      <td>11.0</td>\n",
       "      <td>0.0</td>\n",
       "      <td>0.0</td>\n",
       "      <td>0.0</td>\n",
       "      <td>0.0</td>\n",
       "      <td>0.0</td>\n",
       "      <td>...</td>\n",
       "      <td>0.0</td>\n",
       "      <td>0.0</td>\n",
       "      <td>0.0</td>\n",
       "      <td>0.0</td>\n",
       "      <td>2.0</td>\n",
       "      <td>16.0</td>\n",
       "      <td>4.0</td>\n",
       "      <td>0.0</td>\n",
       "      <td>0.0</td>\n",
       "      <td>4</td>\n",
       "    </tr>\n",
       "    <tr>\n",
       "      <th>...</th>\n",
       "      <td>...</td>\n",
       "      <td>...</td>\n",
       "      <td>...</td>\n",
       "      <td>...</td>\n",
       "      <td>...</td>\n",
       "      <td>...</td>\n",
       "      <td>...</td>\n",
       "      <td>...</td>\n",
       "      <td>...</td>\n",
       "      <td>...</td>\n",
       "      <td>...</td>\n",
       "      <td>...</td>\n",
       "      <td>...</td>\n",
       "      <td>...</td>\n",
       "      <td>...</td>\n",
       "      <td>...</td>\n",
       "      <td>...</td>\n",
       "      <td>...</td>\n",
       "      <td>...</td>\n",
       "      <td>...</td>\n",
       "      <td>...</td>\n",
       "    </tr>\n",
       "    <tr>\n",
       "      <th>1792</th>\n",
       "      <td>0.0</td>\n",
       "      <td>0.0</td>\n",
       "      <td>4.0</td>\n",
       "      <td>10.0</td>\n",
       "      <td>13.0</td>\n",
       "      <td>6.0</td>\n",
       "      <td>0.0</td>\n",
       "      <td>0.0</td>\n",
       "      <td>0.0</td>\n",
       "      <td>1.0</td>\n",
       "      <td>...</td>\n",
       "      <td>0.0</td>\n",
       "      <td>0.0</td>\n",
       "      <td>0.0</td>\n",
       "      <td>2.0</td>\n",
       "      <td>14.0</td>\n",
       "      <td>15.0</td>\n",
       "      <td>9.0</td>\n",
       "      <td>0.0</td>\n",
       "      <td>0.0</td>\n",
       "      <td>9</td>\n",
       "    </tr>\n",
       "    <tr>\n",
       "      <th>1793</th>\n",
       "      <td>0.0</td>\n",
       "      <td>0.0</td>\n",
       "      <td>6.0</td>\n",
       "      <td>16.0</td>\n",
       "      <td>13.0</td>\n",
       "      <td>11.0</td>\n",
       "      <td>1.0</td>\n",
       "      <td>0.0</td>\n",
       "      <td>0.0</td>\n",
       "      <td>0.0</td>\n",
       "      <td>...</td>\n",
       "      <td>0.0</td>\n",
       "      <td>0.0</td>\n",
       "      <td>0.0</td>\n",
       "      <td>6.0</td>\n",
       "      <td>16.0</td>\n",
       "      <td>14.0</td>\n",
       "      <td>6.0</td>\n",
       "      <td>0.0</td>\n",
       "      <td>0.0</td>\n",
       "      <td>0</td>\n",
       "    </tr>\n",
       "    <tr>\n",
       "      <th>1794</th>\n",
       "      <td>0.0</td>\n",
       "      <td>0.0</td>\n",
       "      <td>1.0</td>\n",
       "      <td>11.0</td>\n",
       "      <td>15.0</td>\n",
       "      <td>1.0</td>\n",
       "      <td>0.0</td>\n",
       "      <td>0.0</td>\n",
       "      <td>0.0</td>\n",
       "      <td>0.0</td>\n",
       "      <td>...</td>\n",
       "      <td>0.0</td>\n",
       "      <td>0.0</td>\n",
       "      <td>0.0</td>\n",
       "      <td>2.0</td>\n",
       "      <td>9.0</td>\n",
       "      <td>13.0</td>\n",
       "      <td>6.0</td>\n",
       "      <td>0.0</td>\n",
       "      <td>0.0</td>\n",
       "      <td>8</td>\n",
       "    </tr>\n",
       "    <tr>\n",
       "      <th>1795</th>\n",
       "      <td>0.0</td>\n",
       "      <td>0.0</td>\n",
       "      <td>2.0</td>\n",
       "      <td>10.0</td>\n",
       "      <td>7.0</td>\n",
       "      <td>0.0</td>\n",
       "      <td>0.0</td>\n",
       "      <td>0.0</td>\n",
       "      <td>0.0</td>\n",
       "      <td>0.0</td>\n",
       "      <td>...</td>\n",
       "      <td>0.0</td>\n",
       "      <td>0.0</td>\n",
       "      <td>0.0</td>\n",
       "      <td>5.0</td>\n",
       "      <td>12.0</td>\n",
       "      <td>16.0</td>\n",
       "      <td>12.0</td>\n",
       "      <td>0.0</td>\n",
       "      <td>0.0</td>\n",
       "      <td>9</td>\n",
       "    </tr>\n",
       "    <tr>\n",
       "      <th>1796</th>\n",
       "      <td>0.0</td>\n",
       "      <td>0.0</td>\n",
       "      <td>10.0</td>\n",
       "      <td>14.0</td>\n",
       "      <td>8.0</td>\n",
       "      <td>1.0</td>\n",
       "      <td>0.0</td>\n",
       "      <td>0.0</td>\n",
       "      <td>0.0</td>\n",
       "      <td>2.0</td>\n",
       "      <td>...</td>\n",
       "      <td>0.0</td>\n",
       "      <td>0.0</td>\n",
       "      <td>1.0</td>\n",
       "      <td>8.0</td>\n",
       "      <td>12.0</td>\n",
       "      <td>14.0</td>\n",
       "      <td>12.0</td>\n",
       "      <td>1.0</td>\n",
       "      <td>0.0</td>\n",
       "      <td>8</td>\n",
       "    </tr>\n",
       "  </tbody>\n",
       "</table>\n",
       "<p>1797 rows × 65 columns</p>\n",
       "</div>"
      ],
      "text/plain": [
       "      pixel_0_0  pixel_0_1  pixel_0_2  pixel_0_3  pixel_0_4  pixel_0_5  \\\n",
       "0           0.0        0.0        5.0       13.0        9.0        1.0   \n",
       "1           0.0        0.0        0.0       12.0       13.0        5.0   \n",
       "2           0.0        0.0        0.0        4.0       15.0       12.0   \n",
       "3           0.0        0.0        7.0       15.0       13.0        1.0   \n",
       "4           0.0        0.0        0.0        1.0       11.0        0.0   \n",
       "...         ...        ...        ...        ...        ...        ...   \n",
       "1792        0.0        0.0        4.0       10.0       13.0        6.0   \n",
       "1793        0.0        0.0        6.0       16.0       13.0       11.0   \n",
       "1794        0.0        0.0        1.0       11.0       15.0        1.0   \n",
       "1795        0.0        0.0        2.0       10.0        7.0        0.0   \n",
       "1796        0.0        0.0       10.0       14.0        8.0        1.0   \n",
       "\n",
       "      pixel_0_6  pixel_0_7  pixel_1_0  pixel_1_1  ...  pixel_6_7  pixel_7_0  \\\n",
       "0           0.0        0.0        0.0        0.0  ...        0.0        0.0   \n",
       "1           0.0        0.0        0.0        0.0  ...        0.0        0.0   \n",
       "2           0.0        0.0        0.0        0.0  ...        0.0        0.0   \n",
       "3           0.0        0.0        0.0        8.0  ...        0.0        0.0   \n",
       "4           0.0        0.0        0.0        0.0  ...        0.0        0.0   \n",
       "...         ...        ...        ...        ...  ...        ...        ...   \n",
       "1792        0.0        0.0        0.0        1.0  ...        0.0        0.0   \n",
       "1793        1.0        0.0        0.0        0.0  ...        0.0        0.0   \n",
       "1794        0.0        0.0        0.0        0.0  ...        0.0        0.0   \n",
       "1795        0.0        0.0        0.0        0.0  ...        0.0        0.0   \n",
       "1796        0.0        0.0        0.0        2.0  ...        0.0        0.0   \n",
       "\n",
       "      pixel_7_1  pixel_7_2  pixel_7_3  pixel_7_4  pixel_7_5  pixel_7_6  \\\n",
       "0           0.0        6.0       13.0       10.0        0.0        0.0   \n",
       "1           0.0        0.0       11.0       16.0       10.0        0.0   \n",
       "2           0.0        0.0        3.0       11.0       16.0        9.0   \n",
       "3           0.0        7.0       13.0       13.0        9.0        0.0   \n",
       "4           0.0        0.0        2.0       16.0        4.0        0.0   \n",
       "...         ...        ...        ...        ...        ...        ...   \n",
       "1792        0.0        2.0       14.0       15.0        9.0        0.0   \n",
       "1793        0.0        6.0       16.0       14.0        6.0        0.0   \n",
       "1794        0.0        2.0        9.0       13.0        6.0        0.0   \n",
       "1795        0.0        5.0       12.0       16.0       12.0        0.0   \n",
       "1796        1.0        8.0       12.0       14.0       12.0        1.0   \n",
       "\n",
       "      pixel_7_7  target  \n",
       "0           0.0       0  \n",
       "1           0.0       1  \n",
       "2           0.0       2  \n",
       "3           0.0       3  \n",
       "4           0.0       4  \n",
       "...         ...     ...  \n",
       "1792        0.0       9  \n",
       "1793        0.0       0  \n",
       "1794        0.0       8  \n",
       "1795        0.0       9  \n",
       "1796        0.0       8  \n",
       "\n",
       "[1797 rows x 65 columns]"
      ]
     },
     "execution_count": 13,
     "metadata": {},
     "output_type": "execute_result"
    }
   ],
   "source": [
    "frame = digits.frame\n",
    "frame"
   ]
  },
  {
   "cell_type": "markdown",
   "id": "4457cb81",
   "metadata": {
    "papermill": {
     "duration": 0.013459,
     "end_time": "2023-04-28T01:09:50.186492",
     "exception": false,
     "start_time": "2023-04-28T01:09:50.173033",
     "status": "completed"
    },
    "tags": []
   },
   "source": [
    "Let's investigate some summary statistics with `describe`.\n",
    "\n",
    "```python\n",
    "frame.describe()\n",
    "```"
   ]
  },
  {
   "cell_type": "code",
   "execution_count": 14,
   "id": "01bd0dd4",
   "metadata": {
    "execution": {
     "iopub.execute_input": "2023-04-28T01:09:50.216118Z",
     "iopub.status.busy": "2023-04-28T01:09:50.215053Z",
     "iopub.status.idle": "2023-04-28T01:09:50.382169Z",
     "shell.execute_reply": "2023-04-28T01:09:50.380981Z"
    },
    "papermill": {
     "duration": 0.18431,
     "end_time": "2023-04-28T01:09:50.384672",
     "exception": false,
     "start_time": "2023-04-28T01:09:50.200362",
     "status": "completed"
    },
    "tags": []
   },
   "outputs": [
    {
     "data": {
      "text/html": [
       "<div>\n",
       "<style scoped>\n",
       "    .dataframe tbody tr th:only-of-type {\n",
       "        vertical-align: middle;\n",
       "    }\n",
       "\n",
       "    .dataframe tbody tr th {\n",
       "        vertical-align: top;\n",
       "    }\n",
       "\n",
       "    .dataframe thead th {\n",
       "        text-align: right;\n",
       "    }\n",
       "</style>\n",
       "<table border=\"1\" class=\"dataframe\">\n",
       "  <thead>\n",
       "    <tr style=\"text-align: right;\">\n",
       "      <th></th>\n",
       "      <th>pixel_0_0</th>\n",
       "      <th>pixel_0_1</th>\n",
       "      <th>pixel_0_2</th>\n",
       "      <th>pixel_0_3</th>\n",
       "      <th>pixel_0_4</th>\n",
       "      <th>pixel_0_5</th>\n",
       "      <th>pixel_0_6</th>\n",
       "      <th>pixel_0_7</th>\n",
       "      <th>pixel_1_0</th>\n",
       "      <th>pixel_1_1</th>\n",
       "      <th>...</th>\n",
       "      <th>pixel_6_7</th>\n",
       "      <th>pixel_7_0</th>\n",
       "      <th>pixel_7_1</th>\n",
       "      <th>pixel_7_2</th>\n",
       "      <th>pixel_7_3</th>\n",
       "      <th>pixel_7_4</th>\n",
       "      <th>pixel_7_5</th>\n",
       "      <th>pixel_7_6</th>\n",
       "      <th>pixel_7_7</th>\n",
       "      <th>target</th>\n",
       "    </tr>\n",
       "  </thead>\n",
       "  <tbody>\n",
       "    <tr>\n",
       "      <th>count</th>\n",
       "      <td>1797.0</td>\n",
       "      <td>1797.000000</td>\n",
       "      <td>1797.000000</td>\n",
       "      <td>1797.000000</td>\n",
       "      <td>1797.000000</td>\n",
       "      <td>1797.000000</td>\n",
       "      <td>1797.000000</td>\n",
       "      <td>1797.000000</td>\n",
       "      <td>1797.000000</td>\n",
       "      <td>1797.000000</td>\n",
       "      <td>...</td>\n",
       "      <td>1797.000000</td>\n",
       "      <td>1797.000000</td>\n",
       "      <td>1797.000000</td>\n",
       "      <td>1797.000000</td>\n",
       "      <td>1797.000000</td>\n",
       "      <td>1797.000000</td>\n",
       "      <td>1797.000000</td>\n",
       "      <td>1797.000000</td>\n",
       "      <td>1797.000000</td>\n",
       "      <td>1797.000000</td>\n",
       "    </tr>\n",
       "    <tr>\n",
       "      <th>mean</th>\n",
       "      <td>0.0</td>\n",
       "      <td>0.303840</td>\n",
       "      <td>5.204786</td>\n",
       "      <td>11.835838</td>\n",
       "      <td>11.848080</td>\n",
       "      <td>5.781859</td>\n",
       "      <td>1.362270</td>\n",
       "      <td>0.129661</td>\n",
       "      <td>0.005565</td>\n",
       "      <td>1.993879</td>\n",
       "      <td>...</td>\n",
       "      <td>0.206455</td>\n",
       "      <td>0.000556</td>\n",
       "      <td>0.279354</td>\n",
       "      <td>5.557596</td>\n",
       "      <td>12.089037</td>\n",
       "      <td>11.809126</td>\n",
       "      <td>6.764051</td>\n",
       "      <td>2.067891</td>\n",
       "      <td>0.364496</td>\n",
       "      <td>4.490818</td>\n",
       "    </tr>\n",
       "    <tr>\n",
       "      <th>std</th>\n",
       "      <td>0.0</td>\n",
       "      <td>0.907192</td>\n",
       "      <td>4.754826</td>\n",
       "      <td>4.248842</td>\n",
       "      <td>4.287388</td>\n",
       "      <td>5.666418</td>\n",
       "      <td>3.325775</td>\n",
       "      <td>1.037383</td>\n",
       "      <td>0.094222</td>\n",
       "      <td>3.196160</td>\n",
       "      <td>...</td>\n",
       "      <td>0.984401</td>\n",
       "      <td>0.023590</td>\n",
       "      <td>0.934302</td>\n",
       "      <td>5.103019</td>\n",
       "      <td>4.374694</td>\n",
       "      <td>4.933947</td>\n",
       "      <td>5.900623</td>\n",
       "      <td>4.090548</td>\n",
       "      <td>1.860122</td>\n",
       "      <td>2.865304</td>\n",
       "    </tr>\n",
       "    <tr>\n",
       "      <th>min</th>\n",
       "      <td>0.0</td>\n",
       "      <td>0.000000</td>\n",
       "      <td>0.000000</td>\n",
       "      <td>0.000000</td>\n",
       "      <td>0.000000</td>\n",
       "      <td>0.000000</td>\n",
       "      <td>0.000000</td>\n",
       "      <td>0.000000</td>\n",
       "      <td>0.000000</td>\n",
       "      <td>0.000000</td>\n",
       "      <td>...</td>\n",
       "      <td>0.000000</td>\n",
       "      <td>0.000000</td>\n",
       "      <td>0.000000</td>\n",
       "      <td>0.000000</td>\n",
       "      <td>0.000000</td>\n",
       "      <td>0.000000</td>\n",
       "      <td>0.000000</td>\n",
       "      <td>0.000000</td>\n",
       "      <td>0.000000</td>\n",
       "      <td>0.000000</td>\n",
       "    </tr>\n",
       "    <tr>\n",
       "      <th>25%</th>\n",
       "      <td>0.0</td>\n",
       "      <td>0.000000</td>\n",
       "      <td>1.000000</td>\n",
       "      <td>10.000000</td>\n",
       "      <td>10.000000</td>\n",
       "      <td>0.000000</td>\n",
       "      <td>0.000000</td>\n",
       "      <td>0.000000</td>\n",
       "      <td>0.000000</td>\n",
       "      <td>0.000000</td>\n",
       "      <td>...</td>\n",
       "      <td>0.000000</td>\n",
       "      <td>0.000000</td>\n",
       "      <td>0.000000</td>\n",
       "      <td>1.000000</td>\n",
       "      <td>11.000000</td>\n",
       "      <td>10.000000</td>\n",
       "      <td>0.000000</td>\n",
       "      <td>0.000000</td>\n",
       "      <td>0.000000</td>\n",
       "      <td>2.000000</td>\n",
       "    </tr>\n",
       "    <tr>\n",
       "      <th>50%</th>\n",
       "      <td>0.0</td>\n",
       "      <td>0.000000</td>\n",
       "      <td>4.000000</td>\n",
       "      <td>13.000000</td>\n",
       "      <td>13.000000</td>\n",
       "      <td>4.000000</td>\n",
       "      <td>0.000000</td>\n",
       "      <td>0.000000</td>\n",
       "      <td>0.000000</td>\n",
       "      <td>0.000000</td>\n",
       "      <td>...</td>\n",
       "      <td>0.000000</td>\n",
       "      <td>0.000000</td>\n",
       "      <td>0.000000</td>\n",
       "      <td>4.000000</td>\n",
       "      <td>13.000000</td>\n",
       "      <td>14.000000</td>\n",
       "      <td>6.000000</td>\n",
       "      <td>0.000000</td>\n",
       "      <td>0.000000</td>\n",
       "      <td>4.000000</td>\n",
       "    </tr>\n",
       "    <tr>\n",
       "      <th>75%</th>\n",
       "      <td>0.0</td>\n",
       "      <td>0.000000</td>\n",
       "      <td>9.000000</td>\n",
       "      <td>15.000000</td>\n",
       "      <td>15.000000</td>\n",
       "      <td>11.000000</td>\n",
       "      <td>0.000000</td>\n",
       "      <td>0.000000</td>\n",
       "      <td>0.000000</td>\n",
       "      <td>3.000000</td>\n",
       "      <td>...</td>\n",
       "      <td>0.000000</td>\n",
       "      <td>0.000000</td>\n",
       "      <td>0.000000</td>\n",
       "      <td>10.000000</td>\n",
       "      <td>16.000000</td>\n",
       "      <td>16.000000</td>\n",
       "      <td>12.000000</td>\n",
       "      <td>2.000000</td>\n",
       "      <td>0.000000</td>\n",
       "      <td>7.000000</td>\n",
       "    </tr>\n",
       "    <tr>\n",
       "      <th>max</th>\n",
       "      <td>0.0</td>\n",
       "      <td>8.000000</td>\n",
       "      <td>16.000000</td>\n",
       "      <td>16.000000</td>\n",
       "      <td>16.000000</td>\n",
       "      <td>16.000000</td>\n",
       "      <td>16.000000</td>\n",
       "      <td>15.000000</td>\n",
       "      <td>2.000000</td>\n",
       "      <td>16.000000</td>\n",
       "      <td>...</td>\n",
       "      <td>13.000000</td>\n",
       "      <td>1.000000</td>\n",
       "      <td>9.000000</td>\n",
       "      <td>16.000000</td>\n",
       "      <td>16.000000</td>\n",
       "      <td>16.000000</td>\n",
       "      <td>16.000000</td>\n",
       "      <td>16.000000</td>\n",
       "      <td>16.000000</td>\n",
       "      <td>9.000000</td>\n",
       "    </tr>\n",
       "  </tbody>\n",
       "</table>\n",
       "<p>8 rows × 65 columns</p>\n",
       "</div>"
      ],
      "text/plain": [
       "       pixel_0_0    pixel_0_1    pixel_0_2    pixel_0_3    pixel_0_4  \\\n",
       "count     1797.0  1797.000000  1797.000000  1797.000000  1797.000000   \n",
       "mean         0.0     0.303840     5.204786    11.835838    11.848080   \n",
       "std          0.0     0.907192     4.754826     4.248842     4.287388   \n",
       "min          0.0     0.000000     0.000000     0.000000     0.000000   \n",
       "25%          0.0     0.000000     1.000000    10.000000    10.000000   \n",
       "50%          0.0     0.000000     4.000000    13.000000    13.000000   \n",
       "75%          0.0     0.000000     9.000000    15.000000    15.000000   \n",
       "max          0.0     8.000000    16.000000    16.000000    16.000000   \n",
       "\n",
       "         pixel_0_5    pixel_0_6    pixel_0_7    pixel_1_0    pixel_1_1  ...  \\\n",
       "count  1797.000000  1797.000000  1797.000000  1797.000000  1797.000000  ...   \n",
       "mean      5.781859     1.362270     0.129661     0.005565     1.993879  ...   \n",
       "std       5.666418     3.325775     1.037383     0.094222     3.196160  ...   \n",
       "min       0.000000     0.000000     0.000000     0.000000     0.000000  ...   \n",
       "25%       0.000000     0.000000     0.000000     0.000000     0.000000  ...   \n",
       "50%       4.000000     0.000000     0.000000     0.000000     0.000000  ...   \n",
       "75%      11.000000     0.000000     0.000000     0.000000     3.000000  ...   \n",
       "max      16.000000    16.000000    15.000000     2.000000    16.000000  ...   \n",
       "\n",
       "         pixel_6_7    pixel_7_0    pixel_7_1    pixel_7_2    pixel_7_3  \\\n",
       "count  1797.000000  1797.000000  1797.000000  1797.000000  1797.000000   \n",
       "mean      0.206455     0.000556     0.279354     5.557596    12.089037   \n",
       "std       0.984401     0.023590     0.934302     5.103019     4.374694   \n",
       "min       0.000000     0.000000     0.000000     0.000000     0.000000   \n",
       "25%       0.000000     0.000000     0.000000     1.000000    11.000000   \n",
       "50%       0.000000     0.000000     0.000000     4.000000    13.000000   \n",
       "75%       0.000000     0.000000     0.000000    10.000000    16.000000   \n",
       "max      13.000000     1.000000     9.000000    16.000000    16.000000   \n",
       "\n",
       "         pixel_7_4    pixel_7_5    pixel_7_6    pixel_7_7       target  \n",
       "count  1797.000000  1797.000000  1797.000000  1797.000000  1797.000000  \n",
       "mean     11.809126     6.764051     2.067891     0.364496     4.490818  \n",
       "std       4.933947     5.900623     4.090548     1.860122     2.865304  \n",
       "min       0.000000     0.000000     0.000000     0.000000     0.000000  \n",
       "25%      10.000000     0.000000     0.000000     0.000000     2.000000  \n",
       "50%      14.000000     6.000000     0.000000     0.000000     4.000000  \n",
       "75%      16.000000    12.000000     2.000000     0.000000     7.000000  \n",
       "max      16.000000    16.000000    16.000000    16.000000     9.000000  \n",
       "\n",
       "[8 rows x 65 columns]"
      ]
     },
     "execution_count": 14,
     "metadata": {},
     "output_type": "execute_result"
    }
   ],
   "source": [
    "frame.describe()"
   ]
  },
  {
   "cell_type": "markdown",
   "id": "4a82cab6",
   "metadata": {
    "papermill": {
     "duration": 0.013515,
     "end_time": "2023-04-28T01:09:50.412075",
     "exception": false,
     "start_time": "2023-04-28T01:09:50.398560",
     "status": "completed"
    },
    "tags": []
   },
   "source": [
    "We know from `DESCR` that the pixel values range from 0 to 16, and our quick survey of `describe` seems to confirm this, so we'll move forward with our assumptions about the data set. (In addition, `DESCR` promises us that there are no missing values - the preprocessing work has been done.)"
   ]
  },
  {
   "cell_type": "markdown",
   "id": "5578a925",
   "metadata": {
    "papermill": {
     "duration": 0.013388,
     "end_time": "2023-04-28T01:09:50.439068",
     "exception": false,
     "start_time": "2023-04-28T01:09:50.425680",
     "status": "completed"
    },
    "tags": []
   },
   "source": [
    "### 💡 Knowledge Check 2\n",
    "\n",
    "Based on the summary statistics, what is interesting about attribute *pixel_0_0*, and what do those interesting qualities lead you to conclude? Please describe it in very approachable terms, regarding the handwritten images, that anyone can understand.\n",
    "\n",
    "The attribute \"pixel_0_0\" represents the grayscale value of the pixel in the top-left corner of each image, position (0,0). Based on the summary statistic of this attribute, we can see that in pixel_0_0, it shows 0 values in all rows. This suggests that the top-left corner of the digit images is black (black represents 0). "
   ]
  },
  {
   "cell_type": "markdown",
   "id": "8c318ca0",
   "metadata": {
    "papermill": {
     "duration": 0.013713,
     "end_time": "2023-04-28T01:09:50.466733",
     "exception": false,
     "start_time": "2023-04-28T01:09:50.453020",
     "status": "completed"
    },
    "tags": []
   },
   "source": [
    "## Visualize the Data\n",
    "\n",
    "Let's take a visual look at one of the images. The `digits` Bunch has a property, `images`, that is an array of all of the raw image data. Let's access one image and visualize it on the screen.\n",
    "\n",
    "```python\n",
    "plt.gray()\n",
    "plt.matshow(digits.images[0])\n",
    "plt.show()\n",
    "```\n"
   ]
  },
  {
   "cell_type": "code",
   "execution_count": 15,
   "id": "1917c99e",
   "metadata": {
    "execution": {
     "iopub.execute_input": "2023-04-28T01:09:50.496060Z",
     "iopub.status.busy": "2023-04-28T01:09:50.495676Z",
     "iopub.status.idle": "2023-04-28T01:09:50.819487Z",
     "shell.execute_reply": "2023-04-28T01:09:50.817882Z"
    },
    "papermill": {
     "duration": 0.34424,
     "end_time": "2023-04-28T01:09:50.824762",
     "exception": false,
     "start_time": "2023-04-28T01:09:50.480522",
     "status": "completed"
    },
    "tags": []
   },
   "outputs": [
    {
     "data": {
      "text/plain": [
       "<Figure size 640x480 with 0 Axes>"
      ]
     },
     "metadata": {},
     "output_type": "display_data"
    },
    {
     "data": {
      "image/png": "[encoded data removed]",
      "text/plain": [
       "<Figure size 480x480 with 1 Axes>"
      ]
     },
     "metadata": {},
     "output_type": "display_data"
    }
   ],
   "source": [
    "plt.gray()\n",
    "plt.matshow(digits.images[0])\n",
    "plt.show()"
   ]
  },
  {
   "cell_type": "markdown",
   "id": "23c82a35",
   "metadata": {
    "papermill": {
     "duration": 0.014193,
     "end_time": "2023-04-28T01:09:50.857842",
     "exception": false,
     "start_time": "2023-04-28T01:09:50.843649",
     "status": "completed"
    },
    "tags": []
   },
   "source": [
    "### 💡 Knowledge Check 3\n",
    "\n",
    "1. The figure is drawn at a scale of 640x480 pixels, but how many pixels wide and tall are the actual character images?\n",
    "\n",
    "    Each image is 8 pixels wide and 8 pixels tall\n",
    "\n",
    "2. What does this have to do with the dimensions of the data set?\n",
    "\n",
    "    Each dimension corresponds to the intensity value of a single pixel in the image. 64 dimensions will be 8 rows * 8 columns. And each pixel index will represent the position of the image. Eg, pixel_0_0 is in the top left cornor, position (0,0);  pixel_0_1 is on the right of pixel_0_0, position (0,1). "
   ]
  },
  {
   "cell_type": "markdown",
   "id": "96251513",
   "metadata": {
    "papermill": {
     "duration": 0.014157,
     "end_time": "2023-04-28T01:09:50.886349",
     "exception": false,
     "start_time": "2023-04-28T01:09:50.872192",
     "status": "completed"
    },
    "tags": []
   },
   "source": [
    "## Prepare the Training and Validation Sets\n",
    "\n",
    "With preprocessing gratefully handled for us, we now turn to creating our training set and validation sets. While we could manually implement our own sampling technique, this time we will lean on the `sklearn.model_selection.train_test_split` method. Be sure to check out the documentation for [`train_test_split`](https://scikit-learn.org/stable/modules/generated/sklearn.model_selection.train_test_split.html).\n",
    "\n",
    "```python\n",
    "from sklearn.model_selection import train_test_split\n",
    "\n",
    "X_train, X_test, y_train, y_test = train_test_split(digits.data, digits.target, test_size=0.2, random_state=0)\n",
    "```\n",
    "\n",
    "Notice how we pass `train_test_split` two arrays: one array, `digits.data`, containing all of the attributes except the class label dimension, and a second array, `digits.target`, containing the class labels for each record in the data set. We also specify that we'd like to use 80% of the records for training, and 20% of the records for testing. (Here we are also assigning `0` to `random_state`, and this is only for the sake of this exercise, to control the random seed so that running our notebook repeatedly gives us the same, albeit randomized, sampling.)\n",
    "\n",
    "The function `train_test_split` returns four arrays, conveniently splitting our complete data set into randomized training and validation sets:\n",
    "\n",
    "- `X_train`: our training records, without the class labels\n",
    "- `y_train`: the class labels for our training records\n",
    "- `X_test`: our validation records, without the class labels\n",
    "- `y_test`: the class labels for our validation records\n",
    "\n",
    "This is a very common naming convention we see in practice, so we'll abide by it here."
   ]
  },
  {
   "cell_type": "code",
   "execution_count": 16,
   "id": "7281bc07",
   "metadata": {
    "execution": {
     "iopub.execute_input": "2023-04-28T01:09:50.917337Z",
     "iopub.status.busy": "2023-04-28T01:09:50.916507Z",
     "iopub.status.idle": "2023-04-28T01:09:50.988256Z",
     "shell.execute_reply": "2023-04-28T01:09:50.987303Z"
    },
    "papermill": {
     "duration": 0.090565,
     "end_time": "2023-04-28T01:09:50.990997",
     "exception": false,
     "start_time": "2023-04-28T01:09:50.900432",
     "status": "completed"
    },
    "tags": []
   },
   "outputs": [],
   "source": [
    "from sklearn.model_selection import train_test_split\n",
    "\n",
    "X_train, X_test, y_train, y_test = train_test_split(digits.data, digits.target, test_size=0.2, random_state=0)"
   ]
  },
  {
   "cell_type": "markdown",
   "id": "227cc541",
   "metadata": {
    "papermill": {
     "duration": 0.016263,
     "end_time": "2023-04-28T01:09:51.021688",
     "exception": false,
     "start_time": "2023-04-28T01:09:51.005425",
     "status": "completed"
    },
    "tags": []
   },
   "source": [
    "## Instantiate and \"Train\" our Classifier\n",
    "\n",
    "We'll next instantiate a k-NN classifier provided by scikit-learn: the [KNeighborsClassifier](https://scikit-learn.org/stable/modules/generated/sklearn.neighbors.KNeighborsClassifier.html). Please be sure to read the documentation, noticing both the parameters we can pass the KNeighborsClassifier initializer, such as the distance metric to use, and in particular, `n_neighbors` which is our **_k_**.\n",
    "\n",
    "We'll rely on some defaults, but start with a fairly unsurprising **_k_**, the square root of the number of records in the training set.\n",
    "\n",
    "```python\n",
    "from sklearn.neighbors import KNeighborsClassifier\n",
    "\n",
    "classifier = KNeighborsClassifier(n_neighbors = int(sqrt(len(X_train))))\n",
    "```\n",
    "\n",
    "Import the KNeighborsClassifier and instantiate it the next code cell."
   ]
  },
  {
   "cell_type": "code",
   "execution_count": 17,
   "id": "bfa3cd5f",
   "metadata": {
    "execution": {
     "iopub.execute_input": "2023-04-28T01:09:51.065474Z",
     "iopub.status.busy": "2023-04-28T01:09:51.064661Z",
     "iopub.status.idle": "2023-04-28T01:09:51.247429Z",
     "shell.execute_reply": "2023-04-28T01:09:51.246518Z"
    },
    "papermill": {
     "duration": 0.210945,
     "end_time": "2023-04-28T01:09:51.250211",
     "exception": false,
     "start_time": "2023-04-28T01:09:51.039266",
     "status": "completed"
    },
    "tags": []
   },
   "outputs": [],
   "source": [
    "from sklearn.neighbors import KNeighborsClassifier\n",
    "from math import sqrt\n",
    "\n",
    "classifier = KNeighborsClassifier(n_neighbors = int(sqrt(len(X_train))))"
   ]
  },
  {
   "cell_type": "markdown",
   "id": "8e2b4376",
   "metadata": {
    "papermill": {
     "duration": 0.014349,
     "end_time": "2023-04-28T01:09:51.279315",
     "exception": false,
     "start_time": "2023-04-28T01:09:51.264966",
     "status": "completed"
    },
    "tags": []
   },
   "source": [
    "Next, we have to \"train our model,\" but, as we know, k-NN classifiers are instance-based learners with no initial training computation. All we need to do is provide the classifier with the training data.\n",
    "\n",
    "```python\n",
    "classifier.fit(X_train, y_train)\n",
    "```\n",
    "\n",
    "Here we invoke the commonplace `fit` method found in tha API of many pre-built classification models. Here, we simply pass it our training data."
   ]
  },
  {
   "cell_type": "code",
   "execution_count": 18,
   "id": "a01576db",
   "metadata": {
    "execution": {
     "iopub.execute_input": "2023-04-28T01:09:51.310411Z",
     "iopub.status.busy": "2023-04-28T01:09:51.309610Z",
     "iopub.status.idle": "2023-04-28T01:09:51.324088Z",
     "shell.execute_reply": "2023-04-28T01:09:51.323080Z"
    },
    "papermill": {
     "duration": 0.032605,
     "end_time": "2023-04-28T01:09:51.326433",
     "exception": false,
     "start_time": "2023-04-28T01:09:51.293828",
     "status": "completed"
    },
    "tags": []
   },
   "outputs": [
    {
     "data": {
      "text/plain": [
       "KNeighborsClassifier(n_neighbors=37)"
      ]
     },
     "execution_count": 18,
     "metadata": {},
     "output_type": "execute_result"
    }
   ],
   "source": [
    "classifier.fit(X_train, y_train)"
   ]
  },
  {
   "cell_type": "markdown",
   "id": "86af554b",
   "metadata": {
    "papermill": {
     "duration": 0.014393,
     "end_time": "2023-04-28T01:09:51.355651",
     "exception": false,
     "start_time": "2023-04-28T01:09:51.341258",
     "status": "completed"
    },
    "tags": []
   },
   "source": [
    "### 💡 Knowledge Check 4\n",
    "\n",
    "Using the documentation, investigate the other \"nearest neighbor\" classifiers in the scikit-learn library, in the `sklearn.neighbors` namespace. Identify (name) two other classifiers, and briefly describe how they are different from KNeighborsClassifier. Don't just regurgitate the documentation - do a little online sleuthing to see how they are useful, and share that information here.\n",
    "\n",
    "RadiusNeighborsClassfier: Instead of using a fixed number of neighbors like KNN, as the name suggests, it considers all neighbors within a certain radius of the query point. It will be useful for outlier detection.\n",
    "\n",
    "NearestCentroid: Uses the mean feature values of the instances in each class as a representative of that class, wheras KNN consider a fixed number of training instances as representative of the classes.\n"
   ]
  },
  {
   "cell_type": "markdown",
   "id": "a362001b",
   "metadata": {
    "papermill": {
     "duration": 0.014031,
     "end_time": "2023-04-28T01:09:51.384137",
     "exception": false,
     "start_time": "2023-04-28T01:09:51.370106",
     "status": "completed"
    },
    "tags": []
   },
   "source": [
    "## Validate (Test) Our Classifier\n",
    "\n",
    "The next step in our ML process is to see how well our classifier performs, given our training set and, in this case, our initial **_k_**. We'll ask the classifier to predict the class label for every record in our validation set, `X_test`. Then, we'll compare those predictions with the actual class labels, in `y_test`, and compute an accuracy score. Rather than do this manually, we'll rely on the scikit-learn [`accuracy_score`](https://scikit-learn.org/stable/modules/generated/sklearn.metrics.accuracy_score.html) function. Be sure to read the documentation for `accuracy_score`.\n",
    "\n",
    "```python\n",
    "from sklearn.metrics import accuracy_score\n",
    "\n",
    "y_predictions = classifier.predict(X_test)\n",
    "accuracy = accuracy_score(y_test, y_predictions)\n",
    "```\n",
    "\n",
    "Here we invoke the KNeighborsClassifier `predict` method, which returns an array of predicted class labels for each record in `X_test`, that we assign to `y_predictions`. We then pass `accuracy_score` the known correct class labels for the validation set, `y_test`, and the predicted labels, `y_predictions`, and let it make the comparisons, tally up the correct matches, and compute and return an accuracy score between 0 and 1.\n"
   ]
  },
  {
   "cell_type": "code",
   "execution_count": 19,
   "id": "892274b2",
   "metadata": {
    "execution": {
     "iopub.execute_input": "2023-04-28T01:09:51.415328Z",
     "iopub.status.busy": "2023-04-28T01:09:51.414539Z",
     "iopub.status.idle": "2023-04-28T01:09:51.503804Z",
     "shell.execute_reply": "2023-04-28T01:09:51.502629Z"
    },
    "papermill": {
     "duration": 0.110001,
     "end_time": "2023-04-28T01:09:51.508515",
     "exception": false,
     "start_time": "2023-04-28T01:09:51.398514",
     "status": "completed"
    },
    "tags": []
   },
   "outputs": [],
   "source": [
    "from sklearn.metrics import accuracy_score\n",
    "\n",
    "y_predictions = classifier.predict(X_test)\n",
    "accuracy = accuracy_score(y_test, y_predictions)"
   ]
  },
  {
   "cell_type": "markdown",
   "id": "45b5e19c",
   "metadata": {
    "papermill": {
     "duration": 0.014387,
     "end_time": "2023-04-28T01:09:51.576772",
     "exception": false,
     "start_time": "2023-04-28T01:09:51.562385",
     "status": "completed"
    },
    "tags": []
   },
   "source": [
    "Now, let's inspect that accuracy score by simply printing it.\n",
    "\n",
    "```python\n",
    "print(accuracy)\n",
    "```\n"
   ]
  },
  {
   "cell_type": "code",
   "execution_count": 20,
   "id": "4a0436d3",
   "metadata": {
    "execution": {
     "iopub.execute_input": "2023-04-28T01:09:51.607807Z",
     "iopub.status.busy": "2023-04-28T01:09:51.607290Z",
     "iopub.status.idle": "2023-04-28T01:09:51.613817Z",
     "shell.execute_reply": "2023-04-28T01:09:51.612538Z"
    },
    "papermill": {
     "duration": 0.025024,
     "end_time": "2023-04-28T01:09:51.616309",
     "exception": false,
     "start_time": "2023-04-28T01:09:51.591285",
     "status": "completed"
    },
    "tags": []
   },
   "outputs": [
    {
     "name": "stdout",
     "output_type": "stream",
     "text": [
      "0.9611111111111111\n"
     ]
    }
   ],
   "source": [
    "print(accuracy)"
   ]
  },
  {
   "cell_type": "markdown",
   "id": "b32a30df",
   "metadata": {
    "papermill": {
     "duration": 0.014214,
     "end_time": "2023-04-28T01:09:51.645678",
     "exception": false,
     "start_time": "2023-04-28T01:09:51.631464",
     "status": "completed"
    },
    "tags": []
   },
   "source": [
    "Hm - not bad!\n",
    "\n",
    "There's one more way we can analyze the performance of our classifier: by inspecting a matrix of expected vs predicted class labels, known as a *confusion matrix*. For each cell in the matrix, we'll see the number of predictions, whether right or wrong, made for each of the known class labels.\n",
    "\n",
    "We'll reach for the scikit-learn [`confusion_matrix`](https://scikit-learn.org/stable/modules/generated/sklearn.metrics.confusion_matrix.html) function to generate a confusion matrix for us.\n",
    "\n",
    "```python\n",
    "from sklearn.metrics import confusion_matrix\n",
    "\n",
    "confusion_matrix = confusion_matrix(y_test, y_predictions)\n",
    "```\n",
    "\n",
    "We import the `confusion_matrix` function, and then invoke it, passing it the expected class labels in the validation set, `y_test`, and the predicted labels, `y_predictions`. It returns, in essence, a matrix, which we assign to `confusion_matrix`.\n"
   ]
  },
  {
   "cell_type": "code",
   "execution_count": 21,
   "id": "0c649b64",
   "metadata": {
    "execution": {
     "iopub.execute_input": "2023-04-28T01:09:51.676680Z",
     "iopub.status.busy": "2023-04-28T01:09:51.675931Z",
     "iopub.status.idle": "2023-04-28T01:09:51.683786Z",
     "shell.execute_reply": "2023-04-28T01:09:51.682762Z"
    },
    "papermill": {
     "duration": 0.026126,
     "end_time": "2023-04-28T01:09:51.686137",
     "exception": false,
     "start_time": "2023-04-28T01:09:51.660011",
     "status": "completed"
    },
    "tags": []
   },
   "outputs": [],
   "source": [
    "from sklearn.metrics import confusion_matrix\n",
    "\n",
    "confusion_matrix = confusion_matrix(y_test, y_predictions)"
   ]
  },
  {
   "cell_type": "markdown",
   "id": "9d1c2661",
   "metadata": {
    "papermill": {
     "duration": 0.014132,
     "end_time": "2023-04-28T01:09:51.714767",
     "exception": false,
     "start_time": "2023-04-28T01:09:51.700635",
     "status": "completed"
    },
    "tags": []
   },
   "source": [
    "Now, let's inspect the confusion matrix by simply printing it.\n",
    "\n",
    "```python\n",
    "print(confusion_matrix)\n",
    "```"
   ]
  },
  {
   "cell_type": "code",
   "execution_count": 22,
   "id": "67ba3113",
   "metadata": {
    "execution": {
     "iopub.execute_input": "2023-04-28T01:09:51.745820Z",
     "iopub.status.busy": "2023-04-28T01:09:51.745042Z",
     "iopub.status.idle": "2023-04-28T01:09:51.751956Z",
     "shell.execute_reply": "2023-04-28T01:09:51.750531Z"
    },
    "papermill": {
     "duration": 0.025262,
     "end_time": "2023-04-28T01:09:51.754350",
     "exception": false,
     "start_time": "2023-04-28T01:09:51.729088",
     "status": "completed"
    },
    "tags": []
   },
   "outputs": [
    {
     "name": "stdout",
     "output_type": "stream",
     "text": [
      "[[27  0  0  0  0  0  0  0  0  0]\n",
      " [ 0 35  0  0  0  0  0  0  0  0]\n",
      " [ 1  0 32  1  0  0  0  1  1  0]\n",
      " [ 0  0  0 29  0  0  0  0  0  0]\n",
      " [ 0  0  0  0 29  0  0  1  0  0]\n",
      " [ 0  0  0  0  0 39  0  0  0  1]\n",
      " [ 0  0  0  0  0  0 44  0  0  0]\n",
      " [ 0  0  0  0  0  0  0 39  0  0]\n",
      " [ 0  3  0  1  0  0  1  1 33  0]\n",
      " [ 0  0  0  0  0  1  0  1  0 39]]\n"
     ]
    }
   ],
   "source": [
    "print(confusion_matrix)"
   ]
  },
  {
   "cell_type": "markdown",
   "id": "d7836e65",
   "metadata": {
    "papermill": {
     "duration": 0.014186,
     "end_time": "2023-04-28T01:09:51.783245",
     "exception": false,
     "start_time": "2023-04-28T01:09:51.769059",
     "status": "completed"
    },
    "tags": []
   },
   "source": [
    "The horizontal axis of a confusion matrix represents the predicted labels, and the vertical axis represents the correct class labels. Each entry in the matrix represents the number of images predicted to have that class label.\n",
    "\n",
    "Notice how well this classifer performed, with our default **_k_**, euclidean distance, and a (luckily!) high-quality data set. We can see the 27 of the **0** handwritten images are correctly classified, and none are misclassified. If we look at the last row in the confusion matrix, we see that 39 of the **9** images are correctly classified, but one was classified as a **5**, and another classified as a **7**.\n",
    "\n",
    "### But, can you do better?"
   ]
  },
  {
   "cell_type": "markdown",
   "id": "016c293a",
   "metadata": {
    "papermill": {
     "duration": 0.014302,
     "end_time": "2023-04-28T01:09:51.811927",
     "exception": false,
     "start_time": "2023-04-28T01:09:51.797625",
     "status": "completed"
    },
    "tags": []
   },
   "source": [
    "### 💡 Knowledge Check 5\n",
    "\n",
    "Inspect the confusion matrix. Which handwritten letter seemed to be the \"hardest\" for our classifier to predict correctly? What evidence in the confusion matrix leads you to assert this?\n",
    "\n",
    "Digit 8 is the hardest one. \n",
    "I calculate all the accuracy percentage in this confusion metric.\n",
    "\n",
    "Actual 0, Predict 0, 27/27 = 1;\n",
    "Actual 1, Predict 1, 35/35 = 1;\n",
    "Actual 2, Predict 2, 32/36 = 0.89;\n",
    "Actual 3, Predict 3, 29/29 = 1;\n",
    "Actual 4, Predict 4, 29/30 = 0.97;\n",
    "Actual 5, Predict 5, 39/40 = 0.975;\n",
    "Actual 6, Predict 6, 44/44 = 1;\n",
    "Actual 7, Predict 7, 39/39 = 1;\n",
    "Actual 8, Predict 8, 33/39 = 0.846;\n",
    "Actual 9, Predict 9, 39/42 = 0.928\n",
    "\n",
    "Digit 8 get the lowerest accuracy rate, so it is the hardest one."
   ]
  },
  {
   "cell_type": "markdown",
   "id": "a33941cf",
   "metadata": {
    "papermill": {
     "duration": 0.014195,
     "end_time": "2023-04-28T01:09:51.840478",
     "exception": false,
     "start_time": "2023-04-28T01:09:51.826283",
     "status": "completed"
    },
    "tags": []
   },
   "source": [
    "## Tune the Classifier: Find the Best **_k_**\n",
    "\n",
    "Now it's your turn. Given what we have seen in the course thus far, and the `sklearn` API seen in this notebook, create an iterative experiment that inspects the accuracy of different classifiers using different **_k_** values. Your goal is to configure a classifier that exhibits the highest possible accuracy. Start your experiment with the traditional initial **_k_**, the square root of the number of records in the training set.\n",
    "\n",
    "Your experiment should demonstrate:\n",
    "\n",
    "- Creating KNeighborsClassifiers with different **_k_** values\n",
    "- \"Training\" and validating the classifiers\n",
    "- Capturing and presenting the accuracy for each **_k_**\n",
    "\n",
    "Keep your experiment simple. (Hint: Use a loop.)\n",
    "\n",
    "Conclude your experiment with a markdown cell that asserts your proposed **_k_**, the accuracy of your classifier, and what leads you to choose this value of **_k_**.\n"
   ]
  },
  {
   "cell_type": "code",
   "execution_count": 23,
   "id": "7b8bdf73",
   "metadata": {
    "execution": {
     "iopub.execute_input": "2023-04-28T01:09:51.871145Z",
     "iopub.status.busy": "2023-04-28T01:09:51.870768Z",
     "iopub.status.idle": "2023-04-28T01:09:51.934082Z",
     "shell.execute_reply": "2023-04-28T01:09:51.932216Z"
    },
    "papermill": {
     "duration": 0.083546,
     "end_time": "2023-04-28T01:09:51.938408",
     "exception": false,
     "start_time": "2023-04-28T01:09:51.854862",
     "status": "completed"
    },
    "tags": []
   },
   "outputs": [],
   "source": [
    "from sklearn.neighbors import KNeighborsClassifier\n",
    "from math import sqrt\n",
    "\n",
    "classifier = KNeighborsClassifier(n_neighbors = int(sqrt(len(X_train))))\n",
    "classifier.fit(X_train, y_train)\n",
    "y_predictions = classifier.predict(X_test)\n",
    "accuracy = accuracy_score(y_test, y_predictions)"
   ]
  },
  {
   "cell_type": "code",
   "execution_count": 24,
   "id": "209dbf89",
   "metadata": {
    "execution": {
     "iopub.execute_input": "2023-04-28T01:09:52.011475Z",
     "iopub.status.busy": "2023-04-28T01:09:52.011041Z",
     "iopub.status.idle": "2023-04-28T01:09:55.458100Z",
     "shell.execute_reply": "2023-04-28T01:09:55.456380Z"
    },
    "papermill": {
     "duration": 3.486703,
     "end_time": "2023-04-28T01:09:55.462735",
     "exception": false,
     "start_time": "2023-04-28T01:09:51.976032",
     "status": "completed"
    },
    "tags": []
   },
   "outputs": [
    {
     "name": "stdout",
     "output_type": "stream",
     "text": [
      "[0.9888888888888889, 0.9805555555555555, 0.9833333333333333, 0.975, 0.975, 0.9722222222222222, 0.975, 0.975, 0.975, 0.9722222222222222, 0.9722222222222222, 0.9722222222222222, 0.9722222222222222, 0.9694444444444444, 0.9694444444444444, 0.9694444444444444, 0.9666666666666667, 0.9666666666666667, 0.9611111111111111, 0.9638888888888889, 0.9638888888888889, 0.9638888888888889, 0.9638888888888889, 0.9611111111111111, 0.9611111111111111, 0.9611111111111111, 0.9638888888888889, 0.9583333333333334, 0.9611111111111111, 0.9583333333333334, 0.9583333333333334, 0.9583333333333334, 0.9583333333333334, 0.9583333333333334, 0.9583333333333334, 0.9611111111111111, 0.9611111111111111, 0.9611111111111111, 0.9583333333333334, 0.9555555555555556, 0.9555555555555556, 0.9527777777777777, 0.9527777777777777, 0.95, 0.95, 0.9472222222222222, 0.9444444444444444, 0.9444444444444444, 0.9444444444444444, 0.9444444444444444, 0.9416666666666667, 0.9444444444444444, 0.9416666666666667, 0.9444444444444444, 0.9444444444444444, 0.9416666666666667, 0.9388888888888889, 0.9388888888888889, 0.9361111111111111]\n"
     ]
    }
   ],
   "source": [
    "# 💡 Knowledge Check 6 Code\n",
    "\n",
    "# Your experiment begins here. Start with the \"traditional\" initial k.\n",
    "\n",
    "k_range = range(1,60)\n",
    "# Empty list to hold the generalization errors\n",
    "accuracy_scores = []\n",
    "\n",
    "for k in k_range:\n",
    "    model = KNeighborsClassifier(n_neighbors = k)\n",
    "    model.fit(X_train, y_train)\n",
    "    y_predictions = model.predict(X_test)\n",
    "    accuracy = accuracy_score(y_test, y_predictions)\n",
    "    accuracy_scores.append(accuracy)\n",
    "print(accuracy_scores)\n",
    "\n",
    "# print with the k, do a for look with k.\n"
   ]
  },
  {
   "cell_type": "code",
   "execution_count": 25,
   "id": "3c6d94ce",
   "metadata": {
    "execution": {
     "iopub.execute_input": "2023-04-28T01:09:55.532839Z",
     "iopub.status.busy": "2023-04-28T01:09:55.532434Z",
     "iopub.status.idle": "2023-04-28T01:09:55.684768Z",
     "shell.execute_reply": "2023-04-28T01:09:55.683603Z"
    },
    "papermill": {
     "duration": 0.187073,
     "end_time": "2023-04-28T01:09:55.687512",
     "exception": false,
     "start_time": "2023-04-28T01:09:55.500439",
     "status": "completed"
    },
    "tags": []
   },
   "outputs": [
    {
     "data": {
      "image/png": "[encoded data removed]",
      "text/plain": [
       "<Figure size 640x480 with 1 Axes>"
      ]
     },
     "metadata": {},
     "output_type": "display_data"
    }
   ],
   "source": [
    "import matplotlib.pyplot as plt\n",
    "\n",
    "# Create some data to plot\n",
    "x = k_range\n",
    "y = accuracy_scores\n",
    "\n",
    "# Create a line plot\n",
    "# Identify the ideal k value for this classifier\n",
    "plt.plot(x, y)\n",
    "\n",
    "# Add labels and title\n",
    "plt.xlabel('k_range')\n",
    "plt.ylabel('accuracy_scores')\n",
    "plt.title('The trending of cv_scores by k_range')\n",
    "\n",
    "# Display the plot\n",
    "plt.show()"
   ]
  },
  {
   "cell_type": "markdown",
   "id": "3d52ac4c",
   "metadata": {
    "papermill": {
     "duration": 0.016032,
     "end_time": "2023-04-28T01:09:55.720618",
     "exception": false,
     "start_time": "2023-04-28T01:09:55.704586",
     "status": "completed"
    },
    "tags": []
   },
   "source": [
    "### 💡 Knowledge Check 6\n",
    "\n",
    "Conclude your experiment with a brief assertion of your proposed **_k_**, the accuracy of your classifier, and what led you to choose this value of **_k_**.\n",
    "\n",
    "The best k I would choose is k = 3 because when K = 3, the model accuary is 0.9833333333333333. After k > 3, the accuracy of the model is decreasing not improving anymore. Before k < 3, the accuracy is pretty high, there might be overfitting in the dataset. \n",
    "K means the number of nearest numbers."
   ]
  },
  {
   "cell_type": "markdown",
   "id": "5ceb909e",
   "metadata": {
    "papermill": {
     "duration": 0.015209,
     "end_time": "2023-04-28T01:09:55.751215",
     "exception": false,
     "start_time": "2023-04-28T01:09:55.736006",
     "status": "completed"
    },
    "tags": []
   },
   "source": [
    "# Conclusion\n",
    "\n",
    "Congratulations on finishing an authentic machine learning workflow! While our dataset is of high quality, and the drama of preprocessing is abbreviated, we hope that this notebook enables you to see how we can use ML tools to carry out much of the machine learning process.\n",
    "\n",
    "Please wrap up this notebook with a brief narrative.\n",
    "\n",
    "### 💡 Knowledge Check 7\n",
    "\n",
    "Imagine that a \"person on the street\" (or your twelve-year-old relative) asks you, \"What does it take for a computer to recognize handwritten characters that get scanned and turned into computable numbers?\" Rely on our journey through this notebook, infer and deduce what you can as necessary, but be mindful of your audience: please explain things in a manner befitting someone who knows nothing about these things.\n",
    "\n",
    "Machine learning is to teach a computer to think like a human being. The computer will catch the pattern of the handwritten like human eyes. So we build one type of machine learning model called the KNN model. K is like the nearest number you are going to compare with. If the shape or the pattern is similar to the numbers, it will recognize as that number. The way how we teach a computer to learn is that have split the whole dataset into training and validation datasets. Training dataset will help the model to find to pattern in our dataset and validation datasets to test our result. It just like you watch the basketball game on TV to learn the rules and then you play the basketball by myself to see if you get it."
   ]
  }
 ],
 "metadata": {
  "kernelspec": {
   "display_name": "Python 3",
   "language": "python",
   "name": "python3"
  },
  "language_info": {
   "codemirror_mode": {
    "name": "ipython",
    "version": 3
   },
   "file_extension": ".py",
   "mimetype": "text/x-python",
   "name": "python",
   "nbconvert_exporter": "python",
   "pygments_lexer": "ipython3",
   "version": "3.7.12"
  },
  "papermill": {
   "default_parameters": {},
   "duration": 18.67135,
   "end_time": "2023-04-28T01:09:56.488668",
   "environment_variables": {},
   "exception": null,
   "input_path": "__notebook__.ipynb",
   "output_path": "__notebook__.ipynb",
   "parameters": {},
   "start_time": "2023-04-28T01:09:37.817318",
   "version": "2.4.0"
  }
 },
 "nbformat": 4,
 "nbformat_minor": 5
}
