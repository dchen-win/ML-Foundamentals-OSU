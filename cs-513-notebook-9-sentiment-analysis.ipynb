{
 "cells": [
  {
   "cell_type": "markdown",
   "id": "f86017bc",
   "metadata": {
    "papermill": {
     "duration": 0.020409,
     "end_time": "2023-06-06T02:22:48.386504",
     "exception": false,
     "start_time": "2023-06-06T02:22:48.366095",
     "status": "completed"
    },
    "tags": []
   },
   "source": [
    "# Introduction\n",
    "\n",
    "- Movie Review Sentiment Analysis\n",
    "This notebook explores the task of sentiment analysis on a movie review dataset. The gloal is to build a machine learning model that can classify movie review as positive or negative based on the text content.\n",
    "\n",
    "- Dataset\n",
    "The dataset comes from the Sentiment Polarity Data Set v2.0 from [Movie Review Data](http://www.cs.cornell.edu/people/pabo/movie-review-data/) by Pang, Lee and Vaithyanathan. It consists of a collection of movie review along with their corresponding sentiment labels (positive or negative). The dataset is divided into a training set and a test set.\n",
    "\n",
    "The training set contains labeled movie review (text variable) that can be used to train a sentiment analysis model. The test set, on the other hand, includes unlabeled movie reviews, and the objective is to predict the sentiment labels for these reviews using the trained model.\n",
    "\n",
    "- Approach\n",
    "To perform sentiment analysis on the movie reviews, we will follow the following steps:\n",
    "\n",
    " 1. Load the data: We load the movie_reviews_train and movie_reviews_test into pandas dataframe.\n",
    " \n",
    " 2. Import the necessary libraries: in this notebook, I am going to apply Sentiment analysis to movie review dataset.\n",
    " \n",
    " 3. Explore the traing data: This will involve examining the structure of the data, checking for missing values, and gaining insights into the distribution of positive and negative reviews.\n",
    " \n",
    " 4. Explore the test data: This will involve examining the structure of the data, checking for missing values, and gaining insights into the distribution of positive and negative reviews.\n",
    " \n",
    " 5. Pre-processing our training data: Before training a machine learning model, we need to process the text data to fit into our model.\n",
    " \n",
    " 6. Train the model: apply sentiment analysis ML into our training dataset.\n",
    " \n",
    " 7. Predict the test result & predict the result: apply test dataset into the model and print the model accuracy.\n",
    " \n",
    " 8. Validate the model: apply new dataset into the model to see the predict result\n",
    " \n",
    " 9. Evaluate model: try different parameters into the model to see if it will improve model accuracy.\n",
    " \n"
   ]
  },
  {
   "cell_type": "markdown",
   "id": "2694de88",
   "metadata": {
    "papermill": {
     "duration": 0.01952,
     "end_time": "2023-06-06T02:22:48.426196",
     "exception": false,
     "start_time": "2023-06-06T02:22:48.406676",
     "status": "completed"
    },
    "tags": []
   },
   "source": [
    "## Step 1: Load the Data"
   ]
  },
  {
   "cell_type": "markdown",
   "id": "5d6c22d9",
   "metadata": {
    "papermill": {
     "duration": 0.020518,
     "end_time": "2023-06-06T02:22:48.466818",
     "exception": false,
     "start_time": "2023-06-06T02:22:48.446300",
     "status": "completed"
    },
    "tags": []
   },
   "source": [
    "This step in our sentiment analysis ML requires us to import the necessary data set using the the pandas library."
   ]
  },
  {
   "cell_type": "code",
   "execution_count": 1,
   "id": "8f2c4344",
   "metadata": {
    "_cell_guid": "b1076dfc-b9ad-4769-8c92-a6c4dae69d19",
    "_uuid": "8f2839f25d086af736a60e9eeb907d3b93b6e0e5",
    "execution": {
     "iopub.execute_input": "2023-06-06T02:22:48.508932Z",
     "iopub.status.busy": "2023-06-06T02:22:48.508499Z",
     "iopub.status.idle": "2023-06-06T02:22:48.697641Z",
     "shell.execute_reply": "2023-06-06T02:22:48.696405Z"
    },
    "papermill": {
     "duration": 0.213753,
     "end_time": "2023-06-06T02:22:48.700560",
     "exception": false,
     "start_time": "2023-06-06T02:22:48.486807",
     "status": "completed"
    },
    "tags": []
   },
   "outputs": [],
   "source": [
    "import pandas as pd\n",
    "\n",
    "reviews_training = pd.read_csv(\"/kaggle/input/movie-reviews-sentiment-polarity/movie_reviews_train.csv\")\n",
    "reviews_test = pd.read_csv(\"/kaggle/input/movie-reviews-sentiment-polarity/movie_reviews_test.csv\")\n"
   ]
  },
  {
   "cell_type": "markdown",
   "id": "d6ee8896",
   "metadata": {
    "papermill": {
     "duration": 0.019692,
     "end_time": "2023-06-06T02:22:48.740154",
     "exception": false,
     "start_time": "2023-06-06T02:22:48.720462",
     "status": "completed"
    },
    "tags": []
   },
   "source": [
    "Using the pandas read_csv function, we have imported movie review training dataset and movie review test dataset into a pandas data frame."
   ]
  },
  {
   "cell_type": "code",
   "execution_count": 2,
   "id": "433af0f9",
   "metadata": {
    "execution": {
     "iopub.execute_input": "2023-06-06T02:22:48.781878Z",
     "iopub.status.busy": "2023-06-06T02:22:48.781437Z",
     "iopub.status.idle": "2023-06-06T02:22:48.802284Z",
     "shell.execute_reply": "2023-06-06T02:22:48.801351Z"
    },
    "papermill": {
     "duration": 0.045758,
     "end_time": "2023-06-06T02:22:48.805726",
     "exception": false,
     "start_time": "2023-06-06T02:22:48.759968",
     "status": "completed"
    },
    "tags": []
   },
   "outputs": [
    {
     "name": "stdout",
     "output_type": "stream",
     "text": [
      "                                                Content Label\n",
      "0     every once in a while you see a film that is s...   pos\n",
      "1     the love for family is one of the strongest dr...   pos\n",
      "2     after the terminally bleak reservoir dogs and ...   pos\n",
      "3      ( warning to those who have not seen seven : ...   pos\n",
      "4     having not seen , \" who framed roger rabbit \" ...   pos\n",
      "...                                                 ...   ...\n",
      "1795   \" holy man \" boasts a sweet , gentle , comic ...   neg\n",
      "1796  alexander dumas' the three musketeers is one o...   neg\n",
      "1797   \" have you ever heard the one about a movie s...   neg\n",
      "1798  this is the first film in what would become th...   neg\n",
      "1799  first impressions : critically , a close-to-aw...   neg\n",
      "\n",
      "[1800 rows x 2 columns]\n"
     ]
    }
   ],
   "source": [
    "print(reviews_training)"
   ]
  },
  {
   "cell_type": "markdown",
   "id": "eb9f0882",
   "metadata": {
    "papermill": {
     "duration": 0.019509,
     "end_time": "2023-06-06T02:22:48.845404",
     "exception": false,
     "start_time": "2023-06-06T02:22:48.825895",
     "status": "completed"
    },
    "tags": []
   },
   "source": [
    "Print the reviews_training to check there are only 2 columns: content and label in the dataset and there are 1800 rows. Also it provides us a basic understanding about what the training dataset looks like."
   ]
  },
  {
   "cell_type": "code",
   "execution_count": 3,
   "id": "c2b71def",
   "metadata": {
    "execution": {
     "iopub.execute_input": "2023-06-06T02:22:48.887661Z",
     "iopub.status.busy": "2023-06-06T02:22:48.886539Z",
     "iopub.status.idle": "2023-06-06T02:22:48.896281Z",
     "shell.execute_reply": "2023-06-06T02:22:48.894780Z"
    },
    "papermill": {
     "duration": 0.033497,
     "end_time": "2023-06-06T02:22:48.898646",
     "exception": false,
     "start_time": "2023-06-06T02:22:48.865149",
     "status": "completed"
    },
    "tags": []
   },
   "outputs": [
    {
     "name": "stdout",
     "output_type": "stream",
     "text": [
      "                                               Content Label\n",
      "0    hedwig ( john cameron mitchell ) was born a bo...   pos\n",
      "1    one of the more unusual and suggestively viole...   pos\n",
      "2    what do you get when you combine clueless and ...   pos\n",
      "3    >from the man who presented us with henry : th...   pos\n",
      "4    tibet has entered the american consciousness s...   pos\n",
      "..                                                 ...   ...\n",
      "195  my inner flag was at half-mast last year when ...   neg\n",
      "196  if anything , \" stigmata \" should be taken as ...   neg\n",
      "197  woof ! too bad that leap of faith was the titl...   neg\n",
      "198  the plot of big momma's house is martin lawren...   neg\n",
      "199  in the year 2029 , captain leo davidson ( mark...   neg\n",
      "\n",
      "[200 rows x 2 columns]\n"
     ]
    }
   ],
   "source": [
    "print(reviews_test)"
   ]
  },
  {
   "cell_type": "markdown",
   "id": "60c8ed49",
   "metadata": {
    "papermill": {
     "duration": 0.019471,
     "end_time": "2023-06-06T02:22:48.938114",
     "exception": false,
     "start_time": "2023-06-06T02:22:48.918643",
     "status": "completed"
    },
    "tags": []
   },
   "source": [
    "Print the reviews_test to check there are 2 columns: content and label in the dataset which is the same with reviews_training dataset and there are 200 rows. Also it provides us a basic understanding about what the test dataset looks like."
   ]
  },
  {
   "cell_type": "markdown",
   "id": "ef35b784",
   "metadata": {
    "papermill": {
     "duration": 0.019518,
     "end_time": "2023-06-06T02:22:48.977616",
     "exception": false,
     "start_time": "2023-06-06T02:22:48.958098",
     "status": "completed"
    },
    "tags": []
   },
   "source": [
    "We load the reviews_training and reviews_test into pandas dataframe successfully and print out the dataframe. Now we will explore the training and test dataset in next steps."
   ]
  },
  {
   "cell_type": "markdown",
   "id": "43678ead",
   "metadata": {
    "papermill": {
     "duration": 0.019582,
     "end_time": "2023-06-06T02:22:49.017157",
     "exception": false,
     "start_time": "2023-06-06T02:22:48.997575",
     "status": "completed"
    },
    "tags": []
   },
   "source": [
    "## Step 2: Import the necessary libraries"
   ]
  },
  {
   "cell_type": "code",
   "execution_count": 4,
   "id": "df25a922",
   "metadata": {
    "execution": {
     "iopub.execute_input": "2023-06-06T02:22:49.059472Z",
     "iopub.status.busy": "2023-06-06T02:22:49.058520Z",
     "iopub.status.idle": "2023-06-06T02:22:50.571979Z",
     "shell.execute_reply": "2023-06-06T02:22:50.570434Z"
    },
    "papermill": {
     "duration": 1.537768,
     "end_time": "2023-06-06T02:22:50.574898",
     "exception": false,
     "start_time": "2023-06-06T02:22:49.037130",
     "status": "completed"
    },
    "tags": []
   },
   "outputs": [
    {
     "name": "stderr",
     "output_type": "stream",
     "text": [
      "/opt/conda/lib/python3.10/site-packages/scipy/__init__.py:146: UserWarning: A NumPy version >=1.16.5 and <1.23.0 is required for this version of SciPy (detected version 1.23.5\n",
      "  warnings.warn(f\"A NumPy version >={np_minversion} and <{np_maxversion}\"\n"
     ]
    }
   ],
   "source": [
    "import pandas as pd\n",
    "from sklearn.feature_extraction.text import TfidfVectorizer\n",
    "from sklearn.model_selection import train_test_split\n",
    "from sklearn.svm import SVC\n",
    "from sklearn.metrics import classification_report"
   ]
  },
  {
   "cell_type": "markdown",
   "id": "ef030660",
   "metadata": {
    "papermill": {
     "duration": 0.02086,
     "end_time": "2023-06-06T02:22:50.616571",
     "exception": false,
     "start_time": "2023-06-06T02:22:50.595711",
     "status": "completed"
    },
    "tags": []
   },
   "source": [
    "## Step 3: Exploring the Training Data"
   ]
  },
  {
   "cell_type": "markdown",
   "id": "e9433616",
   "metadata": {
    "papermill": {
     "duration": 0.020229,
     "end_time": "2023-06-06T02:22:50.657228",
     "exception": false,
     "start_time": "2023-06-06T02:22:50.636999",
     "status": "completed"
    },
    "tags": []
   },
   "source": [
    "Prior to performing any analysis, we need to carefully examine the data set to ensure we understand what we are analyzing."
   ]
  },
  {
   "cell_type": "code",
   "execution_count": 5,
   "id": "cf190742",
   "metadata": {
    "execution": {
     "iopub.execute_input": "2023-06-06T02:22:50.703651Z",
     "iopub.status.busy": "2023-06-06T02:22:50.702265Z",
     "iopub.status.idle": "2023-06-06T02:22:50.710995Z",
     "shell.execute_reply": "2023-06-06T02:22:50.710251Z"
    },
    "papermill": {
     "duration": 0.035623,
     "end_time": "2023-06-06T02:22:50.713154",
     "exception": false,
     "start_time": "2023-06-06T02:22:50.677531",
     "status": "completed"
    },
    "tags": []
   },
   "outputs": [
    {
     "data": {
      "text/plain": [
       "(1800, 2)"
      ]
     },
     "execution_count": 5,
     "metadata": {},
     "output_type": "execute_result"
    }
   ],
   "source": [
    "reviews_training.shape"
   ]
  },
  {
   "cell_type": "markdown",
   "id": "0f955362",
   "metadata": {
    "papermill": {
     "duration": 0.020059,
     "end_time": "2023-06-06T02:22:50.753699",
     "exception": false,
     "start_time": "2023-06-06T02:22:50.733640",
     "status": "completed"
    },
    "tags": []
   },
   "source": [
    "We see that there are 1800 data objects, and 2 attributes in our data set."
   ]
  },
  {
   "cell_type": "code",
   "execution_count": 6,
   "id": "c12da7f2",
   "metadata": {
    "execution": {
     "iopub.execute_input": "2023-06-06T02:22:50.796621Z",
     "iopub.status.busy": "2023-06-06T02:22:50.796154Z",
     "iopub.status.idle": "2023-06-06T02:22:50.834462Z",
     "shell.execute_reply": "2023-06-06T02:22:50.833144Z"
    },
    "papermill": {
     "duration": 0.063069,
     "end_time": "2023-06-06T02:22:50.837050",
     "exception": false,
     "start_time": "2023-06-06T02:22:50.773981",
     "status": "completed"
    },
    "tags": []
   },
   "outputs": [
    {
     "data": {
      "text/html": [
       "<div>\n",
       "<style scoped>\n",
       "    .dataframe tbody tr th:only-of-type {\n",
       "        vertical-align: middle;\n",
       "    }\n",
       "\n",
       "    .dataframe tbody tr th {\n",
       "        vertical-align: top;\n",
       "    }\n",
       "\n",
       "    .dataframe thead th {\n",
       "        text-align: right;\n",
       "    }\n",
       "</style>\n",
       "<table border=\"1\" class=\"dataframe\">\n",
       "  <thead>\n",
       "    <tr style=\"text-align: right;\">\n",
       "      <th></th>\n",
       "      <th>Content</th>\n",
       "      <th>Label</th>\n",
       "    </tr>\n",
       "  </thead>\n",
       "  <tbody>\n",
       "    <tr>\n",
       "      <th>count</th>\n",
       "      <td>1800</td>\n",
       "      <td>1800</td>\n",
       "    </tr>\n",
       "    <tr>\n",
       "      <th>unique</th>\n",
       "      <td>1800</td>\n",
       "      <td>2</td>\n",
       "    </tr>\n",
       "    <tr>\n",
       "      <th>top</th>\n",
       "      <td>every once in a while you see a film that is s...</td>\n",
       "      <td>pos</td>\n",
       "    </tr>\n",
       "    <tr>\n",
       "      <th>freq</th>\n",
       "      <td>1</td>\n",
       "      <td>900</td>\n",
       "    </tr>\n",
       "  </tbody>\n",
       "</table>\n",
       "</div>"
      ],
      "text/plain": [
       "                                                  Content Label\n",
       "count                                                1800  1800\n",
       "unique                                               1800     2\n",
       "top     every once in a while you see a film that is s...   pos\n",
       "freq                                                    1   900"
      ]
     },
     "execution_count": 6,
     "metadata": {},
     "output_type": "execute_result"
    }
   ],
   "source": [
    "reviews_training.describe()"
   ]
  },
  {
   "cell_type": "markdown",
   "id": "bb568ef9",
   "metadata": {
    "papermill": {
     "duration": 0.020514,
     "end_time": "2023-06-06T02:22:50.878196",
     "exception": false,
     "start_time": "2023-06-06T02:22:50.857682",
     "status": "completed"
    },
    "tags": []
   },
   "source": [
    "The result of reviews_training.describe() provides a summary of the dataset containing reviews and their corresponding labels. Count shows there are 1800 reviews and 1800 labels in the dataset. Unique shows there are 1800 unique review and 2 unique labels. Top shows the most frequently occurring review is \"every once in a while you see a film that is s..\" Additionally, the labels are categorized as either \"pos\" or \"neg\". The frequency count reveals that there are 900 positive reviews and 900 negative reviews, indicating an equal distribution of positive and negative sentiments in the dataset."
   ]
  },
  {
   "cell_type": "markdown",
   "id": "b596c01a",
   "metadata": {
    "papermill": {
     "duration": 0.020065,
     "end_time": "2023-06-06T02:22:50.918710",
     "exception": false,
     "start_time": "2023-06-06T02:22:50.898645",
     "status": "completed"
    },
    "tags": []
   },
   "source": [
    "## Step 4: Exploring the Test Data"
   ]
  },
  {
   "cell_type": "markdown",
   "id": "fe731a66",
   "metadata": {
    "papermill": {
     "duration": 0.020073,
     "end_time": "2023-06-06T02:22:50.959083",
     "exception": false,
     "start_time": "2023-06-06T02:22:50.939010",
     "status": "completed"
    },
    "tags": []
   },
   "source": [
    "Let's start to explore the test dataset"
   ]
  },
  {
   "cell_type": "code",
   "execution_count": 7,
   "id": "f07bfc6b",
   "metadata": {
    "execution": {
     "iopub.execute_input": "2023-06-06T02:22:51.001858Z",
     "iopub.status.busy": "2023-06-06T02:22:51.001433Z",
     "iopub.status.idle": "2023-06-06T02:22:51.007468Z",
     "shell.execute_reply": "2023-06-06T02:22:51.006674Z"
    },
    "papermill": {
     "duration": 0.029805,
     "end_time": "2023-06-06T02:22:51.009522",
     "exception": false,
     "start_time": "2023-06-06T02:22:50.979717",
     "status": "completed"
    },
    "tags": []
   },
   "outputs": [
    {
     "data": {
      "text/plain": [
       "(200, 2)"
      ]
     },
     "execution_count": 7,
     "metadata": {},
     "output_type": "execute_result"
    }
   ],
   "source": [
    "reviews_test.shape"
   ]
  },
  {
   "cell_type": "markdown",
   "id": "777452fc",
   "metadata": {
    "papermill": {
     "duration": 0.020112,
     "end_time": "2023-06-06T02:22:51.050192",
     "exception": false,
     "start_time": "2023-06-06T02:22:51.030080",
     "status": "completed"
    },
    "tags": []
   },
   "source": [
    "We see that there are 200 data objects, and 2 attributes in our test dataset."
   ]
  },
  {
   "cell_type": "code",
   "execution_count": 8,
   "id": "03b1cdfb",
   "metadata": {
    "execution": {
     "iopub.execute_input": "2023-06-06T02:22:51.093529Z",
     "iopub.status.busy": "2023-06-06T02:22:51.093047Z",
     "iopub.status.idle": "2023-06-06T02:22:51.109107Z",
     "shell.execute_reply": "2023-06-06T02:22:51.108184Z"
    },
    "papermill": {
     "duration": 0.04058,
     "end_time": "2023-06-06T02:22:51.111450",
     "exception": false,
     "start_time": "2023-06-06T02:22:51.070870",
     "status": "completed"
    },
    "tags": []
   },
   "outputs": [
    {
     "data": {
      "text/html": [
       "<div>\n",
       "<style scoped>\n",
       "    .dataframe tbody tr th:only-of-type {\n",
       "        vertical-align: middle;\n",
       "    }\n",
       "\n",
       "    .dataframe tbody tr th {\n",
       "        vertical-align: top;\n",
       "    }\n",
       "\n",
       "    .dataframe thead th {\n",
       "        text-align: right;\n",
       "    }\n",
       "</style>\n",
       "<table border=\"1\" class=\"dataframe\">\n",
       "  <thead>\n",
       "    <tr style=\"text-align: right;\">\n",
       "      <th></th>\n",
       "      <th>Content</th>\n",
       "      <th>Label</th>\n",
       "    </tr>\n",
       "  </thead>\n",
       "  <tbody>\n",
       "    <tr>\n",
       "      <th>count</th>\n",
       "      <td>200</td>\n",
       "      <td>200</td>\n",
       "    </tr>\n",
       "    <tr>\n",
       "      <th>unique</th>\n",
       "      <td>200</td>\n",
       "      <td>2</td>\n",
       "    </tr>\n",
       "    <tr>\n",
       "      <th>top</th>\n",
       "      <td>hedwig ( john cameron mitchell ) was born a bo...</td>\n",
       "      <td>pos</td>\n",
       "    </tr>\n",
       "    <tr>\n",
       "      <th>freq</th>\n",
       "      <td>1</td>\n",
       "      <td>100</td>\n",
       "    </tr>\n",
       "  </tbody>\n",
       "</table>\n",
       "</div>"
      ],
      "text/plain": [
       "                                                  Content Label\n",
       "count                                                 200   200\n",
       "unique                                                200     2\n",
       "top     hedwig ( john cameron mitchell ) was born a bo...   pos\n",
       "freq                                                    1   100"
      ]
     },
     "execution_count": 8,
     "metadata": {},
     "output_type": "execute_result"
    }
   ],
   "source": [
    "reviews_test.describe()"
   ]
  },
  {
   "cell_type": "markdown",
   "id": "b7548b60",
   "metadata": {
    "papermill": {
     "duration": 0.020416,
     "end_time": "2023-06-06T02:22:51.152918",
     "exception": false,
     "start_time": "2023-06-06T02:22:51.132502",
     "status": "completed"
    },
    "tags": []
   },
   "source": [
    "The result of reviews_test.describe() provides a summary of the dataset containing reviews and their corresponding labels. Count shows there are 200 reviews and 200 labels in the dataset. Unique shows there are 200 unique review and 2 unique labels. Top shows the most frequently occurring review is \"hedwing (john cameron mitchell) was born a bo...\" Additionally, the labels are categorized as either \"pos\" or \"neg\". The frequency count reveals that there are 100 positive reviews and 100 negative reviews, indicating an equal distribution of positive and negative sentiments in the dataset."
   ]
  },
  {
   "cell_type": "markdown",
   "id": "b44461e1",
   "metadata": {
    "papermill": {
     "duration": 0.020426,
     "end_time": "2023-06-06T02:22:51.194319",
     "exception": false,
     "start_time": "2023-06-06T02:22:51.173893",
     "status": "completed"
    },
    "tags": []
   },
   "source": [
    "## Step 5: Split the training and test dataset into content and label"
   ]
  },
  {
   "cell_type": "markdown",
   "id": "8f827d40",
   "metadata": {
    "papermill": {
     "duration": 0.020572,
     "end_time": "2023-06-06T02:22:51.235808",
     "exception": false,
     "start_time": "2023-06-06T02:22:51.215236",
     "status": "completed"
    },
    "tags": []
   },
   "source": [
    "Let's split the training data into content and label before fit into our model."
   ]
  },
  {
   "cell_type": "code",
   "execution_count": 9,
   "id": "65b8e09e",
   "metadata": {
    "execution": {
     "iopub.execute_input": "2023-06-06T02:22:51.279446Z",
     "iopub.status.busy": "2023-06-06T02:22:51.279001Z",
     "iopub.status.idle": "2023-06-06T02:22:51.287294Z",
     "shell.execute_reply": "2023-06-06T02:22:51.285619Z"
    },
    "papermill": {
     "duration": 0.033056,
     "end_time": "2023-06-06T02:22:51.289746",
     "exception": false,
     "start_time": "2023-06-06T02:22:51.256690",
     "status": "completed"
    },
    "tags": []
   },
   "outputs": [
    {
     "name": "stdout",
     "output_type": "stream",
     "text": [
      "0       every once in a while you see a film that is s...\n",
      "1       the love for family is one of the strongest dr...\n",
      "2       after the terminally bleak reservoir dogs and ...\n",
      "3        ( warning to those who have not seen seven : ...\n",
      "4       having not seen , \" who framed roger rabbit \" ...\n",
      "                              ...                        \n",
      "1795     \" holy man \" boasts a sweet , gentle , comic ...\n",
      "1796    alexander dumas' the three musketeers is one o...\n",
      "1797     \" have you ever heard the one about a movie s...\n",
      "1798    this is the first film in what would become th...\n",
      "1799    first impressions : critically , a close-to-aw...\n",
      "Name: Content, Length: 1800, dtype: object\n"
     ]
    }
   ],
   "source": [
    "X_train = reviews_training[\"Content\"]\n",
    "y_train = reviews_training[\"Label\"]\n",
    "print(X_train)"
   ]
  },
  {
   "cell_type": "code",
   "execution_count": 10,
   "id": "4f1fdd17",
   "metadata": {
    "execution": {
     "iopub.execute_input": "2023-06-06T02:22:51.334275Z",
     "iopub.status.busy": "2023-06-06T02:22:51.333080Z",
     "iopub.status.idle": "2023-06-06T02:22:51.340529Z",
     "shell.execute_reply": "2023-06-06T02:22:51.339234Z"
    },
    "papermill": {
     "duration": 0.031861,
     "end_time": "2023-06-06T02:22:51.342703",
     "exception": false,
     "start_time": "2023-06-06T02:22:51.310842",
     "status": "completed"
    },
    "tags": []
   },
   "outputs": [
    {
     "name": "stdout",
     "output_type": "stream",
     "text": [
      "0       pos\n",
      "1       pos\n",
      "2       pos\n",
      "3       pos\n",
      "4       pos\n",
      "       ... \n",
      "1795    neg\n",
      "1796    neg\n",
      "1797    neg\n",
      "1798    neg\n",
      "1799    neg\n",
      "Name: Label, Length: 1800, dtype: object\n"
     ]
    }
   ],
   "source": [
    "print(y_train)"
   ]
  },
  {
   "cell_type": "markdown",
   "id": "3b3c61d4",
   "metadata": {
    "papermill": {
     "duration": 0.020661,
     "end_time": "2023-06-06T02:22:51.384391",
     "exception": false,
     "start_time": "2023-06-06T02:22:51.363730",
     "status": "completed"
    },
    "tags": []
   },
   "source": [
    "I split the training dataset into content and label succesfully and print the result is what I expected. The last column is Label and the columns before that are content."
   ]
  },
  {
   "cell_type": "markdown",
   "id": "6c213222",
   "metadata": {
    "papermill": {
     "duration": 0.020614,
     "end_time": "2023-06-06T02:22:51.425998",
     "exception": false,
     "start_time": "2023-06-06T02:22:51.405384",
     "status": "completed"
    },
    "tags": []
   },
   "source": [
    "Next, let's split the test data into content and label before fit into our model."
   ]
  },
  {
   "cell_type": "code",
   "execution_count": 11,
   "id": "28ca317a",
   "metadata": {
    "execution": {
     "iopub.execute_input": "2023-06-06T02:22:51.470518Z",
     "iopub.status.busy": "2023-06-06T02:22:51.470053Z",
     "iopub.status.idle": "2023-06-06T02:22:51.477412Z",
     "shell.execute_reply": "2023-06-06T02:22:51.476261Z"
    },
    "papermill": {
     "duration": 0.033077,
     "end_time": "2023-06-06T02:22:51.480051",
     "exception": false,
     "start_time": "2023-06-06T02:22:51.446974",
     "status": "completed"
    },
    "tags": []
   },
   "outputs": [
    {
     "name": "stdout",
     "output_type": "stream",
     "text": [
      "0      hedwig ( john cameron mitchell ) was born a bo...\n",
      "1      one of the more unusual and suggestively viole...\n",
      "2      what do you get when you combine clueless and ...\n",
      "3      >from the man who presented us with henry : th...\n",
      "4      tibet has entered the american consciousness s...\n",
      "                             ...                        \n",
      "195    my inner flag was at half-mast last year when ...\n",
      "196    if anything , \" stigmata \" should be taken as ...\n",
      "197    woof ! too bad that leap of faith was the titl...\n",
      "198    the plot of big momma's house is martin lawren...\n",
      "199    in the year 2029 , captain leo davidson ( mark...\n",
      "Name: Content, Length: 200, dtype: object\n"
     ]
    }
   ],
   "source": [
    "X_test = reviews_test[\"Content\"]\n",
    "y_test = reviews_test[\"Label\"]\n",
    "print(X_test)"
   ]
  },
  {
   "cell_type": "code",
   "execution_count": 12,
   "id": "4663c296",
   "metadata": {
    "execution": {
     "iopub.execute_input": "2023-06-06T02:22:51.524950Z",
     "iopub.status.busy": "2023-06-06T02:22:51.524398Z",
     "iopub.status.idle": "2023-06-06T02:22:51.531357Z",
     "shell.execute_reply": "2023-06-06T02:22:51.530130Z"
    },
    "papermill": {
     "duration": 0.032452,
     "end_time": "2023-06-06T02:22:51.534005",
     "exception": false,
     "start_time": "2023-06-06T02:22:51.501553",
     "status": "completed"
    },
    "tags": []
   },
   "outputs": [
    {
     "name": "stdout",
     "output_type": "stream",
     "text": [
      "0      pos\n",
      "1      pos\n",
      "2      pos\n",
      "3      pos\n",
      "4      pos\n",
      "      ... \n",
      "195    neg\n",
      "196    neg\n",
      "197    neg\n",
      "198    neg\n",
      "199    neg\n",
      "Name: Label, Length: 200, dtype: object\n"
     ]
    }
   ],
   "source": [
    "print(y_test)"
   ]
  },
  {
   "cell_type": "markdown",
   "id": "5e8f0935",
   "metadata": {
    "papermill": {
     "duration": 0.020767,
     "end_time": "2023-06-06T02:22:51.576218",
     "exception": false,
     "start_time": "2023-06-06T02:22:51.555451",
     "status": "completed"
    },
    "tags": []
   },
   "source": [
    "I split the test dataset into content and label succesfully and print the result is what I expected. The last column is Label and the columns before that are content."
   ]
  },
  {
   "cell_type": "markdown",
   "id": "4625616d",
   "metadata": {
    "papermill": {
     "duration": 0.020971,
     "end_time": "2023-06-06T02:22:51.618398",
     "exception": false,
     "start_time": "2023-06-06T02:22:51.597427",
     "status": "completed"
    },
    "tags": []
   },
   "source": [
    "## Step 6: Pre-Processing text data in training and test dataset"
   ]
  },
  {
   "cell_type": "markdown",
   "id": "906d45a6",
   "metadata": {
    "papermill": {
     "duration": 0.02102,
     "end_time": "2023-06-06T02:22:51.660734",
     "exception": false,
     "start_time": "2023-06-06T02:22:51.639714",
     "status": "completed"
    },
    "tags": []
   },
   "source": [
    "Our training and test dataset contains text data and convert the test datainto numerical features"
   ]
  },
  {
   "cell_type": "code",
   "execution_count": 13,
   "id": "a586b22a",
   "metadata": {
    "execution": {
     "iopub.execute_input": "2023-06-06T02:22:51.705696Z",
     "iopub.status.busy": "2023-06-06T02:22:51.705264Z",
     "iopub.status.idle": "2023-06-06T02:22:53.421515Z",
     "shell.execute_reply": "2023-06-06T02:22:53.420284Z"
    },
    "papermill": {
     "duration": 1.742359,
     "end_time": "2023-06-06T02:22:53.424827",
     "exception": false,
     "start_time": "2023-06-06T02:22:51.682468",
     "status": "completed"
    },
    "tags": []
   },
   "outputs": [],
   "source": [
    "vectorizer = TfidfVectorizer()\n",
    "X_train = vectorizer.fit_transform(X_train)\n",
    "X_test = vectorizer.transform(X_test)"
   ]
  },
  {
   "cell_type": "code",
   "execution_count": 14,
   "id": "47c9a691",
   "metadata": {
    "execution": {
     "iopub.execute_input": "2023-06-06T02:22:53.471095Z",
     "iopub.status.busy": "2023-06-06T02:22:53.470640Z",
     "iopub.status.idle": "2023-06-06T02:22:53.485717Z",
     "shell.execute_reply": "2023-06-06T02:22:53.484388Z"
    },
    "papermill": {
     "duration": 0.040429,
     "end_time": "2023-06-06T02:22:53.488246",
     "exception": false,
     "start_time": "2023-06-06T02:22:53.447817",
     "status": "completed"
    },
    "tags": []
   },
   "outputs": [
    {
     "name": "stdout",
     "output_type": "stream",
     "text": [
      "  (0, 37728)\t0.019557322533372945\n",
      "  (0, 3591)\t0.018613017612739185\n",
      "  (0, 12297)\t0.03690729640884355\n",
      "  (0, 17656)\t0.03646139735698193\n",
      "  (0, 12346)\t0.04860691140872605\n",
      "  (0, 27323)\t0.03573101423242628\n",
      "  (0, 15767)\t0.034256965318728114\n",
      "  (0, 29509)\t0.03090024505659402\n",
      "  (0, 22330)\t0.036036739822766194\n",
      "  (0, 29250)\t0.06957206198519013\n",
      "  (0, 10870)\t0.04860691140872605\n",
      "  (0, 8393)\t0.03895421032567651\n",
      "  (0, 28411)\t0.01972213541121538\n",
      "  (0, 9454)\t0.0269234257561756\n",
      "  (0, 35929)\t0.0420119478454016\n",
      "  (0, 6599)\t0.03235271241041815\n",
      "  (0, 7739)\t0.045426753803619664\n",
      "  (0, 10361)\t0.0597766998936176\n",
      "  (0, 9320)\t0.030557274972506234\n",
      "  (0, 29172)\t0.05288284389099513\n",
      "  (0, 36072)\t0.03487211423424892\n",
      "  (0, 14950)\t0.05103150581345296\n",
      "  (0, 14344)\t0.01920511390031357\n",
      "  (0, 33376)\t0.030727111018264492\n",
      "  (0, 37056)\t0.024216623086966205\n",
      "  :\t:\n",
      "  (1799, 27189)\t0.021610419271034357\n",
      "  (1799, 15413)\t0.013757250742321862\n",
      "  (1799, 2440)\t0.026978876380204273\n",
      "  (1799, 26764)\t0.04367002153433109\n",
      "  (1799, 25356)\t0.12885172615306426\n",
      "  (1799, 36259)\t0.020256850186656714\n",
      "  (1799, 33941)\t0.08660204261212948\n",
      "  (1799, 31335)\t0.01623851550342465\n",
      "  (1799, 15854)\t0.02651445179253767\n",
      "  (1799, 37156)\t0.026738027418931574\n",
      "  (1799, 692)\t0.030852039107634073\n",
      "  (1799, 37243)\t0.05745895378537776\n",
      "  (1799, 37372)\t0.012066186556696336\n",
      "  (1799, 17888)\t0.01897064036804693\n",
      "  (1799, 1715)\t0.12938051242224888\n",
      "  (1799, 34241)\t0.11768397326589253\n",
      "  (1799, 17873)\t0.0955693088952007\n",
      "  (1799, 33829)\t0.2115960450288808\n",
      "  (1799, 31223)\t0.030445220301424145\n",
      "  (1799, 17829)\t0.023549867043535573\n",
      "  (1799, 33826)\t0.1675251547431893\n",
      "  (1799, 12635)\t0.10653370937291577\n",
      "  (1799, 29750)\t0.06052913570116548\n",
      "  (1799, 37092)\t0.04081165690931964\n",
      "  (1799, 16893)\t0.15324421880378147\n"
     ]
    }
   ],
   "source": [
    "print(X_train)"
   ]
  },
  {
   "cell_type": "code",
   "execution_count": 15,
   "id": "5e9ec467",
   "metadata": {
    "execution": {
     "iopub.execute_input": "2023-06-06T02:22:53.536547Z",
     "iopub.status.busy": "2023-06-06T02:22:53.536120Z",
     "iopub.status.idle": "2023-06-06T02:22:53.543141Z",
     "shell.execute_reply": "2023-06-06T02:22:53.542099Z"
    },
    "papermill": {
     "duration": 0.033676,
     "end_time": "2023-06-06T02:22:53.545425",
     "exception": false,
     "start_time": "2023-06-06T02:22:53.511749",
     "status": "completed"
    },
    "tags": []
   },
   "outputs": [
    {
     "name": "stdout",
     "output_type": "stream",
     "text": [
      "  (0, 37810)\t0.049233302497535825\n",
      "  (0, 37809)\t0.006722119146968519\n",
      "  (0, 37801)\t0.01783853441303375\n",
      "  (0, 37728)\t0.011269008059395832\n",
      "  (0, 37554)\t0.008063419859195647\n",
      "  (0, 37426)\t0.02731475123347245\n",
      "  (0, 37372)\t0.036934013963421386\n",
      "  (0, 37368)\t0.04424874854344269\n",
      "  (0, 37329)\t0.040087702490054514\n",
      "  (0, 37167)\t0.017575014810606034\n",
      "  (0, 37156)\t0.005845986417172121\n",
      "  (0, 37076)\t0.018148478731249307\n",
      "  (0, 37056)\t0.02093057372291351\n",
      "  (0, 36818)\t0.02543141450152861\n",
      "  (0, 36797)\t0.006603127886297591\n",
      "  (0, 36117)\t0.05019527629175949\n",
      "  (0, 35952)\t0.010879548081688246\n",
      "  (0, 35862)\t0.006741572051307036\n",
      "  (0, 35348)\t0.028258157994876743\n",
      "  (0, 34962)\t0.02568542199981158\n",
      "  (0, 34908)\t0.012919199431329811\n",
      "  (0, 34650)\t0.12026310747016354\n",
      "  (0, 34531)\t0.04141024184007774\n",
      "  (0, 34462)\t0.036526654761964275\n",
      "  (0, 34335)\t0.017941877802180164\n",
      "  :\t:\n",
      "  (199, 2499)\t0.05402996851424845\n",
      "  (199, 2497)\t0.06581649435927639\n",
      "  (199, 2440)\t0.009684470387721593\n",
      "  (199, 2275)\t0.035076806787243134\n",
      "  (199, 2132)\t0.17990976417522217\n",
      "  (199, 2105)\t0.03764769887096338\n",
      "  (199, 1965)\t0.03524582435127792\n",
      "  (199, 1931)\t0.3309830757570981\n",
      "  (199, 1928)\t0.13918379807883202\n",
      "  (199, 1811)\t0.06581649435927639\n",
      "  (199, 1715)\t0.09288613236842504\n",
      "  (199, 1667)\t0.04705962358870422\n",
      "  (199, 1634)\t0.03217012465791859\n",
      "  (199, 1611)\t0.04598306301795783\n",
      "  (199, 1491)\t0.02743078172007373\n",
      "  (199, 1453)\t0.03607227163827995\n",
      "  (199, 1132)\t0.03607227163827995\n",
      "  (199, 945)\t0.03671646410668378\n",
      "  (199, 915)\t0.019856076159235105\n",
      "  (199, 899)\t0.019712195112716213\n",
      "  (199, 692)\t0.01107479996305348\n",
      "  (199, 236)\t0.04485674951293101\n",
      "  (199, 224)\t0.06239646841553802\n",
      "  (199, 215)\t0.08196135238225223\n",
      "  (199, 10)\t0.03671646410668378\n"
     ]
    }
   ],
   "source": [
    "print(X_test)"
   ]
  },
  {
   "cell_type": "markdown",
   "id": "73a6aa25",
   "metadata": {
    "papermill": {
     "duration": 0.021513,
     "end_time": "2023-06-06T02:22:53.589008",
     "exception": false,
     "start_time": "2023-06-06T02:22:53.567495",
     "status": "completed"
    },
    "tags": []
   },
   "source": [
    "I use techniques like TF-IDF vectorization to convert the text data into numerical features"
   ]
  },
  {
   "cell_type": "markdown",
   "id": "d4afe309",
   "metadata": {
    "papermill": {
     "duration": 0.022043,
     "end_time": "2023-06-06T02:22:53.632805",
     "exception": false,
     "start_time": "2023-06-06T02:22:53.610762",
     "status": "completed"
    },
    "tags": []
   },
   "source": [
    "## Step 7: Training our SVM model"
   ]
  },
  {
   "cell_type": "markdown",
   "id": "ba052e19",
   "metadata": {
    "papermill": {
     "duration": 0.021439,
     "end_time": "2023-06-06T02:22:53.675815",
     "exception": false,
     "start_time": "2023-06-06T02:22:53.654376",
     "status": "completed"
    },
    "tags": []
   },
   "source": [
    "Apply SVM model into training dataset."
   ]
  },
  {
   "cell_type": "code",
   "execution_count": 16,
   "id": "ae27f6dc",
   "metadata": {
    "execution": {
     "iopub.execute_input": "2023-06-06T02:22:53.721092Z",
     "iopub.status.busy": "2023-06-06T02:22:53.720674Z",
     "iopub.status.idle": "2023-06-06T02:23:05.411550Z",
     "shell.execute_reply": "2023-06-06T02:23:05.410401Z"
    },
    "papermill": {
     "duration": 11.716952,
     "end_time": "2023-06-06T02:23:05.414667",
     "exception": false,
     "start_time": "2023-06-06T02:22:53.697715",
     "status": "completed"
    },
    "tags": []
   },
   "outputs": [
    {
     "data": {
      "text/html": [
       "<style>#sk-container-id-1 {color: black;background-color: white;}#sk-container-id-1 pre{padding: 0;}#sk-container-id-1 div.sk-toggleable {background-color: white;}#sk-container-id-1 label.sk-toggleable__label {cursor: pointer;display: block;width: 100%;margin-bottom: 0;padding: 0.3em;box-sizing: border-box;text-align: center;}#sk-container-id-1 label.sk-toggleable__label-arrow:before {content: \"▸\";float: left;margin-right: 0.25em;color: #696969;}#sk-container-id-1 label.sk-toggleable__label-arrow:hover:before {color: black;}#sk-container-id-1 div.sk-estimator:hover label.sk-toggleable__label-arrow:before {color: black;}#sk-container-id-1 div.sk-toggleable__content {max-height: 0;max-width: 0;overflow: hidden;text-align: left;background-color: #f0f8ff;}#sk-container-id-1 div.sk-toggleable__content pre {margin: 0.2em;color: black;border-radius: 0.25em;background-color: #f0f8ff;}#sk-container-id-1 input.sk-toggleable__control:checked~div.sk-toggleable__content {max-height: 200px;max-width: 100%;overflow: auto;}#sk-container-id-1 input.sk-toggleable__control:checked~label.sk-toggleable__label-arrow:before {content: \"▾\";}#sk-container-id-1 div.sk-estimator input.sk-toggleable__control:checked~label.sk-toggleable__label {background-color: #d4ebff;}#sk-container-id-1 div.sk-label input.sk-toggleable__control:checked~label.sk-toggleable__label {background-color: #d4ebff;}#sk-container-id-1 input.sk-hidden--visually {border: 0;clip: rect(1px 1px 1px 1px);clip: rect(1px, 1px, 1px, 1px);height: 1px;margin: -1px;overflow: hidden;padding: 0;position: absolute;width: 1px;}#sk-container-id-1 div.sk-estimator {font-family: monospace;background-color: #f0f8ff;border: 1px dotted black;border-radius: 0.25em;box-sizing: border-box;margin-bottom: 0.5em;}#sk-container-id-1 div.sk-estimator:hover {background-color: #d4ebff;}#sk-container-id-1 div.sk-parallel-item::after {content: \"\";width: 100%;border-bottom: 1px solid gray;flex-grow: 1;}#sk-container-id-1 div.sk-label:hover label.sk-toggleable__label {background-color: #d4ebff;}#sk-container-id-1 div.sk-serial::before {content: \"\";position: absolute;border-left: 1px solid gray;box-sizing: border-box;top: 0;bottom: 0;left: 50%;z-index: 0;}#sk-container-id-1 div.sk-serial {display: flex;flex-direction: column;align-items: center;background-color: white;padding-right: 0.2em;padding-left: 0.2em;position: relative;}#sk-container-id-1 div.sk-item {position: relative;z-index: 1;}#sk-container-id-1 div.sk-parallel {display: flex;align-items: stretch;justify-content: center;background-color: white;position: relative;}#sk-container-id-1 div.sk-item::before, #sk-container-id-1 div.sk-parallel-item::before {content: \"\";position: absolute;border-left: 1px solid gray;box-sizing: border-box;top: 0;bottom: 0;left: 50%;z-index: -1;}#sk-container-id-1 div.sk-parallel-item {display: flex;flex-direction: column;z-index: 1;position: relative;background-color: white;}#sk-container-id-1 div.sk-parallel-item:first-child::after {align-self: flex-end;width: 50%;}#sk-container-id-1 div.sk-parallel-item:last-child::after {align-self: flex-start;width: 50%;}#sk-container-id-1 div.sk-parallel-item:only-child::after {width: 0;}#sk-container-id-1 div.sk-dashed-wrapped {border: 1px dashed gray;margin: 0 0.4em 0.5em 0.4em;box-sizing: border-box;padding-bottom: 0.4em;background-color: white;}#sk-container-id-1 div.sk-label label {font-family: monospace;font-weight: bold;display: inline-block;line-height: 1.2em;}#sk-container-id-1 div.sk-label-container {text-align: center;}#sk-container-id-1 div.sk-container {/* jupyter's `normalize.less` sets `[hidden] { display: none; }` but bootstrap.min.css set `[hidden] { display: none !important; }` so we also need the `!important` here to be able to override the default hidden behavior on the sphinx rendered scikit-learn.org. See: https://github.com/scikit-learn/scikit-learn/issues/21755 */display: inline-block !important;position: relative;}#sk-container-id-1 div.sk-text-repr-fallback {display: none;}</style><div id=\"sk-container-id-1\" class=\"sk-top-container\"><div class=\"sk-text-repr-fallback\"><pre>SVC()</pre><b>In a Jupyter environment, please rerun this cell to show the HTML representation or trust the notebook. <br />On GitHub, the HTML representation is unable to render, please try loading this page with nbviewer.org.</b></div><div class=\"sk-container\" hidden><div class=\"sk-item\"><div class=\"sk-estimator sk-toggleable\"><input class=\"sk-toggleable__control sk-hidden--visually\" id=\"sk-estimator-id-1\" type=\"checkbox\" checked><label for=\"sk-estimator-id-1\" class=\"sk-toggleable__label sk-toggleable__label-arrow\">SVC</label><div class=\"sk-toggleable__content\"><pre>SVC()</pre></div></div></div></div></div>"
      ],
      "text/plain": [
       "SVC()"
      ]
     },
     "execution_count": 16,
     "metadata": {},
     "output_type": "execute_result"
    }
   ],
   "source": [
    "model = SVC()\n",
    "model.fit(X_train, y_train)"
   ]
  },
  {
   "cell_type": "markdown",
   "id": "929f7fa5",
   "metadata": {
    "papermill": {
     "duration": 0.022248,
     "end_time": "2023-06-06T02:23:05.459819",
     "exception": false,
     "start_time": "2023-06-06T02:23:05.437571",
     "status": "completed"
    },
    "tags": []
   },
   "source": [
    "I successfully apply SVM model into training dataset and next, I will predict the test dataset using the trained model."
   ]
  },
  {
   "cell_type": "markdown",
   "id": "2c2bf300",
   "metadata": {
    "papermill": {
     "duration": 0.021924,
     "end_time": "2023-06-06T02:23:05.503919",
     "exception": false,
     "start_time": "2023-06-06T02:23:05.481995",
     "status": "completed"
    },
    "tags": []
   },
   "source": [
    "## Step 8: Predict the sentiment lables for the test data using the trained model"
   ]
  },
  {
   "cell_type": "markdown",
   "id": "54ae4b5a",
   "metadata": {
    "papermill": {
     "duration": 0.02197,
     "end_time": "2023-06-06T02:23:05.548278",
     "exception": false,
     "start_time": "2023-06-06T02:23:05.526308",
     "status": "completed"
    },
    "tags": []
   },
   "source": [
    "I apply the X_test data into the trained model to predict the result after run through the training model."
   ]
  },
  {
   "cell_type": "code",
   "execution_count": 17,
   "id": "7bb22963",
   "metadata": {
    "execution": {
     "iopub.execute_input": "2023-06-06T02:23:05.595115Z",
     "iopub.status.busy": "2023-06-06T02:23:05.594731Z",
     "iopub.status.idle": "2023-06-06T02:23:06.980763Z",
     "shell.execute_reply": "2023-06-06T02:23:06.979654Z"
    },
    "papermill": {
     "duration": 1.412748,
     "end_time": "2023-06-06T02:23:06.983542",
     "exception": false,
     "start_time": "2023-06-06T02:23:05.570794",
     "status": "completed"
    },
    "tags": []
   },
   "outputs": [],
   "source": [
    "y_pred = model.predict(X_test)"
   ]
  },
  {
   "cell_type": "markdown",
   "id": "f4416805",
   "metadata": {
    "papermill": {
     "duration": 0.022273,
     "end_time": "2023-06-06T02:23:07.027981",
     "exception": false,
     "start_time": "2023-06-06T02:23:07.005708",
     "status": "completed"
    },
    "tags": []
   },
   "source": [
    "## Step 9: Print out the model accuracy result"
   ]
  },
  {
   "cell_type": "markdown",
   "id": "dd8ddb9c",
   "metadata": {
    "papermill": {
     "duration": 0.022198,
     "end_time": "2023-06-06T02:23:07.072652",
     "exception": false,
     "start_time": "2023-06-06T02:23:07.050454",
     "status": "completed"
    },
    "tags": []
   },
   "source": [
    "Our code then calculates the accuracy, precision and recall scores using the SciKitLearn metrics module. I decide to use the classification_report function is part of the sklearn.metrics module and is used to generate a text-based report of various classification metrics for a machine learning model's performance. It provides a comprehensive overview of the model's precision, recall, F1-score, and support for each class."
   ]
  },
  {
   "cell_type": "code",
   "execution_count": 18,
   "id": "85776bd9",
   "metadata": {
    "execution": {
     "iopub.execute_input": "2023-06-06T02:23:07.118960Z",
     "iopub.status.busy": "2023-06-06T02:23:07.118558Z",
     "iopub.status.idle": "2023-06-06T02:23:07.143480Z",
     "shell.execute_reply": "2023-06-06T02:23:07.141741Z"
    },
    "papermill": {
     "duration": 0.051053,
     "end_time": "2023-06-06T02:23:07.145938",
     "exception": false,
     "start_time": "2023-06-06T02:23:07.094885",
     "status": "completed"
    },
    "tags": []
   },
   "outputs": [
    {
     "name": "stdout",
     "output_type": "stream",
     "text": [
      "              precision    recall  f1-score   support\n",
      "\n",
      "         neg       0.84      0.86      0.85       100\n",
      "         pos       0.86      0.84      0.85       100\n",
      "\n",
      "    accuracy                           0.85       200\n",
      "   macro avg       0.85      0.85      0.85       200\n",
      "weighted avg       0.85      0.85      0.85       200\n",
      "\n"
     ]
    }
   ],
   "source": [
    "report = classification_report(y_test, y_pred)\n",
    "print(report)"
   ]
  },
  {
   "cell_type": "markdown",
   "id": "3f9b0d31",
   "metadata": {
    "papermill": {
     "duration": 0.021603,
     "end_time": "2023-06-06T02:23:07.190160",
     "exception": false,
     "start_time": "2023-06-06T02:23:07.168557",
     "status": "completed"
    },
    "tags": []
   },
   "source": [
    "Let's break down the different metrics in the report:\n",
    "\n",
    "Precision: Precision is the ratio of correctly predicted positive or negative instances to the total predicted positive or negative instances. In this case, the precision for the \"neg\" (negative) class is 0.84, which means that 84% of the instances predicted as negative were actually negative. The precision for the \"pos\" (positive) class is 0.86, indicating that 86% of the instances predicted as positive were actually positive.\n",
    "\n",
    "Recall: Recall, also known as sensitivity or true positive rate, is the ratio of correctly predicted positive or negative instances to the total actual positive or negative instances. The recall for the \"neg\" class is 0.86, meaning that 86% of the actual negative instances were correctly identified as negative. The recall for the \"pos\" class is 0.84, indicating that 84% of the actual positive instances were correctly identified as positive.\n",
    "\n",
    "F1-score: The F1-score is the harmonic mean of precision and recall. It provides a balanced measure of both metrics. In this case, the F1-score is 0.85 for both the \"neg\" and \"pos\" classes, indicating a good balance between precision and recall for both classes.\n",
    "\n",
    "Support: Support represents the number of actual occurrences of each class in the test set. In this case, both the \"neg\" and \"pos\" classes have a support of 100, meaning there are 100 instances of each class in the test set.\n",
    "\n",
    "Accuracy: Accuracy is the overall percentage of correctly predicted instances out of the total instances. The accuracy of the model is 0.85, meaning that it correctly predicted the sentiment for 85% of the instances in the test set.\n",
    "\n",
    "Macro Average: The macro average is the average of precision, recall, and F1-score across all classes. In this case, the macro average for precision, recall, and F1-score is 0.85, indicating a balanced performance across both classes.\n",
    "\n",
    "Weighted Average: The weighted average is the weighted average of precision, recall, and F1-score, taking into account the support (number of instances) for each class. In this case, the weighted average for precision, recall, and F1-score is 0.85, indicating a balanced performance considering the class distribution in the test set.\n",
    "\n",
    "Overall, the classification report shows that the model has achieved good performance with similar precision, recall, and F1-score for both the positive and negative classes. The accuracy of 85% suggests that the model is able to predict the sentiment of the movie reviews with reasonable accuracy. But there is still a room to improve the model accuracy."
   ]
  },
  {
   "cell_type": "markdown",
   "id": "426cb6f7",
   "metadata": {
    "papermill": {
     "duration": 0.021998,
     "end_time": "2023-06-06T02:23:07.234359",
     "exception": false,
     "start_time": "2023-06-06T02:23:07.212361",
     "status": "completed"
    },
    "tags": []
   },
   "source": [
    "## Step 10: Demonstrate Making Predictions"
   ]
  },
  {
   "cell_type": "markdown",
   "id": "1acd5342",
   "metadata": {
    "papermill": {
     "duration": 0.022171,
     "end_time": "2023-06-06T02:23:07.278607",
     "exception": false,
     "start_time": "2023-06-06T02:23:07.256436",
     "status": "completed"
    },
    "tags": []
   },
   "source": [
    "I decide to make up my own setense to check the model will make good result."
   ]
  },
  {
   "cell_type": "code",
   "execution_count": 19,
   "id": "568c8426",
   "metadata": {
    "execution": {
     "iopub.execute_input": "2023-06-06T02:23:07.324546Z",
     "iopub.status.busy": "2023-06-06T02:23:07.324086Z",
     "iopub.status.idle": "2023-06-06T02:23:07.336474Z",
     "shell.execute_reply": "2023-06-06T02:23:07.335194Z"
    },
    "papermill": {
     "duration": 0.038428,
     "end_time": "2023-06-06T02:23:07.339027",
     "exception": false,
     "start_time": "2023-06-06T02:23:07.300599",
     "status": "completed"
    },
    "tags": []
   },
   "outputs": [
    {
     "name": "stdout",
     "output_type": "stream",
     "text": [
      "['pos']\n"
     ]
    }
   ],
   "source": [
    "X_new = 'I really enjoy the movie and will watch it again with my friends.'\n",
    "X_new_vector = vectorizer.transform([X_new])\n",
    "print(model.predict(X_new_vector))"
   ]
  },
  {
   "cell_type": "markdown",
   "id": "2ef7409d",
   "metadata": {
    "papermill": {
     "duration": 0.021948,
     "end_time": "2023-06-06T02:23:07.383757",
     "exception": false,
     "start_time": "2023-06-06T02:23:07.361809",
     "status": "completed"
    },
    "tags": []
   },
   "source": [
    "It turns out that the model predicts the result as what I expected.But I need more datasets to test the result."
   ]
  },
  {
   "cell_type": "markdown",
   "id": "f668db15",
   "metadata": {
    "papermill": {
     "duration": 0.021843,
     "end_time": "2023-06-06T02:23:07.428033",
     "exception": false,
     "start_time": "2023-06-06T02:23:07.406190",
     "status": "completed"
    },
    "tags": []
   },
   "source": [
    "## Step 11: Model Experimentation"
   ]
  },
  {
   "cell_type": "markdown",
   "id": "a02f3505",
   "metadata": {
    "papermill": {
     "duration": 0.022114,
     "end_time": "2023-06-06T02:23:07.472273",
     "exception": false,
     "start_time": "2023-06-06T02:23:07.450159",
     "status": "completed"
    },
    "tags": []
   },
   "source": [
    "Experiment 1:\n",
    "\n",
    "I decide to apply some basic parameter like min_df, max_df, sublinear_tf, and use_idf in TfidfVectorizer class to see if I am able to improve the model accuracy."
   ]
  },
  {
   "cell_type": "markdown",
   "id": "12c769fa",
   "metadata": {
    "papermill": {
     "duration": 0.021755,
     "end_time": "2023-06-06T02:23:07.516199",
     "exception": false,
     "start_time": "2023-06-06T02:23:07.494444",
     "status": "completed"
    },
    "tags": []
   },
   "source": [
    "I need to use the raw data without vectorized to go through the training model to predict the result. So I want to apply few parameters in TfidfVectorizer() and keep SVC() as default."
   ]
  },
  {
   "cell_type": "code",
   "execution_count": 20,
   "id": "9bbf7bd7",
   "metadata": {
    "execution": {
     "iopub.execute_input": "2023-06-06T02:23:07.562608Z",
     "iopub.status.busy": "2023-06-06T02:23:07.562172Z",
     "iopub.status.idle": "2023-06-06T02:23:07.568692Z",
     "shell.execute_reply": "2023-06-06T02:23:07.567843Z"
    },
    "papermill": {
     "duration": 0.032161,
     "end_time": "2023-06-06T02:23:07.570776",
     "exception": false,
     "start_time": "2023-06-06T02:23:07.538615",
     "status": "completed"
    },
    "tags": []
   },
   "outputs": [],
   "source": [
    "X_train = reviews_training[\"Content\"]\n",
    "y_train = reviews_training[\"Label\"]\n",
    "X_test = reviews_test[\"Content\"]\n",
    "y_test = reviews_test[\"Label\"]"
   ]
  },
  {
   "cell_type": "code",
   "execution_count": 21,
   "id": "e862f7ce",
   "metadata": {
    "execution": {
     "iopub.execute_input": "2023-06-06T02:23:07.618861Z",
     "iopub.status.busy": "2023-06-06T02:23:07.618412Z",
     "iopub.status.idle": "2023-06-06T02:23:09.289038Z",
     "shell.execute_reply": "2023-06-06T02:23:09.287952Z"
    },
    "papermill": {
     "duration": 1.697874,
     "end_time": "2023-06-06T02:23:09.291683",
     "exception": false,
     "start_time": "2023-06-06T02:23:07.593809",
     "status": "completed"
    },
    "tags": []
   },
   "outputs": [],
   "source": [
    "vectorizer = TfidfVectorizer(min_df = 1, max_df = 1.0, sublinear_tf = True, use_idf = True)\n",
    "X_train = vectorizer.fit_transform(X_train)\n",
    "X_test = vectorizer.transform(X_test)\n"
   ]
  },
  {
   "cell_type": "code",
   "execution_count": 22,
   "id": "66b65ce3",
   "metadata": {
    "execution": {
     "iopub.execute_input": "2023-06-06T02:23:09.339153Z",
     "iopub.status.busy": "2023-06-06T02:23:09.338692Z",
     "iopub.status.idle": "2023-06-06T02:23:21.189731Z",
     "shell.execute_reply": "2023-06-06T02:23:21.188586Z"
    },
    "papermill": {
     "duration": 11.877657,
     "end_time": "2023-06-06T02:23:21.192105",
     "exception": false,
     "start_time": "2023-06-06T02:23:09.314448",
     "status": "completed"
    },
    "tags": []
   },
   "outputs": [
    {
     "data": {
      "text/html": [
       "<style>#sk-container-id-2 {color: black;background-color: white;}#sk-container-id-2 pre{padding: 0;}#sk-container-id-2 div.sk-toggleable {background-color: white;}#sk-container-id-2 label.sk-toggleable__label {cursor: pointer;display: block;width: 100%;margin-bottom: 0;padding: 0.3em;box-sizing: border-box;text-align: center;}#sk-container-id-2 label.sk-toggleable__label-arrow:before {content: \"▸\";float: left;margin-right: 0.25em;color: #696969;}#sk-container-id-2 label.sk-toggleable__label-arrow:hover:before {color: black;}#sk-container-id-2 div.sk-estimator:hover label.sk-toggleable__label-arrow:before {color: black;}#sk-container-id-2 div.sk-toggleable__content {max-height: 0;max-width: 0;overflow: hidden;text-align: left;background-color: #f0f8ff;}#sk-container-id-2 div.sk-toggleable__content pre {margin: 0.2em;color: black;border-radius: 0.25em;background-color: #f0f8ff;}#sk-container-id-2 input.sk-toggleable__control:checked~div.sk-toggleable__content {max-height: 200px;max-width: 100%;overflow: auto;}#sk-container-id-2 input.sk-toggleable__control:checked~label.sk-toggleable__label-arrow:before {content: \"▾\";}#sk-container-id-2 div.sk-estimator input.sk-toggleable__control:checked~label.sk-toggleable__label {background-color: #d4ebff;}#sk-container-id-2 div.sk-label input.sk-toggleable__control:checked~label.sk-toggleable__label {background-color: #d4ebff;}#sk-container-id-2 input.sk-hidden--visually {border: 0;clip: rect(1px 1px 1px 1px);clip: rect(1px, 1px, 1px, 1px);height: 1px;margin: -1px;overflow: hidden;padding: 0;position: absolute;width: 1px;}#sk-container-id-2 div.sk-estimator {font-family: monospace;background-color: #f0f8ff;border: 1px dotted black;border-radius: 0.25em;box-sizing: border-box;margin-bottom: 0.5em;}#sk-container-id-2 div.sk-estimator:hover {background-color: #d4ebff;}#sk-container-id-2 div.sk-parallel-item::after {content: \"\";width: 100%;border-bottom: 1px solid gray;flex-grow: 1;}#sk-container-id-2 div.sk-label:hover label.sk-toggleable__label {background-color: #d4ebff;}#sk-container-id-2 div.sk-serial::before {content: \"\";position: absolute;border-left: 1px solid gray;box-sizing: border-box;top: 0;bottom: 0;left: 50%;z-index: 0;}#sk-container-id-2 div.sk-serial {display: flex;flex-direction: column;align-items: center;background-color: white;padding-right: 0.2em;padding-left: 0.2em;position: relative;}#sk-container-id-2 div.sk-item {position: relative;z-index: 1;}#sk-container-id-2 div.sk-parallel {display: flex;align-items: stretch;justify-content: center;background-color: white;position: relative;}#sk-container-id-2 div.sk-item::before, #sk-container-id-2 div.sk-parallel-item::before {content: \"\";position: absolute;border-left: 1px solid gray;box-sizing: border-box;top: 0;bottom: 0;left: 50%;z-index: -1;}#sk-container-id-2 div.sk-parallel-item {display: flex;flex-direction: column;z-index: 1;position: relative;background-color: white;}#sk-container-id-2 div.sk-parallel-item:first-child::after {align-self: flex-end;width: 50%;}#sk-container-id-2 div.sk-parallel-item:last-child::after {align-self: flex-start;width: 50%;}#sk-container-id-2 div.sk-parallel-item:only-child::after {width: 0;}#sk-container-id-2 div.sk-dashed-wrapped {border: 1px dashed gray;margin: 0 0.4em 0.5em 0.4em;box-sizing: border-box;padding-bottom: 0.4em;background-color: white;}#sk-container-id-2 div.sk-label label {font-family: monospace;font-weight: bold;display: inline-block;line-height: 1.2em;}#sk-container-id-2 div.sk-label-container {text-align: center;}#sk-container-id-2 div.sk-container {/* jupyter's `normalize.less` sets `[hidden] { display: none; }` but bootstrap.min.css set `[hidden] { display: none !important; }` so we also need the `!important` here to be able to override the default hidden behavior on the sphinx rendered scikit-learn.org. See: https://github.com/scikit-learn/scikit-learn/issues/21755 */display: inline-block !important;position: relative;}#sk-container-id-2 div.sk-text-repr-fallback {display: none;}</style><div id=\"sk-container-id-2\" class=\"sk-top-container\"><div class=\"sk-text-repr-fallback\"><pre>SVC()</pre><b>In a Jupyter environment, please rerun this cell to show the HTML representation or trust the notebook. <br />On GitHub, the HTML representation is unable to render, please try loading this page with nbviewer.org.</b></div><div class=\"sk-container\" hidden><div class=\"sk-item\"><div class=\"sk-estimator sk-toggleable\"><input class=\"sk-toggleable__control sk-hidden--visually\" id=\"sk-estimator-id-2\" type=\"checkbox\" checked><label for=\"sk-estimator-id-2\" class=\"sk-toggleable__label sk-toggleable__label-arrow\">SVC</label><div class=\"sk-toggleable__content\"><pre>SVC()</pre></div></div></div></div></div>"
      ],
      "text/plain": [
       "SVC()"
      ]
     },
     "execution_count": 22,
     "metadata": {},
     "output_type": "execute_result"
    }
   ],
   "source": [
    "model = SVC()\n",
    "model.fit(X_train, y_train)"
   ]
  },
  {
   "cell_type": "code",
   "execution_count": 23,
   "id": "8936b0e4",
   "metadata": {
    "execution": {
     "iopub.execute_input": "2023-06-06T02:23:21.238841Z",
     "iopub.status.busy": "2023-06-06T02:23:21.238130Z",
     "iopub.status.idle": "2023-06-06T02:23:22.665832Z",
     "shell.execute_reply": "2023-06-06T02:23:22.664675Z"
    },
    "papermill": {
     "duration": 1.454421,
     "end_time": "2023-06-06T02:23:22.668723",
     "exception": false,
     "start_time": "2023-06-06T02:23:21.214302",
     "status": "completed"
    },
    "tags": []
   },
   "outputs": [],
   "source": [
    "y_pred = model.predict(X_test)"
   ]
  },
  {
   "cell_type": "code",
   "execution_count": 24,
   "id": "a514c834",
   "metadata": {
    "execution": {
     "iopub.execute_input": "2023-06-06T02:23:22.715732Z",
     "iopub.status.busy": "2023-06-06T02:23:22.715002Z",
     "iopub.status.idle": "2023-06-06T02:23:22.736126Z",
     "shell.execute_reply": "2023-06-06T02:23:22.734948Z"
    },
    "papermill": {
     "duration": 0.047488,
     "end_time": "2023-06-06T02:23:22.738672",
     "exception": false,
     "start_time": "2023-06-06T02:23:22.691184",
     "status": "completed"
    },
    "tags": []
   },
   "outputs": [
    {
     "name": "stdout",
     "output_type": "stream",
     "text": [
      "              precision    recall  f1-score   support\n",
      "\n",
      "         neg       0.90      0.90      0.90       100\n",
      "         pos       0.90      0.90      0.90       100\n",
      "\n",
      "    accuracy                           0.90       200\n",
      "   macro avg       0.90      0.90      0.90       200\n",
      "weighted avg       0.90      0.90      0.90       200\n",
      "\n"
     ]
    }
   ],
   "source": [
    "report = classification_report(y_test, y_pred)\n",
    "print(report)"
   ]
  },
  {
   "cell_type": "markdown",
   "id": "dc7853a7",
   "metadata": {
    "papermill": {
     "duration": 0.022335,
     "end_time": "2023-06-06T02:23:22.783377",
     "exception": false,
     "start_time": "2023-06-06T02:23:22.761042",
     "status": "completed"
    },
    "tags": []
   },
   "source": [
    "Let's break down the different metrics in the report:\n",
    "\n",
    "Precision: Precision is the ratio of correctly predicted positive or negative instances to the total predicted positive or negative instances. In this case, the precision for the \"neg\" (negative) class is 0.90, which means that 90% of the instances predicted as negative were actually negative. The precision for the \"pos\" (positive) class is 0.90, indicating that 90%  of the instances predicted as positive were actually positive.\n",
    "\n",
    "Recall: Recall, also known as sensitivity or true positive rate, is the ratio of correctly predicted positive or negative instances to the total actual positive or negative instances. The recall for the \"neg\" class is 0.90, meaning that 90% of the actual negative instances were correctly identified as negative. The recall for the \"pos\" class is 0.90, indicating that 90% of the actual positive instances were correctly identified as positive.\n",
    "\n",
    "F1-score: The F1-score is the harmonic mean of precision and recall. It provides a balanced measure of both metrics. In this case, the F1-score is 0.90 for both the \"neg\" and \"pos\" classes, indicating a good balance between precision and recall for both classes.\n",
    "\n",
    "Support: Support represents the number of actual occurrences of each class in the test set. In this case, both the \"neg\" and \"pos\" classes have a support of 100, meaning there are 100 instances of each class in the test set.\n",
    "\n",
    "Accuracy: Accuracy is the overall percentage of correctly predicted instances out of the total instances. The accuracy of the model is 0.90, meaning that it correctly predicted the sentiment for 90% of the instances in the test set.\n",
    "\n",
    "Macro Average: The macro average is the average of precision, recall, and F1-score across all classes. In this case, the macro average for precision, recall, and F1-score is 0.90, indicating a balanced performance across both classes.\n",
    "\n",
    "Weighted Average: The weighted average is the weighted average of precision, recall, and F1-score, taking into account the support (number of instances) for each class. In this case, the weighted average for precision, recall, and F1-score is 0.90, indicating a balanced performance considering the class distribution in the test set.\n",
    "\n",
    "Overall, the classification report shows that the model has achieved good performance with similar precision, recall, and F1-score for both the positive and negative classes. The accuracy of 90% suggests that the model is able to predict the sentiment of the movie reviews with reasonable accuracy. But there is still a room to improve the model accuracy."
   ]
  },
  {
   "cell_type": "markdown",
   "id": "c7d3716a",
   "metadata": {
    "papermill": {
     "duration": 0.022862,
     "end_time": "2023-06-06T02:23:22.828689",
     "exception": false,
     "start_time": "2023-06-06T02:23:22.805827",
     "status": "completed"
    },
    "tags": []
   },
   "source": [
    "Experiment 2: \n",
    "\n",
    "I apply other parameters like max_features: It specifies the maximum number of features (terms) to be extracted from the text data. vocabulary: It allows you to provide a custom vocabulary (a set of terms) to be used for vectorization.binary: It determines whether the TF-IDF values are binary or non-binary. Setting binary=True means that all non-zero term counts will be set to 1, resulting in binary TF-IDF values. norm: It specifies the normalization method for the TF-IDF matrix. The default value is 'l2', which normalizes each document's TF-IDF vector to have a Euclidean norm of 1 to see if I will be able to improve the model accuracy."
   ]
  },
  {
   "cell_type": "markdown",
   "id": "8bba2b5a",
   "metadata": {
    "papermill": {
     "duration": 0.022135,
     "end_time": "2023-06-06T02:23:22.873326",
     "exception": false,
     "start_time": "2023-06-06T02:23:22.851191",
     "status": "completed"
    },
    "tags": []
   },
   "source": [
    "I need to use the raw data without vectorized to go through the training model to predict the result. So I want to apply more parameters in TfidfVectorizer() and keep SVC() as default."
   ]
  },
  {
   "cell_type": "code",
   "execution_count": 25,
   "id": "6179ec08",
   "metadata": {
    "execution": {
     "iopub.execute_input": "2023-06-06T02:23:22.920542Z",
     "iopub.status.busy": "2023-06-06T02:23:22.919857Z",
     "iopub.status.idle": "2023-06-06T02:23:22.925181Z",
     "shell.execute_reply": "2023-06-06T02:23:22.924405Z"
    },
    "papermill": {
     "duration": 0.0317,
     "end_time": "2023-06-06T02:23:22.927507",
     "exception": false,
     "start_time": "2023-06-06T02:23:22.895807",
     "status": "completed"
    },
    "tags": []
   },
   "outputs": [],
   "source": [
    "X_train = reviews_training[\"Content\"]\n",
    "y_train = reviews_training[\"Label\"]\n",
    "X_test = reviews_test[\"Content\"]\n",
    "y_test = reviews_test[\"Label\"]"
   ]
  },
  {
   "cell_type": "code",
   "execution_count": 26,
   "id": "09c0dada",
   "metadata": {
    "execution": {
     "iopub.execute_input": "2023-06-06T02:23:22.974648Z",
     "iopub.status.busy": "2023-06-06T02:23:22.974215Z",
     "iopub.status.idle": "2023-06-06T02:23:24.634506Z",
     "shell.execute_reply": "2023-06-06T02:23:24.633145Z"
    },
    "papermill": {
     "duration": 1.687527,
     "end_time": "2023-06-06T02:23:24.637424",
     "exception": false,
     "start_time": "2023-06-06T02:23:22.949897",
     "status": "completed"
    },
    "tags": []
   },
   "outputs": [],
   "source": [
    "vectorizer = TfidfVectorizer(max_df=1.0, min_df=1, max_features=10000, vocabulary=None, binary=True,norm='l2', use_idf=True, smooth_idf=True, sublinear_tf=True)\n",
    "X_train = vectorizer.fit_transform(X_train)\n",
    "X_test = vectorizer.transform(X_test)"
   ]
  },
  {
   "cell_type": "code",
   "execution_count": 27,
   "id": "728c8fb4",
   "metadata": {
    "execution": {
     "iopub.execute_input": "2023-06-06T02:23:24.684910Z",
     "iopub.status.busy": "2023-06-06T02:23:24.684217Z",
     "iopub.status.idle": "2023-06-06T02:23:35.360408Z",
     "shell.execute_reply": "2023-06-06T02:23:35.359206Z"
    },
    "papermill": {
     "duration": 10.702808,
     "end_time": "2023-06-06T02:23:35.362822",
     "exception": false,
     "start_time": "2023-06-06T02:23:24.660014",
     "status": "completed"
    },
    "tags": []
   },
   "outputs": [
    {
     "data": {
      "text/html": [
       "<style>#sk-container-id-3 {color: black;background-color: white;}#sk-container-id-3 pre{padding: 0;}#sk-container-id-3 div.sk-toggleable {background-color: white;}#sk-container-id-3 label.sk-toggleable__label {cursor: pointer;display: block;width: 100%;margin-bottom: 0;padding: 0.3em;box-sizing: border-box;text-align: center;}#sk-container-id-3 label.sk-toggleable__label-arrow:before {content: \"▸\";float: left;margin-right: 0.25em;color: #696969;}#sk-container-id-3 label.sk-toggleable__label-arrow:hover:before {color: black;}#sk-container-id-3 div.sk-estimator:hover label.sk-toggleable__label-arrow:before {color: black;}#sk-container-id-3 div.sk-toggleable__content {max-height: 0;max-width: 0;overflow: hidden;text-align: left;background-color: #f0f8ff;}#sk-container-id-3 div.sk-toggleable__content pre {margin: 0.2em;color: black;border-radius: 0.25em;background-color: #f0f8ff;}#sk-container-id-3 input.sk-toggleable__control:checked~div.sk-toggleable__content {max-height: 200px;max-width: 100%;overflow: auto;}#sk-container-id-3 input.sk-toggleable__control:checked~label.sk-toggleable__label-arrow:before {content: \"▾\";}#sk-container-id-3 div.sk-estimator input.sk-toggleable__control:checked~label.sk-toggleable__label {background-color: #d4ebff;}#sk-container-id-3 div.sk-label input.sk-toggleable__control:checked~label.sk-toggleable__label {background-color: #d4ebff;}#sk-container-id-3 input.sk-hidden--visually {border: 0;clip: rect(1px 1px 1px 1px);clip: rect(1px, 1px, 1px, 1px);height: 1px;margin: -1px;overflow: hidden;padding: 0;position: absolute;width: 1px;}#sk-container-id-3 div.sk-estimator {font-family: monospace;background-color: #f0f8ff;border: 1px dotted black;border-radius: 0.25em;box-sizing: border-box;margin-bottom: 0.5em;}#sk-container-id-3 div.sk-estimator:hover {background-color: #d4ebff;}#sk-container-id-3 div.sk-parallel-item::after {content: \"\";width: 100%;border-bottom: 1px solid gray;flex-grow: 1;}#sk-container-id-3 div.sk-label:hover label.sk-toggleable__label {background-color: #d4ebff;}#sk-container-id-3 div.sk-serial::before {content: \"\";position: absolute;border-left: 1px solid gray;box-sizing: border-box;top: 0;bottom: 0;left: 50%;z-index: 0;}#sk-container-id-3 div.sk-serial {display: flex;flex-direction: column;align-items: center;background-color: white;padding-right: 0.2em;padding-left: 0.2em;position: relative;}#sk-container-id-3 div.sk-item {position: relative;z-index: 1;}#sk-container-id-3 div.sk-parallel {display: flex;align-items: stretch;justify-content: center;background-color: white;position: relative;}#sk-container-id-3 div.sk-item::before, #sk-container-id-3 div.sk-parallel-item::before {content: \"\";position: absolute;border-left: 1px solid gray;box-sizing: border-box;top: 0;bottom: 0;left: 50%;z-index: -1;}#sk-container-id-3 div.sk-parallel-item {display: flex;flex-direction: column;z-index: 1;position: relative;background-color: white;}#sk-container-id-3 div.sk-parallel-item:first-child::after {align-self: flex-end;width: 50%;}#sk-container-id-3 div.sk-parallel-item:last-child::after {align-self: flex-start;width: 50%;}#sk-container-id-3 div.sk-parallel-item:only-child::after {width: 0;}#sk-container-id-3 div.sk-dashed-wrapped {border: 1px dashed gray;margin: 0 0.4em 0.5em 0.4em;box-sizing: border-box;padding-bottom: 0.4em;background-color: white;}#sk-container-id-3 div.sk-label label {font-family: monospace;font-weight: bold;display: inline-block;line-height: 1.2em;}#sk-container-id-3 div.sk-label-container {text-align: center;}#sk-container-id-3 div.sk-container {/* jupyter's `normalize.less` sets `[hidden] { display: none; }` but bootstrap.min.css set `[hidden] { display: none !important; }` so we also need the `!important` here to be able to override the default hidden behavior on the sphinx rendered scikit-learn.org. See: https://github.com/scikit-learn/scikit-learn/issues/21755 */display: inline-block !important;position: relative;}#sk-container-id-3 div.sk-text-repr-fallback {display: none;}</style><div id=\"sk-container-id-3\" class=\"sk-top-container\"><div class=\"sk-text-repr-fallback\"><pre>SVC()</pre><b>In a Jupyter environment, please rerun this cell to show the HTML representation or trust the notebook. <br />On GitHub, the HTML representation is unable to render, please try loading this page with nbviewer.org.</b></div><div class=\"sk-container\" hidden><div class=\"sk-item\"><div class=\"sk-estimator sk-toggleable\"><input class=\"sk-toggleable__control sk-hidden--visually\" id=\"sk-estimator-id-3\" type=\"checkbox\" checked><label for=\"sk-estimator-id-3\" class=\"sk-toggleable__label sk-toggleable__label-arrow\">SVC</label><div class=\"sk-toggleable__content\"><pre>SVC()</pre></div></div></div></div></div>"
      ],
      "text/plain": [
       "SVC()"
      ]
     },
     "execution_count": 27,
     "metadata": {},
     "output_type": "execute_result"
    }
   ],
   "source": [
    "model = SVC()\n",
    "model.fit(X_train, y_train)"
   ]
  },
  {
   "cell_type": "code",
   "execution_count": 28,
   "id": "327614a7",
   "metadata": {
    "execution": {
     "iopub.execute_input": "2023-06-06T02:23:35.411900Z",
     "iopub.status.busy": "2023-06-06T02:23:35.410801Z",
     "iopub.status.idle": "2023-06-06T02:23:36.713588Z",
     "shell.execute_reply": "2023-06-06T02:23:36.712338Z"
    },
    "papermill": {
     "duration": 1.329951,
     "end_time": "2023-06-06T02:23:36.716478",
     "exception": false,
     "start_time": "2023-06-06T02:23:35.386527",
     "status": "completed"
    },
    "tags": []
   },
   "outputs": [],
   "source": [
    "y_pred = model.predict(X_test)"
   ]
  },
  {
   "cell_type": "code",
   "execution_count": 29,
   "id": "b574ea2b",
   "metadata": {
    "execution": {
     "iopub.execute_input": "2023-06-06T02:23:36.765625Z",
     "iopub.status.busy": "2023-06-06T02:23:36.765110Z",
     "iopub.status.idle": "2023-06-06T02:23:36.792418Z",
     "shell.execute_reply": "2023-06-06T02:23:36.791623Z"
    },
    "papermill": {
     "duration": 0.055387,
     "end_time": "2023-06-06T02:23:36.795715",
     "exception": false,
     "start_time": "2023-06-06T02:23:36.740328",
     "status": "completed"
    },
    "tags": []
   },
   "outputs": [
    {
     "name": "stdout",
     "output_type": "stream",
     "text": [
      "              precision    recall  f1-score   support\n",
      "\n",
      "         neg       0.90      0.93      0.92       100\n",
      "         pos       0.93      0.90      0.91       100\n",
      "\n",
      "    accuracy                           0.92       200\n",
      "   macro avg       0.92      0.92      0.91       200\n",
      "weighted avg       0.92      0.92      0.91       200\n",
      "\n"
     ]
    }
   ],
   "source": [
    "report = classification_report(y_test, y_pred)\n",
    "print(report)"
   ]
  },
  {
   "cell_type": "markdown",
   "id": "2ca4d367",
   "metadata": {
    "papermill": {
     "duration": 0.023834,
     "end_time": "2023-06-06T02:23:36.842487",
     "exception": false,
     "start_time": "2023-06-06T02:23:36.818653",
     "status": "completed"
    },
    "tags": []
   },
   "source": [
    "Let's break down the different metrics in the report:\n",
    "\n",
    "Precision: Precision is the ratio of correctly predicted positive or negative instances to the total predicted positive or negative instances. In this case, the precision for the \"neg\" (negative) class is 0.90, which means that 90% of the instances predicted as negative were actually negative. The precision for the \"pos\" (positive) class is 0.93, indicating that 93% of the instances predicted as positive were actually positive.\n",
    "\n",
    "Recall: Recall, also known as sensitivity or true positive rate, is the ratio of correctly predicted positive or negative instances to the total actual positive or negative instances. The recall for the \"neg\" class is 0.93, meaning that 93% of the actual negative instances were correctly identified as negative. The recall for the \"pos\" class is 0.90, indicating that 90% of the actual positive instances were correctly identified as positive.\n",
    "\n",
    "F1-score: The F1-score is the harmonic mean of precision and recall. It provides a balanced measure of both metrics. In this case, the F1-score is 0.92 for the \"neg\" and 0.91 for the \"pos\" classes, indicating a good balance between precision and recall for both classes.\n",
    "\n",
    "Support: Support represents the number of actual occurrences of each class in the test set. In this case, both the \"neg\" and \"pos\" classes have a support of 100, meaning there are 100 instances of each class in the test set.\n",
    "\n",
    "Accuracy: Accuracy is the overall percentage of correctly predicted instances out of the total instances. The accuracy of the model is 0.92, meaning that it correctly predicted the sentiment for 92% of the instances in the test set.\n",
    "\n",
    "Macro Average: The macro average is the average of precision, recall, and F1-score across all classes. In this case, the macro average for precision, recall, and F1-score is 0.92, indicating a balanced performance across both classes.\n",
    "\n",
    "Weighted Average: The weighted average is the weighted average of precision, recall, and F1-score, taking into account the support (number of instances) for each class. In this case, the weighted average for precision, recall, and F1-score is 0.91, indicating a balanced performance considering the class distribution in the test set.\n",
    "\n",
    "Overall, the classification report shows that the model has achieved good performance with similar precision, recall, and F1-score for both the positive and negative classes. The accuracy of 92% suggests that the model is able to predict the sentiment of the movie reviews with reasonable accuracy. But there is still a room to improve the model accuracy."
   ]
  },
  {
   "cell_type": "markdown",
   "id": "967128ec",
   "metadata": {
    "papermill": {
     "duration": 0.023319,
     "end_time": "2023-06-06T02:23:36.889854",
     "exception": false,
     "start_time": "2023-06-06T02:23:36.866535",
     "status": "completed"
    },
    "tags": []
   },
   "source": [
    "Experiment 3: \n",
    "\n",
    "I will keep the parameters in TfidfVectorizer the same as experiement 2 and I will change the parameters in the SVM model to see if I am able to improve model accuracy."
   ]
  },
  {
   "cell_type": "markdown",
   "id": "0e92910d",
   "metadata": {
    "papermill": {
     "duration": 0.023037,
     "end_time": "2023-06-06T02:23:36.935820",
     "exception": false,
     "start_time": "2023-06-06T02:23:36.912783",
     "status": "completed"
    },
    "tags": []
   },
   "source": [
    "I need to use the raw data without vectorized to go through the training model to predict the result. So I want to apply more parameters in TfidfVectorizer() and keep parameter in SVC() as well."
   ]
  },
  {
   "cell_type": "code",
   "execution_count": 30,
   "id": "609daeeb",
   "metadata": {
    "execution": {
     "iopub.execute_input": "2023-06-06T02:23:36.984366Z",
     "iopub.status.busy": "2023-06-06T02:23:36.983254Z",
     "iopub.status.idle": "2023-06-06T02:23:36.988357Z",
     "shell.execute_reply": "2023-06-06T02:23:36.987571Z"
    },
    "papermill": {
     "duration": 0.031798,
     "end_time": "2023-06-06T02:23:36.990412",
     "exception": false,
     "start_time": "2023-06-06T02:23:36.958614",
     "status": "completed"
    },
    "tags": []
   },
   "outputs": [],
   "source": [
    "X_train = reviews_training[\"Content\"]\n",
    "y_train = reviews_training[\"Label\"]\n",
    "X_test = reviews_test[\"Content\"]\n",
    "y_test = reviews_test[\"Label\"]"
   ]
  },
  {
   "cell_type": "code",
   "execution_count": 31,
   "id": "940e0bf8",
   "metadata": {
    "execution": {
     "iopub.execute_input": "2023-06-06T02:23:37.038648Z",
     "iopub.status.busy": "2023-06-06T02:23:37.037529Z",
     "iopub.status.idle": "2023-06-06T02:23:38.722785Z",
     "shell.execute_reply": "2023-06-06T02:23:38.721882Z"
    },
    "papermill": {
     "duration": 1.712226,
     "end_time": "2023-06-06T02:23:38.725450",
     "exception": false,
     "start_time": "2023-06-06T02:23:37.013224",
     "status": "completed"
    },
    "tags": []
   },
   "outputs": [],
   "source": [
    "vectorizer = TfidfVectorizer(max_df=1.0, min_df=1, max_features=10000, vocabulary=None, binary=True,norm='l2', use_idf=True, smooth_idf=True, sublinear_tf=True)\n",
    "X_train = vectorizer.fit_transform(X_train)\n",
    "X_test = vectorizer.transform(X_test)"
   ]
  },
  {
   "cell_type": "code",
   "execution_count": 32,
   "id": "24ce1e6d",
   "metadata": {
    "execution": {
     "iopub.execute_input": "2023-06-06T02:23:38.774058Z",
     "iopub.status.busy": "2023-06-06T02:23:38.773299Z",
     "iopub.status.idle": "2023-06-06T02:23:49.526116Z",
     "shell.execute_reply": "2023-06-06T02:23:49.525256Z"
    },
    "papermill": {
     "duration": 10.779893,
     "end_time": "2023-06-06T02:23:49.528599",
     "exception": false,
     "start_time": "2023-06-06T02:23:38.748706",
     "status": "completed"
    },
    "tags": []
   },
   "outputs": [
    {
     "data": {
      "text/html": [
       "<style>#sk-container-id-4 {color: black;background-color: white;}#sk-container-id-4 pre{padding: 0;}#sk-container-id-4 div.sk-toggleable {background-color: white;}#sk-container-id-4 label.sk-toggleable__label {cursor: pointer;display: block;width: 100%;margin-bottom: 0;padding: 0.3em;box-sizing: border-box;text-align: center;}#sk-container-id-4 label.sk-toggleable__label-arrow:before {content: \"▸\";float: left;margin-right: 0.25em;color: #696969;}#sk-container-id-4 label.sk-toggleable__label-arrow:hover:before {color: black;}#sk-container-id-4 div.sk-estimator:hover label.sk-toggleable__label-arrow:before {color: black;}#sk-container-id-4 div.sk-toggleable__content {max-height: 0;max-width: 0;overflow: hidden;text-align: left;background-color: #f0f8ff;}#sk-container-id-4 div.sk-toggleable__content pre {margin: 0.2em;color: black;border-radius: 0.25em;background-color: #f0f8ff;}#sk-container-id-4 input.sk-toggleable__control:checked~div.sk-toggleable__content {max-height: 200px;max-width: 100%;overflow: auto;}#sk-container-id-4 input.sk-toggleable__control:checked~label.sk-toggleable__label-arrow:before {content: \"▾\";}#sk-container-id-4 div.sk-estimator input.sk-toggleable__control:checked~label.sk-toggleable__label {background-color: #d4ebff;}#sk-container-id-4 div.sk-label input.sk-toggleable__control:checked~label.sk-toggleable__label {background-color: #d4ebff;}#sk-container-id-4 input.sk-hidden--visually {border: 0;clip: rect(1px 1px 1px 1px);clip: rect(1px, 1px, 1px, 1px);height: 1px;margin: -1px;overflow: hidden;padding: 0;position: absolute;width: 1px;}#sk-container-id-4 div.sk-estimator {font-family: monospace;background-color: #f0f8ff;border: 1px dotted black;border-radius: 0.25em;box-sizing: border-box;margin-bottom: 0.5em;}#sk-container-id-4 div.sk-estimator:hover {background-color: #d4ebff;}#sk-container-id-4 div.sk-parallel-item::after {content: \"\";width: 100%;border-bottom: 1px solid gray;flex-grow: 1;}#sk-container-id-4 div.sk-label:hover label.sk-toggleable__label {background-color: #d4ebff;}#sk-container-id-4 div.sk-serial::before {content: \"\";position: absolute;border-left: 1px solid gray;box-sizing: border-box;top: 0;bottom: 0;left: 50%;z-index: 0;}#sk-container-id-4 div.sk-serial {display: flex;flex-direction: column;align-items: center;background-color: white;padding-right: 0.2em;padding-left: 0.2em;position: relative;}#sk-container-id-4 div.sk-item {position: relative;z-index: 1;}#sk-container-id-4 div.sk-parallel {display: flex;align-items: stretch;justify-content: center;background-color: white;position: relative;}#sk-container-id-4 div.sk-item::before, #sk-container-id-4 div.sk-parallel-item::before {content: \"\";position: absolute;border-left: 1px solid gray;box-sizing: border-box;top: 0;bottom: 0;left: 50%;z-index: -1;}#sk-container-id-4 div.sk-parallel-item {display: flex;flex-direction: column;z-index: 1;position: relative;background-color: white;}#sk-container-id-4 div.sk-parallel-item:first-child::after {align-self: flex-end;width: 50%;}#sk-container-id-4 div.sk-parallel-item:last-child::after {align-self: flex-start;width: 50%;}#sk-container-id-4 div.sk-parallel-item:only-child::after {width: 0;}#sk-container-id-4 div.sk-dashed-wrapped {border: 1px dashed gray;margin: 0 0.4em 0.5em 0.4em;box-sizing: border-box;padding-bottom: 0.4em;background-color: white;}#sk-container-id-4 div.sk-label label {font-family: monospace;font-weight: bold;display: inline-block;line-height: 1.2em;}#sk-container-id-4 div.sk-label-container {text-align: center;}#sk-container-id-4 div.sk-container {/* jupyter's `normalize.less` sets `[hidden] { display: none; }` but bootstrap.min.css set `[hidden] { display: none !important; }` so we also need the `!important` here to be able to override the default hidden behavior on the sphinx rendered scikit-learn.org. See: https://github.com/scikit-learn/scikit-learn/issues/21755 */display: inline-block !important;position: relative;}#sk-container-id-4 div.sk-text-repr-fallback {display: none;}</style><div id=\"sk-container-id-4\" class=\"sk-top-container\"><div class=\"sk-text-repr-fallback\"><pre>SVC(coef0=1.0, degree=4, kernel=&#x27;poly&#x27;)</pre><b>In a Jupyter environment, please rerun this cell to show the HTML representation or trust the notebook. <br />On GitHub, the HTML representation is unable to render, please try loading this page with nbviewer.org.</b></div><div class=\"sk-container\" hidden><div class=\"sk-item\"><div class=\"sk-estimator sk-toggleable\"><input class=\"sk-toggleable__control sk-hidden--visually\" id=\"sk-estimator-id-4\" type=\"checkbox\" checked><label for=\"sk-estimator-id-4\" class=\"sk-toggleable__label sk-toggleable__label-arrow\">SVC</label><div class=\"sk-toggleable__content\"><pre>SVC(coef0=1.0, degree=4, kernel=&#x27;poly&#x27;)</pre></div></div></div></div></div>"
      ],
      "text/plain": [
       "SVC(coef0=1.0, degree=4, kernel='poly')"
      ]
     },
     "execution_count": 32,
     "metadata": {},
     "output_type": "execute_result"
    }
   ],
   "source": [
    "model = SVC(kernel='poly', C=1.0, gamma =  'scale', degree=4, coef0=1.0)\n",
    "model.fit(X_train, y_train)"
   ]
  },
  {
   "cell_type": "code",
   "execution_count": 33,
   "id": "357cb75c",
   "metadata": {
    "execution": {
     "iopub.execute_input": "2023-06-06T02:23:49.578426Z",
     "iopub.status.busy": "2023-06-06T02:23:49.577797Z",
     "iopub.status.idle": "2023-06-06T02:23:50.760240Z",
     "shell.execute_reply": "2023-06-06T02:23:50.759053Z"
    },
    "papermill": {
     "duration": 1.210358,
     "end_time": "2023-06-06T02:23:50.763153",
     "exception": false,
     "start_time": "2023-06-06T02:23:49.552795",
     "status": "completed"
    },
    "tags": []
   },
   "outputs": [],
   "source": [
    "y_pred = model.predict(X_test)"
   ]
  },
  {
   "cell_type": "code",
   "execution_count": 34,
   "id": "47373de2",
   "metadata": {
    "execution": {
     "iopub.execute_input": "2023-06-06T02:23:50.811822Z",
     "iopub.status.busy": "2023-06-06T02:23:50.811423Z",
     "iopub.status.idle": "2023-06-06T02:23:50.834616Z",
     "shell.execute_reply": "2023-06-06T02:23:50.833290Z"
    },
    "papermill": {
     "duration": 0.050973,
     "end_time": "2023-06-06T02:23:50.837291",
     "exception": false,
     "start_time": "2023-06-06T02:23:50.786318",
     "status": "completed"
    },
    "tags": []
   },
   "outputs": [
    {
     "name": "stdout",
     "output_type": "stream",
     "text": [
      "              precision    recall  f1-score   support\n",
      "\n",
      "         neg       0.91      0.95      0.93       100\n",
      "         pos       0.95      0.91      0.93       100\n",
      "\n",
      "    accuracy                           0.93       200\n",
      "   macro avg       0.93      0.93      0.93       200\n",
      "weighted avg       0.93      0.93      0.93       200\n",
      "\n"
     ]
    }
   ],
   "source": [
    "report = classification_report(y_test, y_pred)\n",
    "print(report)"
   ]
  },
  {
   "cell_type": "markdown",
   "id": "c4132470",
   "metadata": {
    "papermill": {
     "duration": 0.02281,
     "end_time": "2023-06-06T02:23:50.883992",
     "exception": false,
     "start_time": "2023-06-06T02:23:50.861182",
     "status": "completed"
    },
    "tags": []
   },
   "source": [
    "Let's break down the different metrics in the report:\n",
    "\n",
    "Precision: Precision is the ratio of correctly predicted positive or negative instances to the total predicted positive or negative instances. In this case, the precision for the \"neg\" (negative) class is 0.91, which means that 91% of the instances predicted as negative were actually negative. The precision for the \"pos\" (positive) class is 0.95, indicating that 95% of the instances predicted as positive were actually positive.\n",
    "\n",
    "Recall: Recall, also known as sensitivity or true positive rate, is the ratio of correctly predicted positive or negative instances to the total actual positive or negative instances. The recall for the \"neg\" class is 0.95, meaning that 95% of the actual negative instances were correctly identified as negative. The recall for the \"pos\" class is 0.91, indicating that 91% of the actual positive instances were correctly identified as positive.\n",
    "\n",
    "F1-score: The F1-score is the harmonic mean of precision and recall. It provides a balanced measure of both metrics. In this case, the F1-score is 0.93 for the \"neg\" and 0.91 for the \"pos\" classes, indicating a good balance between precision and recall for both classes.\n",
    "\n",
    "Support: Support represents the number of actual occurrences of each class in the test set. In this case, both the \"neg\" and \"pos\" classes have a support of 100, meaning there are 100 instances of each class in the test set.\n",
    "\n",
    "Accuracy: Accuracy is the overall percentage of correctly predicted instances out of the total instances. The accuracy of the model is 0.93, meaning that it correctly predicted the sentiment for 93% of the instances in the test set.\n",
    "\n",
    "Macro Average: The macro average is the average of precision, recall, and F1-score across all classes. In this case, the macro average for precision, recall, and F1-score is 0.93, indicating a balanced performance across both classes.\n",
    "\n",
    "Weighted Average: The weighted average is the weighted average of precision, recall, and F1-score, taking into account the support (number of instances) for each class. In this case, the weighted average for precision, recall, and F1-score is 0.93, indicating a balanced performance considering the class distribution in the test set.\n",
    "\n",
    "Overall, the classification report shows that the model has achieved good performance with similar precision, recall, and F1-score for both the positive and negative classes. The accuracy of 93% suggests that the model is able to predict the sentiment of the movie reviews with reasonable accuracy. This is the best experiment result I have so far."
   ]
  },
  {
   "cell_type": "markdown",
   "id": "8e5ce7b8",
   "metadata": {
    "papermill": {
     "duration": 0.022759,
     "end_time": "2023-06-06T02:23:50.930049",
     "exception": false,
     "start_time": "2023-06-06T02:23:50.907290",
     "status": "completed"
    },
    "tags": []
   },
   "source": [
    "## Conclusion"
   ]
  },
  {
   "cell_type": "markdown",
   "id": "89111b60",
   "metadata": {
    "papermill": {
     "duration": 0.022845,
     "end_time": "2023-06-06T02:23:50.976005",
     "exception": false,
     "start_time": "2023-06-06T02:23:50.953160",
     "status": "completed"
    },
    "tags": []
   },
   "source": [
    "In this notebook, I applied Sentiment Analysis on Movie Review data. It helps me develop good unberstanding about how to develop a model to interpret text into numerical varialbe. There are three notable things I want to summarize:\n",
    "1. Understand the dataset: there is 1800 rows in training and 200 rows in validation dataset and there are 3 columns in the each dataset. There is not enough training and validation dataset to fit into the model but it will be a good exercise. One of the most important thing I learned is that I need to change the text data into numerical data by using vectorizer = TfidfVectorizer(). Once the data was vectorized, this allowed me to run a support vector machine to fit the model.\n",
    "\n",
    "2. Experiment to get better accuracy: first, I run the vectorizer = TfidfVectorizer() and model = SVC() without any parameters. I turn out with apply fews parameters in TfidfVectorizer() first and it helps me improve a little better accuracy and I keep trying more parameter. The result turns out better and better and it helps me build more confident. Finally, making configuration changes to both the vectorizer and the support vector machine was the key to success. \n",
    "\n",
    "3. Demonstrate make predictions: I apply the first row in training dataset to fit into the training model to check my predict result. However, I keep getting errors like 'lower not found' until I write for loop to break down into strings.\n",
    "\n",
    "In summary, this is a good exploring experience for me to learn Sentiment Analysis and it helps me build more confidence to apply this in my future careers."
   ]
  }
 ],
 "metadata": {
  "kernelspec": {
   "display_name": "Python 3",
   "language": "python",
   "name": "python3"
  },
  "language_info": {
   "codemirror_mode": {
    "name": "ipython",
    "version": 3
   },
   "file_extension": ".py",
   "mimetype": "text/x-python",
   "name": "python",
   "nbconvert_exporter": "python",
   "pygments_lexer": "ipython3",
   "version": "3.10.10"
  },
  "papermill": {
   "default_parameters": {},
   "duration": 77.611312,
   "end_time": "2023-06-06T02:23:52.022881",
   "environment_variables": {},
   "exception": null,
   "input_path": "__notebook__.ipynb",
   "output_path": "__notebook__.ipynb",
   "parameters": {},
   "start_time": "2023-06-06T02:22:34.411569",
   "version": "2.4.0"
  }
 },
 "nbformat": 4,
 "nbformat_minor": 5
}
