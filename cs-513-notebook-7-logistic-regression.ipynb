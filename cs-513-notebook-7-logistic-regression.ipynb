{
 "cells": [
  {
   "cell_type": "markdown",
   "id": "a0c5eb2e",
   "metadata": {
    "papermill": {
     "duration": 0.011134,
     "end_time": "2023-05-21T17:35:33.093298",
     "exception": false,
     "start_time": "2023-05-21T17:35:33.082164",
     "status": "completed"
    },
    "tags": []
   },
   "source": [
    "# Introduction\n",
    "\n",
    "This notebook contains two parts. **Part 1, Logistic Regression**, provides you an opportunity to demonstrate your ability to apply course concepts by implementing a training function for logistic regression. **Part 2, Classifying Fashion Items**, provides you an opportunity to practice using widely-used ML libraries and an ML workflow to analyze a classification problem using a logistic regression model.\n",
    "\n",
    "**You do not need to complete Part 1 in order to complete Part 2**. If you get stuck on Part 1, and choose to work on Part 2, be sure that all of your code for Part 1 runs without error. You can comment out your code in Part 1 if necessary."
   ]
  },
  {
   "cell_type": "markdown",
   "id": "9502ea84",
   "metadata": {
    "papermill": {
     "duration": 0.010997,
     "end_time": "2023-05-21T17:35:33.114316",
     "exception": false,
     "start_time": "2023-05-21T17:35:33.103319",
     "status": "completed"
    },
    "tags": []
   },
   "source": [
    "# Part 1: Implementing Logistic Regression\n",
    "\n",
    "Given a nearly-complete LogisticRegressor, and a simple training set of tumor data, demonstrate your ability to implement a logistic regression model's `fit` function, such that it properly trains its model using gradient descent.\n",
    "\n",
    "## The LogisticRegressor\n",
    "\n",
    "Let's first review the LogisticRegressor, which you should find familiar. Notice that the `fit` method uses a fixed number of iterations, only for simplicity and experimentation, and is stubbed to do nothing. But, also notice that the comments in `fit` describe a training process using gradient descent.\n",
    "\n",
    "Run the code cell and observe the results."
   ]
  },
  {
   "cell_type": "code",
   "execution_count": 1,
   "id": "d9761d80",
   "metadata": {
    "execution": {
     "iopub.execute_input": "2023-05-21T17:35:33.137198Z",
     "iopub.status.busy": "2023-05-21T17:35:33.136633Z",
     "iopub.status.idle": "2023-05-21T17:35:33.330816Z",
     "shell.execute_reply": "2023-05-21T17:35:33.329576Z"
    },
    "papermill": {
     "duration": 0.208654,
     "end_time": "2023-05-21T17:35:33.333414",
     "exception": false,
     "start_time": "2023-05-21T17:35:33.124760",
     "status": "completed"
    },
    "tags": []
   },
   "outputs": [
    {
     "name": "stdout",
     "output_type": "stream",
     "text": [
      "Prediction for [0.5, 1.5] is 0\n",
      "Prediction for [1, 1] is 0\n",
      "Prediction for [1.5, 0.5] is 0\n",
      "Prediction for [3, 0.5] is 1\n",
      "Prediction for [2, 2] is 1\n",
      "Prediction for [1, 2.5] is 1\n",
      "0.028608582605098992\n"
     ]
    }
   ],
   "source": [
    "import math\n",
    "\n",
    "class LogisticRegressor:\n",
    "\n",
    "    def __init__(self, w = 0, b = 0, alpha = 0.1):\n",
    "        self.w = w\n",
    "        self.b = b\n",
    "        self.alpha = alpha\n",
    "\n",
    "    def fit(self, x_train, y_train):\n",
    "        # Calculate the number of attributes \n",
    "        num_attributs = len(x_train[0])\n",
    "        \n",
    "        # Calculate the number of rows\n",
    "        length = len(x_train)\n",
    "        \n",
    "        # Initialize w and b\n",
    "        self.w = [0] * num_attributs\n",
    "        self.b = 0\n",
    "        \n",
    "        # Devide the number of iterations = 1000 in order to update the weights and bias.\n",
    "        for _ in range(1000):\n",
    "            # initialize w & b\n",
    "            dw = [0] * num_attributs\n",
    "            db = 0\n",
    "            \n",
    "            for i in range(length):\n",
    "                # Determine the changes that need to be made to w\n",
    "                dw = self._d_cost_function_w(x_train, y_train)\n",
    "                # Determine the changes that need to be made to b\n",
    "                db = self._d_cost_function_b(x_train, y_train) \n",
    "                # Update weight element in the w verctor                       \n",
    "                for j in range(num_attributs):\n",
    "                    self.w[j] = self.w[j] - self.alpha * dw[j]\n",
    "                # Update the bias\n",
    "                self.b = self.b - self.alpha * db\n",
    "    \n",
    "    \n",
    "    def cost(self, x_examples, y_class_labels):\n",
    "        cost = 0\n",
    "        for i in range(len(x_examples)):\n",
    "            cost += self._loss(x_examples[i], y_class_labels[i])\n",
    "        return cost / len(x_examples)\n",
    "\n",
    "    def _loss(self, x, y):\n",
    "        z = self._dot_product(self.w, x) + self.b\n",
    "        return -y * math.log(self._sigmoid(z)) - (1 - y) * math.log(1- self._sigmoid(z))\n",
    "\n",
    "    def _d_cost_function_w(self, x_train, y_train):\n",
    "        delta_w = [0] * len(x_train[0])\n",
    "        for i in range(len(x_train)):\n",
    "            error = self._sigmoid(self._dot_product(self.w, x_train[i]) + self.b) - y_train[i]\n",
    "            for j in range(len(delta_w)):\n",
    "                delta_w[j] += error * x_train[i][j]\n",
    "        for i in range(len(delta_w)):\n",
    "            delta_w[i] = delta_w[i] / len(x_train)\n",
    "        return delta_w\n",
    "\n",
    "    def _d_cost_function_b(self, x_train, y_train):\n",
    "        delta_b = 0\n",
    "        for i in range(len(x_train)):\n",
    "            delta_b += self._sigmoid(self._dot_product(self.w, x_train[i]) + self.b) - y_train[i]\n",
    "        return delta_b / len(x_train)\n",
    "\n",
    "    def predict(self, x):\n",
    "        if self._sigmoid( self._dot_product(self.w, x) + self.b) >= 0.5:\n",
    "            return 1\n",
    "        else:\n",
    "            return 0\n",
    "\n",
    "    def _dot_product(self, a, b):\n",
    "        return sum(pair[0] * pair[1] for pair in zip(a, b))\n",
    "\n",
    "    def _sigmoid(self, exponent):\n",
    "        return 1 / (1 + math.exp(-exponent))\n",
    "\n",
    "\n",
    "\n",
    "x_train = [[0.5, 1.5], [1,1], [1.5, 0.5], [3, 0.5], [2, 2], [1, 2.5]]\n",
    "y_train = [0, 0, 0, 1, 1, 1]\n",
    "\n",
    "regressor = LogisticRegressor([0, 0], 0, 0.1)\n",
    "regressor.fit(x_train, y_train)\n",
    "\n",
    "for example in x_train:\n",
    "    print(f\"Prediction for {example} is {regressor.predict(example)}\")\n",
    "\n",
    "print(regressor.cost(x_train, y_train))\n"
   ]
  },
  {
   "cell_type": "markdown",
   "id": "582e981e",
   "metadata": {
    "papermill": {
     "duration": 0.01065,
     "end_time": "2023-05-21T17:35:33.354685",
     "exception": false,
     "start_time": "2023-05-21T17:35:33.344035",
     "status": "completed"
    },
    "tags": []
   },
   "source": [
    "As we can see from the output, our classifier is currently predicting accurate result, and its cost is about 0.028.\n",
    "\n",
    "## What to Do\n",
    "\n",
    "Your goal is to implement, in the code cell above, the `fit` function. When complete, you should see results identical to the output shown at the end of the *Exploration: Applying Logistic Regression*.\n",
    "\n",
    "1. Implement the `fit` function in the code cell above.\n",
    "2. Run the code cell frequently, and observe the output.\n",
    "3. When you believe your implementation is complete, increase the number of iterations. Compare your output to what we have seen in the corresponding Exploration.\n",
    "4. Rely on the functions that are already implemented for you, such as `_d_cost_function_b` and `_d_cost_function_w`.\n",
    "\n",
    "The best tip for thinking about this challenge is to become intimately familiar with the process of gradient descent, and recognizing what `_d_cost_function_b` and `_d_cost_function_w` return. **Use the comments in the `fit` function as a general guide, not a literal line-by-line translation into code.**\n",
    "\n",
    "You'll know your implementation is sound when the output of the code cell matches what we have seen in the *Exploration: Applying Logistic Regression*."
   ]
  },
  {
   "cell_type": "markdown",
   "id": "dad9d774",
   "metadata": {
    "papermill": {
     "duration": 0.010776,
     "end_time": "2023-05-21T17:35:33.376184",
     "exception": false,
     "start_time": "2023-05-21T17:35:33.365408",
     "status": "completed"
    },
    "tags": []
   },
   "source": [
    "## 💡 Conclusion\n",
    "\n",
    "Here are the steps I follow about the fit function:\n",
    "\n",
    "1) Calculate the number of attributes, the number of rows, initialize w and b.\n",
    "\n",
    "2) Write a for loop to decide the number of iterations = 1000 in order to update the weights and bias.\n",
    "\n",
    "3) For each iteration, the local variables 'dw' and 'db' are initialized as lists of 0s.\n",
    "\n",
    "4) Then we calculate the value difference between predict value and actual value.\n",
    "\n",
    "5) Apply _d_cost_function_w and _d_cost_function_b methods on x_train, y_train respectively. \n",
    "\n",
    "6) Write another for loop to update self.w by subtracting the product of the learning rate 'self.alpha'.\n",
    "\n",
    "7) Update the bias 'self.b' by subtracting the product of 'self.alpha' and 'db' from 'self.b'.\n",
    "\n",
    "8) Print examples to check the accuracy of predict result with the actual result.\n",
    "\n",
    "9) Print regressor.cost(x_train, y_train) to evaluate the goodness of the trained model.\n",
    "\n",
    "   From the result of print(regressor.cost(x_train, y_train)), we can see that we have accurate result. The cost function in logistic regression is used to evaluate the performance of the model by quantifying the difference between the predicted output and the true outputs. From the result 0.028,we could make a conclusion that the value of the cost function is small and optimal after I applied the fit function."
   ]
  },
  {
   "cell_type": "markdown",
   "id": "9b55b935",
   "metadata": {
    "papermill": {
     "duration": 0.010147,
     "end_time": "2023-05-21T17:35:33.397198",
     "exception": false,
     "start_time": "2023-05-21T17:35:33.387051",
     "status": "completed"
    },
    "tags": []
   },
   "source": [
    "# Part 2: Classifying Fashion Items\n",
    "\n",
    "In this, the second, part of this notebook, you will observe a non-annotated implementation of a machine learning process, and enhance it with descriptive markdown cells and additional code. Your goal is to narrate and improve an experiment that measures the performance of the [scikit-learn LogisticRegression](https://scikit-learn.org/stable/modules/generated/sklearn.linear_model.LogisticRegression.html) model for classifying images of fashion items. We'll use the popular [Fashion MNIST data set](https://github.com/zalandoresearch/fashion-mnist) by Xiao, Rasul, and Vollgraf. Take a moment now to [familiarize yourself with the version of this data set](), and also take a look at [a version of this data on Kaggle](https://www.kaggle.com/datasets/zalando-research/fashionmnist).\n",
    "\n",
    "Unlike prior notebooks, in which you are given either a guided framework of steps, or provided explicit code to try, in this notebook the code shall be your framework. Your goal is to break apart this one big code cell into a cohesive, multi-section, narrated Notebook, that guides the reader through the machine learning process. You have seen and practiced this in prior Notebooks, and you are encouraged to replicate the spirit of our past work here.\n",
    "\n",
    "In other words, below you have a bunch of code. Your goal is to:\n",
    "\n",
    "1. Narrate a machine learning process\n",
    "2. Explain what the code is doing, and add to it as necessary\n",
    "3. Experiment, tune the model, and discuss your results\n",
    "\n",
    "Your Notebook should consist of many sections, with each section representing a step in the machine learning process. The first section, **Problem Statement**, has been completed for you. Each section should start with a markdown cell containing a descriptive second-level header, and at least a few sentences that prepare the reader for what the purpose of the step is.\n",
    "\n",
    "Each section should consist of both prose, in markdown cells, and code cells. Almost every section should consist of multiple markdown and code cells. You should often add to the provided code. For example, if you have a section on exploring data, you should probably do more than just look at the `head` and `shape`.\n",
    "\n",
    "Your first step is to run the code block, and spend time with each line of code to discern how it reflects some unit of work in our machine learning process.\n",
    "\n",
    "In the end, demonstrate how you modify the experiment and/or tune the model to increase the accuracy of the model. (Spend time with the [official documentation of the data set](https://github.com/zalandoresearch/fashion-mnist). What is the human accuracy score? Can your model surpass it when validated with the complete training set?)\n"
   ]
  },
  {
   "cell_type": "markdown",
   "id": "fcb82cb7",
   "metadata": {
    "papermill": {
     "duration": 0.009528,
     "end_time": "2023-05-21T17:35:33.416478",
     "exception": false,
     "start_time": "2023-05-21T17:35:33.406950",
     "status": "completed"
    },
    "tags": []
   },
   "source": [
    "## Problem Statement\n",
    "\n",
    "Our goal is to automate the identification of images of ten different kinds of fashion items, from t-shirts to ankle boots. To do so, we will attempt to train a logistic regression model using a well-prepared data set of images of fashion items. Our goal is to tune our end-to-end machine learning process, and to tune our classification model, to see how accurately it may predict the correct class label of different fashion items."
   ]
  },
  {
   "cell_type": "markdown",
   "id": "9dc3a3d8",
   "metadata": {
    "papermill": {
     "duration": 0.010399,
     "end_time": "2023-05-21T17:35:33.437478",
     "exception": false,
     "start_time": "2023-05-21T17:35:33.427079",
     "status": "completed"
    },
    "tags": []
   },
   "source": [
    "## Step 1: Import the necessary libraries"
   ]
  },
  {
   "cell_type": "code",
   "execution_count": 2,
   "id": "dce0983b",
   "metadata": {
    "execution": {
     "iopub.execute_input": "2023-05-21T17:35:33.460464Z",
     "iopub.status.busy": "2023-05-21T17:35:33.460091Z",
     "iopub.status.idle": "2023-05-21T17:35:34.936524Z",
     "shell.execute_reply": "2023-05-21T17:35:34.935534Z"
    },
    "papermill": {
     "duration": 1.491404,
     "end_time": "2023-05-21T17:35:34.939597",
     "exception": false,
     "start_time": "2023-05-21T17:35:33.448193",
     "status": "completed"
    },
    "tags": []
   },
   "outputs": [
    {
     "name": "stderr",
     "output_type": "stream",
     "text": [
      "/opt/conda/lib/python3.10/site-packages/scipy/__init__.py:146: UserWarning: A NumPy version >=1.16.5 and <1.23.0 is required for this version of SciPy (detected version 1.23.5\n",
      "  warnings.warn(f\"A NumPy version >={np_minversion} and <{np_maxversion}\"\n"
     ]
    }
   ],
   "source": [
    "# Import all the necessary libraries\n",
    "import pandas as pd\n",
    "import matplotlib.pyplot as plt\n",
    "\n",
    "from sklearn.model_selection import train_test_split\n",
    "from sklearn.metrics import accuracy_score\n",
    "from sklearn.metrics import precision_score\n",
    "from sklearn.metrics import recall_score\n",
    "\n",
    "from sklearn.linear_model import LogisticRegression"
   ]
  },
  {
   "cell_type": "markdown",
   "id": "18e7b0f1",
   "metadata": {
    "papermill": {
     "duration": 0.009775,
     "end_time": "2023-05-21T17:35:34.959923",
     "exception": false,
     "start_time": "2023-05-21T17:35:34.950148",
     "status": "completed"
    },
    "tags": []
   },
   "source": [
    "## Step 2: Define dictionary 'labels'that maps numeric labels to class names"
   ]
  },
  {
   "cell_type": "code",
   "execution_count": 3,
   "id": "d9296d34",
   "metadata": {
    "execution": {
     "iopub.execute_input": "2023-05-21T17:35:34.982967Z",
     "iopub.status.busy": "2023-05-21T17:35:34.982132Z",
     "iopub.status.idle": "2023-05-21T17:35:34.988536Z",
     "shell.execute_reply": "2023-05-21T17:35:34.987522Z"
    },
    "papermill": {
     "duration": 0.0211,
     "end_time": "2023-05-21T17:35:34.991170",
     "exception": false,
     "start_time": "2023-05-21T17:35:34.970070",
     "status": "completed"
    },
    "tags": []
   },
   "outputs": [],
   "source": [
    "# List all the labels including numberic lables and class names\n",
    "labels = {\n",
    "    0: 'T-shirt / Top',\n",
    "    1: 'Trouser',\n",
    "    2: 'Pullover',\n",
    "    3: 'Dress',\n",
    "    4: 'Coat',\n",
    "    5: 'Sandal',\n",
    "    6: 'Shirt',\n",
    "    7: 'Sneaker',\n",
    "    8: 'Bag',\n",
    "    9: 'Ankle Boot'\n",
    "}\n",
    "\n"
   ]
  },
  {
   "cell_type": "markdown",
   "id": "7969e2fd",
   "metadata": {
    "papermill": {
     "duration": 0.010299,
     "end_time": "2023-05-21T17:35:35.011648",
     "exception": false,
     "start_time": "2023-05-21T17:35:35.001349",
     "status": "completed"
    },
    "tags": []
   },
   "source": [
    "### Conclusion: \n",
    "The dictionar labels contains numeric labels and corresponding class names."
   ]
  },
  {
   "cell_type": "markdown",
   "id": "a1ddb94e",
   "metadata": {
    "papermill": {
     "duration": 0.009444,
     "end_time": "2023-05-21T17:35:35.031141",
     "exception": false,
     "start_time": "2023-05-21T17:35:35.021697",
     "status": "completed"
    },
    "tags": []
   },
   "source": [
    "## Step 3: Define a function to display images"
   ]
  },
  {
   "cell_type": "code",
   "execution_count": 4,
   "id": "71d19ab4",
   "metadata": {
    "execution": {
     "iopub.execute_input": "2023-05-21T17:35:35.053716Z",
     "iopub.status.busy": "2023-05-21T17:35:35.052930Z",
     "iopub.status.idle": "2023-05-21T17:35:35.058963Z",
     "shell.execute_reply": "2023-05-21T17:35:35.057814Z"
    },
    "papermill": {
     "duration": 0.020752,
     "end_time": "2023-05-21T17:35:35.061934",
     "exception": false,
     "start_time": "2023-05-21T17:35:35.041182",
     "status": "completed"
    },
    "tags": []
   },
   "outputs": [],
   "source": [
    "def display_image(features, numeric_label):\n",
    "    print(f\"Class: {labels[numeric_label]}\")\n",
    "    plt.figure(figsize = (8,8))\n",
    "    plt.imshow(features.reshape(28, 28))\n",
    "    plt.show()"
   ]
  },
  {
   "cell_type": "markdown",
   "id": "b756c6a8",
   "metadata": {
    "papermill": {
     "duration": 0.010037,
     "end_time": "2023-05-21T17:35:35.082942",
     "exception": false,
     "start_time": "2023-05-21T17:35:35.072905",
     "status": "completed"
    },
    "tags": []
   },
   "source": [
    "## Step 4: Load the input training data and explore the data"
   ]
  },
  {
   "cell_type": "code",
   "execution_count": 5,
   "id": "128cb8fa",
   "metadata": {
    "execution": {
     "iopub.execute_input": "2023-05-21T17:35:35.106618Z",
     "iopub.status.busy": "2023-05-21T17:35:35.105624Z",
     "iopub.status.idle": "2023-05-21T17:35:41.082069Z",
     "shell.execute_reply": "2023-05-21T17:35:41.080682Z"
    },
    "papermill": {
     "duration": 5.993569,
     "end_time": "2023-05-21T17:35:41.086245",
     "exception": false,
     "start_time": "2023-05-21T17:35:35.092676",
     "status": "completed"
    },
    "tags": []
   },
   "outputs": [
    {
     "data": {
      "text/plain": [
       "(60000, 785)"
      ]
     },
     "execution_count": 5,
     "metadata": {},
     "output_type": "execute_result"
    }
   ],
   "source": [
    "# Load the training data into dataframe fashion_data\n",
    "fashion_data = pd.read_csv('/kaggle/input/fashionmnist/fashion-mnist_train.csv')\n",
    "# Check how many rows and columns in the dataframe fashion_data\n",
    "fashion_data.shape\n"
   ]
  },
  {
   "cell_type": "code",
   "execution_count": 6,
   "id": "fc07a319",
   "metadata": {
    "execution": {
     "iopub.execute_input": "2023-05-21T17:35:41.113841Z",
     "iopub.status.busy": "2023-05-21T17:35:41.113329Z",
     "iopub.status.idle": "2023-05-21T17:35:41.161897Z",
     "shell.execute_reply": "2023-05-21T17:35:41.160403Z"
    },
    "papermill": {
     "duration": 0.064502,
     "end_time": "2023-05-21T17:35:41.165095",
     "exception": false,
     "start_time": "2023-05-21T17:35:41.100593",
     "status": "completed"
    },
    "tags": []
   },
   "outputs": [
    {
     "data": {
      "text/html": [
       "<div>\n",
       "<style scoped>\n",
       "    .dataframe tbody tr th:only-of-type {\n",
       "        vertical-align: middle;\n",
       "    }\n",
       "\n",
       "    .dataframe tbody tr th {\n",
       "        vertical-align: top;\n",
       "    }\n",
       "\n",
       "    .dataframe thead th {\n",
       "        text-align: right;\n",
       "    }\n",
       "</style>\n",
       "<table border=\"1\" class=\"dataframe\">\n",
       "  <thead>\n",
       "    <tr style=\"text-align: right;\">\n",
       "      <th></th>\n",
       "      <th>label</th>\n",
       "      <th>pixel1</th>\n",
       "      <th>pixel2</th>\n",
       "      <th>pixel3</th>\n",
       "      <th>pixel4</th>\n",
       "      <th>pixel5</th>\n",
       "      <th>pixel6</th>\n",
       "      <th>pixel7</th>\n",
       "      <th>pixel8</th>\n",
       "      <th>pixel9</th>\n",
       "      <th>...</th>\n",
       "      <th>pixel775</th>\n",
       "      <th>pixel776</th>\n",
       "      <th>pixel777</th>\n",
       "      <th>pixel778</th>\n",
       "      <th>pixel779</th>\n",
       "      <th>pixel780</th>\n",
       "      <th>pixel781</th>\n",
       "      <th>pixel782</th>\n",
       "      <th>pixel783</th>\n",
       "      <th>pixel784</th>\n",
       "    </tr>\n",
       "  </thead>\n",
       "  <tbody>\n",
       "    <tr>\n",
       "      <th>0</th>\n",
       "      <td>2</td>\n",
       "      <td>0</td>\n",
       "      <td>0</td>\n",
       "      <td>0</td>\n",
       "      <td>0</td>\n",
       "      <td>0</td>\n",
       "      <td>0</td>\n",
       "      <td>0</td>\n",
       "      <td>0</td>\n",
       "      <td>0</td>\n",
       "      <td>...</td>\n",
       "      <td>0</td>\n",
       "      <td>0</td>\n",
       "      <td>0</td>\n",
       "      <td>0</td>\n",
       "      <td>0</td>\n",
       "      <td>0</td>\n",
       "      <td>0</td>\n",
       "      <td>0</td>\n",
       "      <td>0</td>\n",
       "      <td>0</td>\n",
       "    </tr>\n",
       "    <tr>\n",
       "      <th>1</th>\n",
       "      <td>9</td>\n",
       "      <td>0</td>\n",
       "      <td>0</td>\n",
       "      <td>0</td>\n",
       "      <td>0</td>\n",
       "      <td>0</td>\n",
       "      <td>0</td>\n",
       "      <td>0</td>\n",
       "      <td>0</td>\n",
       "      <td>0</td>\n",
       "      <td>...</td>\n",
       "      <td>0</td>\n",
       "      <td>0</td>\n",
       "      <td>0</td>\n",
       "      <td>0</td>\n",
       "      <td>0</td>\n",
       "      <td>0</td>\n",
       "      <td>0</td>\n",
       "      <td>0</td>\n",
       "      <td>0</td>\n",
       "      <td>0</td>\n",
       "    </tr>\n",
       "    <tr>\n",
       "      <th>2</th>\n",
       "      <td>6</td>\n",
       "      <td>0</td>\n",
       "      <td>0</td>\n",
       "      <td>0</td>\n",
       "      <td>0</td>\n",
       "      <td>0</td>\n",
       "      <td>0</td>\n",
       "      <td>0</td>\n",
       "      <td>5</td>\n",
       "      <td>0</td>\n",
       "      <td>...</td>\n",
       "      <td>0</td>\n",
       "      <td>0</td>\n",
       "      <td>0</td>\n",
       "      <td>30</td>\n",
       "      <td>43</td>\n",
       "      <td>0</td>\n",
       "      <td>0</td>\n",
       "      <td>0</td>\n",
       "      <td>0</td>\n",
       "      <td>0</td>\n",
       "    </tr>\n",
       "    <tr>\n",
       "      <th>3</th>\n",
       "      <td>0</td>\n",
       "      <td>0</td>\n",
       "      <td>0</td>\n",
       "      <td>0</td>\n",
       "      <td>1</td>\n",
       "      <td>2</td>\n",
       "      <td>0</td>\n",
       "      <td>0</td>\n",
       "      <td>0</td>\n",
       "      <td>0</td>\n",
       "      <td>...</td>\n",
       "      <td>3</td>\n",
       "      <td>0</td>\n",
       "      <td>0</td>\n",
       "      <td>0</td>\n",
       "      <td>0</td>\n",
       "      <td>1</td>\n",
       "      <td>0</td>\n",
       "      <td>0</td>\n",
       "      <td>0</td>\n",
       "      <td>0</td>\n",
       "    </tr>\n",
       "    <tr>\n",
       "      <th>4</th>\n",
       "      <td>3</td>\n",
       "      <td>0</td>\n",
       "      <td>0</td>\n",
       "      <td>0</td>\n",
       "      <td>0</td>\n",
       "      <td>0</td>\n",
       "      <td>0</td>\n",
       "      <td>0</td>\n",
       "      <td>0</td>\n",
       "      <td>0</td>\n",
       "      <td>...</td>\n",
       "      <td>0</td>\n",
       "      <td>0</td>\n",
       "      <td>0</td>\n",
       "      <td>0</td>\n",
       "      <td>0</td>\n",
       "      <td>0</td>\n",
       "      <td>0</td>\n",
       "      <td>0</td>\n",
       "      <td>0</td>\n",
       "      <td>0</td>\n",
       "    </tr>\n",
       "  </tbody>\n",
       "</table>\n",
       "<p>5 rows × 785 columns</p>\n",
       "</div>"
      ],
      "text/plain": [
       "   label  pixel1  pixel2  pixel3  pixel4  pixel5  pixel6  pixel7  pixel8  \\\n",
       "0      2       0       0       0       0       0       0       0       0   \n",
       "1      9       0       0       0       0       0       0       0       0   \n",
       "2      6       0       0       0       0       0       0       0       5   \n",
       "3      0       0       0       0       1       2       0       0       0   \n",
       "4      3       0       0       0       0       0       0       0       0   \n",
       "\n",
       "   pixel9  ...  pixel775  pixel776  pixel777  pixel778  pixel779  pixel780  \\\n",
       "0       0  ...         0         0         0         0         0         0   \n",
       "1       0  ...         0         0         0         0         0         0   \n",
       "2       0  ...         0         0         0        30        43         0   \n",
       "3       0  ...         3         0         0         0         0         1   \n",
       "4       0  ...         0         0         0         0         0         0   \n",
       "\n",
       "   pixel781  pixel782  pixel783  pixel784  \n",
       "0         0         0         0         0  \n",
       "1         0         0         0         0  \n",
       "2         0         0         0         0  \n",
       "3         0         0         0         0  \n",
       "4         0         0         0         0  \n",
       "\n",
       "[5 rows x 785 columns]"
      ]
     },
     "execution_count": 6,
     "metadata": {},
     "output_type": "execute_result"
    }
   ],
   "source": [
    "# Check first 5 rows in the dataframe fashion_data\n",
    "fashion_data.head()\n"
   ]
  },
  {
   "cell_type": "code",
   "execution_count": 7,
   "id": "dbfd4b51",
   "metadata": {
    "execution": {
     "iopub.execute_input": "2023-05-21T17:35:41.194127Z",
     "iopub.status.busy": "2023-05-21T17:35:41.193681Z",
     "iopub.status.idle": "2023-05-21T17:35:41.202103Z",
     "shell.execute_reply": "2023-05-21T17:35:41.200785Z"
    },
    "papermill": {
     "duration": 0.023603,
     "end_time": "2023-05-21T17:35:41.204443",
     "exception": false,
     "start_time": "2023-05-21T17:35:41.180840",
     "status": "completed"
    },
    "tags": []
   },
   "outputs": [
    {
     "data": {
      "text/plain": [
       "Index(['label', 'pixel1', 'pixel2', 'pixel3', 'pixel4', 'pixel5', 'pixel6',\n",
       "       'pixel7', 'pixel8', 'pixel9',\n",
       "       ...\n",
       "       'pixel775', 'pixel776', 'pixel777', 'pixel778', 'pixel779', 'pixel780',\n",
       "       'pixel781', 'pixel782', 'pixel783', 'pixel784'],\n",
       "      dtype='object', length=785)"
      ]
     },
     "execution_count": 7,
     "metadata": {},
     "output_type": "execute_result"
    }
   ],
   "source": [
    "# Check the column names\n",
    "fashion_data.columns"
   ]
  },
  {
   "cell_type": "code",
   "execution_count": 8,
   "id": "006b47f7",
   "metadata": {
    "execution": {
     "iopub.execute_input": "2023-05-21T17:35:41.232140Z",
     "iopub.status.busy": "2023-05-21T17:35:41.231625Z",
     "iopub.status.idle": "2023-05-21T17:35:41.243544Z",
     "shell.execute_reply": "2023-05-21T17:35:41.241670Z"
    },
    "papermill": {
     "duration": 0.029343,
     "end_time": "2023-05-21T17:35:41.246373",
     "exception": false,
     "start_time": "2023-05-21T17:35:41.217030",
     "status": "completed"
    },
    "tags": []
   },
   "outputs": [
    {
     "data": {
      "text/plain": [
       "label       int64\n",
       "pixel1      int64\n",
       "pixel2      int64\n",
       "pixel3      int64\n",
       "pixel4      int64\n",
       "            ...  \n",
       "pixel780    int64\n",
       "pixel781    int64\n",
       "pixel782    int64\n",
       "pixel783    int64\n",
       "pixel784    int64\n",
       "Length: 785, dtype: object"
      ]
     },
     "execution_count": 8,
     "metadata": {},
     "output_type": "execute_result"
    }
   ],
   "source": [
    "# Examining the data types of the columns\n",
    "fashion_data.dtypes"
   ]
  },
  {
   "cell_type": "code",
   "execution_count": 9,
   "id": "106988d6",
   "metadata": {
    "execution": {
     "iopub.execute_input": "2023-05-21T17:35:41.272337Z",
     "iopub.status.busy": "2023-05-21T17:35:41.271801Z",
     "iopub.status.idle": "2023-05-21T17:35:44.516344Z",
     "shell.execute_reply": "2023-05-21T17:35:44.514583Z"
    },
    "papermill": {
     "duration": 3.260553,
     "end_time": "2023-05-21T17:35:44.518750",
     "exception": false,
     "start_time": "2023-05-21T17:35:41.258197",
     "status": "completed"
    },
    "tags": []
   },
   "outputs": [
    {
     "data": {
      "text/html": [
       "<div>\n",
       "<style scoped>\n",
       "    .dataframe tbody tr th:only-of-type {\n",
       "        vertical-align: middle;\n",
       "    }\n",
       "\n",
       "    .dataframe tbody tr th {\n",
       "        vertical-align: top;\n",
       "    }\n",
       "\n",
       "    .dataframe thead th {\n",
       "        text-align: right;\n",
       "    }\n",
       "</style>\n",
       "<table border=\"1\" class=\"dataframe\">\n",
       "  <thead>\n",
       "    <tr style=\"text-align: right;\">\n",
       "      <th></th>\n",
       "      <th>label</th>\n",
       "      <th>pixel1</th>\n",
       "      <th>pixel2</th>\n",
       "      <th>pixel3</th>\n",
       "      <th>pixel4</th>\n",
       "      <th>pixel5</th>\n",
       "      <th>pixel6</th>\n",
       "      <th>pixel7</th>\n",
       "      <th>pixel8</th>\n",
       "      <th>pixel9</th>\n",
       "      <th>...</th>\n",
       "      <th>pixel775</th>\n",
       "      <th>pixel776</th>\n",
       "      <th>pixel777</th>\n",
       "      <th>pixel778</th>\n",
       "      <th>pixel779</th>\n",
       "      <th>pixel780</th>\n",
       "      <th>pixel781</th>\n",
       "      <th>pixel782</th>\n",
       "      <th>pixel783</th>\n",
       "      <th>pixel784</th>\n",
       "    </tr>\n",
       "  </thead>\n",
       "  <tbody>\n",
       "    <tr>\n",
       "      <th>count</th>\n",
       "      <td>60000.000000</td>\n",
       "      <td>60000.000000</td>\n",
       "      <td>60000.000000</td>\n",
       "      <td>60000.000000</td>\n",
       "      <td>60000.000000</td>\n",
       "      <td>60000.000000</td>\n",
       "      <td>60000.000000</td>\n",
       "      <td>60000.000000</td>\n",
       "      <td>60000.000000</td>\n",
       "      <td>60000.000000</td>\n",
       "      <td>...</td>\n",
       "      <td>60000.000000</td>\n",
       "      <td>60000.000000</td>\n",
       "      <td>60000.000000</td>\n",
       "      <td>60000.000000</td>\n",
       "      <td>60000.000000</td>\n",
       "      <td>60000.000000</td>\n",
       "      <td>60000.000000</td>\n",
       "      <td>60000.000000</td>\n",
       "      <td>60000.000000</td>\n",
       "      <td>60000.00000</td>\n",
       "    </tr>\n",
       "    <tr>\n",
       "      <th>mean</th>\n",
       "      <td>4.500000</td>\n",
       "      <td>0.000900</td>\n",
       "      <td>0.006150</td>\n",
       "      <td>0.035333</td>\n",
       "      <td>0.101933</td>\n",
       "      <td>0.247967</td>\n",
       "      <td>0.411467</td>\n",
       "      <td>0.805767</td>\n",
       "      <td>2.198283</td>\n",
       "      <td>5.682000</td>\n",
       "      <td>...</td>\n",
       "      <td>34.625400</td>\n",
       "      <td>23.300683</td>\n",
       "      <td>16.588267</td>\n",
       "      <td>17.869433</td>\n",
       "      <td>22.814817</td>\n",
       "      <td>17.911483</td>\n",
       "      <td>8.520633</td>\n",
       "      <td>2.753300</td>\n",
       "      <td>0.855517</td>\n",
       "      <td>0.07025</td>\n",
       "    </tr>\n",
       "    <tr>\n",
       "      <th>std</th>\n",
       "      <td>2.872305</td>\n",
       "      <td>0.094689</td>\n",
       "      <td>0.271011</td>\n",
       "      <td>1.222324</td>\n",
       "      <td>2.452871</td>\n",
       "      <td>4.306912</td>\n",
       "      <td>5.836188</td>\n",
       "      <td>8.215169</td>\n",
       "      <td>14.093378</td>\n",
       "      <td>23.819481</td>\n",
       "      <td>...</td>\n",
       "      <td>57.545242</td>\n",
       "      <td>48.854427</td>\n",
       "      <td>41.979611</td>\n",
       "      <td>43.966032</td>\n",
       "      <td>51.830477</td>\n",
       "      <td>45.149388</td>\n",
       "      <td>29.614859</td>\n",
       "      <td>17.397652</td>\n",
       "      <td>9.356960</td>\n",
       "      <td>2.12587</td>\n",
       "    </tr>\n",
       "    <tr>\n",
       "      <th>min</th>\n",
       "      <td>0.000000</td>\n",
       "      <td>0.000000</td>\n",
       "      <td>0.000000</td>\n",
       "      <td>0.000000</td>\n",
       "      <td>0.000000</td>\n",
       "      <td>0.000000</td>\n",
       "      <td>0.000000</td>\n",
       "      <td>0.000000</td>\n",
       "      <td>0.000000</td>\n",
       "      <td>0.000000</td>\n",
       "      <td>...</td>\n",
       "      <td>0.000000</td>\n",
       "      <td>0.000000</td>\n",
       "      <td>0.000000</td>\n",
       "      <td>0.000000</td>\n",
       "      <td>0.000000</td>\n",
       "      <td>0.000000</td>\n",
       "      <td>0.000000</td>\n",
       "      <td>0.000000</td>\n",
       "      <td>0.000000</td>\n",
       "      <td>0.00000</td>\n",
       "    </tr>\n",
       "    <tr>\n",
       "      <th>25%</th>\n",
       "      <td>2.000000</td>\n",
       "      <td>0.000000</td>\n",
       "      <td>0.000000</td>\n",
       "      <td>0.000000</td>\n",
       "      <td>0.000000</td>\n",
       "      <td>0.000000</td>\n",
       "      <td>0.000000</td>\n",
       "      <td>0.000000</td>\n",
       "      <td>0.000000</td>\n",
       "      <td>0.000000</td>\n",
       "      <td>...</td>\n",
       "      <td>0.000000</td>\n",
       "      <td>0.000000</td>\n",
       "      <td>0.000000</td>\n",
       "      <td>0.000000</td>\n",
       "      <td>0.000000</td>\n",
       "      <td>0.000000</td>\n",
       "      <td>0.000000</td>\n",
       "      <td>0.000000</td>\n",
       "      <td>0.000000</td>\n",
       "      <td>0.00000</td>\n",
       "    </tr>\n",
       "    <tr>\n",
       "      <th>50%</th>\n",
       "      <td>4.500000</td>\n",
       "      <td>0.000000</td>\n",
       "      <td>0.000000</td>\n",
       "      <td>0.000000</td>\n",
       "      <td>0.000000</td>\n",
       "      <td>0.000000</td>\n",
       "      <td>0.000000</td>\n",
       "      <td>0.000000</td>\n",
       "      <td>0.000000</td>\n",
       "      <td>0.000000</td>\n",
       "      <td>...</td>\n",
       "      <td>0.000000</td>\n",
       "      <td>0.000000</td>\n",
       "      <td>0.000000</td>\n",
       "      <td>0.000000</td>\n",
       "      <td>0.000000</td>\n",
       "      <td>0.000000</td>\n",
       "      <td>0.000000</td>\n",
       "      <td>0.000000</td>\n",
       "      <td>0.000000</td>\n",
       "      <td>0.00000</td>\n",
       "    </tr>\n",
       "    <tr>\n",
       "      <th>75%</th>\n",
       "      <td>7.000000</td>\n",
       "      <td>0.000000</td>\n",
       "      <td>0.000000</td>\n",
       "      <td>0.000000</td>\n",
       "      <td>0.000000</td>\n",
       "      <td>0.000000</td>\n",
       "      <td>0.000000</td>\n",
       "      <td>0.000000</td>\n",
       "      <td>0.000000</td>\n",
       "      <td>0.000000</td>\n",
       "      <td>...</td>\n",
       "      <td>58.000000</td>\n",
       "      <td>9.000000</td>\n",
       "      <td>0.000000</td>\n",
       "      <td>0.000000</td>\n",
       "      <td>0.000000</td>\n",
       "      <td>0.000000</td>\n",
       "      <td>0.000000</td>\n",
       "      <td>0.000000</td>\n",
       "      <td>0.000000</td>\n",
       "      <td>0.00000</td>\n",
       "    </tr>\n",
       "    <tr>\n",
       "      <th>max</th>\n",
       "      <td>9.000000</td>\n",
       "      <td>16.000000</td>\n",
       "      <td>36.000000</td>\n",
       "      <td>226.000000</td>\n",
       "      <td>164.000000</td>\n",
       "      <td>227.000000</td>\n",
       "      <td>230.000000</td>\n",
       "      <td>224.000000</td>\n",
       "      <td>255.000000</td>\n",
       "      <td>254.000000</td>\n",
       "      <td>...</td>\n",
       "      <td>255.000000</td>\n",
       "      <td>255.000000</td>\n",
       "      <td>255.000000</td>\n",
       "      <td>255.000000</td>\n",
       "      <td>255.000000</td>\n",
       "      <td>255.000000</td>\n",
       "      <td>255.000000</td>\n",
       "      <td>255.000000</td>\n",
       "      <td>255.000000</td>\n",
       "      <td>170.00000</td>\n",
       "    </tr>\n",
       "  </tbody>\n",
       "</table>\n",
       "<p>8 rows × 785 columns</p>\n",
       "</div>"
      ],
      "text/plain": [
       "              label        pixel1        pixel2        pixel3        pixel4  \\\n",
       "count  60000.000000  60000.000000  60000.000000  60000.000000  60000.000000   \n",
       "mean       4.500000      0.000900      0.006150      0.035333      0.101933   \n",
       "std        2.872305      0.094689      0.271011      1.222324      2.452871   \n",
       "min        0.000000      0.000000      0.000000      0.000000      0.000000   \n",
       "25%        2.000000      0.000000      0.000000      0.000000      0.000000   \n",
       "50%        4.500000      0.000000      0.000000      0.000000      0.000000   \n",
       "75%        7.000000      0.000000      0.000000      0.000000      0.000000   \n",
       "max        9.000000     16.000000     36.000000    226.000000    164.000000   \n",
       "\n",
       "             pixel5        pixel6        pixel7        pixel8        pixel9  \\\n",
       "count  60000.000000  60000.000000  60000.000000  60000.000000  60000.000000   \n",
       "mean       0.247967      0.411467      0.805767      2.198283      5.682000   \n",
       "std        4.306912      5.836188      8.215169     14.093378     23.819481   \n",
       "min        0.000000      0.000000      0.000000      0.000000      0.000000   \n",
       "25%        0.000000      0.000000      0.000000      0.000000      0.000000   \n",
       "50%        0.000000      0.000000      0.000000      0.000000      0.000000   \n",
       "75%        0.000000      0.000000      0.000000      0.000000      0.000000   \n",
       "max      227.000000    230.000000    224.000000    255.000000    254.000000   \n",
       "\n",
       "       ...      pixel775      pixel776      pixel777      pixel778  \\\n",
       "count  ...  60000.000000  60000.000000  60000.000000  60000.000000   \n",
       "mean   ...     34.625400     23.300683     16.588267     17.869433   \n",
       "std    ...     57.545242     48.854427     41.979611     43.966032   \n",
       "min    ...      0.000000      0.000000      0.000000      0.000000   \n",
       "25%    ...      0.000000      0.000000      0.000000      0.000000   \n",
       "50%    ...      0.000000      0.000000      0.000000      0.000000   \n",
       "75%    ...     58.000000      9.000000      0.000000      0.000000   \n",
       "max    ...    255.000000    255.000000    255.000000    255.000000   \n",
       "\n",
       "           pixel779      pixel780      pixel781      pixel782      pixel783  \\\n",
       "count  60000.000000  60000.000000  60000.000000  60000.000000  60000.000000   \n",
       "mean      22.814817     17.911483      8.520633      2.753300      0.855517   \n",
       "std       51.830477     45.149388     29.614859     17.397652      9.356960   \n",
       "min        0.000000      0.000000      0.000000      0.000000      0.000000   \n",
       "25%        0.000000      0.000000      0.000000      0.000000      0.000000   \n",
       "50%        0.000000      0.000000      0.000000      0.000000      0.000000   \n",
       "75%        0.000000      0.000000      0.000000      0.000000      0.000000   \n",
       "max      255.000000    255.000000    255.000000    255.000000    255.000000   \n",
       "\n",
       "          pixel784  \n",
       "count  60000.00000  \n",
       "mean       0.07025  \n",
       "std        2.12587  \n",
       "min        0.00000  \n",
       "25%        0.00000  \n",
       "50%        0.00000  \n",
       "75%        0.00000  \n",
       "max      170.00000  \n",
       "\n",
       "[8 rows x 785 columns]"
      ]
     },
     "execution_count": 9,
     "metadata": {},
     "output_type": "execute_result"
    }
   ],
   "source": [
    "# Getting summary statistics of the numerical columns\n",
    "fashion_data.describe()"
   ]
  },
  {
   "cell_type": "code",
   "execution_count": 10,
   "id": "fea3cffe",
   "metadata": {
    "execution": {
     "iopub.execute_input": "2023-05-21T17:35:44.543331Z",
     "iopub.status.busy": "2023-05-21T17:35:44.542905Z",
     "iopub.status.idle": "2023-05-21T17:35:44.589161Z",
     "shell.execute_reply": "2023-05-21T17:35:44.587822Z"
    },
    "papermill": {
     "duration": 0.061355,
     "end_time": "2023-05-21T17:35:44.591927",
     "exception": false,
     "start_time": "2023-05-21T17:35:44.530572",
     "status": "completed"
    },
    "tags": []
   },
   "outputs": [
    {
     "data": {
      "text/plain": [
       "label       0\n",
       "pixel1      0\n",
       "pixel2      0\n",
       "pixel3      0\n",
       "pixel4      0\n",
       "           ..\n",
       "pixel780    0\n",
       "pixel781    0\n",
       "pixel782    0\n",
       "pixel783    0\n",
       "pixel784    0\n",
       "Length: 785, dtype: int64"
      ]
     },
     "execution_count": 10,
     "metadata": {},
     "output_type": "execute_result"
    }
   ],
   "source": [
    "# Checking for missing values\n",
    "fashion_data.isnull().sum()"
   ]
  },
  {
   "cell_type": "markdown",
   "id": "17d2ad69",
   "metadata": {
    "papermill": {
     "duration": 0.010975,
     "end_time": "2023-05-21T17:35:44.615760",
     "exception": false,
     "start_time": "2023-05-21T17:35:44.604785",
     "status": "completed"
    },
    "tags": []
   },
   "source": [
    "### Conclusion: \n",
    "Load the csv into pandas dataframe, there are 60000 rows and 785 columns in the dataframe. Use different functions to help us have a good understanding about the datasets\n"
   ]
  },
  {
   "cell_type": "markdown",
   "id": "58b7af1f",
   "metadata": {
    "papermill": {
     "duration": 0.012267,
     "end_time": "2023-05-21T17:35:44.639967",
     "exception": false,
     "start_time": "2023-05-21T17:35:44.627700",
     "status": "completed"
    },
    "tags": []
   },
   "source": [
    "## Step 5: Load the input test data"
   ]
  },
  {
   "cell_type": "code",
   "execution_count": 11,
   "id": "53fdcfa2",
   "metadata": {
    "execution": {
     "iopub.execute_input": "2023-05-21T17:35:44.665254Z",
     "iopub.status.busy": "2023-05-21T17:35:44.664848Z",
     "iopub.status.idle": "2023-05-21T17:35:45.548350Z",
     "shell.execute_reply": "2023-05-21T17:35:45.546615Z"
    },
    "papermill": {
     "duration": 0.899594,
     "end_time": "2023-05-21T17:35:45.551548",
     "exception": false,
     "start_time": "2023-05-21T17:35:44.651954",
     "status": "completed"
    },
    "tags": []
   },
   "outputs": [
    {
     "data": {
      "text/plain": [
       "(10000, 785)"
      ]
     },
     "execution_count": 11,
     "metadata": {},
     "output_type": "execute_result"
    }
   ],
   "source": [
    "# Load the training data into dataframe fashion_test_set\n",
    "fashion_test_set = pd.read_csv('/kaggle/input/fashionmnist/fashion-mnist_test.csv')\n",
    "# Check how many rows and columns in the dataframe fashion_test_set\n",
    "fashion_test_set.shape\n"
   ]
  },
  {
   "cell_type": "code",
   "execution_count": 12,
   "id": "6be74fa2",
   "metadata": {
    "execution": {
     "iopub.execute_input": "2023-05-21T17:35:45.576770Z",
     "iopub.status.busy": "2023-05-21T17:35:45.576406Z",
     "iopub.status.idle": "2023-05-21T17:35:45.593604Z",
     "shell.execute_reply": "2023-05-21T17:35:45.592430Z"
    },
    "papermill": {
     "duration": 0.031928,
     "end_time": "2023-05-21T17:35:45.595749",
     "exception": false,
     "start_time": "2023-05-21T17:35:45.563821",
     "status": "completed"
    },
    "tags": []
   },
   "outputs": [
    {
     "data": {
      "text/html": [
       "<div>\n",
       "<style scoped>\n",
       "    .dataframe tbody tr th:only-of-type {\n",
       "        vertical-align: middle;\n",
       "    }\n",
       "\n",
       "    .dataframe tbody tr th {\n",
       "        vertical-align: top;\n",
       "    }\n",
       "\n",
       "    .dataframe thead th {\n",
       "        text-align: right;\n",
       "    }\n",
       "</style>\n",
       "<table border=\"1\" class=\"dataframe\">\n",
       "  <thead>\n",
       "    <tr style=\"text-align: right;\">\n",
       "      <th></th>\n",
       "      <th>label</th>\n",
       "      <th>pixel1</th>\n",
       "      <th>pixel2</th>\n",
       "      <th>pixel3</th>\n",
       "      <th>pixel4</th>\n",
       "      <th>pixel5</th>\n",
       "      <th>pixel6</th>\n",
       "      <th>pixel7</th>\n",
       "      <th>pixel8</th>\n",
       "      <th>pixel9</th>\n",
       "      <th>...</th>\n",
       "      <th>pixel775</th>\n",
       "      <th>pixel776</th>\n",
       "      <th>pixel777</th>\n",
       "      <th>pixel778</th>\n",
       "      <th>pixel779</th>\n",
       "      <th>pixel780</th>\n",
       "      <th>pixel781</th>\n",
       "      <th>pixel782</th>\n",
       "      <th>pixel783</th>\n",
       "      <th>pixel784</th>\n",
       "    </tr>\n",
       "  </thead>\n",
       "  <tbody>\n",
       "    <tr>\n",
       "      <th>0</th>\n",
       "      <td>0</td>\n",
       "      <td>0</td>\n",
       "      <td>0</td>\n",
       "      <td>0</td>\n",
       "      <td>0</td>\n",
       "      <td>0</td>\n",
       "      <td>0</td>\n",
       "      <td>0</td>\n",
       "      <td>9</td>\n",
       "      <td>8</td>\n",
       "      <td>...</td>\n",
       "      <td>103</td>\n",
       "      <td>87</td>\n",
       "      <td>56</td>\n",
       "      <td>0</td>\n",
       "      <td>0</td>\n",
       "      <td>0</td>\n",
       "      <td>0</td>\n",
       "      <td>0</td>\n",
       "      <td>0</td>\n",
       "      <td>0</td>\n",
       "    </tr>\n",
       "    <tr>\n",
       "      <th>1</th>\n",
       "      <td>1</td>\n",
       "      <td>0</td>\n",
       "      <td>0</td>\n",
       "      <td>0</td>\n",
       "      <td>0</td>\n",
       "      <td>0</td>\n",
       "      <td>0</td>\n",
       "      <td>0</td>\n",
       "      <td>0</td>\n",
       "      <td>0</td>\n",
       "      <td>...</td>\n",
       "      <td>34</td>\n",
       "      <td>0</td>\n",
       "      <td>0</td>\n",
       "      <td>0</td>\n",
       "      <td>0</td>\n",
       "      <td>0</td>\n",
       "      <td>0</td>\n",
       "      <td>0</td>\n",
       "      <td>0</td>\n",
       "      <td>0</td>\n",
       "    </tr>\n",
       "    <tr>\n",
       "      <th>2</th>\n",
       "      <td>2</td>\n",
       "      <td>0</td>\n",
       "      <td>0</td>\n",
       "      <td>0</td>\n",
       "      <td>0</td>\n",
       "      <td>0</td>\n",
       "      <td>0</td>\n",
       "      <td>14</td>\n",
       "      <td>53</td>\n",
       "      <td>99</td>\n",
       "      <td>...</td>\n",
       "      <td>0</td>\n",
       "      <td>0</td>\n",
       "      <td>0</td>\n",
       "      <td>0</td>\n",
       "      <td>63</td>\n",
       "      <td>53</td>\n",
       "      <td>31</td>\n",
       "      <td>0</td>\n",
       "      <td>0</td>\n",
       "      <td>0</td>\n",
       "    </tr>\n",
       "    <tr>\n",
       "      <th>3</th>\n",
       "      <td>2</td>\n",
       "      <td>0</td>\n",
       "      <td>0</td>\n",
       "      <td>0</td>\n",
       "      <td>0</td>\n",
       "      <td>0</td>\n",
       "      <td>0</td>\n",
       "      <td>0</td>\n",
       "      <td>0</td>\n",
       "      <td>0</td>\n",
       "      <td>...</td>\n",
       "      <td>137</td>\n",
       "      <td>126</td>\n",
       "      <td>140</td>\n",
       "      <td>0</td>\n",
       "      <td>133</td>\n",
       "      <td>224</td>\n",
       "      <td>222</td>\n",
       "      <td>56</td>\n",
       "      <td>0</td>\n",
       "      <td>0</td>\n",
       "    </tr>\n",
       "    <tr>\n",
       "      <th>4</th>\n",
       "      <td>3</td>\n",
       "      <td>0</td>\n",
       "      <td>0</td>\n",
       "      <td>0</td>\n",
       "      <td>0</td>\n",
       "      <td>0</td>\n",
       "      <td>0</td>\n",
       "      <td>0</td>\n",
       "      <td>0</td>\n",
       "      <td>0</td>\n",
       "      <td>...</td>\n",
       "      <td>0</td>\n",
       "      <td>0</td>\n",
       "      <td>0</td>\n",
       "      <td>0</td>\n",
       "      <td>0</td>\n",
       "      <td>0</td>\n",
       "      <td>0</td>\n",
       "      <td>0</td>\n",
       "      <td>0</td>\n",
       "      <td>0</td>\n",
       "    </tr>\n",
       "  </tbody>\n",
       "</table>\n",
       "<p>5 rows × 785 columns</p>\n",
       "</div>"
      ],
      "text/plain": [
       "   label  pixel1  pixel2  pixel3  pixel4  pixel5  pixel6  pixel7  pixel8  \\\n",
       "0      0       0       0       0       0       0       0       0       9   \n",
       "1      1       0       0       0       0       0       0       0       0   \n",
       "2      2       0       0       0       0       0       0      14      53   \n",
       "3      2       0       0       0       0       0       0       0       0   \n",
       "4      3       0       0       0       0       0       0       0       0   \n",
       "\n",
       "   pixel9  ...  pixel775  pixel776  pixel777  pixel778  pixel779  pixel780  \\\n",
       "0       8  ...       103        87        56         0         0         0   \n",
       "1       0  ...        34         0         0         0         0         0   \n",
       "2      99  ...         0         0         0         0        63        53   \n",
       "3       0  ...       137       126       140         0       133       224   \n",
       "4       0  ...         0         0         0         0         0         0   \n",
       "\n",
       "   pixel781  pixel782  pixel783  pixel784  \n",
       "0         0         0         0         0  \n",
       "1         0         0         0         0  \n",
       "2        31         0         0         0  \n",
       "3       222        56         0         0  \n",
       "4         0         0         0         0  \n",
       "\n",
       "[5 rows x 785 columns]"
      ]
     },
     "execution_count": 12,
     "metadata": {},
     "output_type": "execute_result"
    }
   ],
   "source": [
    "fashion_test_set.head()"
   ]
  },
  {
   "cell_type": "code",
   "execution_count": 13,
   "id": "718862b1",
   "metadata": {
    "execution": {
     "iopub.execute_input": "2023-05-21T17:35:45.621877Z",
     "iopub.status.busy": "2023-05-21T17:35:45.621509Z",
     "iopub.status.idle": "2023-05-21T17:35:45.628330Z",
     "shell.execute_reply": "2023-05-21T17:35:45.627262Z"
    },
    "papermill": {
     "duration": 0.021909,
     "end_time": "2023-05-21T17:35:45.630628",
     "exception": false,
     "start_time": "2023-05-21T17:35:45.608719",
     "status": "completed"
    },
    "tags": []
   },
   "outputs": [
    {
     "data": {
      "text/plain": [
       "Index(['label', 'pixel1', 'pixel2', 'pixel3', 'pixel4', 'pixel5', 'pixel6',\n",
       "       'pixel7', 'pixel8', 'pixel9',\n",
       "       ...\n",
       "       'pixel775', 'pixel776', 'pixel777', 'pixel778', 'pixel779', 'pixel780',\n",
       "       'pixel781', 'pixel782', 'pixel783', 'pixel784'],\n",
       "      dtype='object', length=785)"
      ]
     },
     "execution_count": 13,
     "metadata": {},
     "output_type": "execute_result"
    }
   ],
   "source": [
    "# Check the column names\n",
    "fashion_test_set.columns"
   ]
  },
  {
   "cell_type": "code",
   "execution_count": 14,
   "id": "577eee5c",
   "metadata": {
    "execution": {
     "iopub.execute_input": "2023-05-21T17:35:45.655677Z",
     "iopub.status.busy": "2023-05-21T17:35:45.654991Z",
     "iopub.status.idle": "2023-05-21T17:35:45.664637Z",
     "shell.execute_reply": "2023-05-21T17:35:45.663142Z"
    },
    "papermill": {
     "duration": 0.025078,
     "end_time": "2023-05-21T17:35:45.667331",
     "exception": false,
     "start_time": "2023-05-21T17:35:45.642253",
     "status": "completed"
    },
    "tags": []
   },
   "outputs": [
    {
     "data": {
      "text/plain": [
       "label       int64\n",
       "pixel1      int64\n",
       "pixel2      int64\n",
       "pixel3      int64\n",
       "pixel4      int64\n",
       "            ...  \n",
       "pixel780    int64\n",
       "pixel781    int64\n",
       "pixel782    int64\n",
       "pixel783    int64\n",
       "pixel784    int64\n",
       "Length: 785, dtype: object"
      ]
     },
     "execution_count": 14,
     "metadata": {},
     "output_type": "execute_result"
    }
   ],
   "source": [
    "# Examining the data types of the columns\n",
    "fashion_test_set.dtypes"
   ]
  },
  {
   "cell_type": "code",
   "execution_count": 15,
   "id": "fd44e8d3",
   "metadata": {
    "execution": {
     "iopub.execute_input": "2023-05-21T17:35:45.694642Z",
     "iopub.status.busy": "2023-05-21T17:35:45.694123Z",
     "iopub.status.idle": "2023-05-21T17:35:47.820174Z",
     "shell.execute_reply": "2023-05-21T17:35:47.819087Z"
    },
    "papermill": {
     "duration": 2.142332,
     "end_time": "2023-05-21T17:35:47.822511",
     "exception": false,
     "start_time": "2023-05-21T17:35:45.680179",
     "status": "completed"
    },
    "tags": []
   },
   "outputs": [
    {
     "data": {
      "text/html": [
       "<div>\n",
       "<style scoped>\n",
       "    .dataframe tbody tr th:only-of-type {\n",
       "        vertical-align: middle;\n",
       "    }\n",
       "\n",
       "    .dataframe tbody tr th {\n",
       "        vertical-align: top;\n",
       "    }\n",
       "\n",
       "    .dataframe thead th {\n",
       "        text-align: right;\n",
       "    }\n",
       "</style>\n",
       "<table border=\"1\" class=\"dataframe\">\n",
       "  <thead>\n",
       "    <tr style=\"text-align: right;\">\n",
       "      <th></th>\n",
       "      <th>label</th>\n",
       "      <th>pixel1</th>\n",
       "      <th>pixel2</th>\n",
       "      <th>pixel3</th>\n",
       "      <th>pixel4</th>\n",
       "      <th>pixel5</th>\n",
       "      <th>pixel6</th>\n",
       "      <th>pixel7</th>\n",
       "      <th>pixel8</th>\n",
       "      <th>pixel9</th>\n",
       "      <th>...</th>\n",
       "      <th>pixel775</th>\n",
       "      <th>pixel776</th>\n",
       "      <th>pixel777</th>\n",
       "      <th>pixel778</th>\n",
       "      <th>pixel779</th>\n",
       "      <th>pixel780</th>\n",
       "      <th>pixel781</th>\n",
       "      <th>pixel782</th>\n",
       "      <th>pixel783</th>\n",
       "      <th>pixel784</th>\n",
       "    </tr>\n",
       "  </thead>\n",
       "  <tbody>\n",
       "    <tr>\n",
       "      <th>count</th>\n",
       "      <td>10000.000000</td>\n",
       "      <td>10000.000000</td>\n",
       "      <td>10000.000000</td>\n",
       "      <td>10000.000000</td>\n",
       "      <td>10000.000000</td>\n",
       "      <td>10000.000000</td>\n",
       "      <td>10000.000000</td>\n",
       "      <td>10000.000000</td>\n",
       "      <td>10000.000000</td>\n",
       "      <td>10000.000000</td>\n",
       "      <td>...</td>\n",
       "      <td>10000.000000</td>\n",
       "      <td>10000.000000</td>\n",
       "      <td>10000.000000</td>\n",
       "      <td>10000.000000</td>\n",
       "      <td>10000.000000</td>\n",
       "      <td>10000.000000</td>\n",
       "      <td>10000.000000</td>\n",
       "      <td>10000.000000</td>\n",
       "      <td>10000.000000</td>\n",
       "      <td>10000.00000</td>\n",
       "    </tr>\n",
       "    <tr>\n",
       "      <th>mean</th>\n",
       "      <td>4.500000</td>\n",
       "      <td>0.000400</td>\n",
       "      <td>0.010300</td>\n",
       "      <td>0.052100</td>\n",
       "      <td>0.077000</td>\n",
       "      <td>0.208600</td>\n",
       "      <td>0.349200</td>\n",
       "      <td>0.826700</td>\n",
       "      <td>2.321200</td>\n",
       "      <td>5.457800</td>\n",
       "      <td>...</td>\n",
       "      <td>34.320800</td>\n",
       "      <td>23.071900</td>\n",
       "      <td>16.432000</td>\n",
       "      <td>17.870600</td>\n",
       "      <td>22.860000</td>\n",
       "      <td>17.790200</td>\n",
       "      <td>8.353500</td>\n",
       "      <td>2.541600</td>\n",
       "      <td>0.629500</td>\n",
       "      <td>0.06560</td>\n",
       "    </tr>\n",
       "    <tr>\n",
       "      <th>std</th>\n",
       "      <td>2.872425</td>\n",
       "      <td>0.024493</td>\n",
       "      <td>0.525187</td>\n",
       "      <td>2.494315</td>\n",
       "      <td>2.208882</td>\n",
       "      <td>4.669183</td>\n",
       "      <td>5.657849</td>\n",
       "      <td>8.591731</td>\n",
       "      <td>15.031508</td>\n",
       "      <td>23.359019</td>\n",
       "      <td>...</td>\n",
       "      <td>57.888679</td>\n",
       "      <td>49.049749</td>\n",
       "      <td>42.159665</td>\n",
       "      <td>44.140552</td>\n",
       "      <td>51.706601</td>\n",
       "      <td>45.128107</td>\n",
       "      <td>28.765769</td>\n",
       "      <td>16.417363</td>\n",
       "      <td>7.462533</td>\n",
       "      <td>1.93403</td>\n",
       "    </tr>\n",
       "    <tr>\n",
       "      <th>min</th>\n",
       "      <td>0.000000</td>\n",
       "      <td>0.000000</td>\n",
       "      <td>0.000000</td>\n",
       "      <td>0.000000</td>\n",
       "      <td>0.000000</td>\n",
       "      <td>0.000000</td>\n",
       "      <td>0.000000</td>\n",
       "      <td>0.000000</td>\n",
       "      <td>0.000000</td>\n",
       "      <td>0.000000</td>\n",
       "      <td>...</td>\n",
       "      <td>0.000000</td>\n",
       "      <td>0.000000</td>\n",
       "      <td>0.000000</td>\n",
       "      <td>0.000000</td>\n",
       "      <td>0.000000</td>\n",
       "      <td>0.000000</td>\n",
       "      <td>0.000000</td>\n",
       "      <td>0.000000</td>\n",
       "      <td>0.000000</td>\n",
       "      <td>0.00000</td>\n",
       "    </tr>\n",
       "    <tr>\n",
       "      <th>25%</th>\n",
       "      <td>2.000000</td>\n",
       "      <td>0.000000</td>\n",
       "      <td>0.000000</td>\n",
       "      <td>0.000000</td>\n",
       "      <td>0.000000</td>\n",
       "      <td>0.000000</td>\n",
       "      <td>0.000000</td>\n",
       "      <td>0.000000</td>\n",
       "      <td>0.000000</td>\n",
       "      <td>0.000000</td>\n",
       "      <td>...</td>\n",
       "      <td>0.000000</td>\n",
       "      <td>0.000000</td>\n",
       "      <td>0.000000</td>\n",
       "      <td>0.000000</td>\n",
       "      <td>0.000000</td>\n",
       "      <td>0.000000</td>\n",
       "      <td>0.000000</td>\n",
       "      <td>0.000000</td>\n",
       "      <td>0.000000</td>\n",
       "      <td>0.00000</td>\n",
       "    </tr>\n",
       "    <tr>\n",
       "      <th>50%</th>\n",
       "      <td>4.500000</td>\n",
       "      <td>0.000000</td>\n",
       "      <td>0.000000</td>\n",
       "      <td>0.000000</td>\n",
       "      <td>0.000000</td>\n",
       "      <td>0.000000</td>\n",
       "      <td>0.000000</td>\n",
       "      <td>0.000000</td>\n",
       "      <td>0.000000</td>\n",
       "      <td>0.000000</td>\n",
       "      <td>...</td>\n",
       "      <td>0.000000</td>\n",
       "      <td>0.000000</td>\n",
       "      <td>0.000000</td>\n",
       "      <td>0.000000</td>\n",
       "      <td>0.000000</td>\n",
       "      <td>0.000000</td>\n",
       "      <td>0.000000</td>\n",
       "      <td>0.000000</td>\n",
       "      <td>0.000000</td>\n",
       "      <td>0.00000</td>\n",
       "    </tr>\n",
       "    <tr>\n",
       "      <th>75%</th>\n",
       "      <td>7.000000</td>\n",
       "      <td>0.000000</td>\n",
       "      <td>0.000000</td>\n",
       "      <td>0.000000</td>\n",
       "      <td>0.000000</td>\n",
       "      <td>0.000000</td>\n",
       "      <td>0.000000</td>\n",
       "      <td>0.000000</td>\n",
       "      <td>0.000000</td>\n",
       "      <td>0.000000</td>\n",
       "      <td>...</td>\n",
       "      <td>55.000000</td>\n",
       "      <td>6.000000</td>\n",
       "      <td>0.000000</td>\n",
       "      <td>0.000000</td>\n",
       "      <td>1.000000</td>\n",
       "      <td>0.000000</td>\n",
       "      <td>0.000000</td>\n",
       "      <td>0.000000</td>\n",
       "      <td>0.000000</td>\n",
       "      <td>0.00000</td>\n",
       "    </tr>\n",
       "    <tr>\n",
       "      <th>max</th>\n",
       "      <td>9.000000</td>\n",
       "      <td>2.000000</td>\n",
       "      <td>45.000000</td>\n",
       "      <td>218.000000</td>\n",
       "      <td>185.000000</td>\n",
       "      <td>227.000000</td>\n",
       "      <td>223.000000</td>\n",
       "      <td>247.000000</td>\n",
       "      <td>218.000000</td>\n",
       "      <td>244.000000</td>\n",
       "      <td>...</td>\n",
       "      <td>254.000000</td>\n",
       "      <td>252.000000</td>\n",
       "      <td>255.000000</td>\n",
       "      <td>255.000000</td>\n",
       "      <td>255.000000</td>\n",
       "      <td>255.000000</td>\n",
       "      <td>240.000000</td>\n",
       "      <td>225.000000</td>\n",
       "      <td>205.000000</td>\n",
       "      <td>107.00000</td>\n",
       "    </tr>\n",
       "  </tbody>\n",
       "</table>\n",
       "<p>8 rows × 785 columns</p>\n",
       "</div>"
      ],
      "text/plain": [
       "              label        pixel1        pixel2        pixel3        pixel4  \\\n",
       "count  10000.000000  10000.000000  10000.000000  10000.000000  10000.000000   \n",
       "mean       4.500000      0.000400      0.010300      0.052100      0.077000   \n",
       "std        2.872425      0.024493      0.525187      2.494315      2.208882   \n",
       "min        0.000000      0.000000      0.000000      0.000000      0.000000   \n",
       "25%        2.000000      0.000000      0.000000      0.000000      0.000000   \n",
       "50%        4.500000      0.000000      0.000000      0.000000      0.000000   \n",
       "75%        7.000000      0.000000      0.000000      0.000000      0.000000   \n",
       "max        9.000000      2.000000     45.000000    218.000000    185.000000   \n",
       "\n",
       "             pixel5        pixel6        pixel7        pixel8        pixel9  \\\n",
       "count  10000.000000  10000.000000  10000.000000  10000.000000  10000.000000   \n",
       "mean       0.208600      0.349200      0.826700      2.321200      5.457800   \n",
       "std        4.669183      5.657849      8.591731     15.031508     23.359019   \n",
       "min        0.000000      0.000000      0.000000      0.000000      0.000000   \n",
       "25%        0.000000      0.000000      0.000000      0.000000      0.000000   \n",
       "50%        0.000000      0.000000      0.000000      0.000000      0.000000   \n",
       "75%        0.000000      0.000000      0.000000      0.000000      0.000000   \n",
       "max      227.000000    223.000000    247.000000    218.000000    244.000000   \n",
       "\n",
       "       ...      pixel775      pixel776      pixel777      pixel778  \\\n",
       "count  ...  10000.000000  10000.000000  10000.000000  10000.000000   \n",
       "mean   ...     34.320800     23.071900     16.432000     17.870600   \n",
       "std    ...     57.888679     49.049749     42.159665     44.140552   \n",
       "min    ...      0.000000      0.000000      0.000000      0.000000   \n",
       "25%    ...      0.000000      0.000000      0.000000      0.000000   \n",
       "50%    ...      0.000000      0.000000      0.000000      0.000000   \n",
       "75%    ...     55.000000      6.000000      0.000000      0.000000   \n",
       "max    ...    254.000000    252.000000    255.000000    255.000000   \n",
       "\n",
       "           pixel779      pixel780      pixel781      pixel782      pixel783  \\\n",
       "count  10000.000000  10000.000000  10000.000000  10000.000000  10000.000000   \n",
       "mean      22.860000     17.790200      8.353500      2.541600      0.629500   \n",
       "std       51.706601     45.128107     28.765769     16.417363      7.462533   \n",
       "min        0.000000      0.000000      0.000000      0.000000      0.000000   \n",
       "25%        0.000000      0.000000      0.000000      0.000000      0.000000   \n",
       "50%        0.000000      0.000000      0.000000      0.000000      0.000000   \n",
       "75%        1.000000      0.000000      0.000000      0.000000      0.000000   \n",
       "max      255.000000    255.000000    240.000000    225.000000    205.000000   \n",
       "\n",
       "          pixel784  \n",
       "count  10000.00000  \n",
       "mean       0.06560  \n",
       "std        1.93403  \n",
       "min        0.00000  \n",
       "25%        0.00000  \n",
       "50%        0.00000  \n",
       "75%        0.00000  \n",
       "max      107.00000  \n",
       "\n",
       "[8 rows x 785 columns]"
      ]
     },
     "execution_count": 15,
     "metadata": {},
     "output_type": "execute_result"
    }
   ],
   "source": [
    "# Getting summary statistics of the numerical columns\n",
    "fashion_test_set.describe()"
   ]
  },
  {
   "cell_type": "code",
   "execution_count": 16,
   "id": "6bd88259",
   "metadata": {
    "execution": {
     "iopub.execute_input": "2023-05-21T17:35:47.850695Z",
     "iopub.status.busy": "2023-05-21T17:35:47.850011Z",
     "iopub.status.idle": "2023-05-21T17:35:47.866272Z",
     "shell.execute_reply": "2023-05-21T17:35:47.865076Z"
    },
    "papermill": {
     "duration": 0.034192,
     "end_time": "2023-05-21T17:35:47.868855",
     "exception": false,
     "start_time": "2023-05-21T17:35:47.834663",
     "status": "completed"
    },
    "tags": []
   },
   "outputs": [
    {
     "data": {
      "text/plain": [
       "label       0\n",
       "pixel1      0\n",
       "pixel2      0\n",
       "pixel3      0\n",
       "pixel4      0\n",
       "           ..\n",
       "pixel780    0\n",
       "pixel781    0\n",
       "pixel782    0\n",
       "pixel783    0\n",
       "pixel784    0\n",
       "Length: 785, dtype: int64"
      ]
     },
     "execution_count": 16,
     "metadata": {},
     "output_type": "execute_result"
    }
   ],
   "source": [
    "# Checking for missing values\n",
    "fashion_test_set.isnull().sum()"
   ]
  },
  {
   "cell_type": "markdown",
   "id": "2e351b8e",
   "metadata": {
    "papermill": {
     "duration": 0.013911,
     "end_time": "2023-05-21T17:35:47.895229",
     "exception": false,
     "start_time": "2023-05-21T17:35:47.881318",
     "status": "completed"
    },
    "tags": []
   },
   "source": [
    "## Step 6: Split DataFrame into features and labels"
   ]
  },
  {
   "cell_type": "code",
   "execution_count": 17,
   "id": "05cb35b1",
   "metadata": {
    "execution": {
     "iopub.execute_input": "2023-05-21T17:35:47.923210Z",
     "iopub.status.busy": "2023-05-21T17:35:47.922811Z",
     "iopub.status.idle": "2023-05-21T17:35:48.075565Z",
     "shell.execute_reply": "2023-05-21T17:35:48.074641Z"
    },
    "papermill": {
     "duration": 0.16911,
     "end_time": "2023-05-21T17:35:48.077728",
     "exception": false,
     "start_time": "2023-05-21T17:35:47.908618",
     "status": "completed"
    },
    "tags": []
   },
   "outputs": [
    {
     "data": {
      "text/html": [
       "<div>\n",
       "<style scoped>\n",
       "    .dataframe tbody tr th:only-of-type {\n",
       "        vertical-align: middle;\n",
       "    }\n",
       "\n",
       "    .dataframe tbody tr th {\n",
       "        vertical-align: top;\n",
       "    }\n",
       "\n",
       "    .dataframe thead th {\n",
       "        text-align: right;\n",
       "    }\n",
       "</style>\n",
       "<table border=\"1\" class=\"dataframe\">\n",
       "  <thead>\n",
       "    <tr style=\"text-align: right;\">\n",
       "      <th></th>\n",
       "      <th>pixel1</th>\n",
       "      <th>pixel2</th>\n",
       "      <th>pixel3</th>\n",
       "      <th>pixel4</th>\n",
       "      <th>pixel5</th>\n",
       "      <th>pixel6</th>\n",
       "      <th>pixel7</th>\n",
       "      <th>pixel8</th>\n",
       "      <th>pixel9</th>\n",
       "      <th>pixel10</th>\n",
       "      <th>...</th>\n",
       "      <th>pixel775</th>\n",
       "      <th>pixel776</th>\n",
       "      <th>pixel777</th>\n",
       "      <th>pixel778</th>\n",
       "      <th>pixel779</th>\n",
       "      <th>pixel780</th>\n",
       "      <th>pixel781</th>\n",
       "      <th>pixel782</th>\n",
       "      <th>pixel783</th>\n",
       "      <th>pixel784</th>\n",
       "    </tr>\n",
       "  </thead>\n",
       "  <tbody>\n",
       "    <tr>\n",
       "      <th>0</th>\n",
       "      <td>0</td>\n",
       "      <td>0</td>\n",
       "      <td>0</td>\n",
       "      <td>0</td>\n",
       "      <td>0</td>\n",
       "      <td>0</td>\n",
       "      <td>0</td>\n",
       "      <td>0</td>\n",
       "      <td>0</td>\n",
       "      <td>0</td>\n",
       "      <td>...</td>\n",
       "      <td>0</td>\n",
       "      <td>0</td>\n",
       "      <td>0</td>\n",
       "      <td>0</td>\n",
       "      <td>0</td>\n",
       "      <td>0</td>\n",
       "      <td>0</td>\n",
       "      <td>0</td>\n",
       "      <td>0</td>\n",
       "      <td>0</td>\n",
       "    </tr>\n",
       "    <tr>\n",
       "      <th>1</th>\n",
       "      <td>0</td>\n",
       "      <td>0</td>\n",
       "      <td>0</td>\n",
       "      <td>0</td>\n",
       "      <td>0</td>\n",
       "      <td>0</td>\n",
       "      <td>0</td>\n",
       "      <td>0</td>\n",
       "      <td>0</td>\n",
       "      <td>0</td>\n",
       "      <td>...</td>\n",
       "      <td>0</td>\n",
       "      <td>0</td>\n",
       "      <td>0</td>\n",
       "      <td>0</td>\n",
       "      <td>0</td>\n",
       "      <td>0</td>\n",
       "      <td>0</td>\n",
       "      <td>0</td>\n",
       "      <td>0</td>\n",
       "      <td>0</td>\n",
       "    </tr>\n",
       "    <tr>\n",
       "      <th>2</th>\n",
       "      <td>0</td>\n",
       "      <td>0</td>\n",
       "      <td>0</td>\n",
       "      <td>0</td>\n",
       "      <td>0</td>\n",
       "      <td>0</td>\n",
       "      <td>0</td>\n",
       "      <td>5</td>\n",
       "      <td>0</td>\n",
       "      <td>0</td>\n",
       "      <td>...</td>\n",
       "      <td>0</td>\n",
       "      <td>0</td>\n",
       "      <td>0</td>\n",
       "      <td>30</td>\n",
       "      <td>43</td>\n",
       "      <td>0</td>\n",
       "      <td>0</td>\n",
       "      <td>0</td>\n",
       "      <td>0</td>\n",
       "      <td>0</td>\n",
       "    </tr>\n",
       "    <tr>\n",
       "      <th>3</th>\n",
       "      <td>0</td>\n",
       "      <td>0</td>\n",
       "      <td>0</td>\n",
       "      <td>1</td>\n",
       "      <td>2</td>\n",
       "      <td>0</td>\n",
       "      <td>0</td>\n",
       "      <td>0</td>\n",
       "      <td>0</td>\n",
       "      <td>0</td>\n",
       "      <td>...</td>\n",
       "      <td>3</td>\n",
       "      <td>0</td>\n",
       "      <td>0</td>\n",
       "      <td>0</td>\n",
       "      <td>0</td>\n",
       "      <td>1</td>\n",
       "      <td>0</td>\n",
       "      <td>0</td>\n",
       "      <td>0</td>\n",
       "      <td>0</td>\n",
       "    </tr>\n",
       "    <tr>\n",
       "      <th>4</th>\n",
       "      <td>0</td>\n",
       "      <td>0</td>\n",
       "      <td>0</td>\n",
       "      <td>0</td>\n",
       "      <td>0</td>\n",
       "      <td>0</td>\n",
       "      <td>0</td>\n",
       "      <td>0</td>\n",
       "      <td>0</td>\n",
       "      <td>0</td>\n",
       "      <td>...</td>\n",
       "      <td>0</td>\n",
       "      <td>0</td>\n",
       "      <td>0</td>\n",
       "      <td>0</td>\n",
       "      <td>0</td>\n",
       "      <td>0</td>\n",
       "      <td>0</td>\n",
       "      <td>0</td>\n",
       "      <td>0</td>\n",
       "      <td>0</td>\n",
       "    </tr>\n",
       "  </tbody>\n",
       "</table>\n",
       "<p>5 rows × 784 columns</p>\n",
       "</div>"
      ],
      "text/plain": [
       "   pixel1  pixel2  pixel3  pixel4  pixel5  pixel6  pixel7  pixel8  pixel9  \\\n",
       "0       0       0       0       0       0       0       0       0       0   \n",
       "1       0       0       0       0       0       0       0       0       0   \n",
       "2       0       0       0       0       0       0       0       5       0   \n",
       "3       0       0       0       1       2       0       0       0       0   \n",
       "4       0       0       0       0       0       0       0       0       0   \n",
       "\n",
       "   pixel10  ...  pixel775  pixel776  pixel777  pixel778  pixel779  pixel780  \\\n",
       "0        0  ...         0         0         0         0         0         0   \n",
       "1        0  ...         0         0         0         0         0         0   \n",
       "2        0  ...         0         0         0        30        43         0   \n",
       "3        0  ...         3         0         0         0         0         1   \n",
       "4        0  ...         0         0         0         0         0         0   \n",
       "\n",
       "   pixel781  pixel782  pixel783  pixel784  \n",
       "0         0         0         0         0  \n",
       "1         0         0         0         0  \n",
       "2         0         0         0         0  \n",
       "3         0         0         0         0  \n",
       "4         0         0         0         0  \n",
       "\n",
       "[5 rows x 784 columns]"
      ]
     },
     "execution_count": 17,
     "metadata": {},
     "output_type": "execute_result"
    }
   ],
   "source": [
    "# Splitting the original dataframe into features and lables\n",
    "X = fashion_data[fashion_data.columns[1:]]\n",
    "Y = fashion_data['label']\n",
    "X.head()\n"
   ]
  },
  {
   "cell_type": "code",
   "execution_count": 18,
   "id": "68a0fd68",
   "metadata": {
    "execution": {
     "iopub.execute_input": "2023-05-21T17:35:48.106361Z",
     "iopub.status.busy": "2023-05-21T17:35:48.105915Z",
     "iopub.status.idle": "2023-05-21T17:35:48.114346Z",
     "shell.execute_reply": "2023-05-21T17:35:48.112537Z"
    },
    "papermill": {
     "duration": 0.026081,
     "end_time": "2023-05-21T17:35:48.116838",
     "exception": false,
     "start_time": "2023-05-21T17:35:48.090757",
     "status": "completed"
    },
    "tags": []
   },
   "outputs": [
    {
     "data": {
      "text/plain": [
       "0    2\n",
       "1    9\n",
       "2    6\n",
       "3    0\n",
       "4    3\n",
       "Name: label, dtype: int64"
      ]
     },
     "execution_count": 18,
     "metadata": {},
     "output_type": "execute_result"
    }
   ],
   "source": [
    "Y.head()"
   ]
  },
  {
   "cell_type": "code",
   "execution_count": 19,
   "id": "078830f5",
   "metadata": {
    "execution": {
     "iopub.execute_input": "2023-05-21T17:35:48.147080Z",
     "iopub.status.busy": "2023-05-21T17:35:48.146636Z",
     "iopub.status.idle": "2023-05-21T17:35:48.366386Z",
     "shell.execute_reply": "2023-05-21T17:35:48.365092Z"
    },
    "papermill": {
     "duration": 0.239579,
     "end_time": "2023-05-21T17:35:48.369868",
     "exception": false,
     "start_time": "2023-05-21T17:35:48.130289",
     "status": "completed"
    },
    "tags": []
   },
   "outputs": [
    {
     "name": "stdout",
     "output_type": "stream",
     "text": [
      "Class: Pullover\n"
     ]
    },
    {
     "data": {
      "image/png": "[encoded data removed]",
      "text/plain": [
       "<Figure size 800x800 with 1 Axes>"
      ]
     },
     "metadata": {},
     "output_type": "display_data"
    }
   ],
   "source": [
    "#Display the first row's image\n",
    "display_image(X.loc[0].values, Y.loc[0])\n",
    "#.loc allosws you to access sepcific rows and columns based on their labels"
   ]
  },
  {
   "cell_type": "code",
   "execution_count": 20,
   "id": "c9f7143c",
   "metadata": {
    "execution": {
     "iopub.execute_input": "2023-05-21T17:35:48.400670Z",
     "iopub.status.busy": "2023-05-21T17:35:48.400020Z",
     "iopub.status.idle": "2023-05-21T17:35:48.590921Z",
     "shell.execute_reply": "2023-05-21T17:35:48.590086Z"
    },
    "papermill": {
     "duration": 0.208773,
     "end_time": "2023-05-21T17:35:48.592941",
     "exception": false,
     "start_time": "2023-05-21T17:35:48.384168",
     "status": "completed"
    },
    "tags": []
   },
   "outputs": [
    {
     "name": "stdout",
     "output_type": "stream",
     "text": [
      "Class: T-shirt / Top\n"
     ]
    },
    {
     "data": {
      "image/png": "[encoded data removed]",
      "text/plain": [
       "<Figure size 800x800 with 1 Axes>"
      ]
     },
     "metadata": {},
     "output_type": "display_data"
    }
   ],
   "source": [
    "#Display the 10th row's image\n",
    "display_image(X.loc[10].values, Y.loc[10])"
   ]
  },
  {
   "cell_type": "code",
   "execution_count": 21,
   "id": "2225c118",
   "metadata": {
    "execution": {
     "iopub.execute_input": "2023-05-21T17:35:48.622573Z",
     "iopub.status.busy": "2023-05-21T17:35:48.621801Z",
     "iopub.status.idle": "2023-05-21T17:35:48.814189Z",
     "shell.execute_reply": "2023-05-21T17:35:48.812776Z"
    },
    "papermill": {
     "duration": 0.211654,
     "end_time": "2023-05-21T17:35:48.818111",
     "exception": false,
     "start_time": "2023-05-21T17:35:48.606457",
     "status": "completed"
    },
    "tags": []
   },
   "outputs": [
    {
     "name": "stdout",
     "output_type": "stream",
     "text": [
      "Class: Sneaker\n"
     ]
    },
    {
     "data": {
      "image/png": "[encoded data removed]",
      "text/plain": [
       "<Figure size 800x800 with 1 Axes>"
      ]
     },
     "metadata": {},
     "output_type": "display_data"
    }
   ],
   "source": [
    "#Display the 59999th row's image\n",
    "display_image(X.loc[59999].values, Y.loc[59999])"
   ]
  },
  {
   "cell_type": "markdown",
   "id": "22bcef65",
   "metadata": {
    "papermill": {
     "duration": 0.013856,
     "end_time": "2023-05-21T17:35:48.847267",
     "exception": false,
     "start_time": "2023-05-21T17:35:48.833411",
     "status": "completed"
    },
    "tags": []
   },
   "source": [
    "## Step 7: Normalize the feature matrix x"
   ]
  },
  {
   "cell_type": "code",
   "execution_count": 22,
   "id": "23d0ee93",
   "metadata": {
    "execution": {
     "iopub.execute_input": "2023-05-21T17:35:48.880290Z",
     "iopub.status.busy": "2023-05-21T17:35:48.879801Z",
     "iopub.status.idle": "2023-05-21T17:35:49.024517Z",
     "shell.execute_reply": "2023-05-21T17:35:49.023391Z"
    },
    "papermill": {
     "duration": 0.164607,
     "end_time": "2023-05-21T17:35:49.026721",
     "exception": false,
     "start_time": "2023-05-21T17:35:48.862114",
     "status": "completed"
    },
    "tags": []
   },
   "outputs": [
    {
     "data": {
      "text/html": [
       "<div>\n",
       "<style scoped>\n",
       "    .dataframe tbody tr th:only-of-type {\n",
       "        vertical-align: middle;\n",
       "    }\n",
       "\n",
       "    .dataframe tbody tr th {\n",
       "        vertical-align: top;\n",
       "    }\n",
       "\n",
       "    .dataframe thead th {\n",
       "        text-align: right;\n",
       "    }\n",
       "</style>\n",
       "<table border=\"1\" class=\"dataframe\">\n",
       "  <thead>\n",
       "    <tr style=\"text-align: right;\">\n",
       "      <th></th>\n",
       "      <th>pixel1</th>\n",
       "      <th>pixel2</th>\n",
       "      <th>pixel3</th>\n",
       "      <th>pixel4</th>\n",
       "      <th>pixel5</th>\n",
       "      <th>pixel6</th>\n",
       "      <th>pixel7</th>\n",
       "      <th>pixel8</th>\n",
       "      <th>pixel9</th>\n",
       "      <th>pixel10</th>\n",
       "      <th>...</th>\n",
       "      <th>pixel775</th>\n",
       "      <th>pixel776</th>\n",
       "      <th>pixel777</th>\n",
       "      <th>pixel778</th>\n",
       "      <th>pixel779</th>\n",
       "      <th>pixel780</th>\n",
       "      <th>pixel781</th>\n",
       "      <th>pixel782</th>\n",
       "      <th>pixel783</th>\n",
       "      <th>pixel784</th>\n",
       "    </tr>\n",
       "  </thead>\n",
       "  <tbody>\n",
       "    <tr>\n",
       "      <th>0</th>\n",
       "      <td>0.0</td>\n",
       "      <td>0.0</td>\n",
       "      <td>0.0</td>\n",
       "      <td>0.000000</td>\n",
       "      <td>0.000000</td>\n",
       "      <td>0.0</td>\n",
       "      <td>0.0</td>\n",
       "      <td>0.000000</td>\n",
       "      <td>0.0</td>\n",
       "      <td>0.0</td>\n",
       "      <td>...</td>\n",
       "      <td>0.000000</td>\n",
       "      <td>0.0</td>\n",
       "      <td>0.0</td>\n",
       "      <td>0.000000</td>\n",
       "      <td>0.000000</td>\n",
       "      <td>0.000000</td>\n",
       "      <td>0.0</td>\n",
       "      <td>0.0</td>\n",
       "      <td>0.0</td>\n",
       "      <td>0.0</td>\n",
       "    </tr>\n",
       "    <tr>\n",
       "      <th>1</th>\n",
       "      <td>0.0</td>\n",
       "      <td>0.0</td>\n",
       "      <td>0.0</td>\n",
       "      <td>0.000000</td>\n",
       "      <td>0.000000</td>\n",
       "      <td>0.0</td>\n",
       "      <td>0.0</td>\n",
       "      <td>0.000000</td>\n",
       "      <td>0.0</td>\n",
       "      <td>0.0</td>\n",
       "      <td>...</td>\n",
       "      <td>0.000000</td>\n",
       "      <td>0.0</td>\n",
       "      <td>0.0</td>\n",
       "      <td>0.000000</td>\n",
       "      <td>0.000000</td>\n",
       "      <td>0.000000</td>\n",
       "      <td>0.0</td>\n",
       "      <td>0.0</td>\n",
       "      <td>0.0</td>\n",
       "      <td>0.0</td>\n",
       "    </tr>\n",
       "    <tr>\n",
       "      <th>2</th>\n",
       "      <td>0.0</td>\n",
       "      <td>0.0</td>\n",
       "      <td>0.0</td>\n",
       "      <td>0.000000</td>\n",
       "      <td>0.000000</td>\n",
       "      <td>0.0</td>\n",
       "      <td>0.0</td>\n",
       "      <td>0.019608</td>\n",
       "      <td>0.0</td>\n",
       "      <td>0.0</td>\n",
       "      <td>...</td>\n",
       "      <td>0.000000</td>\n",
       "      <td>0.0</td>\n",
       "      <td>0.0</td>\n",
       "      <td>0.117647</td>\n",
       "      <td>0.168627</td>\n",
       "      <td>0.000000</td>\n",
       "      <td>0.0</td>\n",
       "      <td>0.0</td>\n",
       "      <td>0.0</td>\n",
       "      <td>0.0</td>\n",
       "    </tr>\n",
       "    <tr>\n",
       "      <th>3</th>\n",
       "      <td>0.0</td>\n",
       "      <td>0.0</td>\n",
       "      <td>0.0</td>\n",
       "      <td>0.003922</td>\n",
       "      <td>0.007843</td>\n",
       "      <td>0.0</td>\n",
       "      <td>0.0</td>\n",
       "      <td>0.000000</td>\n",
       "      <td>0.0</td>\n",
       "      <td>0.0</td>\n",
       "      <td>...</td>\n",
       "      <td>0.011765</td>\n",
       "      <td>0.0</td>\n",
       "      <td>0.0</td>\n",
       "      <td>0.000000</td>\n",
       "      <td>0.000000</td>\n",
       "      <td>0.003922</td>\n",
       "      <td>0.0</td>\n",
       "      <td>0.0</td>\n",
       "      <td>0.0</td>\n",
       "      <td>0.0</td>\n",
       "    </tr>\n",
       "    <tr>\n",
       "      <th>4</th>\n",
       "      <td>0.0</td>\n",
       "      <td>0.0</td>\n",
       "      <td>0.0</td>\n",
       "      <td>0.000000</td>\n",
       "      <td>0.000000</td>\n",
       "      <td>0.0</td>\n",
       "      <td>0.0</td>\n",
       "      <td>0.000000</td>\n",
       "      <td>0.0</td>\n",
       "      <td>0.0</td>\n",
       "      <td>...</td>\n",
       "      <td>0.000000</td>\n",
       "      <td>0.0</td>\n",
       "      <td>0.0</td>\n",
       "      <td>0.000000</td>\n",
       "      <td>0.000000</td>\n",
       "      <td>0.000000</td>\n",
       "      <td>0.0</td>\n",
       "      <td>0.0</td>\n",
       "      <td>0.0</td>\n",
       "      <td>0.0</td>\n",
       "    </tr>\n",
       "  </tbody>\n",
       "</table>\n",
       "<p>5 rows × 784 columns</p>\n",
       "</div>"
      ],
      "text/plain": [
       "   pixel1  pixel2  pixel3    pixel4    pixel5  pixel6  pixel7    pixel8  \\\n",
       "0     0.0     0.0     0.0  0.000000  0.000000     0.0     0.0  0.000000   \n",
       "1     0.0     0.0     0.0  0.000000  0.000000     0.0     0.0  0.000000   \n",
       "2     0.0     0.0     0.0  0.000000  0.000000     0.0     0.0  0.019608   \n",
       "3     0.0     0.0     0.0  0.003922  0.007843     0.0     0.0  0.000000   \n",
       "4     0.0     0.0     0.0  0.000000  0.000000     0.0     0.0  0.000000   \n",
       "\n",
       "   pixel9  pixel10  ...  pixel775  pixel776  pixel777  pixel778  pixel779  \\\n",
       "0     0.0      0.0  ...  0.000000       0.0       0.0  0.000000  0.000000   \n",
       "1     0.0      0.0  ...  0.000000       0.0       0.0  0.000000  0.000000   \n",
       "2     0.0      0.0  ...  0.000000       0.0       0.0  0.117647  0.168627   \n",
       "3     0.0      0.0  ...  0.011765       0.0       0.0  0.000000  0.000000   \n",
       "4     0.0      0.0  ...  0.000000       0.0       0.0  0.000000  0.000000   \n",
       "\n",
       "   pixel780  pixel781  pixel782  pixel783  pixel784  \n",
       "0  0.000000       0.0       0.0       0.0       0.0  \n",
       "1  0.000000       0.0       0.0       0.0       0.0  \n",
       "2  0.000000       0.0       0.0       0.0       0.0  \n",
       "3  0.003922       0.0       0.0       0.0       0.0  \n",
       "4  0.000000       0.0       0.0       0.0       0.0  \n",
       "\n",
       "[5 rows x 784 columns]"
      ]
     },
     "execution_count": 22,
     "metadata": {},
     "output_type": "execute_result"
    }
   ],
   "source": [
    "#Normalize x by diving the maximum image value 255\n",
    "X = X / 255\n",
    "X.head()"
   ]
  },
  {
   "cell_type": "markdown",
   "id": "609f778a",
   "metadata": {
    "papermill": {
     "duration": 0.013983,
     "end_time": "2023-05-21T17:35:49.055968",
     "exception": false,
     "start_time": "2023-05-21T17:35:49.041985",
     "status": "completed"
    },
    "tags": []
   },
   "source": [
    "## Conclusion:\n",
    "Normalize the feature matrix 'X by divding it by 255 (maximum value for image data is 255) to scale the pixel values between 0 and 1."
   ]
  },
  {
   "cell_type": "markdown",
   "id": "15becf68",
   "metadata": {
    "papermill": {
     "duration": 0.014022,
     "end_time": "2023-05-21T17:35:49.084117",
     "exception": false,
     "start_time": "2023-05-21T17:35:49.070095",
     "status": "completed"
    },
    "tags": []
   },
   "source": [
    "## Step 8: Split the dataset into 80% training dataset and 20% validation dataset"
   ]
  },
  {
   "cell_type": "code",
   "execution_count": 23,
   "id": "1e79f6e9",
   "metadata": {
    "execution": {
     "iopub.execute_input": "2023-05-21T17:35:49.116292Z",
     "iopub.status.busy": "2023-05-21T17:35:49.115613Z",
     "iopub.status.idle": "2023-05-21T17:35:49.477349Z",
     "shell.execute_reply": "2023-05-21T17:35:49.476102Z"
    },
    "papermill": {
     "duration": 0.380978,
     "end_time": "2023-05-21T17:35:49.480117",
     "exception": false,
     "start_time": "2023-05-21T17:35:49.099139",
     "status": "completed"
    },
    "tags": []
   },
   "outputs": [
    {
     "data": {
      "text/plain": [
       "(48000, 784)"
      ]
     },
     "execution_count": 23,
     "metadata": {},
     "output_type": "execute_result"
    }
   ],
   "source": [
    "x_train, x_test, y_train, y_test = train_test_split(X, Y, test_size=0.2)\n",
    "x_train.shape"
   ]
  },
  {
   "cell_type": "code",
   "execution_count": 24,
   "id": "be39525e",
   "metadata": {
    "execution": {
     "iopub.execute_input": "2023-05-21T17:35:49.513878Z",
     "iopub.status.busy": "2023-05-21T17:35:49.513456Z",
     "iopub.status.idle": "2023-05-21T17:35:49.541549Z",
     "shell.execute_reply": "2023-05-21T17:35:49.540659Z"
    },
    "papermill": {
     "duration": 0.047506,
     "end_time": "2023-05-21T17:35:49.543730",
     "exception": false,
     "start_time": "2023-05-21T17:35:49.496224",
     "status": "completed"
    },
    "tags": []
   },
   "outputs": [
    {
     "data": {
      "text/html": [
       "<div>\n",
       "<style scoped>\n",
       "    .dataframe tbody tr th:only-of-type {\n",
       "        vertical-align: middle;\n",
       "    }\n",
       "\n",
       "    .dataframe tbody tr th {\n",
       "        vertical-align: top;\n",
       "    }\n",
       "\n",
       "    .dataframe thead th {\n",
       "        text-align: right;\n",
       "    }\n",
       "</style>\n",
       "<table border=\"1\" class=\"dataframe\">\n",
       "  <thead>\n",
       "    <tr style=\"text-align: right;\">\n",
       "      <th></th>\n",
       "      <th>pixel1</th>\n",
       "      <th>pixel2</th>\n",
       "      <th>pixel3</th>\n",
       "      <th>pixel4</th>\n",
       "      <th>pixel5</th>\n",
       "      <th>pixel6</th>\n",
       "      <th>pixel7</th>\n",
       "      <th>pixel8</th>\n",
       "      <th>pixel9</th>\n",
       "      <th>pixel10</th>\n",
       "      <th>...</th>\n",
       "      <th>pixel775</th>\n",
       "      <th>pixel776</th>\n",
       "      <th>pixel777</th>\n",
       "      <th>pixel778</th>\n",
       "      <th>pixel779</th>\n",
       "      <th>pixel780</th>\n",
       "      <th>pixel781</th>\n",
       "      <th>pixel782</th>\n",
       "      <th>pixel783</th>\n",
       "      <th>pixel784</th>\n",
       "    </tr>\n",
       "  </thead>\n",
       "  <tbody>\n",
       "    <tr>\n",
       "      <th>7343</th>\n",
       "      <td>0.0</td>\n",
       "      <td>0.0</td>\n",
       "      <td>0.0</td>\n",
       "      <td>0.0</td>\n",
       "      <td>0.0</td>\n",
       "      <td>0.0</td>\n",
       "      <td>0.003922</td>\n",
       "      <td>0.000000</td>\n",
       "      <td>0.000000</td>\n",
       "      <td>0.019608</td>\n",
       "      <td>...</td>\n",
       "      <td>0.356863</td>\n",
       "      <td>0.329412</td>\n",
       "      <td>0.337255</td>\n",
       "      <td>0.321569</td>\n",
       "      <td>0.282353</td>\n",
       "      <td>0.121569</td>\n",
       "      <td>0.0</td>\n",
       "      <td>0.0</td>\n",
       "      <td>0.0</td>\n",
       "      <td>0.0</td>\n",
       "    </tr>\n",
       "    <tr>\n",
       "      <th>339</th>\n",
       "      <td>0.0</td>\n",
       "      <td>0.0</td>\n",
       "      <td>0.0</td>\n",
       "      <td>0.0</td>\n",
       "      <td>0.0</td>\n",
       "      <td>0.0</td>\n",
       "      <td>0.000000</td>\n",
       "      <td>0.000000</td>\n",
       "      <td>0.000000</td>\n",
       "      <td>0.000000</td>\n",
       "      <td>...</td>\n",
       "      <td>0.000000</td>\n",
       "      <td>0.000000</td>\n",
       "      <td>0.000000</td>\n",
       "      <td>0.000000</td>\n",
       "      <td>0.000000</td>\n",
       "      <td>0.000000</td>\n",
       "      <td>0.0</td>\n",
       "      <td>0.0</td>\n",
       "      <td>0.0</td>\n",
       "      <td>0.0</td>\n",
       "    </tr>\n",
       "    <tr>\n",
       "      <th>51857</th>\n",
       "      <td>0.0</td>\n",
       "      <td>0.0</td>\n",
       "      <td>0.0</td>\n",
       "      <td>0.0</td>\n",
       "      <td>0.0</td>\n",
       "      <td>0.0</td>\n",
       "      <td>0.000000</td>\n",
       "      <td>0.000000</td>\n",
       "      <td>0.000000</td>\n",
       "      <td>0.000000</td>\n",
       "      <td>...</td>\n",
       "      <td>0.000000</td>\n",
       "      <td>0.000000</td>\n",
       "      <td>0.152941</td>\n",
       "      <td>0.262745</td>\n",
       "      <td>0.223529</td>\n",
       "      <td>0.192157</td>\n",
       "      <td>0.0</td>\n",
       "      <td>0.0</td>\n",
       "      <td>0.0</td>\n",
       "      <td>0.0</td>\n",
       "    </tr>\n",
       "    <tr>\n",
       "      <th>53344</th>\n",
       "      <td>0.0</td>\n",
       "      <td>0.0</td>\n",
       "      <td>0.0</td>\n",
       "      <td>0.0</td>\n",
       "      <td>0.0</td>\n",
       "      <td>0.0</td>\n",
       "      <td>0.000000</td>\n",
       "      <td>0.000000</td>\n",
       "      <td>0.000000</td>\n",
       "      <td>0.000000</td>\n",
       "      <td>...</td>\n",
       "      <td>0.000000</td>\n",
       "      <td>0.000000</td>\n",
       "      <td>0.000000</td>\n",
       "      <td>0.000000</td>\n",
       "      <td>0.000000</td>\n",
       "      <td>0.000000</td>\n",
       "      <td>0.0</td>\n",
       "      <td>0.0</td>\n",
       "      <td>0.0</td>\n",
       "      <td>0.0</td>\n",
       "    </tr>\n",
       "    <tr>\n",
       "      <th>11981</th>\n",
       "      <td>0.0</td>\n",
       "      <td>0.0</td>\n",
       "      <td>0.0</td>\n",
       "      <td>0.0</td>\n",
       "      <td>0.0</td>\n",
       "      <td>0.0</td>\n",
       "      <td>0.050980</td>\n",
       "      <td>0.301961</td>\n",
       "      <td>0.541176</td>\n",
       "      <td>0.000000</td>\n",
       "      <td>...</td>\n",
       "      <td>0.301961</td>\n",
       "      <td>0.113725</td>\n",
       "      <td>0.019608</td>\n",
       "      <td>0.000000</td>\n",
       "      <td>0.000000</td>\n",
       "      <td>0.000000</td>\n",
       "      <td>0.0</td>\n",
       "      <td>0.0</td>\n",
       "      <td>0.0</td>\n",
       "      <td>0.0</td>\n",
       "    </tr>\n",
       "  </tbody>\n",
       "</table>\n",
       "<p>5 rows × 784 columns</p>\n",
       "</div>"
      ],
      "text/plain": [
       "       pixel1  pixel2  pixel3  pixel4  pixel5  pixel6    pixel7    pixel8  \\\n",
       "7343      0.0     0.0     0.0     0.0     0.0     0.0  0.003922  0.000000   \n",
       "339       0.0     0.0     0.0     0.0     0.0     0.0  0.000000  0.000000   \n",
       "51857     0.0     0.0     0.0     0.0     0.0     0.0  0.000000  0.000000   \n",
       "53344     0.0     0.0     0.0     0.0     0.0     0.0  0.000000  0.000000   \n",
       "11981     0.0     0.0     0.0     0.0     0.0     0.0  0.050980  0.301961   \n",
       "\n",
       "         pixel9   pixel10  ...  pixel775  pixel776  pixel777  pixel778  \\\n",
       "7343   0.000000  0.019608  ...  0.356863  0.329412  0.337255  0.321569   \n",
       "339    0.000000  0.000000  ...  0.000000  0.000000  0.000000  0.000000   \n",
       "51857  0.000000  0.000000  ...  0.000000  0.000000  0.152941  0.262745   \n",
       "53344  0.000000  0.000000  ...  0.000000  0.000000  0.000000  0.000000   \n",
       "11981  0.541176  0.000000  ...  0.301961  0.113725  0.019608  0.000000   \n",
       "\n",
       "       pixel779  pixel780  pixel781  pixel782  pixel783  pixel784  \n",
       "7343   0.282353  0.121569       0.0       0.0       0.0       0.0  \n",
       "339    0.000000  0.000000       0.0       0.0       0.0       0.0  \n",
       "51857  0.223529  0.192157       0.0       0.0       0.0       0.0  \n",
       "53344  0.000000  0.000000       0.0       0.0       0.0       0.0  \n",
       "11981  0.000000  0.000000       0.0       0.0       0.0       0.0  \n",
       "\n",
       "[5 rows x 784 columns]"
      ]
     },
     "execution_count": 24,
     "metadata": {},
     "output_type": "execute_result"
    }
   ],
   "source": [
    "x_train.head()"
   ]
  },
  {
   "cell_type": "code",
   "execution_count": 25,
   "id": "6cc312ed",
   "metadata": {
    "execution": {
     "iopub.execute_input": "2023-05-21T17:35:49.575798Z",
     "iopub.status.busy": "2023-05-21T17:35:49.574713Z",
     "iopub.status.idle": "2023-05-21T17:35:49.582147Z",
     "shell.execute_reply": "2023-05-21T17:35:49.580225Z"
    },
    "papermill": {
     "duration": 0.025816,
     "end_time": "2023-05-21T17:35:49.584579",
     "exception": false,
     "start_time": "2023-05-21T17:35:49.558763",
     "status": "completed"
    },
    "tags": []
   },
   "outputs": [
    {
     "data": {
      "text/plain": [
       "(48000, 784)"
      ]
     },
     "execution_count": 25,
     "metadata": {},
     "output_type": "execute_result"
    }
   ],
   "source": [
    "x_train.shape"
   ]
  },
  {
   "cell_type": "code",
   "execution_count": 26,
   "id": "1d845770",
   "metadata": {
    "execution": {
     "iopub.execute_input": "2023-05-21T17:35:49.616117Z",
     "iopub.status.busy": "2023-05-21T17:35:49.615662Z",
     "iopub.status.idle": "2023-05-21T17:35:49.622519Z",
     "shell.execute_reply": "2023-05-21T17:35:49.621299Z"
    },
    "papermill": {
     "duration": 0.025491,
     "end_time": "2023-05-21T17:35:49.625155",
     "exception": false,
     "start_time": "2023-05-21T17:35:49.599664",
     "status": "completed"
    },
    "tags": []
   },
   "outputs": [
    {
     "data": {
      "text/plain": [
       "(48000,)"
      ]
     },
     "execution_count": 26,
     "metadata": {},
     "output_type": "execute_result"
    }
   ],
   "source": [
    "y_train.shape"
   ]
  },
  {
   "cell_type": "code",
   "execution_count": 27,
   "id": "4a18023c",
   "metadata": {
    "execution": {
     "iopub.execute_input": "2023-05-21T17:35:49.657242Z",
     "iopub.status.busy": "2023-05-21T17:35:49.656316Z",
     "iopub.status.idle": "2023-05-21T17:35:49.662806Z",
     "shell.execute_reply": "2023-05-21T17:35:49.662049Z"
    },
    "papermill": {
     "duration": 0.024619,
     "end_time": "2023-05-21T17:35:49.664919",
     "exception": false,
     "start_time": "2023-05-21T17:35:49.640300",
     "status": "completed"
    },
    "tags": []
   },
   "outputs": [
    {
     "data": {
      "text/plain": [
       "(12000, 784)"
      ]
     },
     "execution_count": 27,
     "metadata": {},
     "output_type": "execute_result"
    }
   ],
   "source": [
    "x_test.shape"
   ]
  },
  {
   "cell_type": "code",
   "execution_count": 28,
   "id": "5d62542e",
   "metadata": {
    "execution": {
     "iopub.execute_input": "2023-05-21T17:35:49.699450Z",
     "iopub.status.busy": "2023-05-21T17:35:49.698575Z",
     "iopub.status.idle": "2023-05-21T17:35:49.708283Z",
     "shell.execute_reply": "2023-05-21T17:35:49.706513Z"
    },
    "papermill": {
     "duration": 0.031964,
     "end_time": "2023-05-21T17:35:49.712212",
     "exception": false,
     "start_time": "2023-05-21T17:35:49.680248",
     "status": "completed"
    },
    "tags": []
   },
   "outputs": [
    {
     "data": {
      "text/plain": [
       "(12000,)"
      ]
     },
     "execution_count": 28,
     "metadata": {},
     "output_type": "execute_result"
    }
   ],
   "source": [
    "y_test.shape"
   ]
  },
  {
   "cell_type": "markdown",
   "id": "0b015c23",
   "metadata": {
    "papermill": {
     "duration": 0.01557,
     "end_time": "2023-05-21T17:35:49.745198",
     "exception": false,
     "start_time": "2023-05-21T17:35:49.729628",
     "status": "completed"
    },
    "tags": []
   },
   "source": [
    "## Conclusion:\n",
    "Split the dataset into 80% training dataset and 20% validation dataset. There is 48000 rows of training dataset and 12000 rows of validation dataset."
   ]
  },
  {
   "cell_type": "markdown",
   "id": "2f05584e",
   "metadata": {
    "papermill": {
     "duration": 0.014635,
     "end_time": "2023-05-21T17:35:49.775066",
     "exception": false,
     "start_time": "2023-05-21T17:35:49.760431",
     "status": "completed"
    },
    "tags": []
   },
   "source": [
    "## Step 9: Apply iterations to 50, 100, 200, 1000 and check the predict result"
   ]
  },
  {
   "cell_type": "code",
   "execution_count": 29,
   "id": "03d20a05",
   "metadata": {
    "execution": {
     "iopub.execute_input": "2023-05-21T17:35:49.808757Z",
     "iopub.status.busy": "2023-05-21T17:35:49.807883Z",
     "iopub.status.idle": "2023-05-21T17:40:30.067643Z",
     "shell.execute_reply": "2023-05-21T17:40:30.057220Z"
    },
    "papermill": {
     "duration": 280.302257,
     "end_time": "2023-05-21T17:40:30.092709",
     "exception": false,
     "start_time": "2023-05-21T17:35:49.790452",
     "status": "completed"
    },
    "tags": []
   },
   "outputs": [
    {
     "name": "stderr",
     "output_type": "stream",
     "text": [
      "/opt/conda/lib/python3.10/site-packages/sklearn/linear_model/_logistic.py:458: ConvergenceWarning: lbfgs failed to converge (status=1):\n",
      "STOP: TOTAL NO. of ITERATIONS REACHED LIMIT.\n",
      "\n",
      "Increase the number of iterations (max_iter) or scale the data as shown in:\n",
      "    https://scikit-learn.org/stable/modules/preprocessing.html\n",
      "Please also refer to the documentation for alternative solver options:\n",
      "    https://scikit-learn.org/stable/modules/linear_model.html#logistic-regression\n",
      "  n_iter_i = _check_optimize_result(\n"
     ]
    },
    {
     "name": "stdout",
     "output_type": "stream",
     "text": [
      "Number of test records:\t 12000\n",
      "Accuracy count:\t\t 10104\n",
      "Acccuracy:\t\t 0.842\n",
      "Precision:\t\t 0.8410870134951459\n",
      "Recall:\t\t\t 0.842\n"
     ]
    },
    {
     "name": "stderr",
     "output_type": "stream",
     "text": [
      "/opt/conda/lib/python3.10/site-packages/sklearn/linear_model/_logistic.py:458: ConvergenceWarning: lbfgs failed to converge (status=1):\n",
      "STOP: TOTAL NO. of ITERATIONS REACHED LIMIT.\n",
      "\n",
      "Increase the number of iterations (max_iter) or scale the data as shown in:\n",
      "    https://scikit-learn.org/stable/modules/preprocessing.html\n",
      "Please also refer to the documentation for alternative solver options:\n",
      "    https://scikit-learn.org/stable/modules/linear_model.html#logistic-regression\n",
      "  n_iter_i = _check_optimize_result(\n"
     ]
    },
    {
     "name": "stdout",
     "output_type": "stream",
     "text": [
      "Number of test records:\t 12000\n",
      "Accuracy count:\t\t 10227\n",
      "Acccuracy:\t\t 0.85225\n",
      "Precision:\t\t 0.8512124707873467\n",
      "Recall:\t\t\t 0.85225\n"
     ]
    },
    {
     "name": "stderr",
     "output_type": "stream",
     "text": [
      "/opt/conda/lib/python3.10/site-packages/sklearn/linear_model/_logistic.py:458: ConvergenceWarning: lbfgs failed to converge (status=1):\n",
      "STOP: TOTAL NO. of ITERATIONS REACHED LIMIT.\n",
      "\n",
      "Increase the number of iterations (max_iter) or scale the data as shown in:\n",
      "    https://scikit-learn.org/stable/modules/preprocessing.html\n",
      "Please also refer to the documentation for alternative solver options:\n",
      "    https://scikit-learn.org/stable/modules/linear_model.html#logistic-regression\n",
      "  n_iter_i = _check_optimize_result(\n"
     ]
    },
    {
     "name": "stdout",
     "output_type": "stream",
     "text": [
      "Number of test records:\t 12000\n",
      "Accuracy count:\t\t 10205\n",
      "Acccuracy:\t\t 0.8504166666666667\n",
      "Precision:\t\t 0.8492458649744012\n",
      "Recall:\t\t\t 0.8504166666666667\n",
      "Number of test records:\t 12000\n",
      "Accuracy count:\t\t 10196\n",
      "Acccuracy:\t\t 0.8496666666666667\n",
      "Precision:\t\t 0.8487414070860171\n",
      "Recall:\t\t\t 0.8496666666666667\n"
     ]
    },
    {
     "name": "stderr",
     "output_type": "stream",
     "text": [
      "/opt/conda/lib/python3.10/site-packages/sklearn/linear_model/_logistic.py:458: ConvergenceWarning: lbfgs failed to converge (status=1):\n",
      "STOP: TOTAL NO. of ITERATIONS REACHED LIMIT.\n",
      "\n",
      "Increase the number of iterations (max_iter) or scale the data as shown in:\n",
      "    https://scikit-learn.org/stable/modules/preprocessing.html\n",
      "Please also refer to the documentation for alternative solver options:\n",
      "    https://scikit-learn.org/stable/modules/linear_model.html#logistic-regression\n",
      "  n_iter_i = _check_optimize_result(\n"
     ]
    }
   ],
   "source": [
    "for iterations in [50, 100, 200, 1000]:\n",
    "    logistic_model = LogisticRegression(max_iter = iterations, random_state = 42)\n",
    "    logistic_model.fit(x_train, y_train)\n",
    "    y_pred = logistic_model.predict(x_test)\n",
    "\n",
    "    accuracy = accuracy_score(y_test, y_pred, normalize = True)\n",
    "    accuracy_count = accuracy_score(y_test, y_pred, normalize = False)\n",
    "    precision = precision_score(y_test, y_pred, average = 'weighted')\n",
    "    recall = recall_score(y_test, y_pred, average = 'weighted')\n",
    "\n",
    "    print(\"Number of test records:\\t\", len(y_test))\n",
    "    print(\"Accuracy count:\\t\\t\", accuracy_count)\n",
    "    print(\"Acccuracy:\\t\\t\", accuracy)\n",
    "    print(\"Precision:\\t\\t\", precision)\n",
    "    print(\"Recall:\\t\\t\\t\", recall)"
   ]
  },
  {
   "cell_type": "markdown",
   "id": "69db5035",
   "metadata": {
    "papermill": {
     "duration": 0.026626,
     "end_time": "2023-05-21T17:40:30.145250",
     "exception": false,
     "start_time": "2023-05-21T17:40:30.118624",
     "status": "completed"
    },
    "tags": []
   },
   "source": [
    "## Conclusion:\n",
    "I tried different iterations 1, 10, 50, 100, 200 for this logictic regression model. From the result, we can see that when iteration = 100, it has the highest accuracy: 0.858, precision = 0.857, recall = 0.858, when iteration > 100, for 12000 records, the accuracy count is 10326. The accuracy, precision and recall are not increasing anymore."
   ]
  }
 ],
 "metadata": {
  "kernelspec": {
   "display_name": "Python 3",
   "language": "python",
   "name": "python3"
  },
  "language_info": {
   "codemirror_mode": {
    "name": "ipython",
    "version": 3
   },
   "file_extension": ".py",
   "mimetype": "text/x-python",
   "name": "python",
   "nbconvert_exporter": "python",
   "pygments_lexer": "ipython3",
   "version": "3.10.10"
  },
  "papermill": {
   "default_parameters": {},
   "duration": 310.296356,
   "end_time": "2023-05-21T17:40:31.288030",
   "environment_variables": {},
   "exception": null,
   "input_path": "__notebook__.ipynb",
   "output_path": "__notebook__.ipynb",
   "parameters": {},
   "start_time": "2023-05-21T17:35:20.991674",
   "version": "2.4.0"
  }
 },
 "nbformat": 4,
 "nbformat_minor": 5
}
