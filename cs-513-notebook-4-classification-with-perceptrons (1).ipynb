{
 "cells": [
  {
   "cell_type": "markdown",
   "id": "9e34d640",
   "metadata": {
    "papermill": {
     "duration": 0.014716,
     "end_time": "2023-04-30T20:07:57.871544",
     "exception": false,
     "start_time": "2023-04-30T20:07:57.856828",
     "status": "completed"
    },
    "tags": []
   },
   "source": [
    "# Introduction\n",
    "\n",
    "This notebook contains two parts. **Part 1, Testing Perceptrons**, provides you an opportunity to demonstrate your ability to apply course concepts by implementing a test function for a perceptron. **Part 2, Mine Detection**, provides you an opportunity to practice using widely-used ML libraries and an ML workflow to solve a classification problem.\n",
    "\n",
    "You do not need to complete Part 1 in order to complete Part 2. If you get stuck on Part 1, and choose to work on Part 2, be sure that all of your code for Part 1 runs without error. You can comment out your code in Part 1 if necessary."
   ]
  },
  {
   "cell_type": "markdown",
   "id": "73e0f84a",
   "metadata": {
    "papermill": {
     "duration": 0.012795,
     "end_time": "2023-04-30T20:07:57.897987",
     "exception": false,
     "start_time": "2023-04-30T20:07:57.885192",
     "status": "completed"
    },
    "tags": []
   },
   "source": [
    "# Part 1: Testing Perceptrons\n",
    "\n",
    "Given a simple Perceptron classifier, and a test set cancer diagnoses, demonstrate your ability to implement a perceptron's `test` function, such that it returns the accuracy of its predictions for the class labels of samples in a training set.\n",
    "\n",
    "## The Perceptron Implementation\n",
    "\n",
    "Let's first introduce the classifier, which you should find familiar, and you do not need to modify. Notice that the `test` method is stubbed."
   ]
  },
  {
   "cell_type": "code",
   "execution_count": 1,
   "id": "23df269d",
   "metadata": {
    "_kg_hide-input": true,
    "execution": {
     "iopub.execute_input": "2023-04-30T20:07:57.928648Z",
     "iopub.status.busy": "2023-04-30T20:07:57.927155Z",
     "iopub.status.idle": "2023-04-30T20:07:57.947922Z",
     "shell.execute_reply": "2023-04-30T20:07:57.946909Z"
    },
    "papermill": {
     "duration": 0.039683,
     "end_time": "2023-04-30T20:07:57.950988",
     "exception": false,
     "start_time": "2023-04-30T20:07:57.911305",
     "status": "completed"
    },
    "tags": []
   },
   "outputs": [],
   "source": [
    "import random\n",
    "\n",
    "class Perceptron:\n",
    "\n",
    "    def __init__(self, alpha = 0.1, max_epochs = 1000):\n",
    "        self.alpha = alpha\n",
    "        self.max_epochs = max_epochs\n",
    "\n",
    "    def train(self, training_set):\n",
    "        self.weights = self._initial_weights(len(training_set[0]))\n",
    "        for i in range(self.max_epochs):\n",
    "            correct_classifications = 0\n",
    "            for record in training_set:\n",
    "                y = record[0]\n",
    "                y_hat = self.predict(record[1:])\n",
    "                if y == y_hat: correct_classifications += 1\n",
    "                self._update_weights(y - y_hat, [1] + record[1:])\n",
    "            if correct_classifications / len(training_set) == 1.0:\n",
    "                print(f\"Epoch {i} Accuracy: {correct_classifications / len(training_set)}\")\n",
    "                break\n",
    "\n",
    "    def predict(self, features):\n",
    "        return self._sign_of(self._dot_product(self.weights, [1] + features))\n",
    "\n",
    "    def test(self, test_set):\n",
    "        pass\n",
    "\n",
    "    def _update_weights(self, error, features):\n",
    "        self.weights[0] += self.alpha * error\n",
    "        for i in range(1, len(self.weights)):\n",
    "            self.weights[i] += self.alpha * error * features[i]\n",
    "\n",
    "    def _dot_product(self, w, x):\n",
    "        return sum([w * x for w, x in zip(w, x)])\n",
    "\n",
    "    def _sign_of(self, value):\n",
    "        return 1 if value >= 0 else -1\n",
    "\n",
    "    def _initial_weights(self, length):\n",
    "        return [random.uniform(0, 1) for _ in range(length)]"
   ]
  },
  {
   "cell_type": "markdown",
   "id": "020f4c12",
   "metadata": {
    "papermill": {
     "duration": 0.013128,
     "end_time": "2023-04-30T20:07:57.980353",
     "exception": false,
     "start_time": "2023-04-30T20:07:57.967225",
     "status": "completed"
    },
    "tags": []
   },
   "source": [
    "## The Data Set\n",
    "\n",
    "There is no need for you to manually load the data set. We have provided a subset of the cancer diagnoses data set here, already split into a training set, `diagnoses_training`, and a test set, `diagnoses_test`. Each data set is a simple, two-dimensional Python list, where each sub-list represents the attributes for one diagnosis.\n",
    "\n",
    "We have preprocessed the data, such that the **first dimension is the class label**: a `1` indicating malignant, and `-1` indicating benign.\n"
   ]
  },
  {
   "cell_type": "code",
   "execution_count": 2,
   "id": "81de7c7a",
   "metadata": {
    "_kg_hide-input": true,
    "_kg_hide-output": true,
    "execution": {
     "iopub.execute_input": "2023-04-30T20:07:58.010141Z",
     "iopub.status.busy": "2023-04-30T20:07:58.009657Z",
     "iopub.status.idle": "2023-04-30T20:07:58.083700Z",
     "shell.execute_reply": "2023-04-30T20:07:58.082367Z"
    },
    "papermill": {
     "duration": 0.093196,
     "end_time": "2023-04-30T20:07:58.087092",
     "exception": false,
     "start_time": "2023-04-30T20:07:57.993896",
     "status": "completed"
    },
    "tags": []
   },
   "outputs": [],
   "source": [
    "diagnoses_training = [\n",
    "    [1, 17.99, 10.38, 122.8, 1001, 0.1184, 0.2776, 0.3001, 0.1471, 0.2419, 0.07871, 1.095, 0.9053, 8.589, 153.4, 0.006399, 0.04904, 0.05373, 0.01587, 0.03003, 0.006193, 25.38, 17.33, 184.6, 2019, 0.1622, 0.6656, 0.7119, 0.2654, 0.4601, 0.1189],\n",
    "    [1, 20.57, 17.77, 132.9, 1326, 0.08474, 0.07864, 0.0869, 0.07017, 0.1812, 0.05667, 0.5435, 0.7339, 3.398, 74.08, 0.005225, 0.01308, 0.0186, 0.0134, 0.01389, 0.003532, 24.99, 23.41, 158.8, 1956, 0.1238, 0.1866, 0.2416, 0.186, 0.275, 0.08902],\n",
    "    [1, 19.69, 21.25, 130, 1203, 0.1096, 0.1599, 0.1974, 0.1279, 0.2069, 0.05999, 0.7456, 0.7869, 4.585, 94.03, 0.00615, 0.04006, 0.03832, 0.02058, 0.0225, 0.004571, 23.57, 25.53, 152.5, 1709, 0.1444, 0.4245, 0.4504, 0.243, 0.3613, 0.08758],\n",
    "    [1, 11.42, 20.38, 77.58, 386.1, 0.1425, 0.2839, 0.2414, 0.1052, 0.2597, 0.09744, 0.4956, 1.156, 3.445, 27.23, 0.00911, 0.07458, 0.05661, 0.01867, 0.05963, 0.009208, 14.91, 26.5, 98.87, 567.7, 0.2098, 0.8663, 0.6869, 0.2575, 0.6638, 0.173],\n",
    "    [1, 20.29, 14.34, 135.1, 1297, 0.1003, 0.1328, 0.198, 0.1043, 0.1809, 0.05883, 0.7572, 0.7813, 5.438, 94.44, 0.01149, 0.02461, 0.05688, 0.01885, 0.01756, 0.005115, 22.54, 16.67, 152.2, 1575, 0.1374, 0.205, 0.4, 0.1625, 0.2364, 0.07678],\n",
    "    [1, 12.45, 15.7, 82.57, 477.1, 0.1278, 0.17, 0.1578, 0.08089, 0.2087, 0.07613, 0.3345, 0.8902, 2.217, 27.19, 0.00751, 0.03345, 0.03672, 0.01137, 0.02165, 0.005082, 15.47, 23.75, 103.4, 741.6, 0.1791, 0.5249, 0.5355, 0.1741, 0.3985, 0.1244],\n",
    "    [1, 18.25, 19.98, 119.6, 1040, 0.09463, 0.109, 0.1127, 0.074, 0.1794, 0.05742, 0.4467, 0.7732, 3.18, 53.91, 0.004314, 0.01382, 0.02254, 0.01039, 0.01369, 0.002179, 22.88, 27.66, 153.2, 1606, 0.1442, 0.2576, 0.3784, 0.1932, 0.3063, 0.08368],\n",
    "    [1, 13.71, 20.83, 90.2, 577.9, 0.1189, 0.1645, 0.09366, 0.05985, 0.2196, 0.07451, 0.5835, 1.377, 3.856, 50.96, 0.008805, 0.03029, 0.02488, 0.01448, 0.01486, 0.005412, 17.06, 28.14, 110.6, 897, 0.1654, 0.3682, 0.2678, 0.1556, 0.3196, 0.1151],\n",
    "    [1, 13, 21.82, 87.5, 519.8, 0.1273, 0.1932, 0.1859, 0.09353, 0.235, 0.07389, 0.3063, 1.002, 2.406, 24.32, 0.005731, 0.03502, 0.03553, 0.01226, 0.02143, 0.003749, 15.49, 30.73, 106.2, 739.3, 0.1703, 0.5401, 0.539, 0.206, 0.4378, 0.1072],\n",
    "    [1, 12.46, 24.04, 83.97, 475.9, 0.1186, 0.2396, 0.2273, 0.08543, 0.203, 0.08243, 0.2976, 1.599, 2.039, 23.94, 0.007149, 0.07217, 0.07743, 0.01432, 0.01789, 0.01008, 15.09, 40.68, 97.65, 711.4, 0.1853, 1.058, 1.105, 0.221, 0.4366, 0.2075],\n",
    "    [1, 16.02, 23.24, 102.7, 797.8, 0.08206, 0.06669, 0.03299, 0.03323, 0.1528, 0.05697, 0.3795, 1.187, 2.466, 40.51, 0.004029, 0.009269, 0.01101, 0.007591, 0.0146, 0.003042, 19.19, 33.88, 123.8, 1150, 0.1181, 0.1551, 0.1459, 0.09975, 0.2948, 0.08452],\n",
    "    [1, 15.78, 17.89, 103.6, 781, 0.0971, 0.1292, 0.09954, 0.06606, 0.1842, 0.06082, 0.5058, 0.9849, 3.564, 54.16, 0.005771, 0.04061, 0.02791, 0.01282, 0.02008, 0.004144, 20.42, 27.28, 136.5, 1299, 0.1396, 0.5609, 0.3965, 0.181, 0.3792, 0.1048],\n",
    "    [1, 19.17, 24.8, 132.4, 1123, 0.0974, 0.2458, 0.2065, 0.1118, 0.2397, 0.078, 0.9555, 3.568, 11.07, 116.2, 0.003139, 0.08297, 0.0889, 0.0409, 0.04484, 0.01284, 20.96, 29.94, 151.7, 1332, 0.1037, 0.3903, 0.3639, 0.1767, 0.3176, 0.1023],\n",
    "    [1, 15.85, 23.95, 103.7, 782.7, 0.08401, 0.1002, 0.09938, 0.05364, 0.1847, 0.05338, 0.4033, 1.078, 2.903, 36.58, 0.009769, 0.03126, 0.05051, 0.01992, 0.02981, 0.003002, 16.84, 27.66, 112, 876.5, 0.1131, 0.1924, 0.2322, 0.1119, 0.2809, 0.06287],\n",
    "    [1, 13.73, 22.61, 93.6, 578.3, 0.1131, 0.2293, 0.2128, 0.08025, 0.2069, 0.07682, 0.2121, 1.169, 2.061, 19.21, 0.006429, 0.05936, 0.05501, 0.01628, 0.01961, 0.008093, 15.03, 32.01, 108.8, 697.7, 0.1651, 0.7725, 0.6943, 0.2208, 0.3596, 0.1431],\n",
    "    [1, 14.54, 27.54, 96.73, 658.8, 0.1139, 0.1595, 0.1639, 0.07364, 0.2303, 0.07077, 0.37, 1.033, 2.879, 32.55, 0.005607, 0.0424, 0.04741, 0.0109, 0.01857, 0.005466, 17.46, 37.13, 124.1, 943.2, 0.1678, 0.6577, 0.7026, 0.1712, 0.4218, 0.1341],\n",
    "    [1, 14.68, 20.13, 94.74, 684.5, 0.09867, 0.072, 0.07395, 0.05259, 0.1586, 0.05922, 0.4727, 1.24, 3.195, 45.4, 0.005718, 0.01162, 0.01998, 0.01109, 0.0141, 0.002085, 19.07, 30.88, 123.4, 1138, 0.1464, 0.1871, 0.2914, 0.1609, 0.3029, 0.08216],\n",
    "    [1, 16.13, 20.68, 108.1, 798.8, 0.117, 0.2022, 0.1722, 0.1028, 0.2164, 0.07356, 0.5692, 1.073, 3.854, 54.18, 0.007026, 0.02501, 0.03188, 0.01297, 0.01689, 0.004142, 20.96, 31.48, 136.8, 1315, 0.1789, 0.4233, 0.4784, 0.2073, 0.3706, 0.1142],\n",
    "    [1, 19.81, 22.15, 130, 1260, 0.09831, 0.1027, 0.1479, 0.09498, 0.1582, 0.05395, 0.7582, 1.017, 5.865, 112.4, 0.006494, 0.01893, 0.03391, 0.01521, 0.01356, 0.001997, 27.32, 30.88, 186.8, 2398, 0.1512, 0.315, 0.5372, 0.2388, 0.2768, 0.07615],\n",
    "    [-1, 13.54, 14.36, 87.46, 566.3, 0.09779, 0.08129, 0.06664, 0.04781, 0.1885, 0.05766, 0.2699, 0.7886, 2.058, 23.56, 0.008462, 0.0146, 0.02387, 0.01315, 0.0198, 0.0023, 15.11, 19.26, 99.7, 711.2, 0.144, 0.1773, 0.239, 0.1288, 0.2977, 0.07259],\n",
    "    [-1, 13.08, 15.71, 85.63, 520, 0.1075, 0.127, 0.04568, 0.0311, 0.1967, 0.06811, 0.1852, 0.7477, 1.383, 14.67, 0.004097, 0.01898, 0.01698, 0.00649, 0.01678, 0.002425, 14.5, 20.49, 96.09, 630.5, 0.1312, 0.2776, 0.189, 0.07283, 0.3184, 0.08183],\n",
    "    [-1, 9.504, 12.44, 60.34, 273.9, 0.1024, 0.06492, 0.02956, 0.02076, 0.1815, 0.06905, 0.2773, 0.9768, 1.909, 15.7, 0.009606, 0.01432, 0.01985, 0.01421, 0.02027, 0.002968, 10.23, 15.66, 65.13, 314.9, 0.1324, 0.1148, 0.08867, 0.06227, 0.245, 0.07773],\n",
    "    [1, 15.34, 14.26, 102.5, 704.4, 0.1073, 0.2135, 0.2077, 0.09756, 0.2521, 0.07032, 0.4388, 0.7096, 3.384, 44.91, 0.006789, 0.05328, 0.06446, 0.02252, 0.03672, 0.004394, 18.07, 19.08, 125.1, 980.9, 0.139, 0.5954, 0.6305, 0.2393, 0.4667, 0.09946],\n",
    "    [1, 21.16, 23.04, 137.2, 1404, 0.09428, 0.1022, 0.1097, 0.08632, 0.1769, 0.05278, 0.6917, 1.127, 4.303, 93.99, 0.004728, 0.01259, 0.01715, 0.01038, 0.01083, 0.001987, 29.17, 35.59, 188, 2615, 0.1401, 0.26, 0.3155, 0.2009, 0.2822, 0.07526],\n",
    "    [1, 16.65, 21.38, 110, 904.6, 0.1121, 0.1457, 0.1525, 0.0917, 0.1995, 0.0633, 0.8068, 0.9017, 5.455, 102.6, 0.006048, 0.01882, 0.02741, 0.0113, 0.01468, 0.002801, 26.46, 31.56, 177, 2215, 0.1805, 0.3578, 0.4695, 0.2095, 0.3613, 0.09564],\n",
    "    [1, 17.14, 16.4, 116, 912.7, 0.1186, 0.2276, 0.2229, 0.1401, 0.304, 0.07413, 1.046, 0.976, 7.276, 111.4, 0.008029, 0.03799, 0.03732, 0.02397, 0.02308, 0.007444, 22.25, 21.4, 152.4, 1461, 0.1545, 0.3949, 0.3853, 0.255, 0.4066, 0.1059],\n",
    "    [1, 14.58, 21.53, 97.41, 644.8, 0.1054, 0.1868, 0.1425, 0.08783, 0.2252, 0.06924, 0.2545, 0.9832, 2.11, 21.05, 0.004452, 0.03055, 0.02681, 0.01352, 0.01454, 0.003711, 17.62, 33.21, 122.4, 896.9, 0.1525, 0.6643, 0.5539, 0.2701, 0.4264, 0.1275],\n",
    "    [1, 18.61, 20.25, 122.1, 1094, 0.0944, 0.1066, 0.149, 0.07731, 0.1697, 0.05699, 0.8529, 1.849, 5.632, 93.54, 0.01075, 0.02722, 0.05081, 0.01911, 0.02293, 0.004217, 21.31, 27.26, 139.9, 1403, 0.1338, 0.2117, 0.3446, 0.149, 0.2341, 0.07421],\n",
    "    [1, 15.3, 25.27, 102.4, 732.4, 0.1082, 0.1697, 0.1683, 0.08751, 0.1926, 0.0654, 0.439, 1.012, 3.498, 43.5, 0.005233, 0.03057, 0.03576, 0.01083, 0.01768, 0.002967, 20.27, 36.71, 149.3, 1269, 0.1641, 0.611, 0.6335, 0.2024, 0.4027, 0.09876],\n",
    "    [1, 17.57, 15.05, 115, 955.1, 0.09847, 0.1157, 0.09875, 0.07953, 0.1739, 0.06149, 0.6003, 0.8225, 4.655, 61.1, 0.005627, 0.03033, 0.03407, 0.01354, 0.01925, 0.003742, 20.01, 19.52, 134.9, 1227, 0.1255, 0.2812, 0.2489, 0.1456, 0.2756, 0.07919],\n",
    "    [1, 18.63, 25.11, 124.8, 1088, 0.1064, 0.1887, 0.2319, 0.1244, 0.2183, 0.06197, 0.8307, 1.466, 5.574, 105, 0.006248, 0.03374, 0.05196, 0.01158, 0.02007, 0.00456, 23.15, 34.01, 160.5, 1670, 0.1491, 0.4257, 0.6133, 0.1848, 0.3444, 0.09782],\n",
    "    [1, 11.84, 18.7, 77.93, 440.6, 0.1109, 0.1516, 0.1218, 0.05182, 0.2301, 0.07799, 0.4825, 1.03, 3.475, 41, 0.005551, 0.03414, 0.04205, 0.01044, 0.02273, 0.005667, 16.82, 28.12, 119.4, 888.7, 0.1637, 0.5775, 0.6956, 0.1546, 0.4761, 0.1402],\n",
    "    [1, 17.02, 23.98, 112.8, 899.3, 0.1197, 0.1496, 0.2417, 0.1203, 0.2248, 0.06382, 0.6009, 1.398, 3.999, 67.78, 0.008268, 0.03082, 0.05042, 0.01112, 0.02102, 0.003854, 20.88, 32.09, 136.1, 1344, 0.1634, 0.3559, 0.5588, 0.1847, 0.353, 0.08482],\n",
    "    [1, 19.27, 26.47, 127.9, 1162, 0.09401, 0.1719, 0.1657, 0.07593, 0.1853, 0.06261, 0.5558, 0.6062, 3.528, 68.17, 0.005015, 0.03318, 0.03497, 0.009643, 0.01543, 0.003896, 24.15, 30.9, 161.4, 1813, 0.1509, 0.659, 0.6091, 0.1785, 0.3672, 0.1123],\n",
    "    [1, 16.13, 17.88, 107, 807.2, 0.104, 0.1559, 0.1354, 0.07752, 0.1998, 0.06515, 0.334, 0.6857, 2.183, 35.03, 0.004185, 0.02868, 0.02664, 0.009067, 0.01703, 0.003817, 20.21, 27.26, 132.7, 1261, 0.1446, 0.5804, 0.5274, 0.1864, 0.427, 0.1233],\n",
    "    [1, 16.74, 21.59, 110.1, 869.5, 0.0961, 0.1336, 0.1348, 0.06018, 0.1896, 0.05656, 0.4615, 0.9197, 3.008, 45.19, 0.005776, 0.02499, 0.03695, 0.01195, 0.02789, 0.002665, 20.01, 29.02, 133.5, 1229, 0.1563, 0.3835, 0.5409, 0.1813, 0.4863, 0.08633],\n",
    "    [1, 14.25, 21.72, 93.63, 633, 0.09823, 0.1098, 0.1319, 0.05598, 0.1885, 0.06125, 0.286, 1.019, 2.657, 24.91, 0.005878, 0.02995, 0.04815, 0.01161, 0.02028, 0.004022, 15.89, 30.36, 116.2, 799.6, 0.1446, 0.4238, 0.5186, 0.1447, 0.3591, 0.1014],\n",
    "    [-1, 13.03, 18.42, 82.61, 523.8, 0.08983, 0.03766, 0.02562, 0.02923, 0.1467, 0.05863, 0.1839, 2.342, 1.17, 14.16, 0.004352, 0.004899, 0.01343, 0.01164, 0.02671, 0.001777, 13.3, 22.81, 84.46, 545.9, 0.09701, 0.04619, 0.04833, 0.05013, 0.1987, 0.06169],\n",
    "    [1, 14.99, 25.2, 95.54, 698.8, 0.09387, 0.05131, 0.02398, 0.02899, 0.1565, 0.05504, 1.214, 2.188, 8.077, 106, 0.006883, 0.01094, 0.01818, 0.01917, 0.007882, 0.001754, 14.99, 25.2, 95.54, 698.8, 0.09387, 0.05131, 0.02398, 0.02899, 0.1565, 0.05504],\n",
    "    [1, 13.48, 20.82, 88.4, 559.2, 0.1016, 0.1255, 0.1063, 0.05439, 0.172, 0.06419, 0.213, 0.5914, 1.545, 18.52, 0.005367, 0.02239, 0.03049, 0.01262, 0.01377, 0.003187, 15.53, 26.02, 107.3, 740.4, 0.161, 0.4225, 0.503, 0.2258, 0.2807, 0.1071],\n",
    "    [1, 13.44, 21.58, 86.18, 563, 0.08162, 0.06031, 0.0311, 0.02031, 0.1784, 0.05587, 0.2385, 0.8265, 1.572, 20.53, 0.00328, 0.01102, 0.0139, 0.006881, 0.0138, 0.001286, 15.93, 30.25, 102.5, 787.9, 0.1094, 0.2043, 0.2085, 0.1112, 0.2994, 0.07146],\n",
    "    [1, 10.95, 21.35, 71.9, 371.1, 0.1227, 0.1218, 0.1044, 0.05669, 0.1895, 0.0687, 0.2366, 1.428, 1.822, 16.97, 0.008064, 0.01764, 0.02595, 0.01037, 0.01357, 0.00304, 12.84, 35.34, 87.22, 514, 0.1909, 0.2698, 0.4023, 0.1424, 0.2964, 0.09606],\n",
    "    [1, 19.07, 24.81, 128.3, 1104, 0.09081, 0.219, 0.2107, 0.09961, 0.231, 0.06343, 0.9811, 1.666, 8.83, 104.9, 0.006548, 0.1006, 0.09723, 0.02638, 0.05333, 0.007646, 24.09, 33.17, 177.4, 1651, 0.1247, 0.7444, 0.7242, 0.2493, 0.467, 0.1038],\n",
    "    [1, 13.28, 20.28, 87.32, 545.2, 0.1041, 0.1436, 0.09847, 0.06158, 0.1974, 0.06782, 0.3704, 0.8249, 2.427, 31.33, 0.005072, 0.02147, 0.02185, 0.00956, 0.01719, 0.003317, 17.38, 28, 113.1, 907.2, 0.153, 0.3724, 0.3664, 0.1492, 0.3739, 0.1027],\n",
    "    [1, 13.17, 21.81, 85.42, 531.5, 0.09714, 0.1047, 0.08259, 0.05252, 0.1746, 0.06177, 0.1938, 0.6123, 1.334, 14.49, 0.00335, 0.01384, 0.01452, 0.006853, 0.01113, 0.00172, 16.23, 29.89, 105.5, 740.7, 0.1503, 0.3904, 0.3728, 0.1607, 0.3693, 0.09618],\n",
    "    [1, 18.65, 17.6, 123.7, 1076, 0.1099, 0.1686, 0.1974, 0.1009, 0.1907, 0.06049, 0.6289, 0.6633, 4.293, 71.56, 0.006294, 0.03994, 0.05554, 0.01695, 0.02428, 0.003535, 22.82, 21.32, 150.6, 1567, 0.1679, 0.509, 0.7345, 0.2378, 0.3799, 0.09185],\n",
    "    [-1, 8.196, 16.84, 51.71, 201.9, 0.086, 0.05943, 0.01588, 0.005917, 0.1769, 0.06503, 0.1563, 0.9567, 1.094, 8.205, 0.008968, 0.01646, 0.01588, 0.005917, 0.02574, 0.002582, 8.964, 21.96, 57.26, 242.2, 0.1297, 0.1357, 0.0688, 0.02564, 0.3105, 0.07409]\n",
    "]\n",
    "\n",
    "diagnoses_test = [\n",
    "    [-1, 8.95, 15.76, 58.74, 245.2, 0.09462, 0.1243, 0.09263, 0.02308, 0.1305, 0.07163, 0.3132, 0.9789, 3.28, 16.94, 0.01835, 0.0676, 0.09263, 0.02308, 0.02384, 0.005601, 9.414, 17.07, 63.34, 270, 0.1179, 0.1879, 0.1544, 0.03846, 0.1652, 0.07722],\n",
    "    [1, 15.22, 30.62, 103.4, 716.9, 0.1048, 0.2087, 0.255, 0.09429, 0.2128, 0.07152, 0.2602, 1.205, 2.362, 22.65, 0.004625, 0.04844, 0.07359, 0.01608, 0.02137, 0.006142, 17.52, 42.79, 128.7, 915, 0.1417, 0.7917, 1.17, 0.2356, 0.4089, 0.1409],\n",
    "    [-1, 11.34, 21.26, 72.48, 396.5, 0.08759, 0.06575, 0.05133, 0.01899, 0.1487, 0.06529, 0.2344, 0.9861, 1.597, 16.41, 0.009113, 0.01557, 0.02443, 0.006435, 0.01568, 0.002477, 13.01, 29.15, 83.99, 518.1, 0.1699, 0.2196, 0.312, 0.08278, 0.2829, 0.08832],\n",
    "    [1, 20.92, 25.09, 143, 1347, 0.1099, 0.2236, 0.3174, 0.1474, 0.2149, 0.06879, 0.9622, 1.026, 8.758, 118.8, 0.006399, 0.0431, 0.07845, 0.02624, 0.02057, 0.006213, 24.29, 29.41, 179.1, 1819, 0.1407, 0.4186, 0.6599, 0.2542, 0.2929, 0.09873],\n",
    "    [-1, 12.36, 18.54, 79.01, 466.7, 0.08477, 0.06815, 0.02643, 0.01921, 0.1602, 0.06066, 0.1199, 0.8944, 0.8484, 9.227, 0.003457, 0.01047, 0.01167, 0.005558, 0.01251, 0.001356, 13.29, 27.49, 85.56, 544.1, 0.1184, 0.1963, 0.1937, 0.08442, 0.2983, 0.07185],\n",
    "    [1, 21.56, 22.39, 142, 1479, 0.111, 0.1159, 0.2439, 0.1389, 0.1726, 0.05623, 1.176, 1.256, 7.673, 158.7, 0.0103, 0.02891, 0.05198, 0.02454, 0.01114, 0.004239, 25.45, 26.4, 166.1, 2027, 0.141, 0.2113, 0.4107, 0.2216, 0.206, 0.07115],\n",
    "    [-1, 9.777, 16.99, 62.5, 290.2, 0.1037, 0.08404, 0.04334, 0.01778, 0.1584, 0.07065, 0.403, 1.424, 2.747, 22.87, 0.01385, 0.02932, 0.02722, 0.01023, 0.03281, 0.004638, 11.05, 21.47, 71.68, 367, 0.1467, 0.1765, 0.13, 0.05334, 0.2533, 0.08468],\n",
    "    [1, 20.13, 28.25, 131.2, 1261, 0.0978, 0.1034, 0.144, 0.09791, 0.1752, 0.05533, 0.7655, 2.463, 5.203, 99.04, 0.005769, 0.02423, 0.0395, 0.01678, 0.01898, 0.002498, 23.69, 38.25, 155, 1731, 0.1166, 0.1922, 0.3215, 0.1628, 0.2572, 0.06637],\n",
    "    [-1, 12.63, 20.76, 82.15, 480.4, 0.09933, 0.1209, 0.1065, 0.06021, 0.1735, 0.0707, 0.3424, 1.803, 2.711, 20.48, 0.01291, 0.04042, 0.05101, 0.02295, 0.02144, 0.005891, 13.33, 25.47, 89, 527.4, 0.1287, 0.225, 0.2216, 0.1105, 0.2226, 0.08486],\n",
    "    [1, 16.6, 28.08, 108.3, 858.1, 0.08455, 0.1023, 0.09251, 0.05302, 0.159, 0.05648, 0.4564, 1.075, 3.425, 48.55, 0.005903, 0.03731, 0.0473, 0.01557, 0.01318, 0.003892, 18.98, 34.12, 126.7, 1124, 0.1139, 0.3094, 0.3403, 0.1418, 0.2218, 0.0782],\n",
    "    [-1, 14.26, 19.65, 97.83, 629.9, 0.07837, 0.2233, 0.3003, 0.07798, 0.1704, 0.07769, 0.3628, 1.49, 3.399, 29.25, 0.005298, 0.07446, 0.1435, 0.02292, 0.02566, 0.01298, 15.3, 23.73, 107, 709, 0.08949, 0.4193, 0, 0.1503, 0.07247, 0.2438, 0.08541],\n",
    "    [1, 20.6, 29.33, 140.1, 1265, 0.1178, 0.277, 0.3514, 0.152, 0.2397, 0.07016, 0.726, 1.595, 5.772, 86.22, 0.006522, 0.06158, 0.07117, 0.01664, 0.02324, 0.006185, 25.74, 39.42, 184.6, 1821, 0.165, 0.8681, 0.9387, 0.265, 0.4087, 0.124]\n",
    "]\n"
   ]
  },
  {
   "cell_type": "markdown",
   "id": "b8219473",
   "metadata": {
    "papermill": {
     "duration": 0.013238,
     "end_time": "2023-04-30T20:07:58.114304",
     "exception": false,
     "start_time": "2023-04-30T20:07:58.101066",
     "status": "completed"
    },
    "tags": []
   },
   "source": [
    "## What to Do\n",
    " \n",
    "Demonstrate your understanding and ability to have synthesized course concepts by implementing a `test` function for the perceptron. Your goal is to implement the `test` function, stubbed for you below, in the subclass `TestablePerceptron`. The `test` function should return the accuracy rate of the perceptron's prediction, given `diagnoses_test`. In the end, your work should reflect the principles seen thus far in the course.\n",
    "\n",
    "Please be sure to demonstrate:\n",
    "\n",
    "1. Your implementation, as code, in the subclass below.\n",
    "2. Using your test function, which is already done for you, following the class definition.\n",
    "\n",
    "## Tips\n",
    "\n",
    "- Be sure that you have spent time with the Exploration materials in this course.\n",
    "- Ask questions on the course forum if you get stuck (describe what you are trying to do, and errors that you encounter)\n",
    "- Keep it simple. This is quite straightforward.\n",
    "- Be sure to run the code cell containing your TestablePerceptron class and the code cell that invokes the `test` method, or use the *>> Run All* button."
   ]
  },
  {
   "cell_type": "markdown",
   "id": "a572ed90",
   "metadata": {
    "papermill": {
     "duration": 0.014236,
     "end_time": "2023-04-30T20:07:58.142215",
     "exception": false,
     "start_time": "2023-04-30T20:07:58.127979",
     "status": "completed"
    },
    "tags": []
   },
   "source": [
    "## Begin Your Implementation Here\n",
    "\n",
    "In the code cell below, implement the `test` function by replacing `pass` with your code. It should accept a training set as input, and *return* a number representing the accuracy of the perceptron based on predictions made with the test set."
   ]
  },
  {
   "cell_type": "markdown",
   "id": "4f49fd4d",
   "metadata": {
    "papermill": {
     "duration": 0.013604,
     "end_time": "2023-04-30T20:07:58.169293",
     "exception": false,
     "start_time": "2023-04-30T20:07:58.155689",
     "status": "completed"
    },
    "tags": []
   },
   "source": [
    "## Implement Test Function"
   ]
  },
  {
   "cell_type": "code",
   "execution_count": 3,
   "id": "d1696a4e",
   "metadata": {
    "execution": {
     "iopub.execute_input": "2023-04-30T20:07:58.199390Z",
     "iopub.status.busy": "2023-04-30T20:07:58.198899Z",
     "iopub.status.idle": "2023-04-30T20:07:58.206081Z",
     "shell.execute_reply": "2023-04-30T20:07:58.204735Z"
    },
    "papermill": {
     "duration": 0.02569,
     "end_time": "2023-04-30T20:07:58.208787",
     "exception": false,
     "start_time": "2023-04-30T20:07:58.183097",
     "status": "completed"
    },
    "tags": []
   },
   "outputs": [],
   "source": [
    "class TestablePerceptron(Perceptron):\n",
    "    \n",
    "    def test(self, test_set):\n",
    "        num_correct = 0\n",
    "        for record in test_set:\n",
    "            y = record[0]\n",
    "            y_hat = self.predict(record[1:])\n",
    "            # Compare y with predit value Y_hat to calculate the model accuracy\n",
    "            if y == y_hat:\n",
    "                num_correct += 1\n",
    "        accuracy = num_correct / len(test_set)\n",
    "        print(f\"Test accuracy: {accuracy}\")\n",
    "        return accuracy"
   ]
  },
  {
   "cell_type": "markdown",
   "id": "5af2523d",
   "metadata": {
    "papermill": {
     "duration": 0.013977,
     "end_time": "2023-04-30T20:07:58.236524",
     "exception": false,
     "start_time": "2023-04-30T20:07:58.222547",
     "status": "completed"
    },
    "tags": []
   },
   "source": [
    "Your TestablePerceptron should result in the following code, which trains and tests a TestablePerceptron, running without error. You do not need to modify the code below, but once your `test` method above is complete, you should see the accuracy of the test printed, instead of `None`."
   ]
  },
  {
   "cell_type": "markdown",
   "id": "4c5f1791",
   "metadata": {
    "papermill": {
     "duration": 0.01348,
     "end_time": "2023-04-30T20:07:58.264618",
     "exception": false,
     "start_time": "2023-04-30T20:07:58.251138",
     "status": "completed"
    },
    "tags": []
   },
   "source": [
    "## Print accuracy result"
   ]
  },
  {
   "cell_type": "code",
   "execution_count": 4,
   "id": "46e1b512",
   "metadata": {
    "execution": {
     "iopub.execute_input": "2023-04-30T20:07:58.294327Z",
     "iopub.status.busy": "2023-04-30T20:07:58.293831Z",
     "iopub.status.idle": "2023-04-30T20:08:01.316957Z",
     "shell.execute_reply": "2023-04-30T20:08:01.315664Z"
    },
    "papermill": {
     "duration": 3.041564,
     "end_time": "2023-04-30T20:08:01.319940",
     "exception": false,
     "start_time": "2023-04-30T20:07:58.278376",
     "status": "completed"
    },
    "tags": []
   },
   "outputs": [
    {
     "name": "stdout",
     "output_type": "stream",
     "text": [
      "Epoch 4618 Accuracy: 1.0\n",
      "Test accuracy: 0.9166666666666666\n",
      "Train accuracy: None\n",
      "Test accuracy: 0.9166666666666666\n",
      "Test error: 0.08333333333333337\n"
     ]
    }
   ],
   "source": [
    "\n",
    "perceptron = TestablePerceptron(alpha = 0.01, max_epochs = 10000)\n",
    "accuracy = perceptron.train(diagnoses_training)\n",
    "test_accuracy = perceptron.test(diagnoses_test)\n",
    "test_error = 1 - test_accuracy\n",
    "print(f\"Train accuracy: {accuracy}\")\n",
    "print(f\"Test accuracy: {test_accuracy}\")\n",
    "print(f\"Test error: {test_error}\")"
   ]
  },
  {
   "cell_type": "markdown",
   "id": "7becc3cf",
   "metadata": {
    "papermill": {
     "duration": 0.013237,
     "end_time": "2023-04-30T20:08:01.347369",
     "exception": false,
     "start_time": "2023-04-30T20:08:01.334132",
     "status": "completed"
    },
    "tags": []
   },
   "source": [
    "## Conclusion of Part 1\n",
    "\n",
    "Write a few sentences here that describes what your `test` function does in \"plain English.\" Try expressing this accurately and authentically *without* giving us a line-by-line summary of what your function does (we can read the code for that). Tell us what the test error is. Then, describe how many learning epochs it took for the perceptron to achive 100% accuracy during *training*, and explain why that number changes each time you run the code cell above.\n",
    "\n",
    "\n",
    "In the test function, it compare all the the predict result with the actual result. Then count the the number of the correct result divived by the total number of the result to calculate the accuracy rate. The number of epoches I run the achive 100% is 4998. The test accuracy is 0.91666 and the test error is 0.08333. The result are different for few resaons:\n",
    "\n",
    "1) First, the initial weights of the perceptron are randomly generated at the start of each training process. The weight values is a list of random numbers between 0 to 1. This means that each time the code is run, the perceptron will start with different weights, and this can lead to different convergence rates.\n",
    "\n",
    "2) Second, the order of the training data can impact the learning process of the perceptron. The training data is fed to the perceptron one record at a time, the weight get updated each record. If the training data is presented in a random order, the convergence rate may vary between runs.\n",
    "\n",
    "3) Third, alpha may have impact on the result. alpha = 0.01 is a parameter that controls the learning rate of the perceptron during the training process. alpha control how quickly the weight get updated. A higher value of alpha results in larger updates to the weights, while a lower value results in smaller updates."
   ]
  },
  {
   "cell_type": "markdown",
   "id": "eee12dd8",
   "metadata": {
    "papermill": {
     "duration": 0.013135,
     "end_time": "2023-04-30T20:08:01.374089",
     "exception": false,
     "start_time": "2023-04-30T20:08:01.360954",
     "status": "completed"
    },
    "tags": []
   },
   "source": [
    "# Part 2: Mine Detection\n",
    "\n",
    "In this, the second, part of this notebook, you will build a classifier that can predict whether or not a sonar signature is from a mine or a rock. We'll use a version of the [sonar data set](https://www.openml.org/search?type=data&sort=runs&id=40&status=active) by Gorman and Sejnowski. Take a moment now to [familiarize yourself with the subject matter of this data set](https://datahub.io/machine-learning/sonar%23resource-sonar), and look at the details of the version of this data set, [Mines vs Rocks, hosted on Kaggle](https://www.kaggle.com/datasets/mattcarter865/mines-vs-rocks).\n",
    "\n",
    "Unlike previous notebooks, where we provide code for each step of the ML process, this notebook expects each student to implement the ML workflow steps. We will get you started by providing the first step, loading the data, and providing some landmarks below. Your process should demonstrate:\n",
    "\n",
    "1. Loading the data\n",
    "2. Exploring the data\n",
    "3. Preprocessing the data\n",
    "4. Preparing the training and test sets\n",
    "5. Creating and configuring a sklearn.linear_model.Perceptron\n",
    "6. Training the perceptron\n",
    "7. Testing the perceptron\n",
    "8. Demonstrating making predictions\n",
    "9. Evaluate (and Improve) the results\n",
    "\n",
    "Can you train a classifier that can predict whether a sonar signature is from a mine or a rock? \"Three trained human subjects were each tested on 100 signals, chosen at random from the set of 208 returns used to create this data set. Their responses ranged between 88% and 97% correct.\" Can your classifier outperform the human subjects?\n",
    "\n"
   ]
  },
  {
   "cell_type": "markdown",
   "id": "dfd68985",
   "metadata": {
    "papermill": {
     "duration": 0.013125,
     "end_time": "2023-04-30T20:08:01.400652",
     "exception": false,
     "start_time": "2023-04-30T20:08:01.387527",
     "status": "completed"
    },
    "tags": []
   },
   "source": [
    "## Step 1: Load the Data\n",
    "\n",
    "The notebook comes pre-bundled with the [Mines vs Rocks data set](https://www.kaggle.com/datasets/mattcarter865/mines-vs-rocks). Our first step is to create a pandas DataFrame from the CSV file. Note that the CSV file has no header row. Loading the CSV file into a DataFrame will make it easy for us to explore the data, preprocess it, and split it into training and test sets.\n"
   ]
  },
  {
   "cell_type": "code",
   "execution_count": 5,
   "id": "f3494b51",
   "metadata": {
    "execution": {
     "iopub.execute_input": "2023-04-30T20:08:01.429502Z",
     "iopub.status.busy": "2023-04-30T20:08:01.428981Z",
     "iopub.status.idle": "2023-04-30T20:08:01.458839Z",
     "shell.execute_reply": "2023-04-30T20:08:01.457663Z"
    },
    "papermill": {
     "duration": 0.047989,
     "end_time": "2023-04-30T20:08:01.461901",
     "exception": false,
     "start_time": "2023-04-30T20:08:01.413912",
     "status": "completed"
    },
    "tags": []
   },
   "outputs": [],
   "source": [
    "import pandas as pd\n",
    "import matplotlib.pyplot as plt\n",
    "\n",
    "sonar_csv_path = \"../input/mines-vs-rocks/sonar.all-data.csv\"\n",
    "sonar_data = pd.read_csv(sonar_csv_path, header=None)"
   ]
  },
  {
   "cell_type": "markdown",
   "id": "16f56cab",
   "metadata": {
    "papermill": {
     "duration": 0.013375,
     "end_time": "2023-04-30T20:08:01.489619",
     "exception": false,
     "start_time": "2023-04-30T20:08:01.476244",
     "status": "completed"
    },
    "tags": []
   },
   "source": [
    "We now have a pandas DataFrame encapsulating the sonar data, and can proceed with our data exploration."
   ]
  },
  {
   "cell_type": "markdown",
   "id": "066dcfd1",
   "metadata": {
    "papermill": {
     "duration": 0.013317,
     "end_time": "2023-04-30T20:08:01.516688",
     "exception": false,
     "start_time": "2023-04-30T20:08:01.503371",
     "status": "completed"
    },
    "tags": []
   },
   "source": [
    "## Step 2: Explore the Data\n",
    "\n",
    "\n"
   ]
  },
  {
   "cell_type": "markdown",
   "id": "f5d901c6",
   "metadata": {
    "papermill": {
     "duration": 0.013192,
     "end_time": "2023-04-30T20:08:01.543519",
     "exception": false,
     "start_time": "2023-04-30T20:08:01.530327",
     "status": "completed"
    },
    "tags": []
   },
   "source": [
    "### Describe Data"
   ]
  },
  {
   "cell_type": "code",
   "execution_count": 6,
   "id": "c690cbda",
   "metadata": {
    "execution": {
     "iopub.execute_input": "2023-04-30T20:08:01.573282Z",
     "iopub.status.busy": "2023-04-30T20:08:01.572319Z",
     "iopub.status.idle": "2023-04-30T20:08:01.744754Z",
     "shell.execute_reply": "2023-04-30T20:08:01.743327Z"
    },
    "papermill": {
     "duration": 0.190776,
     "end_time": "2023-04-30T20:08:01.747727",
     "exception": false,
     "start_time": "2023-04-30T20:08:01.556951",
     "status": "completed"
    },
    "tags": []
   },
   "outputs": [
    {
     "data": {
      "text/html": [
       "<div>\n",
       "<style scoped>\n",
       "    .dataframe tbody tr th:only-of-type {\n",
       "        vertical-align: middle;\n",
       "    }\n",
       "\n",
       "    .dataframe tbody tr th {\n",
       "        vertical-align: top;\n",
       "    }\n",
       "\n",
       "    .dataframe thead th {\n",
       "        text-align: right;\n",
       "    }\n",
       "</style>\n",
       "<table border=\"1\" class=\"dataframe\">\n",
       "  <thead>\n",
       "    <tr style=\"text-align: right;\">\n",
       "      <th></th>\n",
       "      <th>0</th>\n",
       "      <th>1</th>\n",
       "      <th>2</th>\n",
       "      <th>3</th>\n",
       "      <th>4</th>\n",
       "      <th>5</th>\n",
       "      <th>6</th>\n",
       "      <th>7</th>\n",
       "      <th>8</th>\n",
       "      <th>9</th>\n",
       "      <th>...</th>\n",
       "      <th>50</th>\n",
       "      <th>51</th>\n",
       "      <th>52</th>\n",
       "      <th>53</th>\n",
       "      <th>54</th>\n",
       "      <th>55</th>\n",
       "      <th>56</th>\n",
       "      <th>57</th>\n",
       "      <th>58</th>\n",
       "      <th>59</th>\n",
       "    </tr>\n",
       "  </thead>\n",
       "  <tbody>\n",
       "    <tr>\n",
       "      <th>count</th>\n",
       "      <td>208.000000</td>\n",
       "      <td>208.000000</td>\n",
       "      <td>208.000000</td>\n",
       "      <td>208.000000</td>\n",
       "      <td>208.000000</td>\n",
       "      <td>208.000000</td>\n",
       "      <td>208.000000</td>\n",
       "      <td>208.000000</td>\n",
       "      <td>208.000000</td>\n",
       "      <td>208.000000</td>\n",
       "      <td>...</td>\n",
       "      <td>208.000000</td>\n",
       "      <td>208.000000</td>\n",
       "      <td>208.000000</td>\n",
       "      <td>208.000000</td>\n",
       "      <td>208.000000</td>\n",
       "      <td>208.000000</td>\n",
       "      <td>208.000000</td>\n",
       "      <td>208.000000</td>\n",
       "      <td>208.000000</td>\n",
       "      <td>208.000000</td>\n",
       "    </tr>\n",
       "    <tr>\n",
       "      <th>mean</th>\n",
       "      <td>0.029164</td>\n",
       "      <td>0.038437</td>\n",
       "      <td>0.043832</td>\n",
       "      <td>0.053892</td>\n",
       "      <td>0.075202</td>\n",
       "      <td>0.104570</td>\n",
       "      <td>0.121747</td>\n",
       "      <td>0.134799</td>\n",
       "      <td>0.178003</td>\n",
       "      <td>0.208259</td>\n",
       "      <td>...</td>\n",
       "      <td>0.016069</td>\n",
       "      <td>0.013420</td>\n",
       "      <td>0.010709</td>\n",
       "      <td>0.010941</td>\n",
       "      <td>0.009290</td>\n",
       "      <td>0.008222</td>\n",
       "      <td>0.007820</td>\n",
       "      <td>0.007949</td>\n",
       "      <td>0.007941</td>\n",
       "      <td>0.006507</td>\n",
       "    </tr>\n",
       "    <tr>\n",
       "      <th>std</th>\n",
       "      <td>0.022991</td>\n",
       "      <td>0.032960</td>\n",
       "      <td>0.038428</td>\n",
       "      <td>0.046528</td>\n",
       "      <td>0.055552</td>\n",
       "      <td>0.059105</td>\n",
       "      <td>0.061788</td>\n",
       "      <td>0.085152</td>\n",
       "      <td>0.118387</td>\n",
       "      <td>0.134416</td>\n",
       "      <td>...</td>\n",
       "      <td>0.012008</td>\n",
       "      <td>0.009634</td>\n",
       "      <td>0.007060</td>\n",
       "      <td>0.007301</td>\n",
       "      <td>0.007088</td>\n",
       "      <td>0.005736</td>\n",
       "      <td>0.005785</td>\n",
       "      <td>0.006470</td>\n",
       "      <td>0.006181</td>\n",
       "      <td>0.005031</td>\n",
       "    </tr>\n",
       "    <tr>\n",
       "      <th>min</th>\n",
       "      <td>0.001500</td>\n",
       "      <td>0.000600</td>\n",
       "      <td>0.001500</td>\n",
       "      <td>0.005800</td>\n",
       "      <td>0.006700</td>\n",
       "      <td>0.010200</td>\n",
       "      <td>0.003300</td>\n",
       "      <td>0.005500</td>\n",
       "      <td>0.007500</td>\n",
       "      <td>0.011300</td>\n",
       "      <td>...</td>\n",
       "      <td>0.000000</td>\n",
       "      <td>0.000800</td>\n",
       "      <td>0.000500</td>\n",
       "      <td>0.001000</td>\n",
       "      <td>0.000600</td>\n",
       "      <td>0.000400</td>\n",
       "      <td>0.000300</td>\n",
       "      <td>0.000300</td>\n",
       "      <td>0.000100</td>\n",
       "      <td>0.000600</td>\n",
       "    </tr>\n",
       "    <tr>\n",
       "      <th>25%</th>\n",
       "      <td>0.013350</td>\n",
       "      <td>0.016450</td>\n",
       "      <td>0.018950</td>\n",
       "      <td>0.024375</td>\n",
       "      <td>0.038050</td>\n",
       "      <td>0.067025</td>\n",
       "      <td>0.080900</td>\n",
       "      <td>0.080425</td>\n",
       "      <td>0.097025</td>\n",
       "      <td>0.111275</td>\n",
       "      <td>...</td>\n",
       "      <td>0.008425</td>\n",
       "      <td>0.007275</td>\n",
       "      <td>0.005075</td>\n",
       "      <td>0.005375</td>\n",
       "      <td>0.004150</td>\n",
       "      <td>0.004400</td>\n",
       "      <td>0.003700</td>\n",
       "      <td>0.003600</td>\n",
       "      <td>0.003675</td>\n",
       "      <td>0.003100</td>\n",
       "    </tr>\n",
       "    <tr>\n",
       "      <th>50%</th>\n",
       "      <td>0.022800</td>\n",
       "      <td>0.030800</td>\n",
       "      <td>0.034300</td>\n",
       "      <td>0.044050</td>\n",
       "      <td>0.062500</td>\n",
       "      <td>0.092150</td>\n",
       "      <td>0.106950</td>\n",
       "      <td>0.112100</td>\n",
       "      <td>0.152250</td>\n",
       "      <td>0.182400</td>\n",
       "      <td>...</td>\n",
       "      <td>0.013900</td>\n",
       "      <td>0.011400</td>\n",
       "      <td>0.009550</td>\n",
       "      <td>0.009300</td>\n",
       "      <td>0.007500</td>\n",
       "      <td>0.006850</td>\n",
       "      <td>0.005950</td>\n",
       "      <td>0.005800</td>\n",
       "      <td>0.006400</td>\n",
       "      <td>0.005300</td>\n",
       "    </tr>\n",
       "    <tr>\n",
       "      <th>75%</th>\n",
       "      <td>0.035550</td>\n",
       "      <td>0.047950</td>\n",
       "      <td>0.057950</td>\n",
       "      <td>0.064500</td>\n",
       "      <td>0.100275</td>\n",
       "      <td>0.134125</td>\n",
       "      <td>0.154000</td>\n",
       "      <td>0.169600</td>\n",
       "      <td>0.233425</td>\n",
       "      <td>0.268700</td>\n",
       "      <td>...</td>\n",
       "      <td>0.020825</td>\n",
       "      <td>0.016725</td>\n",
       "      <td>0.014900</td>\n",
       "      <td>0.014500</td>\n",
       "      <td>0.012100</td>\n",
       "      <td>0.010575</td>\n",
       "      <td>0.010425</td>\n",
       "      <td>0.010350</td>\n",
       "      <td>0.010325</td>\n",
       "      <td>0.008525</td>\n",
       "    </tr>\n",
       "    <tr>\n",
       "      <th>max</th>\n",
       "      <td>0.137100</td>\n",
       "      <td>0.233900</td>\n",
       "      <td>0.305900</td>\n",
       "      <td>0.426400</td>\n",
       "      <td>0.401000</td>\n",
       "      <td>0.382300</td>\n",
       "      <td>0.372900</td>\n",
       "      <td>0.459000</td>\n",
       "      <td>0.682800</td>\n",
       "      <td>0.710600</td>\n",
       "      <td>...</td>\n",
       "      <td>0.100400</td>\n",
       "      <td>0.070900</td>\n",
       "      <td>0.039000</td>\n",
       "      <td>0.035200</td>\n",
       "      <td>0.044700</td>\n",
       "      <td>0.039400</td>\n",
       "      <td>0.035500</td>\n",
       "      <td>0.044000</td>\n",
       "      <td>0.036400</td>\n",
       "      <td>0.043900</td>\n",
       "    </tr>\n",
       "  </tbody>\n",
       "</table>\n",
       "<p>8 rows × 60 columns</p>\n",
       "</div>"
      ],
      "text/plain": [
       "               0           1           2           3           4           5   \\\n",
       "count  208.000000  208.000000  208.000000  208.000000  208.000000  208.000000   \n",
       "mean     0.029164    0.038437    0.043832    0.053892    0.075202    0.104570   \n",
       "std      0.022991    0.032960    0.038428    0.046528    0.055552    0.059105   \n",
       "min      0.001500    0.000600    0.001500    0.005800    0.006700    0.010200   \n",
       "25%      0.013350    0.016450    0.018950    0.024375    0.038050    0.067025   \n",
       "50%      0.022800    0.030800    0.034300    0.044050    0.062500    0.092150   \n",
       "75%      0.035550    0.047950    0.057950    0.064500    0.100275    0.134125   \n",
       "max      0.137100    0.233900    0.305900    0.426400    0.401000    0.382300   \n",
       "\n",
       "               6           7           8           9   ...          50  \\\n",
       "count  208.000000  208.000000  208.000000  208.000000  ...  208.000000   \n",
       "mean     0.121747    0.134799    0.178003    0.208259  ...    0.016069   \n",
       "std      0.061788    0.085152    0.118387    0.134416  ...    0.012008   \n",
       "min      0.003300    0.005500    0.007500    0.011300  ...    0.000000   \n",
       "25%      0.080900    0.080425    0.097025    0.111275  ...    0.008425   \n",
       "50%      0.106950    0.112100    0.152250    0.182400  ...    0.013900   \n",
       "75%      0.154000    0.169600    0.233425    0.268700  ...    0.020825   \n",
       "max      0.372900    0.459000    0.682800    0.710600  ...    0.100400   \n",
       "\n",
       "               51          52          53          54          55          56  \\\n",
       "count  208.000000  208.000000  208.000000  208.000000  208.000000  208.000000   \n",
       "mean     0.013420    0.010709    0.010941    0.009290    0.008222    0.007820   \n",
       "std      0.009634    0.007060    0.007301    0.007088    0.005736    0.005785   \n",
       "min      0.000800    0.000500    0.001000    0.000600    0.000400    0.000300   \n",
       "25%      0.007275    0.005075    0.005375    0.004150    0.004400    0.003700   \n",
       "50%      0.011400    0.009550    0.009300    0.007500    0.006850    0.005950   \n",
       "75%      0.016725    0.014900    0.014500    0.012100    0.010575    0.010425   \n",
       "max      0.070900    0.039000    0.035200    0.044700    0.039400    0.035500   \n",
       "\n",
       "               57          58          59  \n",
       "count  208.000000  208.000000  208.000000  \n",
       "mean     0.007949    0.007941    0.006507  \n",
       "std      0.006470    0.006181    0.005031  \n",
       "min      0.000300    0.000100    0.000600  \n",
       "25%      0.003600    0.003675    0.003100  \n",
       "50%      0.005800    0.006400    0.005300  \n",
       "75%      0.010350    0.010325    0.008525  \n",
       "max      0.044000    0.036400    0.043900  \n",
       "\n",
       "[8 rows x 60 columns]"
      ]
     },
     "execution_count": 6,
     "metadata": {},
     "output_type": "execute_result"
    }
   ],
   "source": [
    "sonar_data.describe()"
   ]
  },
  {
   "cell_type": "markdown",
   "id": "398d109d",
   "metadata": {
    "papermill": {
     "duration": 0.013868,
     "end_time": "2023-04-30T20:08:01.775629",
     "exception": false,
     "start_time": "2023-04-30T20:08:01.761761",
     "status": "completed"
    },
    "tags": []
   },
   "source": [
    "### Check basic info about the dataset"
   ]
  },
  {
   "cell_type": "code",
   "execution_count": 7,
   "id": "4e86168b",
   "metadata": {
    "execution": {
     "iopub.execute_input": "2023-04-30T20:08:01.806259Z",
     "iopub.status.busy": "2023-04-30T20:08:01.805753Z",
     "iopub.status.idle": "2023-04-30T20:08:01.829194Z",
     "shell.execute_reply": "2023-04-30T20:08:01.826912Z"
    },
    "papermill": {
     "duration": 0.042104,
     "end_time": "2023-04-30T20:08:01.831923",
     "exception": false,
     "start_time": "2023-04-30T20:08:01.789819",
     "status": "completed"
    },
    "tags": []
   },
   "outputs": [
    {
     "name": "stdout",
     "output_type": "stream",
     "text": [
      "<class 'pandas.core.frame.DataFrame'>\n",
      "RangeIndex: 208 entries, 0 to 207\n",
      "Data columns (total 61 columns):\n",
      " #   Column  Non-Null Count  Dtype  \n",
      "---  ------  --------------  -----  \n",
      " 0   0       208 non-null    float64\n",
      " 1   1       208 non-null    float64\n",
      " 2   2       208 non-null    float64\n",
      " 3   3       208 non-null    float64\n",
      " 4   4       208 non-null    float64\n",
      " 5   5       208 non-null    float64\n",
      " 6   6       208 non-null    float64\n",
      " 7   7       208 non-null    float64\n",
      " 8   8       208 non-null    float64\n",
      " 9   9       208 non-null    float64\n",
      " 10  10      208 non-null    float64\n",
      " 11  11      208 non-null    float64\n",
      " 12  12      208 non-null    float64\n",
      " 13  13      208 non-null    float64\n",
      " 14  14      208 non-null    float64\n",
      " 15  15      208 non-null    float64\n",
      " 16  16      208 non-null    float64\n",
      " 17  17      208 non-null    float64\n",
      " 18  18      208 non-null    float64\n",
      " 19  19      208 non-null    float64\n",
      " 20  20      208 non-null    float64\n",
      " 21  21      208 non-null    float64\n",
      " 22  22      208 non-null    float64\n",
      " 23  23      208 non-null    float64\n",
      " 24  24      208 non-null    float64\n",
      " 25  25      208 non-null    float64\n",
      " 26  26      208 non-null    float64\n",
      " 27  27      208 non-null    float64\n",
      " 28  28      208 non-null    float64\n",
      " 29  29      208 non-null    float64\n",
      " 30  30      208 non-null    float64\n",
      " 31  31      208 non-null    float64\n",
      " 32  32      208 non-null    float64\n",
      " 33  33      208 non-null    float64\n",
      " 34  34      208 non-null    float64\n",
      " 35  35      208 non-null    float64\n",
      " 36  36      208 non-null    float64\n",
      " 37  37      208 non-null    float64\n",
      " 38  38      208 non-null    float64\n",
      " 39  39      208 non-null    float64\n",
      " 40  40      208 non-null    float64\n",
      " 41  41      208 non-null    float64\n",
      " 42  42      208 non-null    float64\n",
      " 43  43      208 non-null    float64\n",
      " 44  44      208 non-null    float64\n",
      " 45  45      208 non-null    float64\n",
      " 46  46      208 non-null    float64\n",
      " 47  47      208 non-null    float64\n",
      " 48  48      208 non-null    float64\n",
      " 49  49      208 non-null    float64\n",
      " 50  50      208 non-null    float64\n",
      " 51  51      208 non-null    float64\n",
      " 52  52      208 non-null    float64\n",
      " 53  53      208 non-null    float64\n",
      " 54  54      208 non-null    float64\n",
      " 55  55      208 non-null    float64\n",
      " 56  56      208 non-null    float64\n",
      " 57  57      208 non-null    float64\n",
      " 58  58      208 non-null    float64\n",
      " 59  59      208 non-null    float64\n",
      " 60  60      208 non-null    object \n",
      "dtypes: float64(60), object(1)\n",
      "memory usage: 99.2+ KB\n"
     ]
    }
   ],
   "source": [
    "sonar_data.info()"
   ]
  },
  {
   "cell_type": "markdown",
   "id": "40ad6ee0",
   "metadata": {
    "papermill": {
     "duration": 0.01398,
     "end_time": "2023-04-30T20:08:01.860512",
     "exception": false,
     "start_time": "2023-04-30T20:08:01.846532",
     "status": "completed"
    },
    "tags": []
   },
   "source": [
    "### Check the first 30 rows"
   ]
  },
  {
   "cell_type": "code",
   "execution_count": 8,
   "id": "4066d59f",
   "metadata": {
    "execution": {
     "iopub.execute_input": "2023-04-30T20:08:01.890885Z",
     "iopub.status.busy": "2023-04-30T20:08:01.890081Z",
     "iopub.status.idle": "2023-04-30T20:08:01.940555Z",
     "shell.execute_reply": "2023-04-30T20:08:01.939223Z"
    },
    "papermill": {
     "duration": 0.06902,
     "end_time": "2023-04-30T20:08:01.943315",
     "exception": false,
     "start_time": "2023-04-30T20:08:01.874295",
     "status": "completed"
    },
    "tags": []
   },
   "outputs": [
    {
     "data": {
      "text/html": [
       "<div>\n",
       "<style scoped>\n",
       "    .dataframe tbody tr th:only-of-type {\n",
       "        vertical-align: middle;\n",
       "    }\n",
       "\n",
       "    .dataframe tbody tr th {\n",
       "        vertical-align: top;\n",
       "    }\n",
       "\n",
       "    .dataframe thead th {\n",
       "        text-align: right;\n",
       "    }\n",
       "</style>\n",
       "<table border=\"1\" class=\"dataframe\">\n",
       "  <thead>\n",
       "    <tr style=\"text-align: right;\">\n",
       "      <th></th>\n",
       "      <th>0</th>\n",
       "      <th>1</th>\n",
       "      <th>2</th>\n",
       "      <th>3</th>\n",
       "      <th>4</th>\n",
       "      <th>5</th>\n",
       "      <th>6</th>\n",
       "      <th>7</th>\n",
       "      <th>8</th>\n",
       "      <th>9</th>\n",
       "      <th>...</th>\n",
       "      <th>51</th>\n",
       "      <th>52</th>\n",
       "      <th>53</th>\n",
       "      <th>54</th>\n",
       "      <th>55</th>\n",
       "      <th>56</th>\n",
       "      <th>57</th>\n",
       "      <th>58</th>\n",
       "      <th>59</th>\n",
       "      <th>60</th>\n",
       "    </tr>\n",
       "  </thead>\n",
       "  <tbody>\n",
       "    <tr>\n",
       "      <th>0</th>\n",
       "      <td>0.0200</td>\n",
       "      <td>0.0371</td>\n",
       "      <td>0.0428</td>\n",
       "      <td>0.0207</td>\n",
       "      <td>0.0954</td>\n",
       "      <td>0.0986</td>\n",
       "      <td>0.1539</td>\n",
       "      <td>0.1601</td>\n",
       "      <td>0.3109</td>\n",
       "      <td>0.2111</td>\n",
       "      <td>...</td>\n",
       "      <td>0.0027</td>\n",
       "      <td>0.0065</td>\n",
       "      <td>0.0159</td>\n",
       "      <td>0.0072</td>\n",
       "      <td>0.0167</td>\n",
       "      <td>0.0180</td>\n",
       "      <td>0.0084</td>\n",
       "      <td>0.0090</td>\n",
       "      <td>0.0032</td>\n",
       "      <td>R</td>\n",
       "    </tr>\n",
       "    <tr>\n",
       "      <th>1</th>\n",
       "      <td>0.0453</td>\n",
       "      <td>0.0523</td>\n",
       "      <td>0.0843</td>\n",
       "      <td>0.0689</td>\n",
       "      <td>0.1183</td>\n",
       "      <td>0.2583</td>\n",
       "      <td>0.2156</td>\n",
       "      <td>0.3481</td>\n",
       "      <td>0.3337</td>\n",
       "      <td>0.2872</td>\n",
       "      <td>...</td>\n",
       "      <td>0.0084</td>\n",
       "      <td>0.0089</td>\n",
       "      <td>0.0048</td>\n",
       "      <td>0.0094</td>\n",
       "      <td>0.0191</td>\n",
       "      <td>0.0140</td>\n",
       "      <td>0.0049</td>\n",
       "      <td>0.0052</td>\n",
       "      <td>0.0044</td>\n",
       "      <td>R</td>\n",
       "    </tr>\n",
       "    <tr>\n",
       "      <th>2</th>\n",
       "      <td>0.0262</td>\n",
       "      <td>0.0582</td>\n",
       "      <td>0.1099</td>\n",
       "      <td>0.1083</td>\n",
       "      <td>0.0974</td>\n",
       "      <td>0.2280</td>\n",
       "      <td>0.2431</td>\n",
       "      <td>0.3771</td>\n",
       "      <td>0.5598</td>\n",
       "      <td>0.6194</td>\n",
       "      <td>...</td>\n",
       "      <td>0.0232</td>\n",
       "      <td>0.0166</td>\n",
       "      <td>0.0095</td>\n",
       "      <td>0.0180</td>\n",
       "      <td>0.0244</td>\n",
       "      <td>0.0316</td>\n",
       "      <td>0.0164</td>\n",
       "      <td>0.0095</td>\n",
       "      <td>0.0078</td>\n",
       "      <td>R</td>\n",
       "    </tr>\n",
       "    <tr>\n",
       "      <th>3</th>\n",
       "      <td>0.0100</td>\n",
       "      <td>0.0171</td>\n",
       "      <td>0.0623</td>\n",
       "      <td>0.0205</td>\n",
       "      <td>0.0205</td>\n",
       "      <td>0.0368</td>\n",
       "      <td>0.1098</td>\n",
       "      <td>0.1276</td>\n",
       "      <td>0.0598</td>\n",
       "      <td>0.1264</td>\n",
       "      <td>...</td>\n",
       "      <td>0.0121</td>\n",
       "      <td>0.0036</td>\n",
       "      <td>0.0150</td>\n",
       "      <td>0.0085</td>\n",
       "      <td>0.0073</td>\n",
       "      <td>0.0050</td>\n",
       "      <td>0.0044</td>\n",
       "      <td>0.0040</td>\n",
       "      <td>0.0117</td>\n",
       "      <td>R</td>\n",
       "    </tr>\n",
       "    <tr>\n",
       "      <th>4</th>\n",
       "      <td>0.0762</td>\n",
       "      <td>0.0666</td>\n",
       "      <td>0.0481</td>\n",
       "      <td>0.0394</td>\n",
       "      <td>0.0590</td>\n",
       "      <td>0.0649</td>\n",
       "      <td>0.1209</td>\n",
       "      <td>0.2467</td>\n",
       "      <td>0.3564</td>\n",
       "      <td>0.4459</td>\n",
       "      <td>...</td>\n",
       "      <td>0.0031</td>\n",
       "      <td>0.0054</td>\n",
       "      <td>0.0105</td>\n",
       "      <td>0.0110</td>\n",
       "      <td>0.0015</td>\n",
       "      <td>0.0072</td>\n",
       "      <td>0.0048</td>\n",
       "      <td>0.0107</td>\n",
       "      <td>0.0094</td>\n",
       "      <td>R</td>\n",
       "    </tr>\n",
       "    <tr>\n",
       "      <th>5</th>\n",
       "      <td>0.0286</td>\n",
       "      <td>0.0453</td>\n",
       "      <td>0.0277</td>\n",
       "      <td>0.0174</td>\n",
       "      <td>0.0384</td>\n",
       "      <td>0.0990</td>\n",
       "      <td>0.1201</td>\n",
       "      <td>0.1833</td>\n",
       "      <td>0.2105</td>\n",
       "      <td>0.3039</td>\n",
       "      <td>...</td>\n",
       "      <td>0.0045</td>\n",
       "      <td>0.0014</td>\n",
       "      <td>0.0038</td>\n",
       "      <td>0.0013</td>\n",
       "      <td>0.0089</td>\n",
       "      <td>0.0057</td>\n",
       "      <td>0.0027</td>\n",
       "      <td>0.0051</td>\n",
       "      <td>0.0062</td>\n",
       "      <td>R</td>\n",
       "    </tr>\n",
       "    <tr>\n",
       "      <th>6</th>\n",
       "      <td>0.0317</td>\n",
       "      <td>0.0956</td>\n",
       "      <td>0.1321</td>\n",
       "      <td>0.1408</td>\n",
       "      <td>0.1674</td>\n",
       "      <td>0.1710</td>\n",
       "      <td>0.0731</td>\n",
       "      <td>0.1401</td>\n",
       "      <td>0.2083</td>\n",
       "      <td>0.3513</td>\n",
       "      <td>...</td>\n",
       "      <td>0.0201</td>\n",
       "      <td>0.0248</td>\n",
       "      <td>0.0131</td>\n",
       "      <td>0.0070</td>\n",
       "      <td>0.0138</td>\n",
       "      <td>0.0092</td>\n",
       "      <td>0.0143</td>\n",
       "      <td>0.0036</td>\n",
       "      <td>0.0103</td>\n",
       "      <td>R</td>\n",
       "    </tr>\n",
       "    <tr>\n",
       "      <th>7</th>\n",
       "      <td>0.0519</td>\n",
       "      <td>0.0548</td>\n",
       "      <td>0.0842</td>\n",
       "      <td>0.0319</td>\n",
       "      <td>0.1158</td>\n",
       "      <td>0.0922</td>\n",
       "      <td>0.1027</td>\n",
       "      <td>0.0613</td>\n",
       "      <td>0.1465</td>\n",
       "      <td>0.2838</td>\n",
       "      <td>...</td>\n",
       "      <td>0.0081</td>\n",
       "      <td>0.0120</td>\n",
       "      <td>0.0045</td>\n",
       "      <td>0.0121</td>\n",
       "      <td>0.0097</td>\n",
       "      <td>0.0085</td>\n",
       "      <td>0.0047</td>\n",
       "      <td>0.0048</td>\n",
       "      <td>0.0053</td>\n",
       "      <td>R</td>\n",
       "    </tr>\n",
       "    <tr>\n",
       "      <th>8</th>\n",
       "      <td>0.0223</td>\n",
       "      <td>0.0375</td>\n",
       "      <td>0.0484</td>\n",
       "      <td>0.0475</td>\n",
       "      <td>0.0647</td>\n",
       "      <td>0.0591</td>\n",
       "      <td>0.0753</td>\n",
       "      <td>0.0098</td>\n",
       "      <td>0.0684</td>\n",
       "      <td>0.1487</td>\n",
       "      <td>...</td>\n",
       "      <td>0.0145</td>\n",
       "      <td>0.0128</td>\n",
       "      <td>0.0145</td>\n",
       "      <td>0.0058</td>\n",
       "      <td>0.0049</td>\n",
       "      <td>0.0065</td>\n",
       "      <td>0.0093</td>\n",
       "      <td>0.0059</td>\n",
       "      <td>0.0022</td>\n",
       "      <td>R</td>\n",
       "    </tr>\n",
       "    <tr>\n",
       "      <th>9</th>\n",
       "      <td>0.0164</td>\n",
       "      <td>0.0173</td>\n",
       "      <td>0.0347</td>\n",
       "      <td>0.0070</td>\n",
       "      <td>0.0187</td>\n",
       "      <td>0.0671</td>\n",
       "      <td>0.1056</td>\n",
       "      <td>0.0697</td>\n",
       "      <td>0.0962</td>\n",
       "      <td>0.0251</td>\n",
       "      <td>...</td>\n",
       "      <td>0.0090</td>\n",
       "      <td>0.0223</td>\n",
       "      <td>0.0179</td>\n",
       "      <td>0.0084</td>\n",
       "      <td>0.0068</td>\n",
       "      <td>0.0032</td>\n",
       "      <td>0.0035</td>\n",
       "      <td>0.0056</td>\n",
       "      <td>0.0040</td>\n",
       "      <td>R</td>\n",
       "    </tr>\n",
       "    <tr>\n",
       "      <th>10</th>\n",
       "      <td>0.0039</td>\n",
       "      <td>0.0063</td>\n",
       "      <td>0.0152</td>\n",
       "      <td>0.0336</td>\n",
       "      <td>0.0310</td>\n",
       "      <td>0.0284</td>\n",
       "      <td>0.0396</td>\n",
       "      <td>0.0272</td>\n",
       "      <td>0.0323</td>\n",
       "      <td>0.0452</td>\n",
       "      <td>...</td>\n",
       "      <td>0.0062</td>\n",
       "      <td>0.0120</td>\n",
       "      <td>0.0052</td>\n",
       "      <td>0.0056</td>\n",
       "      <td>0.0093</td>\n",
       "      <td>0.0042</td>\n",
       "      <td>0.0003</td>\n",
       "      <td>0.0053</td>\n",
       "      <td>0.0036</td>\n",
       "      <td>R</td>\n",
       "    </tr>\n",
       "    <tr>\n",
       "      <th>11</th>\n",
       "      <td>0.0123</td>\n",
       "      <td>0.0309</td>\n",
       "      <td>0.0169</td>\n",
       "      <td>0.0313</td>\n",
       "      <td>0.0358</td>\n",
       "      <td>0.0102</td>\n",
       "      <td>0.0182</td>\n",
       "      <td>0.0579</td>\n",
       "      <td>0.1122</td>\n",
       "      <td>0.0835</td>\n",
       "      <td>...</td>\n",
       "      <td>0.0133</td>\n",
       "      <td>0.0265</td>\n",
       "      <td>0.0224</td>\n",
       "      <td>0.0074</td>\n",
       "      <td>0.0118</td>\n",
       "      <td>0.0026</td>\n",
       "      <td>0.0092</td>\n",
       "      <td>0.0009</td>\n",
       "      <td>0.0044</td>\n",
       "      <td>R</td>\n",
       "    </tr>\n",
       "    <tr>\n",
       "      <th>12</th>\n",
       "      <td>0.0079</td>\n",
       "      <td>0.0086</td>\n",
       "      <td>0.0055</td>\n",
       "      <td>0.0250</td>\n",
       "      <td>0.0344</td>\n",
       "      <td>0.0546</td>\n",
       "      <td>0.0528</td>\n",
       "      <td>0.0958</td>\n",
       "      <td>0.1009</td>\n",
       "      <td>0.1240</td>\n",
       "      <td>...</td>\n",
       "      <td>0.0176</td>\n",
       "      <td>0.0127</td>\n",
       "      <td>0.0088</td>\n",
       "      <td>0.0098</td>\n",
       "      <td>0.0019</td>\n",
       "      <td>0.0059</td>\n",
       "      <td>0.0058</td>\n",
       "      <td>0.0059</td>\n",
       "      <td>0.0032</td>\n",
       "      <td>R</td>\n",
       "    </tr>\n",
       "    <tr>\n",
       "      <th>13</th>\n",
       "      <td>0.0090</td>\n",
       "      <td>0.0062</td>\n",
       "      <td>0.0253</td>\n",
       "      <td>0.0489</td>\n",
       "      <td>0.1197</td>\n",
       "      <td>0.1589</td>\n",
       "      <td>0.1392</td>\n",
       "      <td>0.0987</td>\n",
       "      <td>0.0955</td>\n",
       "      <td>0.1895</td>\n",
       "      <td>...</td>\n",
       "      <td>0.0059</td>\n",
       "      <td>0.0095</td>\n",
       "      <td>0.0194</td>\n",
       "      <td>0.0080</td>\n",
       "      <td>0.0152</td>\n",
       "      <td>0.0158</td>\n",
       "      <td>0.0053</td>\n",
       "      <td>0.0189</td>\n",
       "      <td>0.0102</td>\n",
       "      <td>R</td>\n",
       "    </tr>\n",
       "    <tr>\n",
       "      <th>14</th>\n",
       "      <td>0.0124</td>\n",
       "      <td>0.0433</td>\n",
       "      <td>0.0604</td>\n",
       "      <td>0.0449</td>\n",
       "      <td>0.0597</td>\n",
       "      <td>0.0355</td>\n",
       "      <td>0.0531</td>\n",
       "      <td>0.0343</td>\n",
       "      <td>0.1052</td>\n",
       "      <td>0.2120</td>\n",
       "      <td>...</td>\n",
       "      <td>0.0083</td>\n",
       "      <td>0.0057</td>\n",
       "      <td>0.0174</td>\n",
       "      <td>0.0188</td>\n",
       "      <td>0.0054</td>\n",
       "      <td>0.0114</td>\n",
       "      <td>0.0196</td>\n",
       "      <td>0.0147</td>\n",
       "      <td>0.0062</td>\n",
       "      <td>R</td>\n",
       "    </tr>\n",
       "    <tr>\n",
       "      <th>15</th>\n",
       "      <td>0.0298</td>\n",
       "      <td>0.0615</td>\n",
       "      <td>0.0650</td>\n",
       "      <td>0.0921</td>\n",
       "      <td>0.1615</td>\n",
       "      <td>0.2294</td>\n",
       "      <td>0.2176</td>\n",
       "      <td>0.2033</td>\n",
       "      <td>0.1459</td>\n",
       "      <td>0.0852</td>\n",
       "      <td>...</td>\n",
       "      <td>0.0031</td>\n",
       "      <td>0.0153</td>\n",
       "      <td>0.0071</td>\n",
       "      <td>0.0212</td>\n",
       "      <td>0.0076</td>\n",
       "      <td>0.0152</td>\n",
       "      <td>0.0049</td>\n",
       "      <td>0.0200</td>\n",
       "      <td>0.0073</td>\n",
       "      <td>R</td>\n",
       "    </tr>\n",
       "    <tr>\n",
       "      <th>16</th>\n",
       "      <td>0.0352</td>\n",
       "      <td>0.0116</td>\n",
       "      <td>0.0191</td>\n",
       "      <td>0.0469</td>\n",
       "      <td>0.0737</td>\n",
       "      <td>0.1185</td>\n",
       "      <td>0.1683</td>\n",
       "      <td>0.1541</td>\n",
       "      <td>0.1466</td>\n",
       "      <td>0.2912</td>\n",
       "      <td>...</td>\n",
       "      <td>0.0346</td>\n",
       "      <td>0.0158</td>\n",
       "      <td>0.0154</td>\n",
       "      <td>0.0109</td>\n",
       "      <td>0.0048</td>\n",
       "      <td>0.0095</td>\n",
       "      <td>0.0015</td>\n",
       "      <td>0.0073</td>\n",
       "      <td>0.0067</td>\n",
       "      <td>R</td>\n",
       "    </tr>\n",
       "    <tr>\n",
       "      <th>17</th>\n",
       "      <td>0.0192</td>\n",
       "      <td>0.0607</td>\n",
       "      <td>0.0378</td>\n",
       "      <td>0.0774</td>\n",
       "      <td>0.1388</td>\n",
       "      <td>0.0809</td>\n",
       "      <td>0.0568</td>\n",
       "      <td>0.0219</td>\n",
       "      <td>0.1037</td>\n",
       "      <td>0.1186</td>\n",
       "      <td>...</td>\n",
       "      <td>0.0331</td>\n",
       "      <td>0.0131</td>\n",
       "      <td>0.0120</td>\n",
       "      <td>0.0108</td>\n",
       "      <td>0.0024</td>\n",
       "      <td>0.0045</td>\n",
       "      <td>0.0037</td>\n",
       "      <td>0.0112</td>\n",
       "      <td>0.0075</td>\n",
       "      <td>R</td>\n",
       "    </tr>\n",
       "    <tr>\n",
       "      <th>18</th>\n",
       "      <td>0.0270</td>\n",
       "      <td>0.0092</td>\n",
       "      <td>0.0145</td>\n",
       "      <td>0.0278</td>\n",
       "      <td>0.0412</td>\n",
       "      <td>0.0757</td>\n",
       "      <td>0.1026</td>\n",
       "      <td>0.1138</td>\n",
       "      <td>0.0794</td>\n",
       "      <td>0.1520</td>\n",
       "      <td>...</td>\n",
       "      <td>0.0084</td>\n",
       "      <td>0.0010</td>\n",
       "      <td>0.0018</td>\n",
       "      <td>0.0068</td>\n",
       "      <td>0.0039</td>\n",
       "      <td>0.0120</td>\n",
       "      <td>0.0132</td>\n",
       "      <td>0.0070</td>\n",
       "      <td>0.0088</td>\n",
       "      <td>R</td>\n",
       "    </tr>\n",
       "    <tr>\n",
       "      <th>19</th>\n",
       "      <td>0.0126</td>\n",
       "      <td>0.0149</td>\n",
       "      <td>0.0641</td>\n",
       "      <td>0.1732</td>\n",
       "      <td>0.2565</td>\n",
       "      <td>0.2559</td>\n",
       "      <td>0.2947</td>\n",
       "      <td>0.4110</td>\n",
       "      <td>0.4983</td>\n",
       "      <td>0.5920</td>\n",
       "      <td>...</td>\n",
       "      <td>0.0092</td>\n",
       "      <td>0.0035</td>\n",
       "      <td>0.0098</td>\n",
       "      <td>0.0121</td>\n",
       "      <td>0.0006</td>\n",
       "      <td>0.0181</td>\n",
       "      <td>0.0094</td>\n",
       "      <td>0.0116</td>\n",
       "      <td>0.0063</td>\n",
       "      <td>R</td>\n",
       "    </tr>\n",
       "    <tr>\n",
       "      <th>20</th>\n",
       "      <td>0.0473</td>\n",
       "      <td>0.0509</td>\n",
       "      <td>0.0819</td>\n",
       "      <td>0.1252</td>\n",
       "      <td>0.1783</td>\n",
       "      <td>0.3070</td>\n",
       "      <td>0.3008</td>\n",
       "      <td>0.2362</td>\n",
       "      <td>0.3830</td>\n",
       "      <td>0.3759</td>\n",
       "      <td>...</td>\n",
       "      <td>0.0193</td>\n",
       "      <td>0.0118</td>\n",
       "      <td>0.0064</td>\n",
       "      <td>0.0042</td>\n",
       "      <td>0.0054</td>\n",
       "      <td>0.0049</td>\n",
       "      <td>0.0082</td>\n",
       "      <td>0.0028</td>\n",
       "      <td>0.0027</td>\n",
       "      <td>R</td>\n",
       "    </tr>\n",
       "    <tr>\n",
       "      <th>21</th>\n",
       "      <td>0.0664</td>\n",
       "      <td>0.0575</td>\n",
       "      <td>0.0842</td>\n",
       "      <td>0.0372</td>\n",
       "      <td>0.0458</td>\n",
       "      <td>0.0771</td>\n",
       "      <td>0.0771</td>\n",
       "      <td>0.1130</td>\n",
       "      <td>0.2353</td>\n",
       "      <td>0.1838</td>\n",
       "      <td>...</td>\n",
       "      <td>0.0141</td>\n",
       "      <td>0.0190</td>\n",
       "      <td>0.0043</td>\n",
       "      <td>0.0036</td>\n",
       "      <td>0.0026</td>\n",
       "      <td>0.0024</td>\n",
       "      <td>0.0162</td>\n",
       "      <td>0.0109</td>\n",
       "      <td>0.0079</td>\n",
       "      <td>R</td>\n",
       "    </tr>\n",
       "    <tr>\n",
       "      <th>22</th>\n",
       "      <td>0.0099</td>\n",
       "      <td>0.0484</td>\n",
       "      <td>0.0299</td>\n",
       "      <td>0.0297</td>\n",
       "      <td>0.0652</td>\n",
       "      <td>0.1077</td>\n",
       "      <td>0.2363</td>\n",
       "      <td>0.2385</td>\n",
       "      <td>0.0075</td>\n",
       "      <td>0.1882</td>\n",
       "      <td>...</td>\n",
       "      <td>0.0173</td>\n",
       "      <td>0.0149</td>\n",
       "      <td>0.0115</td>\n",
       "      <td>0.0202</td>\n",
       "      <td>0.0139</td>\n",
       "      <td>0.0029</td>\n",
       "      <td>0.0160</td>\n",
       "      <td>0.0106</td>\n",
       "      <td>0.0134</td>\n",
       "      <td>R</td>\n",
       "    </tr>\n",
       "    <tr>\n",
       "      <th>23</th>\n",
       "      <td>0.0115</td>\n",
       "      <td>0.0150</td>\n",
       "      <td>0.0136</td>\n",
       "      <td>0.0076</td>\n",
       "      <td>0.0211</td>\n",
       "      <td>0.1058</td>\n",
       "      <td>0.1023</td>\n",
       "      <td>0.0440</td>\n",
       "      <td>0.0931</td>\n",
       "      <td>0.0734</td>\n",
       "      <td>...</td>\n",
       "      <td>0.0091</td>\n",
       "      <td>0.0016</td>\n",
       "      <td>0.0084</td>\n",
       "      <td>0.0064</td>\n",
       "      <td>0.0026</td>\n",
       "      <td>0.0029</td>\n",
       "      <td>0.0037</td>\n",
       "      <td>0.0070</td>\n",
       "      <td>0.0041</td>\n",
       "      <td>R</td>\n",
       "    </tr>\n",
       "    <tr>\n",
       "      <th>24</th>\n",
       "      <td>0.0293</td>\n",
       "      <td>0.0644</td>\n",
       "      <td>0.0390</td>\n",
       "      <td>0.0173</td>\n",
       "      <td>0.0476</td>\n",
       "      <td>0.0816</td>\n",
       "      <td>0.0993</td>\n",
       "      <td>0.0315</td>\n",
       "      <td>0.0736</td>\n",
       "      <td>0.0860</td>\n",
       "      <td>...</td>\n",
       "      <td>0.0035</td>\n",
       "      <td>0.0052</td>\n",
       "      <td>0.0083</td>\n",
       "      <td>0.0078</td>\n",
       "      <td>0.0075</td>\n",
       "      <td>0.0105</td>\n",
       "      <td>0.0160</td>\n",
       "      <td>0.0095</td>\n",
       "      <td>0.0011</td>\n",
       "      <td>R</td>\n",
       "    </tr>\n",
       "    <tr>\n",
       "      <th>25</th>\n",
       "      <td>0.0201</td>\n",
       "      <td>0.0026</td>\n",
       "      <td>0.0138</td>\n",
       "      <td>0.0062</td>\n",
       "      <td>0.0133</td>\n",
       "      <td>0.0151</td>\n",
       "      <td>0.0541</td>\n",
       "      <td>0.0210</td>\n",
       "      <td>0.0505</td>\n",
       "      <td>0.1097</td>\n",
       "      <td>...</td>\n",
       "      <td>0.0108</td>\n",
       "      <td>0.0070</td>\n",
       "      <td>0.0063</td>\n",
       "      <td>0.0030</td>\n",
       "      <td>0.0011</td>\n",
       "      <td>0.0007</td>\n",
       "      <td>0.0024</td>\n",
       "      <td>0.0057</td>\n",
       "      <td>0.0044</td>\n",
       "      <td>R</td>\n",
       "    </tr>\n",
       "    <tr>\n",
       "      <th>26</th>\n",
       "      <td>0.0151</td>\n",
       "      <td>0.0320</td>\n",
       "      <td>0.0599</td>\n",
       "      <td>0.1050</td>\n",
       "      <td>0.1163</td>\n",
       "      <td>0.1734</td>\n",
       "      <td>0.1679</td>\n",
       "      <td>0.1119</td>\n",
       "      <td>0.0889</td>\n",
       "      <td>0.1205</td>\n",
       "      <td>...</td>\n",
       "      <td>0.0061</td>\n",
       "      <td>0.0015</td>\n",
       "      <td>0.0084</td>\n",
       "      <td>0.0128</td>\n",
       "      <td>0.0054</td>\n",
       "      <td>0.0011</td>\n",
       "      <td>0.0019</td>\n",
       "      <td>0.0023</td>\n",
       "      <td>0.0062</td>\n",
       "      <td>R</td>\n",
       "    </tr>\n",
       "    <tr>\n",
       "      <th>27</th>\n",
       "      <td>0.0177</td>\n",
       "      <td>0.0300</td>\n",
       "      <td>0.0288</td>\n",
       "      <td>0.0394</td>\n",
       "      <td>0.0630</td>\n",
       "      <td>0.0526</td>\n",
       "      <td>0.0688</td>\n",
       "      <td>0.0633</td>\n",
       "      <td>0.0624</td>\n",
       "      <td>0.0613</td>\n",
       "      <td>...</td>\n",
       "      <td>0.0102</td>\n",
       "      <td>0.0122</td>\n",
       "      <td>0.0044</td>\n",
       "      <td>0.0075</td>\n",
       "      <td>0.0124</td>\n",
       "      <td>0.0099</td>\n",
       "      <td>0.0057</td>\n",
       "      <td>0.0032</td>\n",
       "      <td>0.0019</td>\n",
       "      <td>R</td>\n",
       "    </tr>\n",
       "    <tr>\n",
       "      <th>28</th>\n",
       "      <td>0.0100</td>\n",
       "      <td>0.0275</td>\n",
       "      <td>0.0190</td>\n",
       "      <td>0.0371</td>\n",
       "      <td>0.0416</td>\n",
       "      <td>0.0201</td>\n",
       "      <td>0.0314</td>\n",
       "      <td>0.0651</td>\n",
       "      <td>0.1896</td>\n",
       "      <td>0.2668</td>\n",
       "      <td>...</td>\n",
       "      <td>0.0088</td>\n",
       "      <td>0.0104</td>\n",
       "      <td>0.0036</td>\n",
       "      <td>0.0088</td>\n",
       "      <td>0.0047</td>\n",
       "      <td>0.0117</td>\n",
       "      <td>0.0020</td>\n",
       "      <td>0.0091</td>\n",
       "      <td>0.0058</td>\n",
       "      <td>R</td>\n",
       "    </tr>\n",
       "    <tr>\n",
       "      <th>29</th>\n",
       "      <td>0.0189</td>\n",
       "      <td>0.0308</td>\n",
       "      <td>0.0197</td>\n",
       "      <td>0.0622</td>\n",
       "      <td>0.0080</td>\n",
       "      <td>0.0789</td>\n",
       "      <td>0.1440</td>\n",
       "      <td>0.1451</td>\n",
       "      <td>0.1789</td>\n",
       "      <td>0.2522</td>\n",
       "      <td>...</td>\n",
       "      <td>0.0038</td>\n",
       "      <td>0.0096</td>\n",
       "      <td>0.0142</td>\n",
       "      <td>0.0190</td>\n",
       "      <td>0.0140</td>\n",
       "      <td>0.0099</td>\n",
       "      <td>0.0092</td>\n",
       "      <td>0.0052</td>\n",
       "      <td>0.0075</td>\n",
       "      <td>R</td>\n",
       "    </tr>\n",
       "  </tbody>\n",
       "</table>\n",
       "<p>30 rows × 61 columns</p>\n",
       "</div>"
      ],
      "text/plain": [
       "        0       1       2       3       4       5       6       7       8   \\\n",
       "0   0.0200  0.0371  0.0428  0.0207  0.0954  0.0986  0.1539  0.1601  0.3109   \n",
       "1   0.0453  0.0523  0.0843  0.0689  0.1183  0.2583  0.2156  0.3481  0.3337   \n",
       "2   0.0262  0.0582  0.1099  0.1083  0.0974  0.2280  0.2431  0.3771  0.5598   \n",
       "3   0.0100  0.0171  0.0623  0.0205  0.0205  0.0368  0.1098  0.1276  0.0598   \n",
       "4   0.0762  0.0666  0.0481  0.0394  0.0590  0.0649  0.1209  0.2467  0.3564   \n",
       "5   0.0286  0.0453  0.0277  0.0174  0.0384  0.0990  0.1201  0.1833  0.2105   \n",
       "6   0.0317  0.0956  0.1321  0.1408  0.1674  0.1710  0.0731  0.1401  0.2083   \n",
       "7   0.0519  0.0548  0.0842  0.0319  0.1158  0.0922  0.1027  0.0613  0.1465   \n",
       "8   0.0223  0.0375  0.0484  0.0475  0.0647  0.0591  0.0753  0.0098  0.0684   \n",
       "9   0.0164  0.0173  0.0347  0.0070  0.0187  0.0671  0.1056  0.0697  0.0962   \n",
       "10  0.0039  0.0063  0.0152  0.0336  0.0310  0.0284  0.0396  0.0272  0.0323   \n",
       "11  0.0123  0.0309  0.0169  0.0313  0.0358  0.0102  0.0182  0.0579  0.1122   \n",
       "12  0.0079  0.0086  0.0055  0.0250  0.0344  0.0546  0.0528  0.0958  0.1009   \n",
       "13  0.0090  0.0062  0.0253  0.0489  0.1197  0.1589  0.1392  0.0987  0.0955   \n",
       "14  0.0124  0.0433  0.0604  0.0449  0.0597  0.0355  0.0531  0.0343  0.1052   \n",
       "15  0.0298  0.0615  0.0650  0.0921  0.1615  0.2294  0.2176  0.2033  0.1459   \n",
       "16  0.0352  0.0116  0.0191  0.0469  0.0737  0.1185  0.1683  0.1541  0.1466   \n",
       "17  0.0192  0.0607  0.0378  0.0774  0.1388  0.0809  0.0568  0.0219  0.1037   \n",
       "18  0.0270  0.0092  0.0145  0.0278  0.0412  0.0757  0.1026  0.1138  0.0794   \n",
       "19  0.0126  0.0149  0.0641  0.1732  0.2565  0.2559  0.2947  0.4110  0.4983   \n",
       "20  0.0473  0.0509  0.0819  0.1252  0.1783  0.3070  0.3008  0.2362  0.3830   \n",
       "21  0.0664  0.0575  0.0842  0.0372  0.0458  0.0771  0.0771  0.1130  0.2353   \n",
       "22  0.0099  0.0484  0.0299  0.0297  0.0652  0.1077  0.2363  0.2385  0.0075   \n",
       "23  0.0115  0.0150  0.0136  0.0076  0.0211  0.1058  0.1023  0.0440  0.0931   \n",
       "24  0.0293  0.0644  0.0390  0.0173  0.0476  0.0816  0.0993  0.0315  0.0736   \n",
       "25  0.0201  0.0026  0.0138  0.0062  0.0133  0.0151  0.0541  0.0210  0.0505   \n",
       "26  0.0151  0.0320  0.0599  0.1050  0.1163  0.1734  0.1679  0.1119  0.0889   \n",
       "27  0.0177  0.0300  0.0288  0.0394  0.0630  0.0526  0.0688  0.0633  0.0624   \n",
       "28  0.0100  0.0275  0.0190  0.0371  0.0416  0.0201  0.0314  0.0651  0.1896   \n",
       "29  0.0189  0.0308  0.0197  0.0622  0.0080  0.0789  0.1440  0.1451  0.1789   \n",
       "\n",
       "        9   ...      51      52      53      54      55      56      57  \\\n",
       "0   0.2111  ...  0.0027  0.0065  0.0159  0.0072  0.0167  0.0180  0.0084   \n",
       "1   0.2872  ...  0.0084  0.0089  0.0048  0.0094  0.0191  0.0140  0.0049   \n",
       "2   0.6194  ...  0.0232  0.0166  0.0095  0.0180  0.0244  0.0316  0.0164   \n",
       "3   0.1264  ...  0.0121  0.0036  0.0150  0.0085  0.0073  0.0050  0.0044   \n",
       "4   0.4459  ...  0.0031  0.0054  0.0105  0.0110  0.0015  0.0072  0.0048   \n",
       "5   0.3039  ...  0.0045  0.0014  0.0038  0.0013  0.0089  0.0057  0.0027   \n",
       "6   0.3513  ...  0.0201  0.0248  0.0131  0.0070  0.0138  0.0092  0.0143   \n",
       "7   0.2838  ...  0.0081  0.0120  0.0045  0.0121  0.0097  0.0085  0.0047   \n",
       "8   0.1487  ...  0.0145  0.0128  0.0145  0.0058  0.0049  0.0065  0.0093   \n",
       "9   0.0251  ...  0.0090  0.0223  0.0179  0.0084  0.0068  0.0032  0.0035   \n",
       "10  0.0452  ...  0.0062  0.0120  0.0052  0.0056  0.0093  0.0042  0.0003   \n",
       "11  0.0835  ...  0.0133  0.0265  0.0224  0.0074  0.0118  0.0026  0.0092   \n",
       "12  0.1240  ...  0.0176  0.0127  0.0088  0.0098  0.0019  0.0059  0.0058   \n",
       "13  0.1895  ...  0.0059  0.0095  0.0194  0.0080  0.0152  0.0158  0.0053   \n",
       "14  0.2120  ...  0.0083  0.0057  0.0174  0.0188  0.0054  0.0114  0.0196   \n",
       "15  0.0852  ...  0.0031  0.0153  0.0071  0.0212  0.0076  0.0152  0.0049   \n",
       "16  0.2912  ...  0.0346  0.0158  0.0154  0.0109  0.0048  0.0095  0.0015   \n",
       "17  0.1186  ...  0.0331  0.0131  0.0120  0.0108  0.0024  0.0045  0.0037   \n",
       "18  0.1520  ...  0.0084  0.0010  0.0018  0.0068  0.0039  0.0120  0.0132   \n",
       "19  0.5920  ...  0.0092  0.0035  0.0098  0.0121  0.0006  0.0181  0.0094   \n",
       "20  0.3759  ...  0.0193  0.0118  0.0064  0.0042  0.0054  0.0049  0.0082   \n",
       "21  0.1838  ...  0.0141  0.0190  0.0043  0.0036  0.0026  0.0024  0.0162   \n",
       "22  0.1882  ...  0.0173  0.0149  0.0115  0.0202  0.0139  0.0029  0.0160   \n",
       "23  0.0734  ...  0.0091  0.0016  0.0084  0.0064  0.0026  0.0029  0.0037   \n",
       "24  0.0860  ...  0.0035  0.0052  0.0083  0.0078  0.0075  0.0105  0.0160   \n",
       "25  0.1097  ...  0.0108  0.0070  0.0063  0.0030  0.0011  0.0007  0.0024   \n",
       "26  0.1205  ...  0.0061  0.0015  0.0084  0.0128  0.0054  0.0011  0.0019   \n",
       "27  0.0613  ...  0.0102  0.0122  0.0044  0.0075  0.0124  0.0099  0.0057   \n",
       "28  0.2668  ...  0.0088  0.0104  0.0036  0.0088  0.0047  0.0117  0.0020   \n",
       "29  0.2522  ...  0.0038  0.0096  0.0142  0.0190  0.0140  0.0099  0.0092   \n",
       "\n",
       "        58      59  60  \n",
       "0   0.0090  0.0032   R  \n",
       "1   0.0052  0.0044   R  \n",
       "2   0.0095  0.0078   R  \n",
       "3   0.0040  0.0117   R  \n",
       "4   0.0107  0.0094   R  \n",
       "5   0.0051  0.0062   R  \n",
       "6   0.0036  0.0103   R  \n",
       "7   0.0048  0.0053   R  \n",
       "8   0.0059  0.0022   R  \n",
       "9   0.0056  0.0040   R  \n",
       "10  0.0053  0.0036   R  \n",
       "11  0.0009  0.0044   R  \n",
       "12  0.0059  0.0032   R  \n",
       "13  0.0189  0.0102   R  \n",
       "14  0.0147  0.0062   R  \n",
       "15  0.0200  0.0073   R  \n",
       "16  0.0073  0.0067   R  \n",
       "17  0.0112  0.0075   R  \n",
       "18  0.0070  0.0088   R  \n",
       "19  0.0116  0.0063   R  \n",
       "20  0.0028  0.0027   R  \n",
       "21  0.0109  0.0079   R  \n",
       "22  0.0106  0.0134   R  \n",
       "23  0.0070  0.0041   R  \n",
       "24  0.0095  0.0011   R  \n",
       "25  0.0057  0.0044   R  \n",
       "26  0.0023  0.0062   R  \n",
       "27  0.0032  0.0019   R  \n",
       "28  0.0091  0.0058   R  \n",
       "29  0.0052  0.0075   R  \n",
       "\n",
       "[30 rows x 61 columns]"
      ]
     },
     "execution_count": 8,
     "metadata": {},
     "output_type": "execute_result"
    }
   ],
   "source": [
    "sonar_data.head(30)"
   ]
  },
  {
   "cell_type": "markdown",
   "id": "8cde31c1",
   "metadata": {
    "papermill": {
     "duration": 0.015254,
     "end_time": "2023-04-30T20:08:01.974340",
     "exception": false,
     "start_time": "2023-04-30T20:08:01.959086",
     "status": "completed"
    },
    "tags": []
   },
   "source": []
  },
  {
   "cell_type": "markdown",
   "id": "a3dddd59",
   "metadata": {
    "papermill": {
     "duration": 0.014572,
     "end_time": "2023-04-30T20:08:02.003969",
     "exception": false,
     "start_time": "2023-04-30T20:08:01.989397",
     "status": "completed"
    },
    "tags": []
   },
   "source": [
    "### Count unique values"
   ]
  },
  {
   "cell_type": "code",
   "execution_count": 9,
   "id": "55a8ee70",
   "metadata": {
    "execution": {
     "iopub.execute_input": "2023-04-30T20:08:02.036906Z",
     "iopub.status.busy": "2023-04-30T20:08:02.036420Z",
     "iopub.status.idle": "2023-04-30T20:08:02.046694Z",
     "shell.execute_reply": "2023-04-30T20:08:02.045091Z"
    },
    "papermill": {
     "duration": 0.029818,
     "end_time": "2023-04-30T20:08:02.049266",
     "exception": false,
     "start_time": "2023-04-30T20:08:02.019448",
     "status": "completed"
    },
    "tags": []
   },
   "outputs": [
    {
     "name": "stdout",
     "output_type": "stream",
     "text": [
      "0.0201    5\n",
      "0.0094    3\n",
      "0.0131    3\n",
      "0.0100    3\n",
      "0.0209    3\n",
      "         ..\n",
      "0.0109    1\n",
      "0.0202    1\n",
      "0.0239    1\n",
      "0.0336    1\n",
      "0.0303    1\n",
      "Name: 0, Length: 177, dtype: int64\n"
     ]
    }
   ],
   "source": [
    "# Count unique values in the first column\n",
    "counts = sonar_data[0].value_counts()\n",
    "print(counts)"
   ]
  },
  {
   "cell_type": "code",
   "execution_count": 10,
   "id": "bdcd12fb",
   "metadata": {
    "execution": {
     "iopub.execute_input": "2023-04-30T20:08:02.081913Z",
     "iopub.status.busy": "2023-04-30T20:08:02.081057Z",
     "iopub.status.idle": "2023-04-30T20:08:02.088569Z",
     "shell.execute_reply": "2023-04-30T20:08:02.087287Z"
    },
    "papermill": {
     "duration": 0.026878,
     "end_time": "2023-04-30T20:08:02.091238",
     "exception": false,
     "start_time": "2023-04-30T20:08:02.064360",
     "status": "completed"
    },
    "tags": []
   },
   "outputs": [
    {
     "name": "stdout",
     "output_type": "stream",
     "text": [
      "M    111\n",
      "R     97\n",
      "Name: 60, dtype: int64\n"
     ]
    }
   ],
   "source": [
    "# Count unique values in the last column\n",
    "counts = sonar_data[60].value_counts()\n",
    "print(counts)"
   ]
  },
  {
   "cell_type": "markdown",
   "id": "4c0ea883",
   "metadata": {
    "papermill": {
     "duration": 0.014795,
     "end_time": "2023-04-30T20:08:02.121407",
     "exception": false,
     "start_time": "2023-04-30T20:08:02.106612",
     "status": "completed"
    },
    "tags": []
   },
   "source": [
    "### Plot histogram chart "
   ]
  },
  {
   "cell_type": "code",
   "execution_count": 11,
   "id": "a4f9fe1a",
   "metadata": {
    "execution": {
     "iopub.execute_input": "2023-04-30T20:08:02.154919Z",
     "iopub.status.busy": "2023-04-30T20:08:02.154064Z",
     "iopub.status.idle": "2023-04-30T20:08:11.498313Z",
     "shell.execute_reply": "2023-04-30T20:08:11.497041Z"
    },
    "papermill": {
     "duration": 9.37119,
     "end_time": "2023-04-30T20:08:11.508076",
     "exception": false,
     "start_time": "2023-04-30T20:08:02.136886",
     "status": "completed"
    },
    "tags": []
   },
   "outputs": [
    {
     "data": {
      "image/png": "[encoded data removed]",
      "text/plain": [
       "<Figure size 5000x5000 with 64 Axes>"
      ]
     },
     "metadata": {},
     "output_type": "display_data"
    }
   ],
   "source": [
    "sonar_data.hist(figsize=(50, 50))\n",
    "plt.show()"
   ]
  },
  {
   "cell_type": "markdown",
   "id": "ed791791",
   "metadata": {
    "papermill": {
     "duration": 0.025244,
     "end_time": "2023-04-30T20:08:11.558914",
     "exception": false,
     "start_time": "2023-04-30T20:08:11.533670",
     "status": "completed"
    },
    "tags": []
   },
   "source": [
    "Findings: There are 61 columns in total. 60 columns are float format and 1 column is object.The first 60 columns are float and the last column is object. The values of the float are relatively small."
   ]
  },
  {
   "cell_type": "markdown",
   "id": "81a4c1de",
   "metadata": {
    "papermill": {
     "duration": 0.025468,
     "end_time": "2023-04-30T20:08:11.610134",
     "exception": false,
     "start_time": "2023-04-30T20:08:11.584666",
     "status": "completed"
    },
    "tags": []
   },
   "source": [
    "## Step 3: Preprocess the Data\n",
    "\n",
    "I change column 60 from categorical variable to numerical variable. The reason is that Perceptron model requires numberical input data. "
   ]
  },
  {
   "cell_type": "markdown",
   "id": "17f5814e",
   "metadata": {
    "papermill": {
     "duration": 0.02489,
     "end_time": "2023-04-30T20:08:11.661095",
     "exception": false,
     "start_time": "2023-04-30T20:08:11.636205",
     "status": "completed"
    },
    "tags": []
   },
   "source": [
    "### Change the categorical veriable into numerical variable"
   ]
  },
  {
   "cell_type": "code",
   "execution_count": 12,
   "id": "d07ab781",
   "metadata": {
    "execution": {
     "iopub.execute_input": "2023-04-30T20:08:11.715504Z",
     "iopub.status.busy": "2023-04-30T20:08:11.715057Z",
     "iopub.status.idle": "2023-04-30T20:08:11.722914Z",
     "shell.execute_reply": "2023-04-30T20:08:11.721573Z"
    },
    "papermill": {
     "duration": 0.039154,
     "end_time": "2023-04-30T20:08:11.726131",
     "exception": false,
     "start_time": "2023-04-30T20:08:11.686977",
     "status": "completed"
    },
    "tags": []
   },
   "outputs": [
    {
     "name": "stdout",
     "output_type": "stream",
     "text": [
      "0      R\n",
      "1      R\n",
      "2      R\n",
      "3      R\n",
      "4      R\n",
      "      ..\n",
      "203    M\n",
      "204    M\n",
      "205    M\n",
      "206    M\n",
      "207    M\n",
      "Name: 60, Length: 208, dtype: object\n"
     ]
    }
   ],
   "source": [
    "print(sonar_data[60])"
   ]
  },
  {
   "cell_type": "code",
   "execution_count": 13,
   "id": "d84b91c0",
   "metadata": {
    "execution": {
     "iopub.execute_input": "2023-04-30T20:08:11.778993Z",
     "iopub.status.busy": "2023-04-30T20:08:11.778544Z",
     "iopub.status.idle": "2023-04-30T20:08:11.788586Z",
     "shell.execute_reply": "2023-04-30T20:08:11.787272Z"
    },
    "papermill": {
     "duration": 0.040168,
     "end_time": "2023-04-30T20:08:11.791653",
     "exception": false,
     "start_time": "2023-04-30T20:08:11.751485",
     "status": "completed"
    },
    "tags": []
   },
   "outputs": [
    {
     "name": "stdout",
     "output_type": "stream",
     "text": [
      "0     -1\n",
      "1     -1\n",
      "2     -1\n",
      "3     -1\n",
      "4     -1\n",
      "      ..\n",
      "203    1\n",
      "204    1\n",
      "205    1\n",
      "206    1\n",
      "207    1\n",
      "Name: 60, Length: 208, dtype: int64\n"
     ]
    }
   ],
   "source": [
    "# Split the data into features and labels\n",
    "\n",
    "X = sonar_data.iloc[:, :-1]\n",
    "y = sonar_data.iloc[:, -1]\n",
    "\n",
    "# Replace 'R' with -1 and 'M' with 1 in the y column\n",
    "y = y.replace({'R': -1, 'M': 1})\n",
    "\n",
    "print (y)"
   ]
  },
  {
   "cell_type": "code",
   "execution_count": 14,
   "id": "eb598b45",
   "metadata": {
    "execution": {
     "iopub.execute_input": "2023-04-30T20:08:11.845364Z",
     "iopub.status.busy": "2023-04-30T20:08:11.844322Z",
     "iopub.status.idle": "2023-04-30T20:08:11.866437Z",
     "shell.execute_reply": "2023-04-30T20:08:11.864847Z"
    },
    "papermill": {
     "duration": 0.052205,
     "end_time": "2023-04-30T20:08:11.869612",
     "exception": false,
     "start_time": "2023-04-30T20:08:11.817407",
     "status": "completed"
    },
    "tags": []
   },
   "outputs": [
    {
     "name": "stdout",
     "output_type": "stream",
     "text": [
      "         0       1       2       3       4       5       6       7       8   \\\n",
      "0    0.0200  0.0371  0.0428  0.0207  0.0954  0.0986  0.1539  0.1601  0.3109   \n",
      "1    0.0453  0.0523  0.0843  0.0689  0.1183  0.2583  0.2156  0.3481  0.3337   \n",
      "2    0.0262  0.0582  0.1099  0.1083  0.0974  0.2280  0.2431  0.3771  0.5598   \n",
      "3    0.0100  0.0171  0.0623  0.0205  0.0205  0.0368  0.1098  0.1276  0.0598   \n",
      "4    0.0762  0.0666  0.0481  0.0394  0.0590  0.0649  0.1209  0.2467  0.3564   \n",
      "..      ...     ...     ...     ...     ...     ...     ...     ...     ...   \n",
      "203  0.0187  0.0346  0.0168  0.0177  0.0393  0.1630  0.2028  0.1694  0.2328   \n",
      "204  0.0323  0.0101  0.0298  0.0564  0.0760  0.0958  0.0990  0.1018  0.1030   \n",
      "205  0.0522  0.0437  0.0180  0.0292  0.0351  0.1171  0.1257  0.1178  0.1258   \n",
      "206  0.0303  0.0353  0.0490  0.0608  0.0167  0.1354  0.1465  0.1123  0.1945   \n",
      "207  0.0260  0.0363  0.0136  0.0272  0.0214  0.0338  0.0655  0.1400  0.1843   \n",
      "\n",
      "         9   ...      51      52      53      54      55      56      57  \\\n",
      "0    0.2111  ...  0.0027  0.0065  0.0159  0.0072  0.0167  0.0180  0.0084   \n",
      "1    0.2872  ...  0.0084  0.0089  0.0048  0.0094  0.0191  0.0140  0.0049   \n",
      "2    0.6194  ...  0.0232  0.0166  0.0095  0.0180  0.0244  0.0316  0.0164   \n",
      "3    0.1264  ...  0.0121  0.0036  0.0150  0.0085  0.0073  0.0050  0.0044   \n",
      "4    0.4459  ...  0.0031  0.0054  0.0105  0.0110  0.0015  0.0072  0.0048   \n",
      "..      ...  ...     ...     ...     ...     ...     ...     ...     ...   \n",
      "203  0.2684  ...  0.0116  0.0098  0.0199  0.0033  0.0101  0.0065  0.0115   \n",
      "204  0.2154  ...  0.0061  0.0093  0.0135  0.0063  0.0063  0.0034  0.0032   \n",
      "205  0.2529  ...  0.0160  0.0029  0.0051  0.0062  0.0089  0.0140  0.0138   \n",
      "206  0.2354  ...  0.0086  0.0046  0.0126  0.0036  0.0035  0.0034  0.0079   \n",
      "207  0.2354  ...  0.0146  0.0129  0.0047  0.0039  0.0061  0.0040  0.0036   \n",
      "\n",
      "         58      59  60  \n",
      "0    0.0090  0.0032  -1  \n",
      "1    0.0052  0.0044  -1  \n",
      "2    0.0095  0.0078  -1  \n",
      "3    0.0040  0.0117  -1  \n",
      "4    0.0107  0.0094  -1  \n",
      "..      ...     ...  ..  \n",
      "203  0.0193  0.0157   1  \n",
      "204  0.0062  0.0067   1  \n",
      "205  0.0077  0.0031   1  \n",
      "206  0.0036  0.0048   1  \n",
      "207  0.0061  0.0115   1  \n",
      "\n",
      "[208 rows x 61 columns]\n"
     ]
    }
   ],
   "source": [
    "# Combine the features and labels into a single DataFrame\n",
    "\n",
    "sonar_data = pd.concat([X, y], axis=1)\n",
    "print(sonar_data)"
   ]
  },
  {
   "cell_type": "code",
   "execution_count": 15,
   "id": "b059ba8d",
   "metadata": {
    "execution": {
     "iopub.execute_input": "2023-04-30T20:08:11.923452Z",
     "iopub.status.busy": "2023-04-30T20:08:11.922690Z",
     "iopub.status.idle": "2023-04-30T20:08:12.071540Z",
     "shell.execute_reply": "2023-04-30T20:08:12.070096Z"
    },
    "papermill": {
     "duration": 0.17953,
     "end_time": "2023-04-30T20:08:12.074494",
     "exception": false,
     "start_time": "2023-04-30T20:08:11.894964",
     "status": "completed"
    },
    "tags": []
   },
   "outputs": [
    {
     "data": {
      "text/html": [
       "<div>\n",
       "<style scoped>\n",
       "    .dataframe tbody tr th:only-of-type {\n",
       "        vertical-align: middle;\n",
       "    }\n",
       "\n",
       "    .dataframe tbody tr th {\n",
       "        vertical-align: top;\n",
       "    }\n",
       "\n",
       "    .dataframe thead th {\n",
       "        text-align: right;\n",
       "    }\n",
       "</style>\n",
       "<table border=\"1\" class=\"dataframe\">\n",
       "  <thead>\n",
       "    <tr style=\"text-align: right;\">\n",
       "      <th></th>\n",
       "      <th>0</th>\n",
       "      <th>1</th>\n",
       "      <th>2</th>\n",
       "      <th>3</th>\n",
       "      <th>4</th>\n",
       "      <th>5</th>\n",
       "      <th>6</th>\n",
       "      <th>7</th>\n",
       "      <th>8</th>\n",
       "      <th>9</th>\n",
       "      <th>...</th>\n",
       "      <th>51</th>\n",
       "      <th>52</th>\n",
       "      <th>53</th>\n",
       "      <th>54</th>\n",
       "      <th>55</th>\n",
       "      <th>56</th>\n",
       "      <th>57</th>\n",
       "      <th>58</th>\n",
       "      <th>59</th>\n",
       "      <th>60</th>\n",
       "    </tr>\n",
       "  </thead>\n",
       "  <tbody>\n",
       "    <tr>\n",
       "      <th>count</th>\n",
       "      <td>208.000000</td>\n",
       "      <td>208.000000</td>\n",
       "      <td>208.000000</td>\n",
       "      <td>208.000000</td>\n",
       "      <td>208.000000</td>\n",
       "      <td>208.000000</td>\n",
       "      <td>208.000000</td>\n",
       "      <td>208.000000</td>\n",
       "      <td>208.000000</td>\n",
       "      <td>208.000000</td>\n",
       "      <td>...</td>\n",
       "      <td>208.000000</td>\n",
       "      <td>208.000000</td>\n",
       "      <td>208.000000</td>\n",
       "      <td>208.000000</td>\n",
       "      <td>208.000000</td>\n",
       "      <td>208.000000</td>\n",
       "      <td>208.000000</td>\n",
       "      <td>208.000000</td>\n",
       "      <td>208.000000</td>\n",
       "      <td>208.000000</td>\n",
       "    </tr>\n",
       "    <tr>\n",
       "      <th>mean</th>\n",
       "      <td>0.029164</td>\n",
       "      <td>0.038437</td>\n",
       "      <td>0.043832</td>\n",
       "      <td>0.053892</td>\n",
       "      <td>0.075202</td>\n",
       "      <td>0.104570</td>\n",
       "      <td>0.121747</td>\n",
       "      <td>0.134799</td>\n",
       "      <td>0.178003</td>\n",
       "      <td>0.208259</td>\n",
       "      <td>...</td>\n",
       "      <td>0.013420</td>\n",
       "      <td>0.010709</td>\n",
       "      <td>0.010941</td>\n",
       "      <td>0.009290</td>\n",
       "      <td>0.008222</td>\n",
       "      <td>0.007820</td>\n",
       "      <td>0.007949</td>\n",
       "      <td>0.007941</td>\n",
       "      <td>0.006507</td>\n",
       "      <td>0.067308</td>\n",
       "    </tr>\n",
       "    <tr>\n",
       "      <th>std</th>\n",
       "      <td>0.022991</td>\n",
       "      <td>0.032960</td>\n",
       "      <td>0.038428</td>\n",
       "      <td>0.046528</td>\n",
       "      <td>0.055552</td>\n",
       "      <td>0.059105</td>\n",
       "      <td>0.061788</td>\n",
       "      <td>0.085152</td>\n",
       "      <td>0.118387</td>\n",
       "      <td>0.134416</td>\n",
       "      <td>...</td>\n",
       "      <td>0.009634</td>\n",
       "      <td>0.007060</td>\n",
       "      <td>0.007301</td>\n",
       "      <td>0.007088</td>\n",
       "      <td>0.005736</td>\n",
       "      <td>0.005785</td>\n",
       "      <td>0.006470</td>\n",
       "      <td>0.006181</td>\n",
       "      <td>0.005031</td>\n",
       "      <td>1.000139</td>\n",
       "    </tr>\n",
       "    <tr>\n",
       "      <th>min</th>\n",
       "      <td>0.001500</td>\n",
       "      <td>0.000600</td>\n",
       "      <td>0.001500</td>\n",
       "      <td>0.005800</td>\n",
       "      <td>0.006700</td>\n",
       "      <td>0.010200</td>\n",
       "      <td>0.003300</td>\n",
       "      <td>0.005500</td>\n",
       "      <td>0.007500</td>\n",
       "      <td>0.011300</td>\n",
       "      <td>...</td>\n",
       "      <td>0.000800</td>\n",
       "      <td>0.000500</td>\n",
       "      <td>0.001000</td>\n",
       "      <td>0.000600</td>\n",
       "      <td>0.000400</td>\n",
       "      <td>0.000300</td>\n",
       "      <td>0.000300</td>\n",
       "      <td>0.000100</td>\n",
       "      <td>0.000600</td>\n",
       "      <td>-1.000000</td>\n",
       "    </tr>\n",
       "    <tr>\n",
       "      <th>25%</th>\n",
       "      <td>0.013350</td>\n",
       "      <td>0.016450</td>\n",
       "      <td>0.018950</td>\n",
       "      <td>0.024375</td>\n",
       "      <td>0.038050</td>\n",
       "      <td>0.067025</td>\n",
       "      <td>0.080900</td>\n",
       "      <td>0.080425</td>\n",
       "      <td>0.097025</td>\n",
       "      <td>0.111275</td>\n",
       "      <td>...</td>\n",
       "      <td>0.007275</td>\n",
       "      <td>0.005075</td>\n",
       "      <td>0.005375</td>\n",
       "      <td>0.004150</td>\n",
       "      <td>0.004400</td>\n",
       "      <td>0.003700</td>\n",
       "      <td>0.003600</td>\n",
       "      <td>0.003675</td>\n",
       "      <td>0.003100</td>\n",
       "      <td>-1.000000</td>\n",
       "    </tr>\n",
       "    <tr>\n",
       "      <th>50%</th>\n",
       "      <td>0.022800</td>\n",
       "      <td>0.030800</td>\n",
       "      <td>0.034300</td>\n",
       "      <td>0.044050</td>\n",
       "      <td>0.062500</td>\n",
       "      <td>0.092150</td>\n",
       "      <td>0.106950</td>\n",
       "      <td>0.112100</td>\n",
       "      <td>0.152250</td>\n",
       "      <td>0.182400</td>\n",
       "      <td>...</td>\n",
       "      <td>0.011400</td>\n",
       "      <td>0.009550</td>\n",
       "      <td>0.009300</td>\n",
       "      <td>0.007500</td>\n",
       "      <td>0.006850</td>\n",
       "      <td>0.005950</td>\n",
       "      <td>0.005800</td>\n",
       "      <td>0.006400</td>\n",
       "      <td>0.005300</td>\n",
       "      <td>1.000000</td>\n",
       "    </tr>\n",
       "    <tr>\n",
       "      <th>75%</th>\n",
       "      <td>0.035550</td>\n",
       "      <td>0.047950</td>\n",
       "      <td>0.057950</td>\n",
       "      <td>0.064500</td>\n",
       "      <td>0.100275</td>\n",
       "      <td>0.134125</td>\n",
       "      <td>0.154000</td>\n",
       "      <td>0.169600</td>\n",
       "      <td>0.233425</td>\n",
       "      <td>0.268700</td>\n",
       "      <td>...</td>\n",
       "      <td>0.016725</td>\n",
       "      <td>0.014900</td>\n",
       "      <td>0.014500</td>\n",
       "      <td>0.012100</td>\n",
       "      <td>0.010575</td>\n",
       "      <td>0.010425</td>\n",
       "      <td>0.010350</td>\n",
       "      <td>0.010325</td>\n",
       "      <td>0.008525</td>\n",
       "      <td>1.000000</td>\n",
       "    </tr>\n",
       "    <tr>\n",
       "      <th>max</th>\n",
       "      <td>0.137100</td>\n",
       "      <td>0.233900</td>\n",
       "      <td>0.305900</td>\n",
       "      <td>0.426400</td>\n",
       "      <td>0.401000</td>\n",
       "      <td>0.382300</td>\n",
       "      <td>0.372900</td>\n",
       "      <td>0.459000</td>\n",
       "      <td>0.682800</td>\n",
       "      <td>0.710600</td>\n",
       "      <td>...</td>\n",
       "      <td>0.070900</td>\n",
       "      <td>0.039000</td>\n",
       "      <td>0.035200</td>\n",
       "      <td>0.044700</td>\n",
       "      <td>0.039400</td>\n",
       "      <td>0.035500</td>\n",
       "      <td>0.044000</td>\n",
       "      <td>0.036400</td>\n",
       "      <td>0.043900</td>\n",
       "      <td>1.000000</td>\n",
       "    </tr>\n",
       "  </tbody>\n",
       "</table>\n",
       "<p>8 rows × 61 columns</p>\n",
       "</div>"
      ],
      "text/plain": [
       "               0           1           2           3           4           5   \\\n",
       "count  208.000000  208.000000  208.000000  208.000000  208.000000  208.000000   \n",
       "mean     0.029164    0.038437    0.043832    0.053892    0.075202    0.104570   \n",
       "std      0.022991    0.032960    0.038428    0.046528    0.055552    0.059105   \n",
       "min      0.001500    0.000600    0.001500    0.005800    0.006700    0.010200   \n",
       "25%      0.013350    0.016450    0.018950    0.024375    0.038050    0.067025   \n",
       "50%      0.022800    0.030800    0.034300    0.044050    0.062500    0.092150   \n",
       "75%      0.035550    0.047950    0.057950    0.064500    0.100275    0.134125   \n",
       "max      0.137100    0.233900    0.305900    0.426400    0.401000    0.382300   \n",
       "\n",
       "               6           7           8           9   ...          51  \\\n",
       "count  208.000000  208.000000  208.000000  208.000000  ...  208.000000   \n",
       "mean     0.121747    0.134799    0.178003    0.208259  ...    0.013420   \n",
       "std      0.061788    0.085152    0.118387    0.134416  ...    0.009634   \n",
       "min      0.003300    0.005500    0.007500    0.011300  ...    0.000800   \n",
       "25%      0.080900    0.080425    0.097025    0.111275  ...    0.007275   \n",
       "50%      0.106950    0.112100    0.152250    0.182400  ...    0.011400   \n",
       "75%      0.154000    0.169600    0.233425    0.268700  ...    0.016725   \n",
       "max      0.372900    0.459000    0.682800    0.710600  ...    0.070900   \n",
       "\n",
       "               52          53          54          55          56          57  \\\n",
       "count  208.000000  208.000000  208.000000  208.000000  208.000000  208.000000   \n",
       "mean     0.010709    0.010941    0.009290    0.008222    0.007820    0.007949   \n",
       "std      0.007060    0.007301    0.007088    0.005736    0.005785    0.006470   \n",
       "min      0.000500    0.001000    0.000600    0.000400    0.000300    0.000300   \n",
       "25%      0.005075    0.005375    0.004150    0.004400    0.003700    0.003600   \n",
       "50%      0.009550    0.009300    0.007500    0.006850    0.005950    0.005800   \n",
       "75%      0.014900    0.014500    0.012100    0.010575    0.010425    0.010350   \n",
       "max      0.039000    0.035200    0.044700    0.039400    0.035500    0.044000   \n",
       "\n",
       "               58          59          60  \n",
       "count  208.000000  208.000000  208.000000  \n",
       "mean     0.007941    0.006507    0.067308  \n",
       "std      0.006181    0.005031    1.000139  \n",
       "min      0.000100    0.000600   -1.000000  \n",
       "25%      0.003675    0.003100   -1.000000  \n",
       "50%      0.006400    0.005300    1.000000  \n",
       "75%      0.010325    0.008525    1.000000  \n",
       "max      0.036400    0.043900    1.000000  \n",
       "\n",
       "[8 rows x 61 columns]"
      ]
     },
     "execution_count": 15,
     "metadata": {},
     "output_type": "execute_result"
    }
   ],
   "source": [
    "# Descibe the whole dataset\n",
    "sonar_data.describe()"
   ]
  },
  {
   "cell_type": "markdown",
   "id": "9820ea33",
   "metadata": {
    "papermill": {
     "duration": 0.025794,
     "end_time": "2023-04-30T20:08:12.126396",
     "exception": false,
     "start_time": "2023-04-30T20:08:12.100602",
     "status": "completed"
    },
    "tags": []
   },
   "source": [
    "Summary: I change the categorical variable into numerical variable and print the final result. From what what I have seen so far, the result is what I expected"
   ]
  },
  {
   "cell_type": "markdown",
   "id": "ede295c7",
   "metadata": {
    "papermill": {
     "duration": 0.027198,
     "end_time": "2023-04-30T20:08:12.180546",
     "exception": false,
     "start_time": "2023-04-30T20:08:12.153348",
     "status": "completed"
    },
    "tags": []
   },
   "source": [
    "## Step 4: Prepare the Training and Test Data Sets\n",
    "\n",
    "Split the training and validation datasets into 80% and 20%. The dataset is small and I would like to make sure that there is enough training dataset to feed into the model."
   ]
  },
  {
   "cell_type": "markdown",
   "id": "36b4e08d",
   "metadata": {
    "papermill": {
     "duration": 0.025789,
     "end_time": "2023-04-30T20:08:12.233112",
     "exception": false,
     "start_time": "2023-04-30T20:08:12.207323",
     "status": "completed"
    },
    "tags": []
   },
   "source": [
    "### Scaling the dataset"
   ]
  },
  {
   "cell_type": "code",
   "execution_count": 16,
   "id": "a5f0d4dd",
   "metadata": {
    "execution": {
     "iopub.execute_input": "2023-04-30T20:08:12.287315Z",
     "iopub.status.busy": "2023-04-30T20:08:12.286000Z",
     "iopub.status.idle": "2023-04-30T20:08:13.200305Z",
     "shell.execute_reply": "2023-04-30T20:08:13.198914Z"
    },
    "papermill": {
     "duration": 0.944273,
     "end_time": "2023-04-30T20:08:13.203254",
     "exception": false,
     "start_time": "2023-04-30T20:08:12.258981",
     "status": "completed"
    },
    "tags": []
   },
   "outputs": [
    {
     "name": "stdout",
     "output_type": "stream",
     "text": [
      "[[0.13643068 0.15645092 0.13567674 ... 0.24517906 0.06004619 0.        ]\n",
      " [0.32300885 0.22160309 0.27201051 ... 0.14049587 0.08775982 0.        ]\n",
      " [0.18215339 0.24689241 0.35611038 ... 0.25895317 0.16628176 0.        ]\n",
      " ...\n",
      " [0.37389381 0.18474068 0.05420499 ... 0.20936639 0.05773672 1.        ]\n",
      " [0.21238938 0.14873553 0.15604468 ... 0.09641873 0.09699769 1.        ]\n",
      " [0.18067847 0.15302186 0.03975033 ... 0.16528926 0.2517321  1.        ]]\n"
     ]
    }
   ],
   "source": [
    "from sklearn.preprocessing import MinMaxScaler\n",
    "\n",
    "# Instantiate MinMaxScaler\n",
    "scaler = MinMaxScaler()\n",
    "\n",
    "# Fit scaler to data\n",
    "scaler.fit(sonar_data)\n",
    "\n",
    "# Transform data\n",
    "sonar_data = scaler.transform(sonar_data)\n",
    "print(sonar_data)"
   ]
  },
  {
   "cell_type": "markdown",
   "id": "4537044a",
   "metadata": {
    "papermill": {
     "duration": 0.025623,
     "end_time": "2023-04-30T20:08:13.255226",
     "exception": false,
     "start_time": "2023-04-30T20:08:13.229603",
     "status": "completed"
    },
    "tags": []
   },
   "source": [
    "### Split the dataset into 80% training dataset and 20% validation dataset."
   ]
  },
  {
   "cell_type": "code",
   "execution_count": 17,
   "id": "2a200643",
   "metadata": {
    "execution": {
     "iopub.execute_input": "2023-04-30T20:08:13.310199Z",
     "iopub.status.busy": "2023-04-30T20:08:13.309687Z",
     "iopub.status.idle": "2023-04-30T20:08:13.411419Z",
     "shell.execute_reply": "2023-04-30T20:08:13.409689Z"
    },
    "papermill": {
     "duration": 0.132753,
     "end_time": "2023-04-30T20:08:13.414557",
     "exception": false,
     "start_time": "2023-04-30T20:08:13.281804",
     "status": "completed"
    },
    "tags": []
   },
   "outputs": [
    {
     "name": "stdout",
     "output_type": "stream",
     "text": [
      "         0       1       2       3       4       5       6       7       8   \\\n",
      "0    0.0200  0.0371  0.0428  0.0207  0.0954  0.0986  0.1539  0.1601  0.3109   \n",
      "1    0.0453  0.0523  0.0843  0.0689  0.1183  0.2583  0.2156  0.3481  0.3337   \n",
      "2    0.0262  0.0582  0.1099  0.1083  0.0974  0.2280  0.2431  0.3771  0.5598   \n",
      "3    0.0100  0.0171  0.0623  0.0205  0.0205  0.0368  0.1098  0.1276  0.0598   \n",
      "4    0.0762  0.0666  0.0481  0.0394  0.0590  0.0649  0.1209  0.2467  0.3564   \n",
      "..      ...     ...     ...     ...     ...     ...     ...     ...     ...   \n",
      "203  0.0187  0.0346  0.0168  0.0177  0.0393  0.1630  0.2028  0.1694  0.2328   \n",
      "204  0.0323  0.0101  0.0298  0.0564  0.0760  0.0958  0.0990  0.1018  0.1030   \n",
      "205  0.0522  0.0437  0.0180  0.0292  0.0351  0.1171  0.1257  0.1178  0.1258   \n",
      "206  0.0303  0.0353  0.0490  0.0608  0.0167  0.1354  0.1465  0.1123  0.1945   \n",
      "207  0.0260  0.0363  0.0136  0.0272  0.0214  0.0338  0.0655  0.1400  0.1843   \n",
      "\n",
      "         9   ...      50      51      52      53      54      55      56  \\\n",
      "0    0.2111  ...  0.0232  0.0027  0.0065  0.0159  0.0072  0.0167  0.0180   \n",
      "1    0.2872  ...  0.0125  0.0084  0.0089  0.0048  0.0094  0.0191  0.0140   \n",
      "2    0.6194  ...  0.0033  0.0232  0.0166  0.0095  0.0180  0.0244  0.0316   \n",
      "3    0.1264  ...  0.0241  0.0121  0.0036  0.0150  0.0085  0.0073  0.0050   \n",
      "4    0.4459  ...  0.0156  0.0031  0.0054  0.0105  0.0110  0.0015  0.0072   \n",
      "..      ...  ...     ...     ...     ...     ...     ...     ...     ...   \n",
      "203  0.2684  ...  0.0203  0.0116  0.0098  0.0199  0.0033  0.0101  0.0065   \n",
      "204  0.2154  ...  0.0051  0.0061  0.0093  0.0135  0.0063  0.0063  0.0034   \n",
      "205  0.2529  ...  0.0155  0.0160  0.0029  0.0051  0.0062  0.0089  0.0140   \n",
      "206  0.2354  ...  0.0042  0.0086  0.0046  0.0126  0.0036  0.0035  0.0034   \n",
      "207  0.2354  ...  0.0181  0.0146  0.0129  0.0047  0.0039  0.0061  0.0040   \n",
      "\n",
      "         57      58      59  \n",
      "0    0.0084  0.0090  0.0032  \n",
      "1    0.0049  0.0052  0.0044  \n",
      "2    0.0164  0.0095  0.0078  \n",
      "3    0.0044  0.0040  0.0117  \n",
      "4    0.0048  0.0107  0.0094  \n",
      "..      ...     ...     ...  \n",
      "203  0.0115  0.0193  0.0157  \n",
      "204  0.0032  0.0062  0.0067  \n",
      "205  0.0138  0.0077  0.0031  \n",
      "206  0.0079  0.0036  0.0048  \n",
      "207  0.0036  0.0061  0.0115  \n",
      "\n",
      "[208 rows x 60 columns]\n",
      "0     166\n",
      "1     166\n",
      "2     166\n",
      "3     166\n",
      "4     166\n",
      "5     166\n",
      "6     166\n",
      "7     166\n",
      "8     166\n",
      "9     166\n",
      "10    166\n",
      "11    166\n",
      "12    166\n",
      "13    166\n",
      "14    166\n",
      "15    166\n",
      "16    166\n",
      "17    166\n",
      "18    166\n",
      "19    166\n",
      "20    166\n",
      "21    166\n",
      "22    166\n",
      "23    166\n",
      "24    166\n",
      "25    166\n",
      "26    166\n",
      "27    166\n",
      "28    166\n",
      "29    166\n",
      "30    166\n",
      "31    166\n",
      "32    166\n",
      "33    166\n",
      "34    166\n",
      "35    166\n",
      "36    166\n",
      "37    166\n",
      "38    166\n",
      "39    166\n",
      "40    166\n",
      "41    166\n",
      "42    166\n",
      "43    166\n",
      "44    166\n",
      "45    166\n",
      "46    166\n",
      "47    166\n",
      "48    166\n",
      "49    166\n",
      "50    166\n",
      "51    166\n",
      "52    166\n",
      "53    166\n",
      "54    166\n",
      "55    166\n",
      "56    166\n",
      "57    166\n",
      "58    166\n",
      "59    166\n",
      "dtype: int64\n",
      "0     42\n",
      "1     42\n",
      "2     42\n",
      "3     42\n",
      "4     42\n",
      "5     42\n",
      "6     42\n",
      "7     42\n",
      "8     42\n",
      "9     42\n",
      "10    42\n",
      "11    42\n",
      "12    42\n",
      "13    42\n",
      "14    42\n",
      "15    42\n",
      "16    42\n",
      "17    42\n",
      "18    42\n",
      "19    42\n",
      "20    42\n",
      "21    42\n",
      "22    42\n",
      "23    42\n",
      "24    42\n",
      "25    42\n",
      "26    42\n",
      "27    42\n",
      "28    42\n",
      "29    42\n",
      "30    42\n",
      "31    42\n",
      "32    42\n",
      "33    42\n",
      "34    42\n",
      "35    42\n",
      "36    42\n",
      "37    42\n",
      "38    42\n",
      "39    42\n",
      "40    42\n",
      "41    42\n",
      "42    42\n",
      "43    42\n",
      "44    42\n",
      "45    42\n",
      "46    42\n",
      "47    42\n",
      "48    42\n",
      "49    42\n",
      "50    42\n",
      "51    42\n",
      "52    42\n",
      "53    42\n",
      "54    42\n",
      "55    42\n",
      "56    42\n",
      "57    42\n",
      "58    42\n",
      "59    42\n",
      "dtype: int64\n"
     ]
    }
   ],
   "source": [
    "from sklearn.model_selection import train_test_split\n",
    "print(X)\n",
    "X_train, X_test, y_train, y_test = train_test_split(X, y, test_size = 0.2, random_state = 42)\n",
    "print(X_train.count())\n",
    "print(X_test.count())"
   ]
  },
  {
   "cell_type": "markdown",
   "id": "593a1ed3",
   "metadata": {
    "papermill": {
     "duration": 0.02571,
     "end_time": "2023-04-30T20:08:13.466840",
     "exception": false,
     "start_time": "2023-04-30T20:08:13.441130",
     "status": "completed"
    },
    "tags": []
   },
   "source": [
    "I split the training and validation dataset successfully and check the number of values in split and training datasets. The result looks good and it is what I expected."
   ]
  },
  {
   "cell_type": "markdown",
   "id": "a632ecaa",
   "metadata": {
    "papermill": {
     "duration": 0.025577,
     "end_time": "2023-04-30T20:08:13.518756",
     "exception": false,
     "start_time": "2023-04-30T20:08:13.493179",
     "status": "completed"
    },
    "tags": []
   },
   "source": [
    "## Step 5: Instantiate and Configure a Perceptron\n",
    "\n",
    "I instantiate a 'Perceptron' object from 'sklearn.linear_model'"
   ]
  },
  {
   "cell_type": "markdown",
   "id": "7eaf0b1b",
   "metadata": {
    "papermill": {
     "duration": 0.025719,
     "end_time": "2023-04-30T20:08:13.570305",
     "exception": false,
     "start_time": "2023-04-30T20:08:13.544586",
     "status": "completed"
    },
    "tags": []
   },
   "source": [
    "### Instantiate Perceptron"
   ]
  },
  {
   "cell_type": "code",
   "execution_count": 18,
   "id": "4631b45c",
   "metadata": {
    "execution": {
     "iopub.execute_input": "2023-04-30T20:08:13.625093Z",
     "iopub.status.busy": "2023-04-30T20:08:13.624609Z",
     "iopub.status.idle": "2023-04-30T20:08:13.712939Z",
     "shell.execute_reply": "2023-04-30T20:08:13.711582Z"
    },
    "papermill": {
     "duration": 0.120193,
     "end_time": "2023-04-30T20:08:13.716418",
     "exception": false,
     "start_time": "2023-04-30T20:08:13.596225",
     "status": "completed"
    },
    "tags": []
   },
   "outputs": [],
   "source": [
    "\n",
    "from sklearn.linear_model import Perceptron\n",
    "\n",
    "# Replace this comment with your code.\n",
    "perceptron = Perceptron(tol = None, random_state = 0, alpha = 0.001, max_iter = 100000, early_stopping = True)\n",
    "\n",
    "# tol=None: The stopping criterion for the algorithm. If None, the algorithm will stop when the maximum number of iterations (max_iter) is reached.\n",
    "# random_state=0: The seed for the random number generator used by the algorithm.\n",
    "# alpha=0.001: The regularization parameter for the algorithm. This is the same as the learning rate in the case of gradient descent.\n",
    "# max_iter=100000: The maximum number of iterations for the algorithm.\n",
    "# early_stopping=True: Whether to use early stopping to prevent overfitting. If True, the algorithm will stop training when the validation score does not improve for tol consecutive iterations.\n"
   ]
  },
  {
   "cell_type": "markdown",
   "id": "91a59938",
   "metadata": {
    "papermill": {
     "duration": 0.026461,
     "end_time": "2023-04-30T20:08:13.769314",
     "exception": false,
     "start_time": "2023-04-30T20:08:13.742853",
     "status": "completed"
    },
    "tags": []
   },
   "source": [
    "I instantiate a 'Perceptron' object with additional parameters, including tolerance, random state, alpha(learning rate), maximum number of iterations and early stopping."
   ]
  },
  {
   "cell_type": "markdown",
   "id": "34a74e85",
   "metadata": {
    "papermill": {
     "duration": 0.025651,
     "end_time": "2023-04-30T20:08:13.821219",
     "exception": false,
     "start_time": "2023-04-30T20:08:13.795568",
     "status": "completed"
    },
    "tags": []
   },
   "source": [
    "## Step 6: Train the Perceptron\n",
    "\n",
    "Fit the training dataset into the model"
   ]
  },
  {
   "cell_type": "markdown",
   "id": "a4e64d90",
   "metadata": {
    "papermill": {
     "duration": 0.0253,
     "end_time": "2023-04-30T20:08:13.872337",
     "exception": false,
     "start_time": "2023-04-30T20:08:13.847037",
     "status": "completed"
    },
    "tags": []
   },
   "source": [
    "### Apply perceptron model on training datasets"
   ]
  },
  {
   "cell_type": "code",
   "execution_count": 19,
   "id": "36c79feb",
   "metadata": {
    "execution": {
     "iopub.execute_input": "2023-04-30T20:08:13.926478Z",
     "iopub.status.busy": "2023-04-30T20:08:13.926042Z",
     "iopub.status.idle": "2023-04-30T20:09:41.925902Z",
     "shell.execute_reply": "2023-04-30T20:09:41.924046Z"
    },
    "papermill": {
     "duration": 88.096235,
     "end_time": "2023-04-30T20:09:41.994518",
     "exception": false,
     "start_time": "2023-04-30T20:08:13.898283",
     "status": "completed"
    },
    "tags": []
   },
   "outputs": [
    {
     "data": {
      "text/plain": [
       "Perceptron(alpha=0.001, early_stopping=True, max_iter=100000, tol=None)"
      ]
     },
     "execution_count": 19,
     "metadata": {},
     "output_type": "execute_result"
    }
   ],
   "source": [
    "perceptron.fit(X_train, y_train)"
   ]
  },
  {
   "cell_type": "markdown",
   "id": "234d2b1b",
   "metadata": {
    "papermill": {
     "duration": 0.027813,
     "end_time": "2023-04-30T20:09:42.071129",
     "exception": false,
     "start_time": "2023-04-30T20:09:42.043316",
     "status": "completed"
    },
    "tags": []
   },
   "source": [
    "After fit the training dataset into perceptron model, the model will learn the pattern of the datasets."
   ]
  },
  {
   "cell_type": "markdown",
   "id": "4e6919c5",
   "metadata": {
    "papermill": {
     "duration": 0.027288,
     "end_time": "2023-04-30T20:09:42.126037",
     "exception": false,
     "start_time": "2023-04-30T20:09:42.098749",
     "status": "completed"
    },
    "tags": []
   },
   "source": [
    "## Step 7: Test the Perceptron\n",
    "\n",
    "Check out the training dataset accuracy in perceptron.\n"
   ]
  },
  {
   "cell_type": "markdown",
   "id": "5b44f26f",
   "metadata": {
    "papermill": {
     "duration": 0.026948,
     "end_time": "2023-04-30T20:09:42.180328",
     "exception": false,
     "start_time": "2023-04-30T20:09:42.153380",
     "status": "completed"
    },
    "tags": []
   },
   "source": [
    "### Training accuracy"
   ]
  },
  {
   "cell_type": "code",
   "execution_count": 20,
   "id": "2069db5c",
   "metadata": {
    "execution": {
     "iopub.execute_input": "2023-04-30T20:09:42.237759Z",
     "iopub.status.busy": "2023-04-30T20:09:42.237308Z",
     "iopub.status.idle": "2023-04-30T20:09:42.251376Z",
     "shell.execute_reply": "2023-04-30T20:09:42.248856Z"
    },
    "papermill": {
     "duration": 0.048058,
     "end_time": "2023-04-30T20:09:42.255907",
     "exception": false,
     "start_time": "2023-04-30T20:09:42.207849",
     "status": "completed"
    },
    "tags": []
   },
   "outputs": [
    {
     "name": "stdout",
     "output_type": "stream",
     "text": [
      "Training accuracy: 0.9819277108433735\n"
     ]
    }
   ],
   "source": [
    "train_accuracy = perceptron.score(X_train, y_train)\n",
    "print(f\"Training accuracy: {train_accuracy}\")"
   ]
  },
  {
   "cell_type": "markdown",
   "id": "7cd3603a",
   "metadata": {
    "papermill": {
     "duration": 0.053275,
     "end_time": "2023-04-30T20:09:42.372146",
     "exception": false,
     "start_time": "2023-04-30T20:09:42.318871",
     "status": "completed"
    },
    "tags": []
   },
   "source": [
    "Check out the validation dataset accuracy in perceptron."
   ]
  },
  {
   "cell_type": "markdown",
   "id": "4f50e985",
   "metadata": {
    "papermill": {
     "duration": 0.02633,
     "end_time": "2023-04-30T20:09:42.425463",
     "exception": false,
     "start_time": "2023-04-30T20:09:42.399133",
     "status": "completed"
    },
    "tags": []
   },
   "source": [
    "### Validation accuracy"
   ]
  },
  {
   "cell_type": "code",
   "execution_count": 21,
   "id": "4d44b2fc",
   "metadata": {
    "execution": {
     "iopub.execute_input": "2023-04-30T20:09:42.481680Z",
     "iopub.status.busy": "2023-04-30T20:09:42.480394Z",
     "iopub.status.idle": "2023-04-30T20:09:42.491188Z",
     "shell.execute_reply": "2023-04-30T20:09:42.489586Z"
    },
    "papermill": {
     "duration": 0.04153,
     "end_time": "2023-04-30T20:09:42.493770",
     "exception": false,
     "start_time": "2023-04-30T20:09:42.452240",
     "status": "completed"
    },
    "tags": []
   },
   "outputs": [
    {
     "name": "stdout",
     "output_type": "stream",
     "text": [
      "Accuracy: 0.8095238095238095\n"
     ]
    }
   ],
   "source": [
    "from sklearn.metrics import accuracy_score\n",
    "y_pred = perceptron.predict(X_test)\n",
    "accuracy = accuracy_score(y_test, y_pred)\n",
    "print(f\"Accuracy: {accuracy}\")"
   ]
  },
  {
   "cell_type": "markdown",
   "id": "518f1ddd",
   "metadata": {
    "papermill": {
     "duration": 0.026854,
     "end_time": "2023-04-30T20:09:42.548433",
     "exception": false,
     "start_time": "2023-04-30T20:09:42.521579",
     "status": "completed"
    },
    "tags": []
   },
   "source": [
    "From the training accuary is about 0.982 and validation accuracy is about 0.810. We could see that there still possible to improve the model accuracy."
   ]
  },
  {
   "cell_type": "markdown",
   "id": "f159ed95",
   "metadata": {
    "papermill": {
     "duration": 0.026746,
     "end_time": "2023-04-30T20:09:42.602257",
     "exception": false,
     "start_time": "2023-04-30T20:09:42.575511",
     "status": "completed"
    },
    "tags": []
   },
   "source": [
    "## Step 8: Demonstrate Making Predictions\n",
    "\n",
    "Replace this text with a prose description of what you will do in this section, and why you have chosen to do this. Demonstrate how you can use the perceptron to make new predictions."
   ]
  },
  {
   "cell_type": "markdown",
   "id": "9ca1c96a",
   "metadata": {
    "papermill": {
     "duration": 0.026966,
     "end_time": "2023-04-30T20:09:42.656514",
     "exception": false,
     "start_time": "2023-04-30T20:09:42.629548",
     "status": "completed"
    },
    "tags": []
   },
   "source": [
    "### Validate the model with sample data"
   ]
  },
  {
   "cell_type": "code",
   "execution_count": 22,
   "id": "4f3520b3",
   "metadata": {
    "execution": {
     "iopub.execute_input": "2023-04-30T20:09:42.713397Z",
     "iopub.status.busy": "2023-04-30T20:09:42.712884Z",
     "iopub.status.idle": "2023-04-30T20:09:42.720317Z",
     "shell.execute_reply": "2023-04-30T20:09:42.719142Z"
    },
    "papermill": {
     "duration": 0.039202,
     "end_time": "2023-04-30T20:09:42.722701",
     "exception": false,
     "start_time": "2023-04-30T20:09:42.683499",
     "status": "completed"
    },
    "tags": []
   },
   "outputs": [
    {
     "name": "stdout",
     "output_type": "stream",
     "text": [
      "[[0.0188 0.037  0.0953 0.0824 0.0249 0.0488 0.1424 0.1972 0.1873 0.1806\n",
      "  0.2139 0.1523 0.1975 0.4844 0.7298 0.7807 0.7906 0.6122 0.42   0.2807\n",
      "  0.5148 0.7569 0.8596 1.     0.8457 0.6797 0.6971 0.5843 0.4772 0.5201\n",
      "  0.4241 0.1592 0.1668 0.0588 0.3967 0.7147 0.7319 0.3509 0.0589 0.269\n",
      "  0.42   0.3874 0.244  0.2    0.2307 0.1886 0.196  0.1701 0.1366 0.0398\n",
      "  0.0143 0.0093 0.0033 0.0113 0.003  0.0057 0.009  0.0057 0.0068 0.0024]]\n"
     ]
    }
   ],
   "source": [
    "# Use the first record in the x training dataset as new record to test\n",
    "\n",
    "X_new = X_train.iloc[0].to_numpy()\n",
    "X_new = X_new.reshape(1, -1)\n",
    "print(X_new)"
   ]
  },
  {
   "cell_type": "code",
   "execution_count": 23,
   "id": "6366b95f",
   "metadata": {
    "execution": {
     "iopub.execute_input": "2023-04-30T20:09:42.779109Z",
     "iopub.status.busy": "2023-04-30T20:09:42.778623Z",
     "iopub.status.idle": "2023-04-30T20:09:42.785906Z",
     "shell.execute_reply": "2023-04-30T20:09:42.784455Z"
    },
    "papermill": {
     "duration": 0.038417,
     "end_time": "2023-04-30T20:09:42.788312",
     "exception": false,
     "start_time": "2023-04-30T20:09:42.749895",
     "status": "completed"
    },
    "tags": []
   },
   "outputs": [
    {
     "name": "stdout",
     "output_type": "stream",
     "text": [
      "[-1]\n"
     ]
    }
   ],
   "source": [
    "# Use the perceptron model to predict the test result\n",
    "y_new = perceptron.predict(X_new)\n",
    "print(y_new)\n"
   ]
  },
  {
   "cell_type": "code",
   "execution_count": 24,
   "id": "45cf44d6",
   "metadata": {
    "execution": {
     "iopub.execute_input": "2023-04-30T20:09:42.845919Z",
     "iopub.status.busy": "2023-04-30T20:09:42.845499Z",
     "iopub.status.idle": "2023-04-30T20:09:42.850714Z",
     "shell.execute_reply": "2023-04-30T20:09:42.849394Z"
    },
    "papermill": {
     "duration": 0.037194,
     "end_time": "2023-04-30T20:09:42.853433",
     "exception": false,
     "start_time": "2023-04-30T20:09:42.816239",
     "status": "completed"
    },
    "tags": []
   },
   "outputs": [],
   "source": [
    "# Change to 2D array in the y training dataset\n",
    "y_train_2d = y_train.iloc[0].reshape(1, -1)"
   ]
  },
  {
   "cell_type": "code",
   "execution_count": 25,
   "id": "889d17a2",
   "metadata": {
    "execution": {
     "iopub.execute_input": "2023-04-30T20:09:42.911946Z",
     "iopub.status.busy": "2023-04-30T20:09:42.911003Z",
     "iopub.status.idle": "2023-04-30T20:09:42.919509Z",
     "shell.execute_reply": "2023-04-30T20:09:42.918240Z"
    },
    "papermill": {
     "duration": 0.041671,
     "end_time": "2023-04-30T20:09:42.922367",
     "exception": false,
     "start_time": "2023-04-30T20:09:42.880696",
     "status": "completed"
    },
    "tags": []
   },
   "outputs": [
    {
     "name": "stdout",
     "output_type": "stream",
     "text": [
      "Accuracy: 1.0\n"
     ]
    }
   ],
   "source": [
    "# predict the predictions\n",
    "y_new = perceptron.predict(X_new)\n",
    "accuracy = accuracy_score(y_train_2d, y_new)\n",
    "print(f\"Accuracy: {accuracy}\")"
   ]
  },
  {
   "cell_type": "markdown",
   "id": "118776b1",
   "metadata": {
    "papermill": {
     "duration": 0.026835,
     "end_time": "2023-04-30T20:09:42.978170",
     "exception": false,
     "start_time": "2023-04-30T20:09:42.951335",
     "status": "completed"
    },
    "tags": []
   },
   "source": [
    "I use one of the training dataset record to test the model accuracy and get accuracy = 1. The reason why the accuracy is pretty high is that the model learn the pattern of the training dataset, so it kind of \"cheat\" the model. Next step will be apply more new record to test the model accuracy. In that case, I also need to have more training datasets to approve my assumptions."
   ]
  },
  {
   "cell_type": "markdown",
   "id": "9d17fdaa",
   "metadata": {
    "papermill": {
     "duration": 0.028384,
     "end_time": "2023-04-30T20:09:43.034059",
     "exception": false,
     "start_time": "2023-04-30T20:09:43.005675",
     "status": "completed"
    },
    "tags": []
   },
   "source": [
    "## Step 9: Evaluate (and Improve?)\n",
    "\n",
    "Describe the configuration and performance of your classifier, and what the results mean. Is this a good classifier? Why isn't it better than what it is? What might you try next to improve it? How accurate can you make your classifier? If you have time, see if you can increase the accuracy. Can you beat 98%? 🙀\n",
    "\n",
    "Based on the previous steps, I have implemented a Perceptron classifier to distinguish between rocks and mines based on sonar data. I have split the data into 80% training data and 20% validation data. And we have scaled the data to improve the performance of the classifier.\n",
    "\n",
    "The configuration of the classifier is a Perceptron with 60 input features, using a learning rate of 0.001, and trained over 100000 epochs. We have achieved a training accuracy of around 98% and a validation accuracy is around 81% which is relatively reasonable but not perfect. \n",
    "\n",
    "One posssible reason why our classifier is not performing better is that the data may not be linearly separable. This means that there may not be a striaight line that can totally separate the rocks from the mine. In this case, perceptron may not be a right model to use.\n",
    "\n",
    "Another possible reason is that the number of training and validation datasets is relatively small and it didn't provide enough dataset to fit into the model to allow model learn the pattern of the datasets. \n",
    "\n",
    "To improve the performance of the classifier, we could try using a more complex model, such as a multiplayer perceptron (MLP) or a support vector machine (SLM), which can handle non-liner decision boundaries. But it will depend on further experiment.\n",
    "\n",
    "As for the challenge of achieving 98% accuracy, it is unlikely that we will be able to achieve by using current model and datasets. But it is possible when when try different model and have more datasets to test our result.\n",
    "\n"
   ]
  },
  {
   "cell_type": "markdown",
   "id": "84e1ae11",
   "metadata": {
    "papermill": {
     "duration": 0.027783,
     "end_time": "2023-04-30T20:09:43.089521",
     "exception": false,
     "start_time": "2023-04-30T20:09:43.061738",
     "status": "completed"
    },
    "tags": []
   },
   "source": [
    "## Conclusion\n",
    "\n",
    "Give us a quick recap of what you've done here in **Part 2**. Mention _three_ things that were most notable in this process, whether it's related to exploration, preprocessing, configuring, training, or evaluating. If you put in the effort to try to improve the perceptron, describe what you did and what let you to try what you did, and describe the results. Conclude with some questions about the problem or what you might do next to increase the performance of your classifier.\n",
    "\n",
    "I used a perceptron model to predict what classification between rocks and mines based on solar data. \n",
    "In conclusion, the most notable in this process:\n",
    "\n",
    "1) Exploration: sonar_data.describe() help me better understand the dataset in statistical way. \\\n",
    "2) Instantiate Perceptron: First I use Perceptron(alpha = 0.01, max_iter = 100000, early_stopping = True), the training accuracy is about 78%. After I did some reseach,one step I did: I change to Perceptron(tol = None, random_state = 0, alpha = 0.001, max_iter = 100000, early_stopping = True). I tried smaller alpha and alpha means a hyperparamer that controls the step size at a each iteration while moving toward a set of weights that will correctly classify the training examples.\\\n",
    "3) Scaling the datasets: After I got 78% training accuracy, I go back the dataset to scale the data. I used the 'MinMaxScaler' from Scilit-learn. It scales the features of the data to a range between 0 and 1 based on the min and max values. It helps improve the model accuracy as well.\n",
    "\n",
    "Finally, after I applied all the change, the model accuracy has been improved significantly, the training accuracy is 98%, the validation accuracy is 81%. For next step, I will try different model like muptiplayer perceptron (MLP) or a support vector machine (SLM). Also, I will try large datasets to improve the model accuracy.\n"
   ]
  }
 ],
 "metadata": {
  "kernelspec": {
   "display_name": "Python 3",
   "language": "python",
   "name": "python3"
  },
  "language_info": {
   "codemirror_mode": {
    "name": "ipython",
    "version": 3
   },
   "file_extension": ".py",
   "mimetype": "text/x-python",
   "name": "python",
   "nbconvert_exporter": "python",
   "pygments_lexer": "ipython3",
   "version": "3.7.12"
  },
  "papermill": {
   "default_parameters": {},
   "duration": 117.157355,
   "end_time": "2023-04-30T20:09:44.143055",
   "environment_variables": {},
   "exception": null,
   "input_path": "__notebook__.ipynb",
   "output_path": "__notebook__.ipynb",
   "parameters": {},
   "start_time": "2023-04-30T20:07:46.985700",
   "version": "2.4.0"
  }
 },
 "nbformat": 4,
 "nbformat_minor": 5
}
